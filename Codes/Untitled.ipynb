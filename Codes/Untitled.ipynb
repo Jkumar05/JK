{
 "cells": [
  {
   "cell_type": "code",
   "execution_count": 1,
   "metadata": {
    "scrolled": true
   },
   "outputs": [
    {
     "name": "stderr",
     "output_type": "stream",
     "text": [
      "C:\\Users\\vella\\Anaconda3\\lib\\site-packages\\pandas\\compat\\_optional.py:138: UserWarning: Pandas requires version '2.7.0' or newer of 'numexpr' (version '2.6.9' currently installed).\n",
      "  warnings.warn(msg, UserWarning)\n"
     ]
    }
   ],
   "source": [
    "import pandas as pd\n",
    "from sklearn.preprocessing import MinMaxScaler\n",
    "from keras.preprocessing.sequence import TimeseriesGenerator\n",
    "from keras.models import Sequential\n",
    "from keras.layers import Dense\n",
    "from keras.layers import LSTM\n",
    "from keras.layers import Dropout\n",
    "import numpy as np"
   ]
  },
  {
   "cell_type": "code",
   "execution_count": 2,
   "metadata": {
    "scrolled": false
   },
   "outputs": [
    {
     "data": {
      "text/html": [
       "<div>\n",
       "<style scoped>\n",
       "    .dataframe tbody tr th:only-of-type {\n",
       "        vertical-align: middle;\n",
       "    }\n",
       "\n",
       "    .dataframe tbody tr th {\n",
       "        vertical-align: top;\n",
       "    }\n",
       "\n",
       "    .dataframe thead th {\n",
       "        text-align: right;\n",
       "    }\n",
       "</style>\n",
       "<table border=\"1\" class=\"dataframe\">\n",
       "  <thead>\n",
       "    <tr style=\"text-align: right;\">\n",
       "      <th></th>\n",
       "      <th>Date</th>\n",
       "      <th>Open</th>\n",
       "      <th>High</th>\n",
       "      <th>Low</th>\n",
       "      <th>Close</th>\n",
       "      <th>Adj Close</th>\n",
       "      <th>Volume</th>\n",
       "      <th>Stock Name</th>\n",
       "    </tr>\n",
       "  </thead>\n",
       "  <tbody>\n",
       "    <tr>\n",
       "      <th>0</th>\n",
       "      <td>2021-09-30</td>\n",
       "      <td>260.333344</td>\n",
       "      <td>263.043335</td>\n",
       "      <td>258.333344</td>\n",
       "      <td>258.493347</td>\n",
       "      <td>258.493347</td>\n",
       "      <td>53868000</td>\n",
       "      <td>TSLA</td>\n",
       "    </tr>\n",
       "    <tr>\n",
       "      <th>1</th>\n",
       "      <td>2021-10-01</td>\n",
       "      <td>259.466675</td>\n",
       "      <td>260.260010</td>\n",
       "      <td>254.529999</td>\n",
       "      <td>258.406677</td>\n",
       "      <td>258.406677</td>\n",
       "      <td>51094200</td>\n",
       "      <td>TSLA</td>\n",
       "    </tr>\n",
       "    <tr>\n",
       "      <th>2</th>\n",
       "      <td>2021-10-04</td>\n",
       "      <td>265.500000</td>\n",
       "      <td>268.989990</td>\n",
       "      <td>258.706665</td>\n",
       "      <td>260.510010</td>\n",
       "      <td>260.510010</td>\n",
       "      <td>91449900</td>\n",
       "      <td>TSLA</td>\n",
       "    </tr>\n",
       "    <tr>\n",
       "      <th>3</th>\n",
       "      <td>2021-10-05</td>\n",
       "      <td>261.600006</td>\n",
       "      <td>265.769989</td>\n",
       "      <td>258.066681</td>\n",
       "      <td>260.196655</td>\n",
       "      <td>260.196655</td>\n",
       "      <td>55297800</td>\n",
       "      <td>TSLA</td>\n",
       "    </tr>\n",
       "    <tr>\n",
       "      <th>4</th>\n",
       "      <td>2021-10-06</td>\n",
       "      <td>258.733337</td>\n",
       "      <td>262.220001</td>\n",
       "      <td>257.739990</td>\n",
       "      <td>260.916656</td>\n",
       "      <td>260.916656</td>\n",
       "      <td>43898400</td>\n",
       "      <td>TSLA</td>\n",
       "    </tr>\n",
       "  </tbody>\n",
       "</table>\n",
       "</div>"
      ],
      "text/plain": [
       "         Date        Open        High         Low       Close   Adj Close  \\\n",
       "0  2021-09-30  260.333344  263.043335  258.333344  258.493347  258.493347   \n",
       "1  2021-10-01  259.466675  260.260010  254.529999  258.406677  258.406677   \n",
       "2  2021-10-04  265.500000  268.989990  258.706665  260.510010  260.510010   \n",
       "3  2021-10-05  261.600006  265.769989  258.066681  260.196655  260.196655   \n",
       "4  2021-10-06  258.733337  262.220001  257.739990  260.916656  260.916656   \n",
       "\n",
       "     Volume Stock Name  \n",
       "0  53868000       TSLA  \n",
       "1  51094200       TSLA  \n",
       "2  91449900       TSLA  \n",
       "3  55297800       TSLA  \n",
       "4  43898400       TSLA  "
      ]
     },
     "execution_count": 2,
     "metadata": {},
     "output_type": "execute_result"
    }
   ],
   "source": [
    "df1 = pd.read_csv(r\"C:\\Users\\vella\\Desktop\\Praju\\College\\Projects\\Final year\\Data\\Tesla\\stock_yfinance_data.csv\")\n",
    "df1.head()"
   ]
  },
  {
   "cell_type": "code",
   "execution_count": 51,
   "metadata": {},
   "outputs": [],
   "source": [
    "df1.rename(columns = {'Stock Name':'Stock_Name'}, inplace = True)"
   ]
  },
  {
   "cell_type": "code",
   "execution_count": 52,
   "metadata": {},
   "outputs": [],
   "source": [
    "names = ['TSLA']\n",
    "df1 = df1[df1.Stock_Name.isin(names)]"
   ]
  },
  {
   "cell_type": "code",
   "execution_count": 53,
   "metadata": {},
   "outputs": [
    {
     "data": {
      "text/html": [
       "<div>\n",
       "<style scoped>\n",
       "    .dataframe tbody tr th:only-of-type {\n",
       "        vertical-align: middle;\n",
       "    }\n",
       "\n",
       "    .dataframe tbody tr th {\n",
       "        vertical-align: top;\n",
       "    }\n",
       "\n",
       "    .dataframe thead th {\n",
       "        text-align: right;\n",
       "    }\n",
       "</style>\n",
       "<table border=\"1\" class=\"dataframe\">\n",
       "  <thead>\n",
       "    <tr style=\"text-align: right;\">\n",
       "      <th></th>\n",
       "      <th>Date</th>\n",
       "      <th>Open</th>\n",
       "      <th>High</th>\n",
       "      <th>Low</th>\n",
       "      <th>Close</th>\n",
       "      <th>Adj Close</th>\n",
       "      <th>Volume</th>\n",
       "      <th>Stock_Name</th>\n",
       "    </tr>\n",
       "  </thead>\n",
       "  <tbody>\n",
       "    <tr>\n",
       "      <th>0</th>\n",
       "      <td>2021-09-30</td>\n",
       "      <td>260.333344</td>\n",
       "      <td>263.043335</td>\n",
       "      <td>258.333344</td>\n",
       "      <td>258.493347</td>\n",
       "      <td>258.493347</td>\n",
       "      <td>53868000</td>\n",
       "      <td>TSLA</td>\n",
       "    </tr>\n",
       "    <tr>\n",
       "      <th>1</th>\n",
       "      <td>2021-10-01</td>\n",
       "      <td>259.466675</td>\n",
       "      <td>260.260010</td>\n",
       "      <td>254.529999</td>\n",
       "      <td>258.406677</td>\n",
       "      <td>258.406677</td>\n",
       "      <td>51094200</td>\n",
       "      <td>TSLA</td>\n",
       "    </tr>\n",
       "    <tr>\n",
       "      <th>2</th>\n",
       "      <td>2021-10-04</td>\n",
       "      <td>265.500000</td>\n",
       "      <td>268.989990</td>\n",
       "      <td>258.706665</td>\n",
       "      <td>260.510010</td>\n",
       "      <td>260.510010</td>\n",
       "      <td>91449900</td>\n",
       "      <td>TSLA</td>\n",
       "    </tr>\n",
       "    <tr>\n",
       "      <th>3</th>\n",
       "      <td>2021-10-05</td>\n",
       "      <td>261.600006</td>\n",
       "      <td>265.769989</td>\n",
       "      <td>258.066681</td>\n",
       "      <td>260.196655</td>\n",
       "      <td>260.196655</td>\n",
       "      <td>55297800</td>\n",
       "      <td>TSLA</td>\n",
       "    </tr>\n",
       "    <tr>\n",
       "      <th>4</th>\n",
       "      <td>2021-10-06</td>\n",
       "      <td>258.733337</td>\n",
       "      <td>262.220001</td>\n",
       "      <td>257.739990</td>\n",
       "      <td>260.916656</td>\n",
       "      <td>260.916656</td>\n",
       "      <td>43898400</td>\n",
       "      <td>TSLA</td>\n",
       "    </tr>\n",
       "    <tr>\n",
       "      <th>...</th>\n",
       "      <td>...</td>\n",
       "      <td>...</td>\n",
       "      <td>...</td>\n",
       "      <td>...</td>\n",
       "      <td>...</td>\n",
       "      <td>...</td>\n",
       "      <td>...</td>\n",
       "      <td>...</td>\n",
       "    </tr>\n",
       "    <tr>\n",
       "      <th>247</th>\n",
       "      <td>2022-09-23</td>\n",
       "      <td>283.089996</td>\n",
       "      <td>284.500000</td>\n",
       "      <td>272.820007</td>\n",
       "      <td>275.329987</td>\n",
       "      <td>275.329987</td>\n",
       "      <td>63748400</td>\n",
       "      <td>TSLA</td>\n",
       "    </tr>\n",
       "    <tr>\n",
       "      <th>248</th>\n",
       "      <td>2022-09-26</td>\n",
       "      <td>271.829987</td>\n",
       "      <td>284.089996</td>\n",
       "      <td>270.309998</td>\n",
       "      <td>276.010010</td>\n",
       "      <td>276.010010</td>\n",
       "      <td>58076900</td>\n",
       "      <td>TSLA</td>\n",
       "    </tr>\n",
       "    <tr>\n",
       "      <th>249</th>\n",
       "      <td>2022-09-27</td>\n",
       "      <td>283.839996</td>\n",
       "      <td>288.670013</td>\n",
       "      <td>277.510010</td>\n",
       "      <td>282.940002</td>\n",
       "      <td>282.940002</td>\n",
       "      <td>61925200</td>\n",
       "      <td>TSLA</td>\n",
       "    </tr>\n",
       "    <tr>\n",
       "      <th>250</th>\n",
       "      <td>2022-09-28</td>\n",
       "      <td>283.079987</td>\n",
       "      <td>289.000000</td>\n",
       "      <td>277.570007</td>\n",
       "      <td>287.809998</td>\n",
       "      <td>287.809998</td>\n",
       "      <td>54664800</td>\n",
       "      <td>TSLA</td>\n",
       "    </tr>\n",
       "    <tr>\n",
       "      <th>251</th>\n",
       "      <td>2022-09-29</td>\n",
       "      <td>282.760010</td>\n",
       "      <td>283.649994</td>\n",
       "      <td>265.779999</td>\n",
       "      <td>268.209991</td>\n",
       "      <td>268.209991</td>\n",
       "      <td>77620600</td>\n",
       "      <td>TSLA</td>\n",
       "    </tr>\n",
       "  </tbody>\n",
       "</table>\n",
       "<p>252 rows × 8 columns</p>\n",
       "</div>"
      ],
      "text/plain": [
       "           Date        Open        High         Low       Close   Adj Close  \\\n",
       "0    2021-09-30  260.333344  263.043335  258.333344  258.493347  258.493347   \n",
       "1    2021-10-01  259.466675  260.260010  254.529999  258.406677  258.406677   \n",
       "2    2021-10-04  265.500000  268.989990  258.706665  260.510010  260.510010   \n",
       "3    2021-10-05  261.600006  265.769989  258.066681  260.196655  260.196655   \n",
       "4    2021-10-06  258.733337  262.220001  257.739990  260.916656  260.916656   \n",
       "..          ...         ...         ...         ...         ...         ...   \n",
       "247  2022-09-23  283.089996  284.500000  272.820007  275.329987  275.329987   \n",
       "248  2022-09-26  271.829987  284.089996  270.309998  276.010010  276.010010   \n",
       "249  2022-09-27  283.839996  288.670013  277.510010  282.940002  282.940002   \n",
       "250  2022-09-28  283.079987  289.000000  277.570007  287.809998  287.809998   \n",
       "251  2022-09-29  282.760010  283.649994  265.779999  268.209991  268.209991   \n",
       "\n",
       "       Volume Stock_Name  \n",
       "0    53868000       TSLA  \n",
       "1    51094200       TSLA  \n",
       "2    91449900       TSLA  \n",
       "3    55297800       TSLA  \n",
       "4    43898400       TSLA  \n",
       "..        ...        ...  \n",
       "247  63748400       TSLA  \n",
       "248  58076900       TSLA  \n",
       "249  61925200       TSLA  \n",
       "250  54664800       TSLA  \n",
       "251  77620600       TSLA  \n",
       "\n",
       "[252 rows x 8 columns]"
      ]
     },
     "execution_count": 53,
     "metadata": {},
     "output_type": "execute_result"
    }
   ],
   "source": [
    "df1"
   ]
  },
  {
   "cell_type": "code",
   "execution_count": 54,
   "metadata": {
    "scrolled": true
   },
   "outputs": [
    {
     "data": {
      "text/html": [
       "<div>\n",
       "<style scoped>\n",
       "    .dataframe tbody tr th:only-of-type {\n",
       "        vertical-align: middle;\n",
       "    }\n",
       "\n",
       "    .dataframe tbody tr th {\n",
       "        vertical-align: top;\n",
       "    }\n",
       "\n",
       "    .dataframe thead th {\n",
       "        text-align: right;\n",
       "    }\n",
       "</style>\n",
       "<table border=\"1\" class=\"dataframe\">\n",
       "  <thead>\n",
       "    <tr style=\"text-align: right;\">\n",
       "      <th></th>\n",
       "      <th>Date</th>\n",
       "      <th>Close</th>\n",
       "    </tr>\n",
       "  </thead>\n",
       "  <tbody>\n",
       "    <tr>\n",
       "      <th>0</th>\n",
       "      <td>2021-09-30</td>\n",
       "      <td>258.493347</td>\n",
       "    </tr>\n",
       "    <tr>\n",
       "      <th>1</th>\n",
       "      <td>2021-10-01</td>\n",
       "      <td>258.406677</td>\n",
       "    </tr>\n",
       "    <tr>\n",
       "      <th>2</th>\n",
       "      <td>2021-10-04</td>\n",
       "      <td>260.510010</td>\n",
       "    </tr>\n",
       "    <tr>\n",
       "      <th>3</th>\n",
       "      <td>2021-10-05</td>\n",
       "      <td>260.196655</td>\n",
       "    </tr>\n",
       "    <tr>\n",
       "      <th>4</th>\n",
       "      <td>2021-10-06</td>\n",
       "      <td>260.916656</td>\n",
       "    </tr>\n",
       "  </tbody>\n",
       "</table>\n",
       "</div>"
      ],
      "text/plain": [
       "         Date       Close\n",
       "0  2021-09-30  258.493347\n",
       "1  2021-10-01  258.406677\n",
       "2  2021-10-04  260.510010\n",
       "3  2021-10-05  260.196655\n",
       "4  2021-10-06  260.916656"
      ]
     },
     "execution_count": 54,
     "metadata": {},
     "output_type": "execute_result"
    }
   ],
   "source": [
    "df2 = df1.iloc[:,[0,4]]\n",
    "df2.head()"
   ]
  },
  {
   "cell_type": "code",
   "execution_count": 55,
   "metadata": {},
   "outputs": [
    {
     "name": "stderr",
     "output_type": "stream",
     "text": [
      "C:\\Users\\vella\\Anaconda3\\lib\\site-packages\\pandas\\core\\generic.py:5516: SettingWithCopyWarning: \n",
      "A value is trying to be set on a copy of a slice from a DataFrame.\n",
      "Try using .loc[row_indexer,col_indexer] = value instead\n",
      "\n",
      "See the caveats in the documentation: https://pandas.pydata.org/pandas-docs/stable/user_guide/indexing.html#returning-a-view-versus-a-copy\n",
      "  self[name] = value\n"
     ]
    }
   ],
   "source": [
    "#Converting dates as datetime format\n",
    "df2.Date = pd.to_datetime(df2.Date)"
   ]
  },
  {
   "cell_type": "code",
   "execution_count": 281,
   "metadata": {},
   "outputs": [],
   "source": [
    "#Converting date column as index\n",
    "df3 = df2.set_index(\"Date\")"
   ]
  },
  {
   "cell_type": "code",
   "execution_count": 282,
   "metadata": {},
   "outputs": [
    {
     "data": {
      "text/html": [
       "<div>\n",
       "<style scoped>\n",
       "    .dataframe tbody tr th:only-of-type {\n",
       "        vertical-align: middle;\n",
       "    }\n",
       "\n",
       "    .dataframe tbody tr th {\n",
       "        vertical-align: top;\n",
       "    }\n",
       "\n",
       "    .dataframe thead th {\n",
       "        text-align: right;\n",
       "    }\n",
       "</style>\n",
       "<table border=\"1\" class=\"dataframe\">\n",
       "  <thead>\n",
       "    <tr style=\"text-align: right;\">\n",
       "      <th></th>\n",
       "      <th>Close</th>\n",
       "    </tr>\n",
       "    <tr>\n",
       "      <th>Date</th>\n",
       "      <th></th>\n",
       "    </tr>\n",
       "  </thead>\n",
       "  <tbody>\n",
       "    <tr>\n",
       "      <th>2021-09-30</th>\n",
       "      <td>258.493347</td>\n",
       "    </tr>\n",
       "    <tr>\n",
       "      <th>2021-10-01</th>\n",
       "      <td>258.406677</td>\n",
       "    </tr>\n",
       "    <tr>\n",
       "      <th>2021-10-04</th>\n",
       "      <td>260.510010</td>\n",
       "    </tr>\n",
       "    <tr>\n",
       "      <th>2021-10-05</th>\n",
       "      <td>260.196655</td>\n",
       "    </tr>\n",
       "    <tr>\n",
       "      <th>2021-10-06</th>\n",
       "      <td>260.916656</td>\n",
       "    </tr>\n",
       "    <tr>\n",
       "      <th>...</th>\n",
       "      <td>...</td>\n",
       "    </tr>\n",
       "    <tr>\n",
       "      <th>2022-09-23</th>\n",
       "      <td>275.329987</td>\n",
       "    </tr>\n",
       "    <tr>\n",
       "      <th>2022-09-26</th>\n",
       "      <td>276.010010</td>\n",
       "    </tr>\n",
       "    <tr>\n",
       "      <th>2022-09-27</th>\n",
       "      <td>282.940002</td>\n",
       "    </tr>\n",
       "    <tr>\n",
       "      <th>2022-09-28</th>\n",
       "      <td>287.809998</td>\n",
       "    </tr>\n",
       "    <tr>\n",
       "      <th>2022-09-29</th>\n",
       "      <td>268.209991</td>\n",
       "    </tr>\n",
       "  </tbody>\n",
       "</table>\n",
       "<p>252 rows × 1 columns</p>\n",
       "</div>"
      ],
      "text/plain": [
       "                 Close\n",
       "Date                  \n",
       "2021-09-30  258.493347\n",
       "2021-10-01  258.406677\n",
       "2021-10-04  260.510010\n",
       "2021-10-05  260.196655\n",
       "2021-10-06  260.916656\n",
       "...                ...\n",
       "2022-09-23  275.329987\n",
       "2022-09-26  276.010010\n",
       "2022-09-27  282.940002\n",
       "2022-09-28  287.809998\n",
       "2022-09-29  268.209991\n",
       "\n",
       "[252 rows x 1 columns]"
      ]
     },
     "execution_count": 282,
     "metadata": {},
     "output_type": "execute_result"
    }
   ],
   "source": [
    "df3"
   ]
  },
  {
   "cell_type": "code",
   "execution_count": 152,
   "metadata": {},
   "outputs": [],
   "source": [
    "#Putting the dataframe into a variable \"train\"\n",
    "train = df3.iloc[:74]"
   ]
  },
  {
   "cell_type": "code",
   "execution_count": 153,
   "metadata": {},
   "outputs": [],
   "source": [
    "#Model fitting for prediction\n",
    "scaler = MinMaxScaler()\n",
    "scaler.fit(train)\n",
    "train = scaler.transform(train)"
   ]
  },
  {
   "cell_type": "code",
   "execution_count": 154,
   "metadata": {},
   "outputs": [],
   "source": [
    "n_input = 1\n",
    "n_features = 1\n",
    "generator = TimeseriesGenerator(train, train, length=n_input, batch_size=6)"
   ]
  },
  {
   "cell_type": "code",
   "execution_count": 155,
   "metadata": {},
   "outputs": [],
   "source": [
    "model = Sequential()\n",
    "model.add(LSTM(200, activation='relu', input_shape=(n_input, n_features)))\n",
    "model.add(Dropout(0.15))\n",
    "model.add(Dense(1))\n",
    "model.compile(optimizer='adam', loss='mse')"
   ]
  },
  {
   "cell_type": "code",
   "execution_count": 156,
   "metadata": {},
   "outputs": [
    {
     "name": "stdout",
     "output_type": "stream",
     "text": [
      "Epoch 1/6\n"
     ]
    },
    {
     "name": "stderr",
     "output_type": "stream",
     "text": [
      "C:\\Users\\vella\\Anaconda3\\lib\\site-packages\\ipykernel_launcher.py:1: UserWarning: `Model.fit_generator` is deprecated and will be removed in a future version. Please use `Model.fit`, which supports generators.\n",
      "  \"\"\"Entry point for launching an IPython kernel.\n"
     ]
    },
    {
     "name": "stdout",
     "output_type": "stream",
     "text": [
      "13/13 [==============================] - 1s 3ms/step - loss: 0.3224\n",
      "Epoch 2/6\n",
      "13/13 [==============================] - 0s 3ms/step - loss: 0.2700\n",
      "Epoch 3/6\n",
      "13/13 [==============================] - 0s 3ms/step - loss: 0.2231\n",
      "Epoch 4/6\n",
      "13/13 [==============================] - 0s 3ms/step - loss: 0.1781\n",
      "Epoch 5/6\n",
      "13/13 [==============================] - 0s 3ms/step - loss: 0.1352\n",
      "Epoch 6/6\n",
      "13/13 [==============================] - 0s 3ms/step - loss: 0.0994\n"
     ]
    },
    {
     "data": {
      "text/plain": [
       "<keras.callbacks.History at 0x16a5a444400>"
      ]
     },
     "execution_count": 156,
     "metadata": {},
     "output_type": "execute_result"
    }
   ],
   "source": [
    "model.fit_generator(generator,epochs=6)"
   ]
  },
  {
   "cell_type": "code",
   "execution_count": 157,
   "metadata": {},
   "outputs": [],
   "source": [
    "pred_list = []"
   ]
  },
  {
   "cell_type": "code",
   "execution_count": 158,
   "metadata": {},
   "outputs": [],
   "source": [
    "batch = train[-n_input:].reshape((1, n_input, n_features))"
   ]
  },
  {
   "cell_type": "code",
   "execution_count": 159,
   "metadata": {},
   "outputs": [
    {
     "name": "stdout",
     "output_type": "stream",
     "text": [
      "1/1 [==============================] - 0s 116ms/step\n"
     ]
    }
   ],
   "source": [
    "for i in range(n_input):   \n",
    "    pred_list.append(model.predict(batch)[0]) \n",
    "    batch = np.append(batch[:,1:,:],[[pred_list[i]]],axis=1)"
   ]
  },
  {
   "cell_type": "code",
   "execution_count": 160,
   "metadata": {},
   "outputs": [],
   "source": [
    "from pandas.tseries.offsets import DateOffset\n",
    "add_dates = [df3.iloc[:74].index[-1] + DateOffset(days = x) for x in range(0,2) ]\n",
    "future_dates = pd.DataFrame(index=add_dates[1:],columns=df3.iloc[:74].columns)"
   ]
  },
  {
   "cell_type": "code",
   "execution_count": 161,
   "metadata": {},
   "outputs": [],
   "source": [
    "df_predict = pd.DataFrame(scaler.inverse_transform(pred_list),\n",
    "                          index=future_dates[-n_input:].index, columns=['Prediction'])"
   ]
  },
  {
   "cell_type": "code",
   "execution_count": 162,
   "metadata": {},
   "outputs": [],
   "source": [
    "#df_proj = pd.concat([df3,df_predict], axis=1)"
   ]
  },
  {
   "cell_type": "code",
   "execution_count": 163,
   "metadata": {},
   "outputs": [
    {
     "data": {
      "text/html": [
       "<div>\n",
       "<style scoped>\n",
       "    .dataframe tbody tr th:only-of-type {\n",
       "        vertical-align: middle;\n",
       "    }\n",
       "\n",
       "    .dataframe tbody tr th {\n",
       "        vertical-align: top;\n",
       "    }\n",
       "\n",
       "    .dataframe thead th {\n",
       "        text-align: right;\n",
       "    }\n",
       "</style>\n",
       "<table border=\"1\" class=\"dataframe\">\n",
       "  <thead>\n",
       "    <tr style=\"text-align: right;\">\n",
       "      <th></th>\n",
       "      <th>Prediction</th>\n",
       "    </tr>\n",
       "  </thead>\n",
       "  <tbody>\n",
       "    <tr>\n",
       "      <th>2022-01-14</th>\n",
       "      <td>311.386542</td>\n",
       "    </tr>\n",
       "  </tbody>\n",
       "</table>\n",
       "</div>"
      ],
      "text/plain": [
       "            Prediction\n",
       "2022-01-14  311.386542"
      ]
     },
     "execution_count": 163,
     "metadata": {},
     "output_type": "execute_result"
    }
   ],
   "source": [
    "df_predict"
   ]
  },
  {
   "cell_type": "code",
   "execution_count": 151,
   "metadata": {
    "scrolled": false
   },
   "outputs": [
    {
     "data": {
      "text/html": [
       "<div>\n",
       "<style scoped>\n",
       "    .dataframe tbody tr th:only-of-type {\n",
       "        vertical-align: middle;\n",
       "    }\n",
       "\n",
       "    .dataframe tbody tr th {\n",
       "        vertical-align: top;\n",
       "    }\n",
       "\n",
       "    .dataframe thead th {\n",
       "        text-align: right;\n",
       "    }\n",
       "</style>\n",
       "<table border=\"1\" class=\"dataframe\">\n",
       "  <thead>\n",
       "    <tr style=\"text-align: right;\">\n",
       "      <th></th>\n",
       "      <th>Close</th>\n",
       "    </tr>\n",
       "    <tr>\n",
       "      <th>Date</th>\n",
       "      <th></th>\n",
       "    </tr>\n",
       "  </thead>\n",
       "  <tbody>\n",
       "    <tr>\n",
       "      <th>2022-01-10</th>\n",
       "      <td>352.706665</td>\n",
       "    </tr>\n",
       "    <tr>\n",
       "      <th>2022-01-11</th>\n",
       "      <td>354.799988</td>\n",
       "    </tr>\n",
       "    <tr>\n",
       "      <th>2022-01-12</th>\n",
       "      <td>368.739990</td>\n",
       "    </tr>\n",
       "    <tr>\n",
       "      <th>2022-01-13</th>\n",
       "      <td>343.853333</td>\n",
       "    </tr>\n",
       "    <tr>\n",
       "      <th>2022-01-14</th>\n",
       "      <td>349.869995</td>\n",
       "    </tr>\n",
       "    <tr>\n",
       "      <th>2022-01-18</th>\n",
       "      <td>343.503326</td>\n",
       "    </tr>\n",
       "  </tbody>\n",
       "</table>\n",
       "</div>"
      ],
      "text/plain": [
       "                 Close\n",
       "Date                  \n",
       "2022-01-10  352.706665\n",
       "2022-01-11  354.799988\n",
       "2022-01-12  368.739990\n",
       "2022-01-13  343.853333\n",
       "2022-01-14  349.869995\n",
       "2022-01-18  343.503326"
      ]
     },
     "execution_count": 151,
     "metadata": {},
     "output_type": "execute_result"
    }
   ],
   "source": [
    "df3.iloc[70:76]"
   ]
  },
  {
   "cell_type": "code",
   "execution_count": 93,
   "metadata": {},
   "outputs": [],
   "source": [
    "predicted = pd.DataFrame()"
   ]
  },
  {
   "cell_type": "code",
   "execution_count": 167,
   "metadata": {},
   "outputs": [
    {
     "name": "stdout",
     "output_type": "stream",
     "text": [
      "Epoch 1/6\n"
     ]
    },
    {
     "name": "stderr",
     "output_type": "stream",
     "text": [
      "C:\\Users\\vella\\Anaconda3\\lib\\site-packages\\ipykernel_launcher.py:20: UserWarning: `Model.fit_generator` is deprecated and will be removed in a future version. Please use `Model.fit`, which supports generators.\n"
     ]
    },
    {
     "name": "stdout",
     "output_type": "stream",
     "text": [
      "9/9 [==============================] - 1s 3ms/step - loss: 0.3313\n",
      "Epoch 2/6\n",
      "9/9 [==============================] - 0s 3ms/step - loss: 0.2897\n",
      "Epoch 3/6\n",
      "9/9 [==============================] - 0s 3ms/step - loss: 0.2515\n",
      "Epoch 4/6\n",
      "9/9 [==============================] - 0s 3ms/step - loss: 0.2151\n",
      "Epoch 5/6\n",
      "9/9 [==============================] - 0s 3ms/step - loss: 0.1804\n",
      "Epoch 6/6\n",
      "9/9 [==============================] - 0s 3ms/step - loss: 0.1511\n",
      "1/1 [==============================] - 0s 198ms/step\n",
      "Epoch 1/6\n"
     ]
    },
    {
     "name": "stderr",
     "output_type": "stream",
     "text": [
      "C:\\Users\\vella\\Anaconda3\\lib\\site-packages\\ipykernel_launcher.py:20: UserWarning: `Model.fit_generator` is deprecated and will be removed in a future version. Please use `Model.fit`, which supports generators.\n"
     ]
    },
    {
     "name": "stdout",
     "output_type": "stream",
     "text": [
      "9/9 [==============================] - 1s 3ms/step - loss: 0.3404\n",
      "Epoch 2/6\n",
      "9/9 [==============================] - 0s 4ms/step - loss: 0.2945\n",
      "Epoch 3/6\n",
      "9/9 [==============================] - 0s 4ms/step - loss: 0.2612\n",
      "Epoch 4/6\n",
      "9/9 [==============================] - 0s 4ms/step - loss: 0.2320\n",
      "Epoch 5/6\n",
      "9/9 [==============================] - 0s 4ms/step - loss: 0.1982\n",
      "Epoch 6/6\n",
      "9/9 [==============================] - 0s 4ms/step - loss: 0.1650\n",
      "1/1 [==============================] - 0s 141ms/step\n",
      "Epoch 1/6\n"
     ]
    },
    {
     "name": "stderr",
     "output_type": "stream",
     "text": [
      "C:\\Users\\vella\\Anaconda3\\lib\\site-packages\\ipykernel_launcher.py:20: UserWarning: `Model.fit_generator` is deprecated and will be removed in a future version. Please use `Model.fit`, which supports generators.\n"
     ]
    },
    {
     "name": "stdout",
     "output_type": "stream",
     "text": [
      "9/9 [==============================] - 1s 3ms/step - loss: 0.3413\n",
      "Epoch 2/6\n",
      "9/9 [==============================] - 0s 3ms/step - loss: 0.3032\n",
      "Epoch 3/6\n",
      "9/9 [==============================] - 0s 3ms/step - loss: 0.2733\n",
      "Epoch 4/6\n",
      "9/9 [==============================] - 0s 3ms/step - loss: 0.2409\n",
      "Epoch 5/6\n",
      "9/9 [==============================] - 0s 4ms/step - loss: 0.2088\n",
      "Epoch 6/6\n",
      "9/9 [==============================] - 0s 3ms/step - loss: 0.1844\n",
      "1/1 [==============================] - 0s 127ms/step\n",
      "Epoch 1/6\n"
     ]
    },
    {
     "name": "stderr",
     "output_type": "stream",
     "text": [
      "C:\\Users\\vella\\Anaconda3\\lib\\site-packages\\ipykernel_launcher.py:20: UserWarning: `Model.fit_generator` is deprecated and will be removed in a future version. Please use `Model.fit`, which supports generators.\n"
     ]
    },
    {
     "name": "stdout",
     "output_type": "stream",
     "text": [
      "9/9 [==============================] - 1s 3ms/step - loss: 0.3475\n",
      "Epoch 2/6\n",
      "9/9 [==============================] - 0s 3ms/step - loss: 0.3032\n",
      "Epoch 3/6\n",
      "9/9 [==============================] - 0s 3ms/step - loss: 0.2743\n",
      "Epoch 4/6\n",
      "9/9 [==============================] - 0s 4ms/step - loss: 0.2398\n",
      "Epoch 5/6\n",
      "9/9 [==============================] - 0s 3ms/step - loss: 0.2163\n",
      "Epoch 6/6\n",
      "9/9 [==============================] - 0s 4ms/step - loss: 0.1798\n",
      "1/1 [==============================] - 0s 125ms/step\n",
      "Epoch 1/6\n"
     ]
    },
    {
     "name": "stderr",
     "output_type": "stream",
     "text": [
      "C:\\Users\\vella\\Anaconda3\\lib\\site-packages\\ipykernel_launcher.py:20: UserWarning: `Model.fit_generator` is deprecated and will be removed in a future version. Please use `Model.fit`, which supports generators.\n"
     ]
    },
    {
     "name": "stdout",
     "output_type": "stream",
     "text": [
      "9/9 [==============================] - 1s 4ms/step - loss: 0.3450\n",
      "Epoch 2/6\n",
      "9/9 [==============================] - 0s 4ms/step - loss: 0.3042\n",
      "Epoch 3/6\n",
      "9/9 [==============================] - 0s 4ms/step - loss: 0.2660\n",
      "Epoch 4/6\n",
      "9/9 [==============================] - 0s 3ms/step - loss: 0.2407\n",
      "Epoch 5/6\n",
      "9/9 [==============================] - 0s 4ms/step - loss: 0.2071\n",
      "Epoch 6/6\n",
      "9/9 [==============================] - 0s 4ms/step - loss: 0.1765\n",
      "1/1 [==============================] - 0s 129ms/step\n",
      "Epoch 1/6\n"
     ]
    },
    {
     "name": "stderr",
     "output_type": "stream",
     "text": [
      "C:\\Users\\vella\\Anaconda3\\lib\\site-packages\\ipykernel_launcher.py:20: UserWarning: `Model.fit_generator` is deprecated and will be removed in a future version. Please use `Model.fit`, which supports generators.\n"
     ]
    },
    {
     "name": "stdout",
     "output_type": "stream",
     "text": [
      "9/9 [==============================] - 1s 3ms/step - loss: 0.3473\n",
      "Epoch 2/6\n",
      "9/9 [==============================] - 0s 3ms/step - loss: 0.3125\n",
      "Epoch 3/6\n",
      "9/9 [==============================] - 0s 3ms/step - loss: 0.2759\n",
      "Epoch 4/6\n",
      "9/9 [==============================] - 0s 3ms/step - loss: 0.2417\n",
      "Epoch 5/6\n",
      "9/9 [==============================] - 0s 4ms/step - loss: 0.2143\n",
      "Epoch 6/6\n",
      "9/9 [==============================] - 0s 4ms/step - loss: 0.1790\n",
      "1/1 [==============================] - 0s 127ms/step\n",
      "Epoch 1/6\n"
     ]
    },
    {
     "name": "stderr",
     "output_type": "stream",
     "text": [
      "C:\\Users\\vella\\Anaconda3\\lib\\site-packages\\ipykernel_launcher.py:20: UserWarning: `Model.fit_generator` is deprecated and will be removed in a future version. Please use `Model.fit`, which supports generators.\n"
     ]
    },
    {
     "name": "stdout",
     "output_type": "stream",
     "text": [
      "9/9 [==============================] - 1s 4ms/step - loss: 0.3321\n",
      "Epoch 2/6\n",
      "9/9 [==============================] - 0s 4ms/step - loss: 0.2912\n",
      "Epoch 3/6\n",
      "9/9 [==============================] - 0s 3ms/step - loss: 0.2554\n",
      "Epoch 4/6\n",
      "9/9 [==============================] - 0s 3ms/step - loss: 0.2144\n",
      "Epoch 5/6\n",
      "9/9 [==============================] - 0s 3ms/step - loss: 0.1801\n",
      "Epoch 6/6\n",
      "9/9 [==============================] - 0s 3ms/step - loss: 0.1450\n",
      "1/1 [==============================] - 0s 135ms/step\n",
      "Epoch 1/6\n"
     ]
    },
    {
     "name": "stderr",
     "output_type": "stream",
     "text": [
      "C:\\Users\\vella\\Anaconda3\\lib\\site-packages\\ipykernel_launcher.py:20: UserWarning: `Model.fit_generator` is deprecated and will be removed in a future version. Please use `Model.fit`, which supports generators.\n"
     ]
    },
    {
     "name": "stdout",
     "output_type": "stream",
     "text": [
      "9/9 [==============================] - 1s 4ms/step - loss: 0.3343\n",
      "Epoch 2/6\n",
      "9/9 [==============================] - 0s 4ms/step - loss: 0.2879\n",
      "Epoch 3/6\n",
      "9/9 [==============================] - 0s 4ms/step - loss: 0.2551\n",
      "Epoch 4/6\n",
      "9/9 [==============================] - 0s 4ms/step - loss: 0.2131\n",
      "Epoch 5/6\n",
      "9/9 [==============================] - 0s 4ms/step - loss: 0.1773\n",
      "Epoch 6/6\n",
      "9/9 [==============================] - 0s 4ms/step - loss: 0.1464\n",
      "1/1 [==============================] - 0s 132ms/step\n",
      "Epoch 1/6\n"
     ]
    },
    {
     "name": "stderr",
     "output_type": "stream",
     "text": [
      "C:\\Users\\vella\\Anaconda3\\lib\\site-packages\\ipykernel_launcher.py:20: UserWarning: `Model.fit_generator` is deprecated and will be removed in a future version. Please use `Model.fit`, which supports generators.\n"
     ]
    },
    {
     "name": "stdout",
     "output_type": "stream",
     "text": [
      "9/9 [==============================] - 1s 3ms/step - loss: 0.3338\n",
      "Epoch 2/6\n",
      "9/9 [==============================] - 0s 3ms/step - loss: 0.2926\n",
      "Epoch 3/6\n",
      "9/9 [==============================] - 0s 4ms/step - loss: 0.2602\n",
      "Epoch 4/6\n",
      "9/9 [==============================] - 0s 3ms/step - loss: 0.2283\n",
      "Epoch 5/6\n",
      "9/9 [==============================] - 0s 4ms/step - loss: 0.2018\n",
      "Epoch 6/6\n",
      "9/9 [==============================] - 0s 4ms/step - loss: 0.1654\n",
      "1/1 [==============================] - 0s 142ms/step\n",
      "Epoch 1/6\n"
     ]
    },
    {
     "name": "stderr",
     "output_type": "stream",
     "text": [
      "C:\\Users\\vella\\Anaconda3\\lib\\site-packages\\ipykernel_launcher.py:20: UserWarning: `Model.fit_generator` is deprecated and will be removed in a future version. Please use `Model.fit`, which supports generators.\n"
     ]
    },
    {
     "name": "stdout",
     "output_type": "stream",
     "text": [
      "9/9 [==============================] - 1s 3ms/step - loss: 0.3424\n",
      "Epoch 2/6\n",
      "9/9 [==============================] - 0s 4ms/step - loss: 0.2952\n",
      "Epoch 3/6\n",
      "9/9 [==============================] - 0s 4ms/step - loss: 0.2633\n",
      "Epoch 4/6\n",
      "9/9 [==============================] - 0s 4ms/step - loss: 0.2240\n",
      "Epoch 5/6\n",
      "9/9 [==============================] - 0s 4ms/step - loss: 0.1924\n",
      "Epoch 6/6\n",
      "9/9 [==============================] - 0s 4ms/step - loss: 0.1605\n",
      "1/1 [==============================] - 0s 141ms/step\n",
      "Epoch 1/6\n"
     ]
    },
    {
     "name": "stderr",
     "output_type": "stream",
     "text": [
      "C:\\Users\\vella\\Anaconda3\\lib\\site-packages\\ipykernel_launcher.py:20: UserWarning: `Model.fit_generator` is deprecated and will be removed in a future version. Please use `Model.fit`, which supports generators.\n"
     ]
    },
    {
     "name": "stdout",
     "output_type": "stream",
     "text": [
      "9/9 [==============================] - 1s 3ms/step - loss: 0.3322\n",
      "Epoch 2/6\n",
      "9/9 [==============================] - 0s 3ms/step - loss: 0.2896\n",
      "Epoch 3/6\n",
      "9/9 [==============================] - 0s 3ms/step - loss: 0.2503\n",
      "Epoch 4/6\n",
      "9/9 [==============================] - 0s 3ms/step - loss: 0.2172\n",
      "Epoch 5/6\n",
      "9/9 [==============================] - 0s 3ms/step - loss: 0.1851\n",
      "Epoch 6/6\n",
      "9/9 [==============================] - 0s 3ms/step - loss: 0.1521\n",
      "1/1 [==============================] - 0s 141ms/step\n",
      "Epoch 1/6\n"
     ]
    },
    {
     "name": "stderr",
     "output_type": "stream",
     "text": [
      "C:\\Users\\vella\\Anaconda3\\lib\\site-packages\\ipykernel_launcher.py:20: UserWarning: `Model.fit_generator` is deprecated and will be removed in a future version. Please use `Model.fit`, which supports generators.\n"
     ]
    },
    {
     "name": "stdout",
     "output_type": "stream",
     "text": [
      "9/9 [==============================] - 1s 3ms/step - loss: 0.3141\n",
      "Epoch 2/6\n",
      "9/9 [==============================] - 0s 3ms/step - loss: 0.2678\n",
      "Epoch 3/6\n",
      "9/9 [==============================] - 0s 3ms/step - loss: 0.2335\n",
      "Epoch 4/6\n",
      "9/9 [==============================] - 0s 3ms/step - loss: 0.1943\n",
      "Epoch 5/6\n",
      "9/9 [==============================] - 0s 3ms/step - loss: 0.1580\n",
      "Epoch 6/6\n",
      "9/9 [==============================] - 0s 3ms/step - loss: 0.1233\n",
      "1/1 [==============================] - 0s 132ms/step\n",
      "Epoch 1/6\n"
     ]
    },
    {
     "name": "stderr",
     "output_type": "stream",
     "text": [
      "C:\\Users\\vella\\Anaconda3\\lib\\site-packages\\ipykernel_launcher.py:20: UserWarning: `Model.fit_generator` is deprecated and will be removed in a future version. Please use `Model.fit`, which supports generators.\n"
     ]
    },
    {
     "name": "stdout",
     "output_type": "stream",
     "text": [
      "9/9 [==============================] - 1s 3ms/step - loss: 0.2957\n",
      "Epoch 2/6\n",
      "9/9 [==============================] - 0s 3ms/step - loss: 0.2584\n",
      "Epoch 3/6\n",
      "9/9 [==============================] - 0s 3ms/step - loss: 0.2185\n",
      "Epoch 4/6\n",
      "9/9 [==============================] - 0s 3ms/step - loss: 0.1840\n",
      "Epoch 5/6\n",
      "9/9 [==============================] - 0s 3ms/step - loss: 0.1599\n",
      "Epoch 6/6\n",
      "9/9 [==============================] - 0s 3ms/step - loss: 0.1243\n",
      "1/1 [==============================] - 0s 136ms/step\n",
      "Epoch 1/6\n"
     ]
    },
    {
     "name": "stderr",
     "output_type": "stream",
     "text": [
      "C:\\Users\\vella\\Anaconda3\\lib\\site-packages\\ipykernel_launcher.py:20: UserWarning: `Model.fit_generator` is deprecated and will be removed in a future version. Please use `Model.fit`, which supports generators.\n"
     ]
    },
    {
     "name": "stdout",
     "output_type": "stream",
     "text": [
      "9/9 [==============================] - 1s 4ms/step - loss: 0.3330\n",
      "Epoch 2/6\n",
      "9/9 [==============================] - 0s 4ms/step - loss: 0.2912\n",
      "Epoch 3/6\n",
      "9/9 [==============================] - 0s 4ms/step - loss: 0.2618\n",
      "Epoch 4/6\n",
      "9/9 [==============================] - 0s 4ms/step - loss: 0.2271\n",
      "Epoch 5/6\n",
      "9/9 [==============================] - 0s 4ms/step - loss: 0.1963\n",
      "Epoch 6/6\n",
      "9/9 [==============================] - 0s 4ms/step - loss: 0.1662\n",
      "1/1 [==============================] - 0s 134ms/step\n",
      "Epoch 1/6\n"
     ]
    },
    {
     "name": "stderr",
     "output_type": "stream",
     "text": [
      "C:\\Users\\vella\\Anaconda3\\lib\\site-packages\\ipykernel_launcher.py:20: UserWarning: `Model.fit_generator` is deprecated and will be removed in a future version. Please use `Model.fit`, which supports generators.\n"
     ]
    },
    {
     "name": "stdout",
     "output_type": "stream",
     "text": [
      "9/9 [==============================] - 1s 4ms/step - loss: 0.3019\n",
      "Epoch 2/6\n",
      "9/9 [==============================] - 0s 4ms/step - loss: 0.2649\n",
      "Epoch 3/6\n",
      "9/9 [==============================] - 0s 4ms/step - loss: 0.2289\n",
      "Epoch 4/6\n",
      "9/9 [==============================] - 0s 4ms/step - loss: 0.1905\n",
      "Epoch 5/6\n",
      "9/9 [==============================] - 0s 4ms/step - loss: 0.1555\n",
      "Epoch 6/6\n",
      "9/9 [==============================] - 0s 3ms/step - loss: 0.1224\n",
      "1/1 [==============================] - 0s 132ms/step\n",
      "Epoch 1/6\n"
     ]
    },
    {
     "name": "stderr",
     "output_type": "stream",
     "text": [
      "C:\\Users\\vella\\Anaconda3\\lib\\site-packages\\ipykernel_launcher.py:20: UserWarning: `Model.fit_generator` is deprecated and will be removed in a future version. Please use `Model.fit`, which supports generators.\n"
     ]
    },
    {
     "name": "stdout",
     "output_type": "stream",
     "text": [
      "9/9 [==============================] - 1s 3ms/step - loss: 0.3009\n",
      "Epoch 2/6\n",
      "9/9 [==============================] - 0s 3ms/step - loss: 0.2648\n",
      "Epoch 3/6\n",
      "9/9 [==============================] - 0s 4ms/step - loss: 0.2373\n",
      "Epoch 4/6\n",
      "9/9 [==============================] - 0s 3ms/step - loss: 0.2095\n",
      "Epoch 5/6\n",
      "9/9 [==============================] - 0s 4ms/step - loss: 0.1803\n",
      "Epoch 6/6\n",
      "9/9 [==============================] - 0s 4ms/step - loss: 0.1589\n",
      "1/1 [==============================] - 0s 130ms/step\n",
      "Epoch 1/6\n"
     ]
    },
    {
     "name": "stderr",
     "output_type": "stream",
     "text": [
      "C:\\Users\\vella\\Anaconda3\\lib\\site-packages\\ipykernel_launcher.py:20: UserWarning: `Model.fit_generator` is deprecated and will be removed in a future version. Please use `Model.fit`, which supports generators.\n"
     ]
    },
    {
     "name": "stdout",
     "output_type": "stream",
     "text": [
      "9/9 [==============================] - 1s 3ms/step - loss: 0.3031\n",
      "Epoch 2/6\n",
      "9/9 [==============================] - 0s 3ms/step - loss: 0.2602\n",
      "Epoch 3/6\n",
      "9/9 [==============================] - 0s 3ms/step - loss: 0.2244\n",
      "Epoch 4/6\n",
      "9/9 [==============================] - 0s 4ms/step - loss: 0.1894\n",
      "Epoch 5/6\n",
      "9/9 [==============================] - 0s 4ms/step - loss: 0.1608\n",
      "Epoch 6/6\n",
      "9/9 [==============================] - 0s 3ms/step - loss: 0.1342\n",
      "1/1 [==============================] - 0s 130ms/step\n",
      "Epoch 1/6\n"
     ]
    },
    {
     "name": "stderr",
     "output_type": "stream",
     "text": [
      "C:\\Users\\vella\\Anaconda3\\lib\\site-packages\\ipykernel_launcher.py:20: UserWarning: `Model.fit_generator` is deprecated and will be removed in a future version. Please use `Model.fit`, which supports generators.\n"
     ]
    },
    {
     "name": "stdout",
     "output_type": "stream",
     "text": [
      "9/9 [==============================] - 1s 3ms/step - loss: 0.3263\n",
      "Epoch 2/6\n",
      "9/9 [==============================] - 0s 4ms/step - loss: 0.2848\n",
      "Epoch 3/6\n",
      "9/9 [==============================] - 0s 4ms/step - loss: 0.2468\n",
      "Epoch 4/6\n",
      "9/9 [==============================] - 0s 3ms/step - loss: 0.2170\n",
      "Epoch 5/6\n",
      "9/9 [==============================] - 0s 3ms/step - loss: 0.1891\n",
      "Epoch 6/6\n",
      "9/9 [==============================] - 0s 3ms/step - loss: 0.1565\n",
      "1/1 [==============================] - 0s 128ms/step\n",
      "Epoch 1/6\n"
     ]
    },
    {
     "name": "stderr",
     "output_type": "stream",
     "text": [
      "C:\\Users\\vella\\Anaconda3\\lib\\site-packages\\ipykernel_launcher.py:20: UserWarning: `Model.fit_generator` is deprecated and will be removed in a future version. Please use `Model.fit`, which supports generators.\n"
     ]
    },
    {
     "name": "stdout",
     "output_type": "stream",
     "text": [
      "9/9 [==============================] - 1s 3ms/step - loss: 0.3092\n",
      "Epoch 2/6\n",
      "9/9 [==============================] - 0s 3ms/step - loss: 0.2717\n",
      "Epoch 3/6\n",
      "9/9 [==============================] - 0s 3ms/step - loss: 0.2395\n",
      "Epoch 4/6\n",
      "9/9 [==============================] - 0s 3ms/step - loss: 0.2090\n",
      "Epoch 5/6\n",
      "9/9 [==============================] - 0s 3ms/step - loss: 0.1711\n",
      "Epoch 6/6\n",
      "9/9 [==============================] - 0s 3ms/step - loss: 0.1456\n",
      "1/1 [==============================] - 0s 135ms/step\n",
      "Epoch 1/6\n"
     ]
    },
    {
     "name": "stderr",
     "output_type": "stream",
     "text": [
      "C:\\Users\\vella\\Anaconda3\\lib\\site-packages\\ipykernel_launcher.py:20: UserWarning: `Model.fit_generator` is deprecated and will be removed in a future version. Please use `Model.fit`, which supports generators.\n"
     ]
    },
    {
     "name": "stdout",
     "output_type": "stream",
     "text": [
      "9/9 [==============================] - 1s 3ms/step - loss: 0.3141\n",
      "Epoch 2/6\n",
      "9/9 [==============================] - 0s 4ms/step - loss: 0.2717\n",
      "Epoch 3/6\n",
      "9/9 [==============================] - 0s 4ms/step - loss: 0.2411\n",
      "Epoch 4/6\n",
      "9/9 [==============================] - 0s 3ms/step - loss: 0.2053\n",
      "Epoch 5/6\n",
      "9/9 [==============================] - 0s 3ms/step - loss: 0.1744\n",
      "Epoch 6/6\n",
      "9/9 [==============================] - 0s 3ms/step - loss: 0.1481\n",
      "1/1 [==============================] - 0s 129ms/step\n",
      "Epoch 1/6\n"
     ]
    },
    {
     "name": "stderr",
     "output_type": "stream",
     "text": [
      "C:\\Users\\vella\\Anaconda3\\lib\\site-packages\\ipykernel_launcher.py:20: UserWarning: `Model.fit_generator` is deprecated and will be removed in a future version. Please use `Model.fit`, which supports generators.\n"
     ]
    },
    {
     "name": "stdout",
     "output_type": "stream",
     "text": [
      "9/9 [==============================] - 1s 4ms/step - loss: 0.3156\n",
      "Epoch 2/6\n",
      "9/9 [==============================] - 0s 4ms/step - loss: 0.2779\n",
      "Epoch 3/6\n",
      "9/9 [==============================] - 0s 4ms/step - loss: 0.2395\n",
      "Epoch 4/6\n",
      "9/9 [==============================] - 0s 4ms/step - loss: 0.2060\n",
      "Epoch 5/6\n",
      "9/9 [==============================] - 0s 4ms/step - loss: 0.1739\n",
      "Epoch 6/6\n",
      "9/9 [==============================] - 0s 4ms/step - loss: 0.1389\n",
      "1/1 [==============================] - 0s 129ms/step\n",
      "Epoch 1/6\n"
     ]
    },
    {
     "name": "stderr",
     "output_type": "stream",
     "text": [
      "C:\\Users\\vella\\Anaconda3\\lib\\site-packages\\ipykernel_launcher.py:20: UserWarning: `Model.fit_generator` is deprecated and will be removed in a future version. Please use `Model.fit`, which supports generators.\n"
     ]
    },
    {
     "name": "stdout",
     "output_type": "stream",
     "text": [
      "9/9 [==============================] - 1s 4ms/step - loss: 0.3005\n",
      "Epoch 2/6\n",
      "9/9 [==============================] - 0s 4ms/step - loss: 0.2624\n",
      "Epoch 3/6\n",
      "9/9 [==============================] - 0s 4ms/step - loss: 0.2282\n",
      "Epoch 4/6\n",
      "9/9 [==============================] - 0s 4ms/step - loss: 0.1959\n",
      "Epoch 5/6\n",
      "9/9 [==============================] - 0s 4ms/step - loss: 0.1662\n",
      "Epoch 6/6\n",
      "9/9 [==============================] - 0s 3ms/step - loss: 0.1367\n",
      "1/1 [==============================] - 0s 130ms/step\n",
      "Epoch 1/6\n"
     ]
    },
    {
     "name": "stderr",
     "output_type": "stream",
     "text": [
      "C:\\Users\\vella\\Anaconda3\\lib\\site-packages\\ipykernel_launcher.py:20: UserWarning: `Model.fit_generator` is deprecated and will be removed in a future version. Please use `Model.fit`, which supports generators.\n"
     ]
    },
    {
     "name": "stdout",
     "output_type": "stream",
     "text": [
      "9/9 [==============================] - 1s 4ms/step - loss: 0.3129\n",
      "Epoch 2/6\n",
      "9/9 [==============================] - 0s 4ms/step - loss: 0.2770\n",
      "Epoch 3/6\n",
      "9/9 [==============================] - 0s 4ms/step - loss: 0.2430\n",
      "Epoch 4/6\n",
      "9/9 [==============================] - 0s 3ms/step - loss: 0.2182\n",
      "Epoch 5/6\n",
      "9/9 [==============================] - 0s 3ms/step - loss: 0.1885\n",
      "Epoch 6/6\n",
      "9/9 [==============================] - 0s 3ms/step - loss: 0.1593\n",
      "1/1 [==============================] - 0s 130ms/step\n",
      "Epoch 1/6\n"
     ]
    },
    {
     "name": "stderr",
     "output_type": "stream",
     "text": [
      "C:\\Users\\vella\\Anaconda3\\lib\\site-packages\\ipykernel_launcher.py:20: UserWarning: `Model.fit_generator` is deprecated and will be removed in a future version. Please use `Model.fit`, which supports generators.\n"
     ]
    },
    {
     "name": "stdout",
     "output_type": "stream",
     "text": [
      "9/9 [==============================] - 1s 4ms/step - loss: 0.3011\n",
      "Epoch 2/6\n",
      "9/9 [==============================] - 0s 4ms/step - loss: 0.2707\n",
      "Epoch 3/6\n",
      "9/9 [==============================] - 0s 4ms/step - loss: 0.2400\n",
      "Epoch 4/6\n",
      "9/9 [==============================] - 0s 3ms/step - loss: 0.2112\n",
      "Epoch 5/6\n",
      "9/9 [==============================] - 0s 3ms/step - loss: 0.1832\n",
      "Epoch 6/6\n",
      "9/9 [==============================] - 0s 3ms/step - loss: 0.1540\n",
      "1/1 [==============================] - 0s 129ms/step\n",
      "Epoch 1/6\n"
     ]
    },
    {
     "name": "stderr",
     "output_type": "stream",
     "text": [
      "C:\\Users\\vella\\Anaconda3\\lib\\site-packages\\ipykernel_launcher.py:20: UserWarning: `Model.fit_generator` is deprecated and will be removed in a future version. Please use `Model.fit`, which supports generators.\n"
     ]
    },
    {
     "name": "stdout",
     "output_type": "stream",
     "text": [
      "9/9 [==============================] - 1s 3ms/step - loss: 0.2742\n",
      "Epoch 2/6\n",
      "9/9 [==============================] - 0s 3ms/step - loss: 0.2400\n",
      "Epoch 3/6\n",
      "9/9 [==============================] - 0s 4ms/step - loss: 0.2094\n",
      "Epoch 4/6\n",
      "9/9 [==============================] - 0s 4ms/step - loss: 0.1832\n",
      "Epoch 5/6\n",
      "9/9 [==============================] - 0s 3ms/step - loss: 0.1594\n",
      "Epoch 6/6\n",
      "9/9 [==============================] - 0s 4ms/step - loss: 0.1282\n",
      "1/1 [==============================] - 0s 129ms/step\n",
      "Epoch 1/6\n"
     ]
    },
    {
     "name": "stderr",
     "output_type": "stream",
     "text": [
      "C:\\Users\\vella\\Anaconda3\\lib\\site-packages\\ipykernel_launcher.py:20: UserWarning: `Model.fit_generator` is deprecated and will be removed in a future version. Please use `Model.fit`, which supports generators.\n"
     ]
    },
    {
     "name": "stdout",
     "output_type": "stream",
     "text": [
      "9/9 [==============================] - 1s 3ms/step - loss: 0.2557\n",
      "Epoch 2/6\n",
      "9/9 [==============================] - 0s 4ms/step - loss: 0.2145\n",
      "Epoch 3/6\n",
      "9/9 [==============================] - 0s 4ms/step - loss: 0.1794\n",
      "Epoch 4/6\n",
      "9/9 [==============================] - 0s 3ms/step - loss: 0.1538\n",
      "Epoch 5/6\n",
      "9/9 [==============================] - 0s 3ms/step - loss: 0.1183\n",
      "Epoch 6/6\n",
      "9/9 [==============================] - 0s 3ms/step - loss: 0.0910\n",
      "1/1 [==============================] - 0s 130ms/step\n",
      "Epoch 1/6\n"
     ]
    },
    {
     "name": "stderr",
     "output_type": "stream",
     "text": [
      "C:\\Users\\vella\\Anaconda3\\lib\\site-packages\\ipykernel_launcher.py:20: UserWarning: `Model.fit_generator` is deprecated and will be removed in a future version. Please use `Model.fit`, which supports generators.\n"
     ]
    },
    {
     "name": "stdout",
     "output_type": "stream",
     "text": [
      "9/9 [==============================] - 1s 4ms/step - loss: 0.2555\n",
      "Epoch 2/6\n",
      "9/9 [==============================] - 0s 4ms/step - loss: 0.2213\n",
      "Epoch 3/6\n",
      "9/9 [==============================] - 0s 4ms/step - loss: 0.1928\n",
      "Epoch 4/6\n",
      "9/9 [==============================] - 0s 4ms/step - loss: 0.1617\n",
      "Epoch 5/6\n",
      "9/9 [==============================] - 0s 3ms/step - loss: 0.1329\n",
      "Epoch 6/6\n",
      "9/9 [==============================] - 0s 3ms/step - loss: 0.1058\n",
      "1/1 [==============================] - 0s 127ms/step\n",
      "Epoch 1/6\n"
     ]
    },
    {
     "name": "stderr",
     "output_type": "stream",
     "text": [
      "C:\\Users\\vella\\Anaconda3\\lib\\site-packages\\ipykernel_launcher.py:20: UserWarning: `Model.fit_generator` is deprecated and will be removed in a future version. Please use `Model.fit`, which supports generators.\n"
     ]
    },
    {
     "name": "stdout",
     "output_type": "stream",
     "text": [
      "9/9 [==============================] - 1s 4ms/step - loss: 0.2781\n",
      "Epoch 2/6\n",
      "9/9 [==============================] - 0s 3ms/step - loss: 0.2383\n",
      "Epoch 3/6\n",
      "9/9 [==============================] - 0s 4ms/step - loss: 0.2044\n",
      "Epoch 4/6\n",
      "9/9 [==============================] - 0s 3ms/step - loss: 0.1741\n",
      "Epoch 5/6\n",
      "9/9 [==============================] - 0s 3ms/step - loss: 0.1444\n",
      "Epoch 6/6\n",
      "9/9 [==============================] - 0s 3ms/step - loss: 0.1127\n",
      "1/1 [==============================] - 0s 130ms/step\n",
      "Epoch 1/6\n"
     ]
    },
    {
     "name": "stderr",
     "output_type": "stream",
     "text": [
      "C:\\Users\\vella\\Anaconda3\\lib\\site-packages\\ipykernel_launcher.py:20: UserWarning: `Model.fit_generator` is deprecated and will be removed in a future version. Please use `Model.fit`, which supports generators.\n"
     ]
    },
    {
     "name": "stdout",
     "output_type": "stream",
     "text": [
      "9/9 [==============================] - 1s 4ms/step - loss: 0.2731\n",
      "Epoch 2/6\n",
      "9/9 [==============================] - 0s 4ms/step - loss: 0.2388\n",
      "Epoch 3/6\n",
      "9/9 [==============================] - 0s 4ms/step - loss: 0.2090\n",
      "Epoch 4/6\n",
      "9/9 [==============================] - 0s 4ms/step - loss: 0.1790\n",
      "Epoch 5/6\n",
      "9/9 [==============================] - 0s 4ms/step - loss: 0.1460\n",
      "Epoch 6/6\n",
      "9/9 [==============================] - 0s 4ms/step - loss: 0.1211\n",
      "1/1 [==============================] - 0s 133ms/step\n",
      "Epoch 1/6\n"
     ]
    },
    {
     "name": "stderr",
     "output_type": "stream",
     "text": [
      "C:\\Users\\vella\\Anaconda3\\lib\\site-packages\\ipykernel_launcher.py:20: UserWarning: `Model.fit_generator` is deprecated and will be removed in a future version. Please use `Model.fit`, which supports generators.\n"
     ]
    },
    {
     "name": "stdout",
     "output_type": "stream",
     "text": [
      "9/9 [==============================] - 1s 4ms/step - loss: 0.2820\n",
      "Epoch 2/6\n",
      "9/9 [==============================] - 0s 4ms/step - loss: 0.2419\n",
      "Epoch 3/6\n",
      "9/9 [==============================] - 0s 4ms/step - loss: 0.2151\n",
      "Epoch 4/6\n",
      "9/9 [==============================] - 0s 4ms/step - loss: 0.1840\n",
      "Epoch 5/6\n",
      "9/9 [==============================] - 0s 4ms/step - loss: 0.1542\n",
      "Epoch 6/6\n",
      "9/9 [==============================] - 0s 4ms/step - loss: 0.1275\n",
      "1/1 [==============================] - 0s 130ms/step\n",
      "Epoch 1/6\n"
     ]
    },
    {
     "name": "stderr",
     "output_type": "stream",
     "text": [
      "C:\\Users\\vella\\Anaconda3\\lib\\site-packages\\ipykernel_launcher.py:20: UserWarning: `Model.fit_generator` is deprecated and will be removed in a future version. Please use `Model.fit`, which supports generators.\n"
     ]
    },
    {
     "name": "stdout",
     "output_type": "stream",
     "text": [
      "9/9 [==============================] - 1s 4ms/step - loss: 0.2722\n",
      "Epoch 2/6\n",
      "9/9 [==============================] - 0s 4ms/step - loss: 0.2380\n",
      "Epoch 3/6\n",
      "9/9 [==============================] - 0s 5ms/step - loss: 0.2073\n",
      "Epoch 4/6\n",
      "9/9 [==============================] - 0s 4ms/step - loss: 0.1720\n",
      "Epoch 5/6\n",
      "9/9 [==============================] - 0s 4ms/step - loss: 0.1495\n",
      "Epoch 6/6\n",
      "9/9 [==============================] - 0s 4ms/step - loss: 0.1190\n",
      "1/1 [==============================] - 0s 129ms/step\n",
      "Epoch 1/6\n"
     ]
    },
    {
     "name": "stderr",
     "output_type": "stream",
     "text": [
      "C:\\Users\\vella\\Anaconda3\\lib\\site-packages\\ipykernel_launcher.py:20: UserWarning: `Model.fit_generator` is deprecated and will be removed in a future version. Please use `Model.fit`, which supports generators.\n"
     ]
    },
    {
     "name": "stdout",
     "output_type": "stream",
     "text": [
      "9/9 [==============================] - 1s 3ms/step - loss: 0.2707\n",
      "Epoch 2/6\n",
      "9/9 [==============================] - 0s 4ms/step - loss: 0.2379\n",
      "Epoch 3/6\n",
      "9/9 [==============================] - 0s 3ms/step - loss: 0.2081\n",
      "Epoch 4/6\n",
      "9/9 [==============================] - 0s 3ms/step - loss: 0.1824\n",
      "Epoch 5/6\n",
      "9/9 [==============================] - 0s 4ms/step - loss: 0.1572\n",
      "Epoch 6/6\n",
      "9/9 [==============================] - 0s 3ms/step - loss: 0.1319\n",
      "1/1 [==============================] - 0s 127ms/step\n",
      "Epoch 1/6\n"
     ]
    },
    {
     "name": "stderr",
     "output_type": "stream",
     "text": [
      "C:\\Users\\vella\\Anaconda3\\lib\\site-packages\\ipykernel_launcher.py:20: UserWarning: `Model.fit_generator` is deprecated and will be removed in a future version. Please use `Model.fit`, which supports generators.\n"
     ]
    },
    {
     "name": "stdout",
     "output_type": "stream",
     "text": [
      "9/9 [==============================] - 1s 3ms/step - loss: 0.2632\n",
      "Epoch 2/6\n",
      "9/9 [==============================] - 0s 4ms/step - loss: 0.2325\n",
      "Epoch 3/6\n",
      "9/9 [==============================] - 0s 3ms/step - loss: 0.1988\n",
      "Epoch 4/6\n",
      "9/9 [==============================] - 0s 3ms/step - loss: 0.1736\n",
      "Epoch 5/6\n",
      "9/9 [==============================] - 0s 4ms/step - loss: 0.1453\n",
      "Epoch 6/6\n",
      "9/9 [==============================] - 0s 3ms/step - loss: 0.1214\n",
      "1/1 [==============================] - 0s 128ms/step\n",
      "Epoch 1/6\n"
     ]
    },
    {
     "name": "stderr",
     "output_type": "stream",
     "text": [
      "C:\\Users\\vella\\Anaconda3\\lib\\site-packages\\ipykernel_launcher.py:20: UserWarning: `Model.fit_generator` is deprecated and will be removed in a future version. Please use `Model.fit`, which supports generators.\n"
     ]
    },
    {
     "name": "stdout",
     "output_type": "stream",
     "text": [
      "9/9 [==============================] - 1s 3ms/step - loss: 0.3524\n",
      "Epoch 2/6\n",
      "9/9 [==============================] - 0s 4ms/step - loss: 0.3112\n",
      "Epoch 3/6\n",
      "9/9 [==============================] - 0s 4ms/step - loss: 0.2737\n",
      "Epoch 4/6\n",
      "9/9 [==============================] - 0s 3ms/step - loss: 0.2418\n",
      "Epoch 5/6\n",
      "9/9 [==============================] - 0s 3ms/step - loss: 0.2049\n",
      "Epoch 6/6\n",
      "9/9 [==============================] - 0s 3ms/step - loss: 0.1716\n",
      "1/1 [==============================] - 0s 371ms/step\n",
      "Epoch 1/6\n"
     ]
    },
    {
     "name": "stderr",
     "output_type": "stream",
     "text": [
      "C:\\Users\\vella\\Anaconda3\\lib\\site-packages\\ipykernel_launcher.py:20: UserWarning: `Model.fit_generator` is deprecated and will be removed in a future version. Please use `Model.fit`, which supports generators.\n"
     ]
    },
    {
     "name": "stdout",
     "output_type": "stream",
     "text": [
      "9/9 [==============================] - 1s 4ms/step - loss: 0.3194\n",
      "Epoch 2/6\n",
      "9/9 [==============================] - 0s 4ms/step - loss: 0.2790\n",
      "Epoch 3/6\n",
      "9/9 [==============================] - 0s 4ms/step - loss: 0.2411\n",
      "Epoch 4/6\n",
      "9/9 [==============================] - 0s 4ms/step - loss: 0.2055\n",
      "Epoch 5/6\n",
      "9/9 [==============================] - 0s 3ms/step - loss: 0.1759\n",
      "Epoch 6/6\n",
      "9/9 [==============================] - 0s 4ms/step - loss: 0.1419\n",
      "1/1 [==============================] - 0s 132ms/step\n",
      "Epoch 1/6\n"
     ]
    },
    {
     "name": "stderr",
     "output_type": "stream",
     "text": [
      "C:\\Users\\vella\\Anaconda3\\lib\\site-packages\\ipykernel_launcher.py:20: UserWarning: `Model.fit_generator` is deprecated and will be removed in a future version. Please use `Model.fit`, which supports generators.\n"
     ]
    },
    {
     "name": "stdout",
     "output_type": "stream",
     "text": [
      "9/9 [==============================] - 1s 4ms/step - loss: 0.3271\n",
      "Epoch 2/6\n",
      "9/9 [==============================] - 0s 4ms/step - loss: 0.2881\n",
      "Epoch 3/6\n",
      "9/9 [==============================] - 0s 4ms/step - loss: 0.2480\n",
      "Epoch 4/6\n",
      "9/9 [==============================] - 0s 4ms/step - loss: 0.2195\n",
      "Epoch 5/6\n",
      "9/9 [==============================] - 0s 3ms/step - loss: 0.1821\n",
      "Epoch 6/6\n",
      "9/9 [==============================] - 0s 4ms/step - loss: 0.1531\n",
      "1/1 [==============================] - 0s 130ms/step\n",
      "Epoch 1/6\n"
     ]
    },
    {
     "name": "stderr",
     "output_type": "stream",
     "text": [
      "C:\\Users\\vella\\Anaconda3\\lib\\site-packages\\ipykernel_launcher.py:20: UserWarning: `Model.fit_generator` is deprecated and will be removed in a future version. Please use `Model.fit`, which supports generators.\n"
     ]
    },
    {
     "name": "stdout",
     "output_type": "stream",
     "text": [
      "9/9 [==============================] - 1s 4ms/step - loss: 0.3291\n",
      "Epoch 2/6\n",
      "9/9 [==============================] - 0s 4ms/step - loss: 0.2864\n",
      "Epoch 3/6\n",
      "9/9 [==============================] - 0s 4ms/step - loss: 0.2461\n",
      "Epoch 4/6\n",
      "9/9 [==============================] - 0s 4ms/step - loss: 0.2168\n",
      "Epoch 5/6\n",
      "9/9 [==============================] - 0s 4ms/step - loss: 0.1852\n",
      "Epoch 6/6\n",
      "9/9 [==============================] - 0s 4ms/step - loss: 0.1593\n",
      "1/1 [==============================] - 0s 132ms/step\n",
      "Epoch 1/6\n"
     ]
    },
    {
     "name": "stderr",
     "output_type": "stream",
     "text": [
      "C:\\Users\\vella\\Anaconda3\\lib\\site-packages\\ipykernel_launcher.py:20: UserWarning: `Model.fit_generator` is deprecated and will be removed in a future version. Please use `Model.fit`, which supports generators.\n"
     ]
    },
    {
     "name": "stdout",
     "output_type": "stream",
     "text": [
      "9/9 [==============================] - 1s 4ms/step - loss: 0.2986\n",
      "Epoch 2/6\n",
      "9/9 [==============================] - 0s 4ms/step - loss: 0.2580\n",
      "Epoch 3/6\n",
      "9/9 [==============================] - 0s 4ms/step - loss: 0.2226\n",
      "Epoch 4/6\n",
      "9/9 [==============================] - 0s 4ms/step - loss: 0.1904\n",
      "Epoch 5/6\n",
      "9/9 [==============================] - 0s 3ms/step - loss: 0.1636\n",
      "Epoch 6/6\n",
      "9/9 [==============================] - 0s 4ms/step - loss: 0.1320\n",
      "1/1 [==============================] - 0s 127ms/step\n",
      "Epoch 1/6\n"
     ]
    },
    {
     "name": "stderr",
     "output_type": "stream",
     "text": [
      "C:\\Users\\vella\\Anaconda3\\lib\\site-packages\\ipykernel_launcher.py:20: UserWarning: `Model.fit_generator` is deprecated and will be removed in a future version. Please use `Model.fit`, which supports generators.\n"
     ]
    },
    {
     "name": "stdout",
     "output_type": "stream",
     "text": [
      "9/9 [==============================] - 1s 4ms/step - loss: 0.2911\n",
      "Epoch 2/6\n",
      "9/9 [==============================] - 0s 3ms/step - loss: 0.2528\n",
      "Epoch 3/6\n",
      "9/9 [==============================] - 0s 4ms/step - loss: 0.2177\n",
      "Epoch 4/6\n",
      "9/9 [==============================] - 0s 4ms/step - loss: 0.1864\n",
      "Epoch 5/6\n",
      "9/9 [==============================] - 0s 4ms/step - loss: 0.1595\n",
      "Epoch 6/6\n",
      "9/9 [==============================] - 0s 4ms/step - loss: 0.1308\n",
      "1/1 [==============================] - 0s 131ms/step\n",
      "Epoch 1/6\n"
     ]
    },
    {
     "name": "stderr",
     "output_type": "stream",
     "text": [
      "C:\\Users\\vella\\Anaconda3\\lib\\site-packages\\ipykernel_launcher.py:20: UserWarning: `Model.fit_generator` is deprecated and will be removed in a future version. Please use `Model.fit`, which supports generators.\n"
     ]
    },
    {
     "name": "stdout",
     "output_type": "stream",
     "text": [
      "9/9 [==============================] - 1s 4ms/step - loss: 0.2704\n",
      "Epoch 2/6\n",
      "9/9 [==============================] - 0s 4ms/step - loss: 0.2336\n",
      "Epoch 3/6\n",
      "9/9 [==============================] - 0s 3ms/step - loss: 0.2057\n",
      "Epoch 4/6\n",
      "9/9 [==============================] - 0s 3ms/step - loss: 0.1710\n",
      "Epoch 5/6\n",
      "9/9 [==============================] - 0s 4ms/step - loss: 0.1438\n",
      "Epoch 6/6\n",
      "9/9 [==============================] - 0s 3ms/step - loss: 0.1126\n",
      "1/1 [==============================] - 0s 130ms/step\n",
      "Epoch 1/6\n"
     ]
    },
    {
     "name": "stderr",
     "output_type": "stream",
     "text": [
      "C:\\Users\\vella\\Anaconda3\\lib\\site-packages\\ipykernel_launcher.py:20: UserWarning: `Model.fit_generator` is deprecated and will be removed in a future version. Please use `Model.fit`, which supports generators.\n"
     ]
    },
    {
     "name": "stdout",
     "output_type": "stream",
     "text": [
      "9/9 [==============================] - 1s 4ms/step - loss: 0.2688\n",
      "Epoch 2/6\n",
      "9/9 [==============================] - 0s 4ms/step - loss: 0.2339\n",
      "Epoch 3/6\n",
      "9/9 [==============================] - 0s 4ms/step - loss: 0.2075\n",
      "Epoch 4/6\n",
      "9/9 [==============================] - 0s 4ms/step - loss: 0.1796\n",
      "Epoch 5/6\n",
      "9/9 [==============================] - 0s 4ms/step - loss: 0.1549\n",
      "Epoch 6/6\n",
      "9/9 [==============================] - 0s 4ms/step - loss: 0.1302\n",
      "1/1 [==============================] - 0s 130ms/step\n",
      "Epoch 1/6\n"
     ]
    },
    {
     "name": "stderr",
     "output_type": "stream",
     "text": [
      "C:\\Users\\vella\\Anaconda3\\lib\\site-packages\\ipykernel_launcher.py:20: UserWarning: `Model.fit_generator` is deprecated and will be removed in a future version. Please use `Model.fit`, which supports generators.\n"
     ]
    },
    {
     "name": "stdout",
     "output_type": "stream",
     "text": [
      "9/9 [==============================] - 1s 4ms/step - loss: 0.2682\n",
      "Epoch 2/6\n",
      "9/9 [==============================] - 0s 4ms/step - loss: 0.2315\n",
      "Epoch 3/6\n",
      "9/9 [==============================] - 0s 4ms/step - loss: 0.2042\n",
      "Epoch 4/6\n",
      "9/9 [==============================] - 0s 4ms/step - loss: 0.1778\n",
      "Epoch 5/6\n",
      "9/9 [==============================] - 0s 4ms/step - loss: 0.1510\n",
      "Epoch 6/6\n",
      "9/9 [==============================] - 0s 4ms/step - loss: 0.1246\n",
      "1/1 [==============================] - 0s 130ms/step\n",
      "Epoch 1/6\n"
     ]
    },
    {
     "name": "stderr",
     "output_type": "stream",
     "text": [
      "C:\\Users\\vella\\Anaconda3\\lib\\site-packages\\ipykernel_launcher.py:20: UserWarning: `Model.fit_generator` is deprecated and will be removed in a future version. Please use `Model.fit`, which supports generators.\n"
     ]
    },
    {
     "name": "stdout",
     "output_type": "stream",
     "text": [
      "9/9 [==============================] - 1s 4ms/step - loss: 0.2468\n",
      "Epoch 2/6\n",
      "9/9 [==============================] - 0s 4ms/step - loss: 0.2174\n",
      "Epoch 3/6\n",
      "9/9 [==============================] - 0s 4ms/step - loss: 0.1831\n",
      "Epoch 4/6\n",
      "9/9 [==============================] - 0s 4ms/step - loss: 0.1594\n",
      "Epoch 5/6\n",
      "9/9 [==============================] - 0s 4ms/step - loss: 0.1319\n",
      "Epoch 6/6\n",
      "9/9 [==============================] - 0s 4ms/step - loss: 0.1129\n",
      "1/1 [==============================] - 0s 130ms/step\n",
      "Epoch 1/6\n"
     ]
    },
    {
     "name": "stderr",
     "output_type": "stream",
     "text": [
      "C:\\Users\\vella\\Anaconda3\\lib\\site-packages\\ipykernel_launcher.py:20: UserWarning: `Model.fit_generator` is deprecated and will be removed in a future version. Please use `Model.fit`, which supports generators.\n"
     ]
    },
    {
     "name": "stdout",
     "output_type": "stream",
     "text": [
      "9/9 [==============================] - 1s 4ms/step - loss: 0.2229\n",
      "Epoch 2/6\n",
      "9/9 [==============================] - 0s 4ms/step - loss: 0.1858\n",
      "Epoch 3/6\n",
      "9/9 [==============================] - 0s 4ms/step - loss: 0.1593\n",
      "Epoch 4/6\n",
      "9/9 [==============================] - 0s 4ms/step - loss: 0.1309\n",
      "Epoch 5/6\n",
      "9/9 [==============================] - 0s 4ms/step - loss: 0.1056\n",
      "Epoch 6/6\n",
      "9/9 [==============================] - 0s 4ms/step - loss: 0.0801\n",
      "1/1 [==============================] - 0s 143ms/step\n",
      "Epoch 1/6\n"
     ]
    },
    {
     "name": "stderr",
     "output_type": "stream",
     "text": [
      "C:\\Users\\vella\\Anaconda3\\lib\\site-packages\\ipykernel_launcher.py:20: UserWarning: `Model.fit_generator` is deprecated and will be removed in a future version. Please use `Model.fit`, which supports generators.\n"
     ]
    },
    {
     "name": "stdout",
     "output_type": "stream",
     "text": [
      "9/9 [==============================] - 1s 4ms/step - loss: 0.2298\n",
      "Epoch 2/6\n",
      "9/9 [==============================] - 0s 4ms/step - loss: 0.2007\n",
      "Epoch 3/6\n",
      "9/9 [==============================] - 0s 4ms/step - loss: 0.1784\n",
      "Epoch 4/6\n",
      "9/9 [==============================] - 0s 4ms/step - loss: 0.1560\n",
      "Epoch 5/6\n",
      "9/9 [==============================] - 0s 5ms/step - loss: 0.1320\n",
      "Epoch 6/6\n",
      "9/9 [==============================] - 0s 4ms/step - loss: 0.1123\n",
      "1/1 [==============================] - 0s 142ms/step\n",
      "Epoch 1/6\n"
     ]
    },
    {
     "name": "stderr",
     "output_type": "stream",
     "text": [
      "C:\\Users\\vella\\Anaconda3\\lib\\site-packages\\ipykernel_launcher.py:20: UserWarning: `Model.fit_generator` is deprecated and will be removed in a future version. Please use `Model.fit`, which supports generators.\n"
     ]
    },
    {
     "name": "stdout",
     "output_type": "stream",
     "text": [
      "9/9 [==============================] - 1s 4ms/step - loss: 0.2227\n",
      "Epoch 2/6\n",
      "9/9 [==============================] - 0s 4ms/step - loss: 0.1975\n",
      "Epoch 3/6\n",
      "9/9 [==============================] - 0s 4ms/step - loss: 0.1724\n",
      "Epoch 4/6\n",
      "9/9 [==============================] - 0s 4ms/step - loss: 0.1531\n",
      "Epoch 5/6\n",
      "9/9 [==============================] - 0s 3ms/step - loss: 0.1275\n",
      "Epoch 6/6\n",
      "9/9 [==============================] - 0s 5ms/step - loss: 0.1088\n",
      "1/1 [==============================] - 0s 132ms/step\n",
      "Epoch 1/6\n"
     ]
    },
    {
     "name": "stderr",
     "output_type": "stream",
     "text": [
      "C:\\Users\\vella\\Anaconda3\\lib\\site-packages\\ipykernel_launcher.py:20: UserWarning: `Model.fit_generator` is deprecated and will be removed in a future version. Please use `Model.fit`, which supports generators.\n"
     ]
    },
    {
     "name": "stdout",
     "output_type": "stream",
     "text": [
      "9/9 [==============================] - 1s 3ms/step - loss: 0.2212\n",
      "Epoch 2/6\n",
      "9/9 [==============================] - 0s 4ms/step - loss: 0.1951\n",
      "Epoch 3/6\n",
      "9/9 [==============================] - 0s 4ms/step - loss: 0.1661\n",
      "Epoch 4/6\n",
      "9/9 [==============================] - 0s 4ms/step - loss: 0.1446\n",
      "Epoch 5/6\n",
      "9/9 [==============================] - 0s 4ms/step - loss: 0.1243\n",
      "Epoch 6/6\n",
      "9/9 [==============================] - 0s 4ms/step - loss: 0.1011\n",
      "1/1 [==============================] - 0s 146ms/step\n",
      "Epoch 1/6\n"
     ]
    },
    {
     "name": "stderr",
     "output_type": "stream",
     "text": [
      "C:\\Users\\vella\\Anaconda3\\lib\\site-packages\\ipykernel_launcher.py:20: UserWarning: `Model.fit_generator` is deprecated and will be removed in a future version. Please use `Model.fit`, which supports generators.\n"
     ]
    },
    {
     "name": "stdout",
     "output_type": "stream",
     "text": [
      "9/9 [==============================] - 1s 4ms/step - loss: 0.2229\n",
      "Epoch 2/6\n",
      "9/9 [==============================] - 0s 4ms/step - loss: 0.1914\n",
      "Epoch 3/6\n",
      "9/9 [==============================] - 0s 4ms/step - loss: 0.1703\n",
      "Epoch 4/6\n",
      "9/9 [==============================] - 0s 4ms/step - loss: 0.1490\n",
      "Epoch 5/6\n",
      "9/9 [==============================] - 0s 3ms/step - loss: 0.1253\n",
      "Epoch 6/6\n",
      "9/9 [==============================] - 0s 4ms/step - loss: 0.1061\n",
      "1/1 [==============================] - 0s 132ms/step\n",
      "Epoch 1/6\n"
     ]
    },
    {
     "name": "stderr",
     "output_type": "stream",
     "text": [
      "C:\\Users\\vella\\Anaconda3\\lib\\site-packages\\ipykernel_launcher.py:20: UserWarning: `Model.fit_generator` is deprecated and will be removed in a future version. Please use `Model.fit`, which supports generators.\n"
     ]
    },
    {
     "name": "stdout",
     "output_type": "stream",
     "text": [
      "9/9 [==============================] - 1s 4ms/step - loss: 0.2109\n",
      "Epoch 2/6\n",
      "9/9 [==============================] - 0s 4ms/step - loss: 0.1820\n",
      "Epoch 3/6\n",
      "9/9 [==============================] - 0s 4ms/step - loss: 0.1637\n",
      "Epoch 4/6\n",
      "9/9 [==============================] - 0s 3ms/step - loss: 0.1382\n",
      "Epoch 5/6\n",
      "9/9 [==============================] - 0s 3ms/step - loss: 0.1226\n",
      "Epoch 6/6\n",
      "9/9 [==============================] - 0s 4ms/step - loss: 0.1075\n",
      "1/1 [==============================] - 0s 133ms/step\n",
      "Epoch 1/6\n"
     ]
    },
    {
     "name": "stderr",
     "output_type": "stream",
     "text": [
      "C:\\Users\\vella\\Anaconda3\\lib\\site-packages\\ipykernel_launcher.py:20: UserWarning: `Model.fit_generator` is deprecated and will be removed in a future version. Please use `Model.fit`, which supports generators.\n"
     ]
    },
    {
     "name": "stdout",
     "output_type": "stream",
     "text": [
      "9/9 [==============================] - 1s 4ms/step - loss: 0.2120\n",
      "Epoch 2/6\n",
      "9/9 [==============================] - 0s 4ms/step - loss: 0.1844\n",
      "Epoch 3/6\n",
      "9/9 [==============================] - 0s 4ms/step - loss: 0.1615\n",
      "Epoch 4/6\n",
      "9/9 [==============================] - 0s 4ms/step - loss: 0.1454\n",
      "Epoch 5/6\n",
      "9/9 [==============================] - 0s 4ms/step - loss: 0.1260\n",
      "Epoch 6/6\n",
      "9/9 [==============================] - 0s 4ms/step - loss: 0.1065\n",
      "1/1 [==============================] - 0s 131ms/step\n",
      "Epoch 1/6\n"
     ]
    },
    {
     "name": "stderr",
     "output_type": "stream",
     "text": [
      "C:\\Users\\vella\\Anaconda3\\lib\\site-packages\\ipykernel_launcher.py:20: UserWarning: `Model.fit_generator` is deprecated and will be removed in a future version. Please use `Model.fit`, which supports generators.\n"
     ]
    },
    {
     "name": "stdout",
     "output_type": "stream",
     "text": [
      "9/9 [==============================] - 1s 4ms/step - loss: 0.2116\n",
      "Epoch 2/6\n",
      "9/9 [==============================] - 0s 4ms/step - loss: 0.1839\n",
      "Epoch 3/6\n",
      "9/9 [==============================] - 0s 4ms/step - loss: 0.1637\n",
      "Epoch 4/6\n",
      "9/9 [==============================] - 0s 3ms/step - loss: 0.1453\n",
      "Epoch 5/6\n",
      "9/9 [==============================] - 0s 3ms/step - loss: 0.1266\n",
      "Epoch 6/6\n",
      "9/9 [==============================] - 0s 3ms/step - loss: 0.1078\n",
      "1/1 [==============================] - 0s 130ms/step\n",
      "Epoch 1/6\n"
     ]
    },
    {
     "name": "stderr",
     "output_type": "stream",
     "text": [
      "C:\\Users\\vella\\Anaconda3\\lib\\site-packages\\ipykernel_launcher.py:20: UserWarning: `Model.fit_generator` is deprecated and will be removed in a future version. Please use `Model.fit`, which supports generators.\n"
     ]
    },
    {
     "name": "stdout",
     "output_type": "stream",
     "text": [
      "9/9 [==============================] - 1s 4ms/step - loss: 0.2601\n",
      "Epoch 2/6\n",
      "9/9 [==============================] - 0s 4ms/step - loss: 0.2322\n",
      "Epoch 3/6\n",
      "9/9 [==============================] - 0s 3ms/step - loss: 0.2037\n",
      "Epoch 4/6\n",
      "9/9 [==============================] - 0s 3ms/step - loss: 0.1810\n",
      "Epoch 5/6\n",
      "9/9 [==============================] - 0s 3ms/step - loss: 0.1560\n",
      "Epoch 6/6\n",
      "9/9 [==============================] - 0s 4ms/step - loss: 0.1334\n",
      "1/1 [==============================] - 0s 129ms/step\n",
      "Epoch 1/6\n"
     ]
    },
    {
     "name": "stderr",
     "output_type": "stream",
     "text": [
      "C:\\Users\\vella\\Anaconda3\\lib\\site-packages\\ipykernel_launcher.py:20: UserWarning: `Model.fit_generator` is deprecated and will be removed in a future version. Please use `Model.fit`, which supports generators.\n"
     ]
    },
    {
     "name": "stdout",
     "output_type": "stream",
     "text": [
      "9/9 [==============================] - 1s 3ms/step - loss: 0.2448\n",
      "Epoch 2/6\n",
      "9/9 [==============================] - 0s 4ms/step - loss: 0.2127\n",
      "Epoch 3/6\n",
      "9/9 [==============================] - 0s 4ms/step - loss: 0.1867\n",
      "Epoch 4/6\n",
      "9/9 [==============================] - 0s 4ms/step - loss: 0.1627\n",
      "Epoch 5/6\n",
      "9/9 [==============================] - 0s 4ms/step - loss: 0.1406\n",
      "Epoch 6/6\n",
      "9/9 [==============================] - 0s 4ms/step - loss: 0.1167\n",
      "1/1 [==============================] - 0s 131ms/step\n",
      "Epoch 1/6\n"
     ]
    },
    {
     "name": "stderr",
     "output_type": "stream",
     "text": [
      "C:\\Users\\vella\\Anaconda3\\lib\\site-packages\\ipykernel_launcher.py:20: UserWarning: `Model.fit_generator` is deprecated and will be removed in a future version. Please use `Model.fit`, which supports generators.\n"
     ]
    },
    {
     "name": "stdout",
     "output_type": "stream",
     "text": [
      "9/9 [==============================] - 1s 3ms/step - loss: 0.2441\n",
      "Epoch 2/6\n",
      "9/9 [==============================] - 0s 4ms/step - loss: 0.2175\n",
      "Epoch 3/6\n",
      "9/9 [==============================] - 0s 4ms/step - loss: 0.1910\n",
      "Epoch 4/6\n",
      "9/9 [==============================] - 0s 4ms/step - loss: 0.1683\n",
      "Epoch 5/6\n",
      "9/9 [==============================] - 0s 4ms/step - loss: 0.1457\n",
      "Epoch 6/6\n",
      "9/9 [==============================] - 0s 4ms/step - loss: 0.1248\n",
      "1/1 [==============================] - 0s 132ms/step\n",
      "Epoch 1/6\n"
     ]
    },
    {
     "name": "stderr",
     "output_type": "stream",
     "text": [
      "C:\\Users\\vella\\Anaconda3\\lib\\site-packages\\ipykernel_launcher.py:20: UserWarning: `Model.fit_generator` is deprecated and will be removed in a future version. Please use `Model.fit`, which supports generators.\n"
     ]
    },
    {
     "name": "stdout",
     "output_type": "stream",
     "text": [
      "9/9 [==============================] - 1s 4ms/step - loss: 0.2384\n",
      "Epoch 2/6\n",
      "9/9 [==============================] - 0s 3ms/step - loss: 0.2129\n",
      "Epoch 3/6\n",
      "9/9 [==============================] - 0s 3ms/step - loss: 0.1829\n",
      "Epoch 4/6\n",
      "9/9 [==============================] - 0s 3ms/step - loss: 0.1613\n",
      "Epoch 5/6\n",
      "9/9 [==============================] - 0s 3ms/step - loss: 0.1398\n",
      "Epoch 6/6\n",
      "9/9 [==============================] - 0s 3ms/step - loss: 0.1177\n",
      "1/1 [==============================] - 0s 132ms/step\n",
      "Epoch 1/6\n"
     ]
    },
    {
     "name": "stderr",
     "output_type": "stream",
     "text": [
      "C:\\Users\\vella\\Anaconda3\\lib\\site-packages\\ipykernel_launcher.py:20: UserWarning: `Model.fit_generator` is deprecated and will be removed in a future version. Please use `Model.fit`, which supports generators.\n"
     ]
    },
    {
     "name": "stdout",
     "output_type": "stream",
     "text": [
      "9/9 [==============================] - 1s 4ms/step - loss: 0.2439\n",
      "Epoch 2/6\n",
      "9/9 [==============================] - 0s 4ms/step - loss: 0.2129\n",
      "Epoch 3/6\n",
      "9/9 [==============================] - 0s 4ms/step - loss: 0.1934\n",
      "Epoch 4/6\n",
      "9/9 [==============================] - 0s 4ms/step - loss: 0.1664\n",
      "Epoch 5/6\n",
      "9/9 [==============================] - 0s 4ms/step - loss: 0.1448\n",
      "Epoch 6/6\n",
      "9/9 [==============================] - 0s 4ms/step - loss: 0.1240\n",
      "1/1 [==============================] - 0s 134ms/step\n",
      "Epoch 1/6\n"
     ]
    },
    {
     "name": "stderr",
     "output_type": "stream",
     "text": [
      "C:\\Users\\vella\\Anaconda3\\lib\\site-packages\\ipykernel_launcher.py:20: UserWarning: `Model.fit_generator` is deprecated and will be removed in a future version. Please use `Model.fit`, which supports generators.\n"
     ]
    },
    {
     "name": "stdout",
     "output_type": "stream",
     "text": [
      "9/9 [==============================] - 1s 4ms/step - loss: 0.2438\n",
      "Epoch 2/6\n",
      "9/9 [==============================] - 0s 4ms/step - loss: 0.2143\n",
      "Epoch 3/6\n",
      "9/9 [==============================] - 0s 4ms/step - loss: 0.1889\n",
      "Epoch 4/6\n",
      "9/9 [==============================] - 0s 4ms/step - loss: 0.1673\n",
      "Epoch 5/6\n",
      "9/9 [==============================] - 0s 4ms/step - loss: 0.1454\n",
      "Epoch 6/6\n",
      "9/9 [==============================] - 0s 4ms/step - loss: 0.1208\n",
      "1/1 [==============================] - 0s 132ms/step\n",
      "Epoch 1/6\n"
     ]
    },
    {
     "name": "stderr",
     "output_type": "stream",
     "text": [
      "C:\\Users\\vella\\Anaconda3\\lib\\site-packages\\ipykernel_launcher.py:20: UserWarning: `Model.fit_generator` is deprecated and will be removed in a future version. Please use `Model.fit`, which supports generators.\n"
     ]
    },
    {
     "name": "stdout",
     "output_type": "stream",
     "text": [
      "9/9 [==============================] - 1s 4ms/step - loss: 0.2443\n",
      "Epoch 2/6\n",
      "9/9 [==============================] - 0s 4ms/step - loss: 0.2162\n",
      "Epoch 3/6\n",
      "9/9 [==============================] - 0s 4ms/step - loss: 0.1907\n",
      "Epoch 4/6\n",
      "9/9 [==============================] - 0s 4ms/step - loss: 0.1706\n",
      "Epoch 5/6\n",
      "9/9 [==============================] - 0s 4ms/step - loss: 0.1465\n",
      "Epoch 6/6\n",
      "9/9 [==============================] - 0s 4ms/step - loss: 0.1246\n",
      "1/1 [==============================] - 0s 132ms/step\n",
      "Epoch 1/6\n"
     ]
    },
    {
     "name": "stderr",
     "output_type": "stream",
     "text": [
      "C:\\Users\\vella\\Anaconda3\\lib\\site-packages\\ipykernel_launcher.py:20: UserWarning: `Model.fit_generator` is deprecated and will be removed in a future version. Please use `Model.fit`, which supports generators.\n"
     ]
    },
    {
     "name": "stdout",
     "output_type": "stream",
     "text": [
      "9/9 [==============================] - 1s 4ms/step - loss: 0.2353\n",
      "Epoch 2/6\n",
      "9/9 [==============================] - 0s 4ms/step - loss: 0.2051\n",
      "Epoch 3/6\n",
      "9/9 [==============================] - 0s 4ms/step - loss: 0.1786\n",
      "Epoch 4/6\n",
      "9/9 [==============================] - 0s 4ms/step - loss: 0.1583\n",
      "Epoch 5/6\n",
      "9/9 [==============================] - 0s 4ms/step - loss: 0.1342\n",
      "Epoch 6/6\n",
      "9/9 [==============================] - 0s 4ms/step - loss: 0.1119\n",
      "1/1 [==============================] - 0s 131ms/step\n",
      "Epoch 1/6\n"
     ]
    },
    {
     "name": "stderr",
     "output_type": "stream",
     "text": [
      "C:\\Users\\vella\\Anaconda3\\lib\\site-packages\\ipykernel_launcher.py:20: UserWarning: `Model.fit_generator` is deprecated and will be removed in a future version. Please use `Model.fit`, which supports generators.\n"
     ]
    },
    {
     "name": "stdout",
     "output_type": "stream",
     "text": [
      "9/9 [==============================] - 1s 4ms/step - loss: 0.2251\n",
      "Epoch 2/6\n",
      "9/9 [==============================] - 0s 4ms/step - loss: 0.1989\n",
      "Epoch 3/6\n",
      "9/9 [==============================] - 0s 4ms/step - loss: 0.1731\n",
      "Epoch 4/6\n",
      "9/9 [==============================] - 0s 4ms/step - loss: 0.1549\n",
      "Epoch 5/6\n",
      "9/9 [==============================] - 0s 4ms/step - loss: 0.1300\n",
      "Epoch 6/6\n",
      "9/9 [==============================] - 0s 4ms/step - loss: 0.1151\n",
      "1/1 [==============================] - 0s 131ms/step\n",
      "Epoch 1/6\n"
     ]
    },
    {
     "name": "stderr",
     "output_type": "stream",
     "text": [
      "C:\\Users\\vella\\Anaconda3\\lib\\site-packages\\ipykernel_launcher.py:20: UserWarning: `Model.fit_generator` is deprecated and will be removed in a future version. Please use `Model.fit`, which supports generators.\n"
     ]
    },
    {
     "name": "stdout",
     "output_type": "stream",
     "text": [
      "9/9 [==============================] - 1s 4ms/step - loss: 0.2046\n",
      "Epoch 2/6\n",
      "9/9 [==============================] - 0s 4ms/step - loss: 0.1812\n",
      "Epoch 3/6\n",
      "9/9 [==============================] - 0s 4ms/step - loss: 0.1622\n",
      "Epoch 4/6\n",
      "9/9 [==============================] - 0s 4ms/step - loss: 0.1420\n",
      "Epoch 5/6\n",
      "9/9 [==============================] - 0s 4ms/step - loss: 0.1189\n",
      "Epoch 6/6\n",
      "9/9 [==============================] - 0s 4ms/step - loss: 0.1035\n",
      "1/1 [==============================] - 0s 138ms/step\n",
      "Epoch 1/6\n"
     ]
    },
    {
     "name": "stderr",
     "output_type": "stream",
     "text": [
      "C:\\Users\\vella\\Anaconda3\\lib\\site-packages\\ipykernel_launcher.py:20: UserWarning: `Model.fit_generator` is deprecated and will be removed in a future version. Please use `Model.fit`, which supports generators.\n"
     ]
    },
    {
     "name": "stdout",
     "output_type": "stream",
     "text": [
      "9/9 [==============================] - 1s 3ms/step - loss: 0.1931\n",
      "Epoch 2/6\n",
      "9/9 [==============================] - 0s 4ms/step - loss: 0.1734\n",
      "Epoch 3/6\n",
      "9/9 [==============================] - 0s 4ms/step - loss: 0.1520\n",
      "Epoch 4/6\n",
      "9/9 [==============================] - 0s 4ms/step - loss: 0.1269\n",
      "Epoch 5/6\n",
      "9/9 [==============================] - 0s 3ms/step - loss: 0.1118\n",
      "Epoch 6/6\n",
      "9/9 [==============================] - 0s 3ms/step - loss: 0.0935\n",
      "1/1 [==============================] - 0s 130ms/step\n",
      "Epoch 1/6\n"
     ]
    },
    {
     "name": "stderr",
     "output_type": "stream",
     "text": [
      "C:\\Users\\vella\\Anaconda3\\lib\\site-packages\\ipykernel_launcher.py:20: UserWarning: `Model.fit_generator` is deprecated and will be removed in a future version. Please use `Model.fit`, which supports generators.\n"
     ]
    },
    {
     "name": "stdout",
     "output_type": "stream",
     "text": [
      "9/9 [==============================] - 1s 4ms/step - loss: 0.1891\n",
      "Epoch 2/6\n",
      "9/9 [==============================] - 0s 4ms/step - loss: 0.1671\n",
      "Epoch 3/6\n",
      "9/9 [==============================] - 0s 5ms/step - loss: 0.1489\n",
      "Epoch 4/6\n",
      "9/9 [==============================] - 0s 4ms/step - loss: 0.1285\n",
      "Epoch 5/6\n",
      "9/9 [==============================] - 0s 4ms/step - loss: 0.1102\n",
      "Epoch 6/6\n",
      "9/9 [==============================] - 0s 4ms/step - loss: 0.0919\n",
      "1/1 [==============================] - 0s 137ms/step\n",
      "Epoch 1/6\n"
     ]
    },
    {
     "name": "stderr",
     "output_type": "stream",
     "text": [
      "C:\\Users\\vella\\Anaconda3\\lib\\site-packages\\ipykernel_launcher.py:20: UserWarning: `Model.fit_generator` is deprecated and will be removed in a future version. Please use `Model.fit`, which supports generators.\n"
     ]
    },
    {
     "name": "stdout",
     "output_type": "stream",
     "text": [
      "9/9 [==============================] - 1s 4ms/step - loss: 0.1836\n",
      "Epoch 2/6\n",
      "9/9 [==============================] - 0s 4ms/step - loss: 0.1663\n",
      "Epoch 3/6\n",
      "9/9 [==============================] - 0s 4ms/step - loss: 0.1473\n",
      "Epoch 4/6\n",
      "9/9 [==============================] - 0s 4ms/step - loss: 0.1302\n",
      "Epoch 5/6\n",
      "9/9 [==============================] - 0s 4ms/step - loss: 0.1110\n",
      "Epoch 6/6\n",
      "9/9 [==============================] - 0s 4ms/step - loss: 0.0991\n",
      "1/1 [==============================] - 0s 131ms/step\n",
      "Epoch 1/6\n"
     ]
    },
    {
     "name": "stderr",
     "output_type": "stream",
     "text": [
      "C:\\Users\\vella\\Anaconda3\\lib\\site-packages\\ipykernel_launcher.py:20: UserWarning: `Model.fit_generator` is deprecated and will be removed in a future version. Please use `Model.fit`, which supports generators.\n"
     ]
    },
    {
     "name": "stdout",
     "output_type": "stream",
     "text": [
      "9/9 [==============================] - 1s 4ms/step - loss: 0.1775\n",
      "Epoch 2/6\n",
      "9/9 [==============================] - 0s 4ms/step - loss: 0.1605\n",
      "Epoch 3/6\n",
      "9/9 [==============================] - 0s 4ms/step - loss: 0.1460\n",
      "Epoch 4/6\n",
      "9/9 [==============================] - 0s 4ms/step - loss: 0.1309\n",
      "Epoch 5/6\n",
      "9/9 [==============================] - 0s 4ms/step - loss: 0.1151\n",
      "Epoch 6/6\n",
      "9/9 [==============================] - 0s 4ms/step - loss: 0.1020\n",
      "1/1 [==============================] - 0s 131ms/step\n",
      "Epoch 1/6\n"
     ]
    },
    {
     "name": "stderr",
     "output_type": "stream",
     "text": [
      "C:\\Users\\vella\\Anaconda3\\lib\\site-packages\\ipykernel_launcher.py:20: UserWarning: `Model.fit_generator` is deprecated and will be removed in a future version. Please use `Model.fit`, which supports generators.\n"
     ]
    },
    {
     "name": "stdout",
     "output_type": "stream",
     "text": [
      "9/9 [==============================] - 1s 4ms/step - loss: 0.1506\n",
      "Epoch 2/6\n",
      "9/9 [==============================] - 0s 4ms/step - loss: 0.1292\n",
      "Epoch 3/6\n",
      "9/9 [==============================] - 0s 4ms/step - loss: 0.1111\n",
      "Epoch 4/6\n",
      "9/9 [==============================] - 0s 4ms/step - loss: 0.0976\n",
      "Epoch 5/6\n",
      "9/9 [==============================] - 0s 4ms/step - loss: 0.0808\n",
      "Epoch 6/6\n",
      "9/9 [==============================] - 0s 4ms/step - loss: 0.0696\n",
      "1/1 [==============================] - 0s 128ms/step\n",
      "Epoch 1/6\n"
     ]
    },
    {
     "name": "stderr",
     "output_type": "stream",
     "text": [
      "C:\\Users\\vella\\Anaconda3\\lib\\site-packages\\ipykernel_launcher.py:20: UserWarning: `Model.fit_generator` is deprecated and will be removed in a future version. Please use `Model.fit`, which supports generators.\n"
     ]
    },
    {
     "name": "stdout",
     "output_type": "stream",
     "text": [
      "9/9 [==============================] - 1s 4ms/step - loss: 0.1860\n",
      "Epoch 2/6\n",
      "9/9 [==============================] - 0s 4ms/step - loss: 0.1629\n",
      "Epoch 3/6\n",
      "9/9 [==============================] - 0s 4ms/step - loss: 0.1448\n",
      "Epoch 4/6\n",
      "9/9 [==============================] - 0s 4ms/step - loss: 0.1242\n",
      "Epoch 5/6\n",
      "9/9 [==============================] - 0s 4ms/step - loss: 0.1079\n",
      "Epoch 6/6\n",
      "9/9 [==============================] - 0s 4ms/step - loss: 0.0914\n",
      "1/1 [==============================] - 0s 134ms/step\n",
      "Epoch 1/6\n"
     ]
    },
    {
     "name": "stderr",
     "output_type": "stream",
     "text": [
      "C:\\Users\\vella\\Anaconda3\\lib\\site-packages\\ipykernel_launcher.py:20: UserWarning: `Model.fit_generator` is deprecated and will be removed in a future version. Please use `Model.fit`, which supports generators.\n"
     ]
    },
    {
     "name": "stdout",
     "output_type": "stream",
     "text": [
      "9/9 [==============================] - 1s 4ms/step - loss: 0.2165\n",
      "Epoch 2/6\n",
      "9/9 [==============================] - 0s 4ms/step - loss: 0.1890\n",
      "Epoch 3/6\n",
      "9/9 [==============================] - 0s 4ms/step - loss: 0.1637\n",
      "Epoch 4/6\n",
      "9/9 [==============================] - 0s 4ms/step - loss: 0.1423\n",
      "Epoch 5/6\n",
      "9/9 [==============================] - 0s 4ms/step - loss: 0.1220\n",
      "Epoch 6/6\n",
      "9/9 [==============================] - 0s 4ms/step - loss: 0.1044\n",
      "1/1 [==============================] - 0s 133ms/step\n",
      "Epoch 1/6\n"
     ]
    },
    {
     "name": "stderr",
     "output_type": "stream",
     "text": [
      "C:\\Users\\vella\\Anaconda3\\lib\\site-packages\\ipykernel_launcher.py:20: UserWarning: `Model.fit_generator` is deprecated and will be removed in a future version. Please use `Model.fit`, which supports generators.\n"
     ]
    },
    {
     "name": "stdout",
     "output_type": "stream",
     "text": [
      "9/9 [==============================] - 1s 3ms/step - loss: 0.2005\n",
      "Epoch 2/6\n",
      "9/9 [==============================] - 0s 4ms/step - loss: 0.1708\n",
      "Epoch 3/6\n",
      "9/9 [==============================] - 0s 3ms/step - loss: 0.1518\n",
      "Epoch 4/6\n",
      "9/9 [==============================] - 0s 3ms/step - loss: 0.1288\n",
      "Epoch 5/6\n",
      "9/9 [==============================] - 0s 3ms/step - loss: 0.1103\n",
      "Epoch 6/6\n",
      "9/9 [==============================] - 0s 3ms/step - loss: 0.0939\n",
      "1/1 [==============================] - 0s 132ms/step\n",
      "Epoch 1/6\n"
     ]
    },
    {
     "name": "stderr",
     "output_type": "stream",
     "text": [
      "C:\\Users\\vella\\Anaconda3\\lib\\site-packages\\ipykernel_launcher.py:20: UserWarning: `Model.fit_generator` is deprecated and will be removed in a future version. Please use `Model.fit`, which supports generators.\n"
     ]
    },
    {
     "name": "stdout",
     "output_type": "stream",
     "text": [
      "9/9 [==============================] - 1s 4ms/step - loss: 0.1913\n",
      "Epoch 2/6\n",
      "9/9 [==============================] - 0s 4ms/step - loss: 0.1637\n",
      "Epoch 3/6\n",
      "9/9 [==============================] - 0s 4ms/step - loss: 0.1385\n",
      "Epoch 4/6\n",
      "9/9 [==============================] - 0s 4ms/step - loss: 0.1181\n",
      "Epoch 5/6\n",
      "9/9 [==============================] - 0s 4ms/step - loss: 0.0998\n",
      "Epoch 6/6\n",
      "9/9 [==============================] - 0s 4ms/step - loss: 0.0832\n",
      "1/1 [==============================] - 0s 130ms/step\n",
      "Epoch 1/6\n"
     ]
    },
    {
     "name": "stderr",
     "output_type": "stream",
     "text": [
      "C:\\Users\\vella\\Anaconda3\\lib\\site-packages\\ipykernel_launcher.py:20: UserWarning: `Model.fit_generator` is deprecated and will be removed in a future version. Please use `Model.fit`, which supports generators.\n"
     ]
    },
    {
     "name": "stdout",
     "output_type": "stream",
     "text": [
      "9/9 [==============================] - 1s 4ms/step - loss: 0.1925\n",
      "Epoch 2/6\n",
      "9/9 [==============================] - 0s 4ms/step - loss: 0.1659\n",
      "Epoch 3/6\n",
      "9/9 [==============================] - 0s 4ms/step - loss: 0.1465\n",
      "Epoch 4/6\n",
      "9/9 [==============================] - 0s 4ms/step - loss: 0.1230\n",
      "Epoch 5/6\n",
      "9/9 [==============================] - 0s 4ms/step - loss: 0.1072\n",
      "Epoch 6/6\n",
      "9/9 [==============================] - 0s 3ms/step - loss: 0.0888\n",
      "1/1 [==============================] - 0s 133ms/step\n",
      "Epoch 1/6\n"
     ]
    },
    {
     "name": "stderr",
     "output_type": "stream",
     "text": [
      "C:\\Users\\vella\\Anaconda3\\lib\\site-packages\\ipykernel_launcher.py:20: UserWarning: `Model.fit_generator` is deprecated and will be removed in a future version. Please use `Model.fit`, which supports generators.\n"
     ]
    },
    {
     "name": "stdout",
     "output_type": "stream",
     "text": [
      "9/9 [==============================] - 1s 4ms/step - loss: 0.1930\n",
      "Epoch 2/6\n",
      "9/9 [==============================] - 0s 4ms/step - loss: 0.1676\n",
      "Epoch 3/6\n",
      "9/9 [==============================] - 0s 4ms/step - loss: 0.1467\n",
      "Epoch 4/6\n",
      "9/9 [==============================] - 0s 4ms/step - loss: 0.1279\n",
      "Epoch 5/6\n",
      "9/9 [==============================] - 0s 4ms/step - loss: 0.1097\n",
      "Epoch 6/6\n",
      "9/9 [==============================] - 0s 4ms/step - loss: 0.0932\n",
      "1/1 [==============================] - 0s 132ms/step\n",
      "Epoch 1/6\n"
     ]
    },
    {
     "name": "stderr",
     "output_type": "stream",
     "text": [
      "C:\\Users\\vella\\Anaconda3\\lib\\site-packages\\ipykernel_launcher.py:20: UserWarning: `Model.fit_generator` is deprecated and will be removed in a future version. Please use `Model.fit`, which supports generators.\n"
     ]
    },
    {
     "name": "stdout",
     "output_type": "stream",
     "text": [
      "9/9 [==============================] - 1s 4ms/step - loss: 0.1744\n",
      "Epoch 2/6\n",
      "9/9 [==============================] - 0s 4ms/step - loss: 0.1535\n",
      "Epoch 3/6\n",
      "9/9 [==============================] - 0s 4ms/step - loss: 0.1339\n",
      "Epoch 4/6\n",
      "9/9 [==============================] - 0s 4ms/step - loss: 0.1171\n",
      "Epoch 5/6\n",
      "9/9 [==============================] - 0s 4ms/step - loss: 0.0998\n",
      "Epoch 6/6\n",
      "9/9 [==============================] - 0s 4ms/step - loss: 0.0845\n",
      "1/1 [==============================] - 0s 130ms/step\n",
      "Epoch 1/6\n"
     ]
    },
    {
     "name": "stderr",
     "output_type": "stream",
     "text": [
      "C:\\Users\\vella\\Anaconda3\\lib\\site-packages\\ipykernel_launcher.py:20: UserWarning: `Model.fit_generator` is deprecated and will be removed in a future version. Please use `Model.fit`, which supports generators.\n"
     ]
    },
    {
     "name": "stdout",
     "output_type": "stream",
     "text": [
      "9/9 [==============================] - 1s 4ms/step - loss: 0.2504\n",
      "Epoch 2/6\n",
      "9/9 [==============================] - 0s 4ms/step - loss: 0.2259\n",
      "Epoch 3/6\n",
      "9/9 [==============================] - 0s 4ms/step - loss: 0.1984\n",
      "Epoch 4/6\n",
      "9/9 [==============================] - 0s 3ms/step - loss: 0.1749\n",
      "Epoch 5/6\n",
      "9/9 [==============================] - 0s 4ms/step - loss: 0.1518\n",
      "Epoch 6/6\n",
      "9/9 [==============================] - 0s 3ms/step - loss: 0.1313\n",
      "1/1 [==============================] - 0s 132ms/step\n",
      "Epoch 1/6\n"
     ]
    },
    {
     "name": "stderr",
     "output_type": "stream",
     "text": [
      "C:\\Users\\vella\\Anaconda3\\lib\\site-packages\\ipykernel_launcher.py:20: UserWarning: `Model.fit_generator` is deprecated and will be removed in a future version. Please use `Model.fit`, which supports generators.\n"
     ]
    },
    {
     "name": "stdout",
     "output_type": "stream",
     "text": [
      "9/9 [==============================] - 1s 4ms/step - loss: 0.1999\n",
      "Epoch 2/6\n",
      "9/9 [==============================] - 0s 4ms/step - loss: 0.1766\n",
      "Epoch 3/6\n",
      "9/9 [==============================] - 0s 4ms/step - loss: 0.1551\n",
      "Epoch 4/6\n",
      "9/9 [==============================] - 0s 4ms/step - loss: 0.1371\n",
      "Epoch 5/6\n",
      "9/9 [==============================] - 0s 4ms/step - loss: 0.1179\n",
      "Epoch 6/6\n",
      "9/9 [==============================] - 0s 4ms/step - loss: 0.1029\n",
      "1/1 [==============================] - 0s 130ms/step\n",
      "Epoch 1/6\n"
     ]
    },
    {
     "name": "stderr",
     "output_type": "stream",
     "text": [
      "C:\\Users\\vella\\Anaconda3\\lib\\site-packages\\ipykernel_launcher.py:20: UserWarning: `Model.fit_generator` is deprecated and will be removed in a future version. Please use `Model.fit`, which supports generators.\n"
     ]
    },
    {
     "name": "stdout",
     "output_type": "stream",
     "text": [
      "9/9 [==============================] - 1s 4ms/step - loss: 0.2029\n",
      "Epoch 2/6\n",
      "9/9 [==============================] - 0s 4ms/step - loss: 0.1761\n",
      "Epoch 3/6\n",
      "9/9 [==============================] - 0s 4ms/step - loss: 0.1564\n",
      "Epoch 4/6\n",
      "9/9 [==============================] - 0s 4ms/step - loss: 0.1370\n",
      "Epoch 5/6\n",
      "9/9 [==============================] - 0s 3ms/step - loss: 0.1187\n",
      "Epoch 6/6\n",
      "9/9 [==============================] - 0s 3ms/step - loss: 0.1016\n",
      "1/1 [==============================] - 0s 131ms/step\n",
      "Epoch 1/6\n"
     ]
    },
    {
     "name": "stderr",
     "output_type": "stream",
     "text": [
      "C:\\Users\\vella\\Anaconda3\\lib\\site-packages\\ipykernel_launcher.py:20: UserWarning: `Model.fit_generator` is deprecated and will be removed in a future version. Please use `Model.fit`, which supports generators.\n"
     ]
    },
    {
     "name": "stdout",
     "output_type": "stream",
     "text": [
      "9/9 [==============================] - 1s 4ms/step - loss: 0.1962\n",
      "Epoch 2/6\n",
      "9/9 [==============================] - 0s 4ms/step - loss: 0.1747\n",
      "Epoch 3/6\n",
      "9/9 [==============================] - 0s 4ms/step - loss: 0.1506\n",
      "Epoch 4/6\n",
      "9/9 [==============================] - 0s 4ms/step - loss: 0.1350\n",
      "Epoch 5/6\n",
      "9/9 [==============================] - 0s 4ms/step - loss: 0.1131\n",
      "Epoch 6/6\n",
      "9/9 [==============================] - 0s 4ms/step - loss: 0.0961\n",
      "1/1 [==============================] - 0s 133ms/step\n",
      "Epoch 1/6\n"
     ]
    },
    {
     "name": "stderr",
     "output_type": "stream",
     "text": [
      "C:\\Users\\vella\\Anaconda3\\lib\\site-packages\\ipykernel_launcher.py:20: UserWarning: `Model.fit_generator` is deprecated and will be removed in a future version. Please use `Model.fit`, which supports generators.\n"
     ]
    },
    {
     "name": "stdout",
     "output_type": "stream",
     "text": [
      "9/9 [==============================] - 1s 4ms/step - loss: 0.2125\n",
      "Epoch 2/6\n",
      "9/9 [==============================] - 0s 4ms/step - loss: 0.1911\n",
      "Epoch 3/6\n",
      "9/9 [==============================] - 0s 4ms/step - loss: 0.1735\n",
      "Epoch 4/6\n",
      "9/9 [==============================] - 0s 4ms/step - loss: 0.1543\n",
      "Epoch 5/6\n",
      "9/9 [==============================] - 0s 4ms/step - loss: 0.1392\n",
      "Epoch 6/6\n",
      "9/9 [==============================] - 0s 4ms/step - loss: 0.1175\n",
      "1/1 [==============================] - 0s 133ms/step\n",
      "Epoch 1/6\n"
     ]
    },
    {
     "name": "stderr",
     "output_type": "stream",
     "text": [
      "C:\\Users\\vella\\Anaconda3\\lib\\site-packages\\ipykernel_launcher.py:20: UserWarning: `Model.fit_generator` is deprecated and will be removed in a future version. Please use `Model.fit`, which supports generators.\n"
     ]
    },
    {
     "name": "stdout",
     "output_type": "stream",
     "text": [
      "9/9 [==============================] - 1s 4ms/step - loss: 0.2345\n",
      "Epoch 2/6\n",
      "9/9 [==============================] - 0s 4ms/step - loss: 0.2118\n",
      "Epoch 3/6\n",
      "9/9 [==============================] - 0s 4ms/step - loss: 0.1907\n",
      "Epoch 4/6\n",
      "9/9 [==============================] - 0s 4ms/step - loss: 0.1698\n",
      "Epoch 5/6\n",
      "9/9 [==============================] - 0s 4ms/step - loss: 0.1562\n",
      "Epoch 6/6\n",
      "9/9 [==============================] - 0s 4ms/step - loss: 0.1344\n",
      "1/1 [==============================] - 0s 132ms/step\n",
      "Epoch 1/6\n"
     ]
    },
    {
     "name": "stderr",
     "output_type": "stream",
     "text": [
      "C:\\Users\\vella\\Anaconda3\\lib\\site-packages\\ipykernel_launcher.py:20: UserWarning: `Model.fit_generator` is deprecated and will be removed in a future version. Please use `Model.fit`, which supports generators.\n"
     ]
    },
    {
     "name": "stdout",
     "output_type": "stream",
     "text": [
      "9/9 [==============================] - 1s 4ms/step - loss: 0.1826\n",
      "Epoch 2/6\n",
      "9/9 [==============================] - 0s 4ms/step - loss: 0.1583\n",
      "Epoch 3/6\n",
      "9/9 [==============================] - 0s 4ms/step - loss: 0.1376\n",
      "Epoch 4/6\n",
      "9/9 [==============================] - 0s 3ms/step - loss: 0.1228\n",
      "Epoch 5/6\n",
      "9/9 [==============================] - 0s 3ms/step - loss: 0.1016\n",
      "Epoch 6/6\n",
      "9/9 [==============================] - 0s 4ms/step - loss: 0.0886\n",
      "1/1 [==============================] - 0s 133ms/step\n",
      "Epoch 1/6\n"
     ]
    },
    {
     "name": "stderr",
     "output_type": "stream",
     "text": [
      "C:\\Users\\vella\\Anaconda3\\lib\\site-packages\\ipykernel_launcher.py:20: UserWarning: `Model.fit_generator` is deprecated and will be removed in a future version. Please use `Model.fit`, which supports generators.\n"
     ]
    },
    {
     "name": "stdout",
     "output_type": "stream",
     "text": [
      "9/9 [==============================] - 1s 4ms/step - loss: 0.2020\n",
      "Epoch 2/6\n",
      "9/9 [==============================] - 0s 4ms/step - loss: 0.1820\n",
      "Epoch 3/6\n",
      "9/9 [==============================] - 0s 3ms/step - loss: 0.1591\n",
      "Epoch 4/6\n",
      "9/9 [==============================] - 0s 4ms/step - loss: 0.1426\n",
      "Epoch 5/6\n",
      "9/9 [==============================] - 0s 4ms/step - loss: 0.1242\n",
      "Epoch 6/6\n",
      "9/9 [==============================] - 0s 4ms/step - loss: 0.1103\n",
      "1/1 [==============================] - 0s 135ms/step\n",
      "Epoch 1/6\n"
     ]
    },
    {
     "name": "stderr",
     "output_type": "stream",
     "text": [
      "C:\\Users\\vella\\Anaconda3\\lib\\site-packages\\ipykernel_launcher.py:20: UserWarning: `Model.fit_generator` is deprecated and will be removed in a future version. Please use `Model.fit`, which supports generators.\n"
     ]
    },
    {
     "name": "stdout",
     "output_type": "stream",
     "text": [
      "9/9 [==============================] - 1s 4ms/step - loss: 0.1971\n",
      "Epoch 2/6\n",
      "9/9 [==============================] - 0s 4ms/step - loss: 0.1739\n",
      "Epoch 3/6\n",
      "9/9 [==============================] - 0s 4ms/step - loss: 0.1536\n",
      "Epoch 4/6\n",
      "9/9 [==============================] - 0s 4ms/step - loss: 0.1359\n",
      "Epoch 5/6\n",
      "9/9 [==============================] - 0s 4ms/step - loss: 0.1184\n",
      "Epoch 6/6\n",
      "9/9 [==============================] - 0s 4ms/step - loss: 0.0965\n",
      "1/1 [==============================] - 0s 132ms/step\n",
      "Epoch 1/6\n"
     ]
    },
    {
     "name": "stderr",
     "output_type": "stream",
     "text": [
      "C:\\Users\\vella\\Anaconda3\\lib\\site-packages\\ipykernel_launcher.py:20: UserWarning: `Model.fit_generator` is deprecated and will be removed in a future version. Please use `Model.fit`, which supports generators.\n"
     ]
    },
    {
     "name": "stdout",
     "output_type": "stream",
     "text": [
      "9/9 [==============================] - 1s 4ms/step - loss: 0.2184\n",
      "Epoch 2/6\n",
      "9/9 [==============================] - 0s 4ms/step - loss: 0.1866\n",
      "Epoch 3/6\n",
      "9/9 [==============================] - 0s 4ms/step - loss: 0.1652\n",
      "Epoch 4/6\n",
      "9/9 [==============================] - 0s 4ms/step - loss: 0.1474\n",
      "Epoch 5/6\n",
      "9/9 [==============================] - 0s 4ms/step - loss: 0.1297\n",
      "Epoch 6/6\n",
      "9/9 [==============================] - 0s 3ms/step - loss: 0.1082\n",
      "1/1 [==============================] - 0s 134ms/step\n",
      "Epoch 1/6\n"
     ]
    },
    {
     "name": "stderr",
     "output_type": "stream",
     "text": [
      "C:\\Users\\vella\\Anaconda3\\lib\\site-packages\\ipykernel_launcher.py:20: UserWarning: `Model.fit_generator` is deprecated and will be removed in a future version. Please use `Model.fit`, which supports generators.\n"
     ]
    },
    {
     "name": "stdout",
     "output_type": "stream",
     "text": [
      "9/9 [==============================] - 1s 4ms/step - loss: 0.2231\n",
      "Epoch 2/6\n",
      "9/9 [==============================] - 0s 4ms/step - loss: 0.2021\n",
      "Epoch 3/6\n",
      "9/9 [==============================] - 0s 4ms/step - loss: 0.1802\n",
      "Epoch 4/6\n",
      "9/9 [==============================] - 0s 3ms/step - loss: 0.1608\n",
      "Epoch 5/6\n",
      "9/9 [==============================] - 0s 3ms/step - loss: 0.1406\n",
      "Epoch 6/6\n",
      "9/9 [==============================] - 0s 3ms/step - loss: 0.1228\n",
      "1/1 [==============================] - 0s 131ms/step\n",
      "Epoch 1/6\n"
     ]
    },
    {
     "name": "stderr",
     "output_type": "stream",
     "text": [
      "C:\\Users\\vella\\Anaconda3\\lib\\site-packages\\ipykernel_launcher.py:20: UserWarning: `Model.fit_generator` is deprecated and will be removed in a future version. Please use `Model.fit`, which supports generators.\n"
     ]
    },
    {
     "name": "stdout",
     "output_type": "stream",
     "text": [
      "9/9 [==============================] - 1s 4ms/step - loss: 0.2215\n",
      "Epoch 2/6\n",
      "9/9 [==============================] - 0s 4ms/step - loss: 0.1998\n",
      "Epoch 3/6\n",
      "9/9 [==============================] - 0s 4ms/step - loss: 0.1749\n",
      "Epoch 4/6\n",
      "9/9 [==============================] - 0s 4ms/step - loss: 0.1538\n",
      "Epoch 5/6\n",
      "9/9 [==============================] - 0s 4ms/step - loss: 0.1301\n",
      "Epoch 6/6\n",
      "9/9 [==============================] - 0s 4ms/step - loss: 0.1125\n",
      "1/1 [==============================] - 0s 133ms/step\n",
      "Epoch 1/6\n"
     ]
    },
    {
     "name": "stderr",
     "output_type": "stream",
     "text": [
      "C:\\Users\\vella\\Anaconda3\\lib\\site-packages\\ipykernel_launcher.py:20: UserWarning: `Model.fit_generator` is deprecated and will be removed in a future version. Please use `Model.fit`, which supports generators.\n"
     ]
    },
    {
     "name": "stdout",
     "output_type": "stream",
     "text": [
      "9/9 [==============================] - 1s 4ms/step - loss: 0.2256\n",
      "Epoch 2/6\n",
      "9/9 [==============================] - 0s 4ms/step - loss: 0.1978\n",
      "Epoch 3/6\n",
      "9/9 [==============================] - 0s 4ms/step - loss: 0.1726\n",
      "Epoch 4/6\n",
      "9/9 [==============================] - 0s 3ms/step - loss: 0.1543\n",
      "Epoch 5/6\n",
      "9/9 [==============================] - 0s 3ms/step - loss: 0.1296\n",
      "Epoch 6/6\n",
      "9/9 [==============================] - 0s 4ms/step - loss: 0.1125\n",
      "1/1 [==============================] - 0s 130ms/step\n",
      "Epoch 1/6\n"
     ]
    },
    {
     "name": "stderr",
     "output_type": "stream",
     "text": [
      "C:\\Users\\vella\\Anaconda3\\lib\\site-packages\\ipykernel_launcher.py:20: UserWarning: `Model.fit_generator` is deprecated and will be removed in a future version. Please use `Model.fit`, which supports generators.\n"
     ]
    },
    {
     "name": "stdout",
     "output_type": "stream",
     "text": [
      "9/9 [==============================] - 1s 4ms/step - loss: 0.2400\n",
      "Epoch 2/6\n",
      "9/9 [==============================] - 0s 4ms/step - loss: 0.2104\n",
      "Epoch 3/6\n",
      "9/9 [==============================] - 0s 4ms/step - loss: 0.1891\n",
      "Epoch 4/6\n",
      "9/9 [==============================] - 0s 4ms/step - loss: 0.1683\n",
      "Epoch 5/6\n",
      "9/9 [==============================] - 0s 4ms/step - loss: 0.1454\n",
      "Epoch 6/6\n",
      "9/9 [==============================] - 0s 4ms/step - loss: 0.1304\n",
      "1/1 [==============================] - 0s 132ms/step\n",
      "Epoch 1/6\n"
     ]
    },
    {
     "name": "stderr",
     "output_type": "stream",
     "text": [
      "C:\\Users\\vella\\Anaconda3\\lib\\site-packages\\ipykernel_launcher.py:20: UserWarning: `Model.fit_generator` is deprecated and will be removed in a future version. Please use `Model.fit`, which supports generators.\n"
     ]
    },
    {
     "name": "stdout",
     "output_type": "stream",
     "text": [
      "9/9 [==============================] - 1s 4ms/step - loss: 0.2395\n",
      "Epoch 2/6\n",
      "9/9 [==============================] - 0s 4ms/step - loss: 0.2080\n",
      "Epoch 3/6\n",
      "9/9 [==============================] - 0s 4ms/step - loss: 0.1869\n",
      "Epoch 4/6\n",
      "9/9 [==============================] - 0s 4ms/step - loss: 0.1638\n",
      "Epoch 5/6\n",
      "9/9 [==============================] - 0s 4ms/step - loss: 0.1400\n",
      "Epoch 6/6\n",
      "9/9 [==============================] - 0s 4ms/step - loss: 0.1206\n",
      "1/1 [==============================] - 0s 140ms/step\n",
      "Epoch 1/6\n"
     ]
    },
    {
     "name": "stderr",
     "output_type": "stream",
     "text": [
      "C:\\Users\\vella\\Anaconda3\\lib\\site-packages\\ipykernel_launcher.py:20: UserWarning: `Model.fit_generator` is deprecated and will be removed in a future version. Please use `Model.fit`, which supports generators.\n"
     ]
    },
    {
     "name": "stdout",
     "output_type": "stream",
     "text": [
      "9/9 [==============================] - 1s 4ms/step - loss: 0.2488\n",
      "Epoch 2/6\n",
      "9/9 [==============================] - 0s 4ms/step - loss: 0.2182\n",
      "Epoch 3/6\n",
      "9/9 [==============================] - 0s 4ms/step - loss: 0.1953\n",
      "Epoch 4/6\n",
      "9/9 [==============================] - 0s 4ms/step - loss: 0.1760\n",
      "Epoch 5/6\n",
      "9/9 [==============================] - 0s 4ms/step - loss: 0.1541\n",
      "Epoch 6/6\n",
      "9/9 [==============================] - 0s 4ms/step - loss: 0.1316\n",
      "1/1 [==============================] - 0s 131ms/step\n",
      "Epoch 1/6\n"
     ]
    },
    {
     "name": "stderr",
     "output_type": "stream",
     "text": [
      "C:\\Users\\vella\\Anaconda3\\lib\\site-packages\\ipykernel_launcher.py:20: UserWarning: `Model.fit_generator` is deprecated and will be removed in a future version. Please use `Model.fit`, which supports generators.\n"
     ]
    },
    {
     "name": "stdout",
     "output_type": "stream",
     "text": [
      "9/9 [==============================] - 1s 4ms/step - loss: 0.2509\n",
      "Epoch 2/6\n",
      "9/9 [==============================] - 0s 4ms/step - loss: 0.2216\n",
      "Epoch 3/6\n",
      "9/9 [==============================] - 0s 4ms/step - loss: 0.1984\n",
      "Epoch 4/6\n",
      "9/9 [==============================] - 0s 3ms/step - loss: 0.1698\n",
      "Epoch 5/6\n",
      "9/9 [==============================] - 0s 3ms/step - loss: 0.1468\n",
      "Epoch 6/6\n",
      "9/9 [==============================] - 0s 3ms/step - loss: 0.1237\n",
      "1/1 [==============================] - 0s 135ms/step\n",
      "Epoch 1/6\n"
     ]
    },
    {
     "name": "stderr",
     "output_type": "stream",
     "text": [
      "C:\\Users\\vella\\Anaconda3\\lib\\site-packages\\ipykernel_launcher.py:20: UserWarning: `Model.fit_generator` is deprecated and will be removed in a future version. Please use `Model.fit`, which supports generators.\n"
     ]
    },
    {
     "name": "stdout",
     "output_type": "stream",
     "text": [
      "9/9 [==============================] - 1s 4ms/step - loss: 0.2670\n",
      "Epoch 2/6\n",
      "9/9 [==============================] - 0s 4ms/step - loss: 0.2337\n",
      "Epoch 3/6\n",
      "9/9 [==============================] - 0s 4ms/step - loss: 0.2071\n",
      "Epoch 4/6\n",
      "9/9 [==============================] - 0s 4ms/step - loss: 0.1864\n",
      "Epoch 5/6\n",
      "9/9 [==============================] - 0s 4ms/step - loss: 0.1651\n",
      "Epoch 6/6\n",
      "9/9 [==============================] - 0s 4ms/step - loss: 0.1444\n",
      "1/1 [==============================] - 0s 133ms/step\n",
      "Epoch 1/6\n"
     ]
    },
    {
     "name": "stderr",
     "output_type": "stream",
     "text": [
      "C:\\Users\\vella\\Anaconda3\\lib\\site-packages\\ipykernel_launcher.py:20: UserWarning: `Model.fit_generator` is deprecated and will be removed in a future version. Please use `Model.fit`, which supports generators.\n"
     ]
    },
    {
     "name": "stdout",
     "output_type": "stream",
     "text": [
      "9/9 [==============================] - 1s 4ms/step - loss: 0.2504\n",
      "Epoch 2/6\n",
      "9/9 [==============================] - 0s 4ms/step - loss: 0.2188\n",
      "Epoch 3/6\n",
      "9/9 [==============================] - 0s 4ms/step - loss: 0.1878\n",
      "Epoch 4/6\n",
      "9/9 [==============================] - 0s 4ms/step - loss: 0.1600\n",
      "Epoch 5/6\n",
      "9/9 [==============================] - 0s 4ms/step - loss: 0.1342\n",
      "Epoch 6/6\n",
      "9/9 [==============================] - 0s 4ms/step - loss: 0.1120\n",
      "1/1 [==============================] - 0s 132ms/step\n",
      "Epoch 1/6\n"
     ]
    },
    {
     "name": "stderr",
     "output_type": "stream",
     "text": [
      "C:\\Users\\vella\\Anaconda3\\lib\\site-packages\\ipykernel_launcher.py:20: UserWarning: `Model.fit_generator` is deprecated and will be removed in a future version. Please use `Model.fit`, which supports generators.\n"
     ]
    },
    {
     "name": "stdout",
     "output_type": "stream",
     "text": [
      "9/9 [==============================] - 1s 4ms/step - loss: 0.2595\n",
      "Epoch 2/6\n",
      "9/9 [==============================] - 0s 4ms/step - loss: 0.2273\n",
      "Epoch 3/6\n",
      "9/9 [==============================] - 0s 4ms/step - loss: 0.1994\n",
      "Epoch 4/6\n",
      "9/9 [==============================] - 0s 4ms/step - loss: 0.1742\n",
      "Epoch 5/6\n",
      "9/9 [==============================] - 0s 4ms/step - loss: 0.1558\n",
      "Epoch 6/6\n",
      "9/9 [==============================] - 0s 4ms/step - loss: 0.1250\n",
      "1/1 [==============================] - 0s 128ms/step\n",
      "Epoch 1/6\n"
     ]
    },
    {
     "name": "stderr",
     "output_type": "stream",
     "text": [
      "C:\\Users\\vella\\Anaconda3\\lib\\site-packages\\ipykernel_launcher.py:20: UserWarning: `Model.fit_generator` is deprecated and will be removed in a future version. Please use `Model.fit`, which supports generators.\n"
     ]
    },
    {
     "name": "stdout",
     "output_type": "stream",
     "text": [
      "9/9 [==============================] - 1s 4ms/step - loss: 0.2599\n",
      "Epoch 2/6\n",
      "9/9 [==============================] - 0s 4ms/step - loss: 0.2260\n",
      "Epoch 3/6\n",
      "9/9 [==============================] - 0s 4ms/step - loss: 0.2051\n",
      "Epoch 4/6\n",
      "9/9 [==============================] - 0s 4ms/step - loss: 0.1759\n",
      "Epoch 5/6\n",
      "9/9 [==============================] - 0s 4ms/step - loss: 0.1536\n",
      "Epoch 6/6\n",
      "9/9 [==============================] - 0s 4ms/step - loss: 0.1255\n",
      "1/1 [==============================] - 0s 131ms/step\n",
      "Epoch 1/6\n"
     ]
    },
    {
     "name": "stderr",
     "output_type": "stream",
     "text": [
      "C:\\Users\\vella\\Anaconda3\\lib\\site-packages\\ipykernel_launcher.py:20: UserWarning: `Model.fit_generator` is deprecated and will be removed in a future version. Please use `Model.fit`, which supports generators.\n"
     ]
    },
    {
     "name": "stdout",
     "output_type": "stream",
     "text": [
      "9/9 [==============================] - 1s 4ms/step - loss: 0.2651\n",
      "Epoch 2/6\n",
      "9/9 [==============================] - 0s 4ms/step - loss: 0.2295\n",
      "Epoch 3/6\n",
      "9/9 [==============================] - 0s 4ms/step - loss: 0.2055\n",
      "Epoch 4/6\n",
      "9/9 [==============================] - 0s 4ms/step - loss: 0.1737\n",
      "Epoch 5/6\n",
      "9/9 [==============================] - 0s 4ms/step - loss: 0.1495\n",
      "Epoch 6/6\n",
      "9/9 [==============================] - 0s 4ms/step - loss: 0.1213\n",
      "1/1 [==============================] - 0s 133ms/step\n",
      "Epoch 1/6\n"
     ]
    },
    {
     "name": "stderr",
     "output_type": "stream",
     "text": [
      "C:\\Users\\vella\\Anaconda3\\lib\\site-packages\\ipykernel_launcher.py:20: UserWarning: `Model.fit_generator` is deprecated and will be removed in a future version. Please use `Model.fit`, which supports generators.\n"
     ]
    },
    {
     "name": "stdout",
     "output_type": "stream",
     "text": [
      "9/9 [==============================] - 1s 4ms/step - loss: 0.2710\n",
      "Epoch 2/6\n",
      "9/9 [==============================] - 0s 4ms/step - loss: 0.2346\n",
      "Epoch 3/6\n",
      "9/9 [==============================] - 0s 4ms/step - loss: 0.2061\n",
      "Epoch 4/6\n",
      "9/9 [==============================] - 0s 3ms/step - loss: 0.1756\n",
      "Epoch 5/6\n",
      "9/9 [==============================] - 0s 3ms/step - loss: 0.1503\n",
      "Epoch 6/6\n",
      "9/9 [==============================] - 0s 3ms/step - loss: 0.1262\n",
      "1/1 [==============================] - 0s 131ms/step\n",
      "Epoch 1/6\n"
     ]
    },
    {
     "name": "stderr",
     "output_type": "stream",
     "text": [
      "C:\\Users\\vella\\Anaconda3\\lib\\site-packages\\ipykernel_launcher.py:20: UserWarning: `Model.fit_generator` is deprecated and will be removed in a future version. Please use `Model.fit`, which supports generators.\n"
     ]
    },
    {
     "name": "stdout",
     "output_type": "stream",
     "text": [
      "9/9 [==============================] - 1s 4ms/step - loss: 0.2633\n",
      "Epoch 2/6\n",
      "9/9 [==============================] - 0s 4ms/step - loss: 0.2306\n",
      "Epoch 3/6\n",
      "9/9 [==============================] - 0s 3ms/step - loss: 0.2005\n",
      "Epoch 4/6\n",
      "9/9 [==============================] - 0s 3ms/step - loss: 0.1771\n",
      "Epoch 5/6\n",
      "9/9 [==============================] - 0s 3ms/step - loss: 0.1528\n",
      "Epoch 6/6\n",
      "9/9 [==============================] - 0s 4ms/step - loss: 0.1300\n",
      "1/1 [==============================] - 0s 131ms/step\n",
      "Epoch 1/6\n"
     ]
    },
    {
     "name": "stderr",
     "output_type": "stream",
     "text": [
      "C:\\Users\\vella\\Anaconda3\\lib\\site-packages\\ipykernel_launcher.py:20: UserWarning: `Model.fit_generator` is deprecated and will be removed in a future version. Please use `Model.fit`, which supports generators.\n"
     ]
    },
    {
     "name": "stdout",
     "output_type": "stream",
     "text": [
      "9/9 [==============================] - 1s 4ms/step - loss: 0.2675\n",
      "Epoch 2/6\n",
      "9/9 [==============================] - 0s 4ms/step - loss: 0.2314\n",
      "Epoch 3/6\n",
      "9/9 [==============================] - 0s 4ms/step - loss: 0.2022\n",
      "Epoch 4/6\n",
      "9/9 [==============================] - 0s 3ms/step - loss: 0.1826\n",
      "Epoch 5/6\n",
      "9/9 [==============================] - 0s 3ms/step - loss: 0.1519\n",
      "Epoch 6/6\n",
      "9/9 [==============================] - 0s 4ms/step - loss: 0.1327\n",
      "1/1 [==============================] - 0s 132ms/step\n",
      "Epoch 1/6\n"
     ]
    },
    {
     "name": "stderr",
     "output_type": "stream",
     "text": [
      "C:\\Users\\vella\\Anaconda3\\lib\\site-packages\\ipykernel_launcher.py:20: UserWarning: `Model.fit_generator` is deprecated and will be removed in a future version. Please use `Model.fit`, which supports generators.\n"
     ]
    },
    {
     "name": "stdout",
     "output_type": "stream",
     "text": [
      "9/9 [==============================] - 1s 3ms/step - loss: 0.2553\n",
      "Epoch 2/6\n",
      "9/9 [==============================] - 0s 4ms/step - loss: 0.2271\n",
      "Epoch 3/6\n",
      "9/9 [==============================] - 0s 4ms/step - loss: 0.1990\n",
      "Epoch 4/6\n",
      "9/9 [==============================] - 0s 4ms/step - loss: 0.1720\n",
      "Epoch 5/6\n",
      "9/9 [==============================] - 0s 4ms/step - loss: 0.1458\n",
      "Epoch 6/6\n",
      "9/9 [==============================] - 0s 4ms/step - loss: 0.1174\n",
      "1/1 [==============================] - 0s 134ms/step\n",
      "Epoch 1/6\n"
     ]
    },
    {
     "name": "stderr",
     "output_type": "stream",
     "text": [
      "C:\\Users\\vella\\Anaconda3\\lib\\site-packages\\ipykernel_launcher.py:20: UserWarning: `Model.fit_generator` is deprecated and will be removed in a future version. Please use `Model.fit`, which supports generators.\n"
     ]
    },
    {
     "name": "stdout",
     "output_type": "stream",
     "text": [
      "9/9 [==============================] - 1s 4ms/step - loss: 0.2676\n",
      "Epoch 2/6\n",
      "9/9 [==============================] - 0s 4ms/step - loss: 0.2351\n",
      "Epoch 3/6\n",
      "9/9 [==============================] - 0s 4ms/step - loss: 0.2027\n",
      "Epoch 4/6\n",
      "9/9 [==============================] - 0s 4ms/step - loss: 0.1764\n",
      "Epoch 5/6\n",
      "9/9 [==============================] - 0s 4ms/step - loss: 0.1484\n",
      "Epoch 6/6\n",
      "9/9 [==============================] - 0s 4ms/step - loss: 0.1213\n",
      "1/1 [==============================] - 0s 127ms/step\n",
      "Epoch 1/6\n"
     ]
    },
    {
     "name": "stderr",
     "output_type": "stream",
     "text": [
      "C:\\Users\\vella\\Anaconda3\\lib\\site-packages\\ipykernel_launcher.py:20: UserWarning: `Model.fit_generator` is deprecated and will be removed in a future version. Please use `Model.fit`, which supports generators.\n"
     ]
    },
    {
     "name": "stdout",
     "output_type": "stream",
     "text": [
      "9/9 [==============================] - 1s 4ms/step - loss: 0.2757\n",
      "Epoch 2/6\n",
      "9/9 [==============================] - 0s 4ms/step - loss: 0.2425\n",
      "Epoch 3/6\n",
      "9/9 [==============================] - 0s 4ms/step - loss: 0.2183\n",
      "Epoch 4/6\n",
      "9/9 [==============================] - 0s 4ms/step - loss: 0.1889\n",
      "Epoch 5/6\n",
      "9/9 [==============================] - 0s 4ms/step - loss: 0.1676\n",
      "Epoch 6/6\n",
      "9/9 [==============================] - 0s 4ms/step - loss: 0.1402\n",
      "1/1 [==============================] - 0s 132ms/step\n",
      "Epoch 1/6\n"
     ]
    },
    {
     "name": "stderr",
     "output_type": "stream",
     "text": [
      "C:\\Users\\vella\\Anaconda3\\lib\\site-packages\\ipykernel_launcher.py:20: UserWarning: `Model.fit_generator` is deprecated and will be removed in a future version. Please use `Model.fit`, which supports generators.\n"
     ]
    },
    {
     "name": "stdout",
     "output_type": "stream",
     "text": [
      "9/9 [==============================] - 1s 4ms/step - loss: 0.2739\n",
      "Epoch 2/6\n",
      "9/9 [==============================] - 0s 4ms/step - loss: 0.2330\n",
      "Epoch 3/6\n",
      "9/9 [==============================] - 0s 4ms/step - loss: 0.2021\n",
      "Epoch 4/6\n",
      "9/9 [==============================] - 0s 4ms/step - loss: 0.1736\n",
      "Epoch 5/6\n",
      "9/9 [==============================] - 0s 4ms/step - loss: 0.1478\n",
      "Epoch 6/6\n",
      "9/9 [==============================] - 0s 4ms/step - loss: 0.1211\n",
      "1/1 [==============================] - 0s 136ms/step\n",
      "Epoch 1/6\n"
     ]
    },
    {
     "name": "stderr",
     "output_type": "stream",
     "text": [
      "C:\\Users\\vella\\Anaconda3\\lib\\site-packages\\ipykernel_launcher.py:20: UserWarning: `Model.fit_generator` is deprecated and will be removed in a future version. Please use `Model.fit`, which supports generators.\n"
     ]
    },
    {
     "name": "stdout",
     "output_type": "stream",
     "text": [
      "9/9 [==============================] - 1s 4ms/step - loss: 0.2774\n",
      "Epoch 2/6\n",
      "9/9 [==============================] - 0s 4ms/step - loss: 0.2513\n",
      "Epoch 3/6\n",
      "9/9 [==============================] - 0s 4ms/step - loss: 0.2241\n",
      "Epoch 4/6\n",
      "9/9 [==============================] - 0s 4ms/step - loss: 0.2013\n",
      "Epoch 5/6\n",
      "9/9 [==============================] - 0s 4ms/step - loss: 0.1780\n",
      "Epoch 6/6\n",
      "9/9 [==============================] - 0s 3ms/step - loss: 0.1560\n",
      "1/1 [==============================] - 0s 134ms/step\n",
      "Epoch 1/6\n"
     ]
    },
    {
     "name": "stderr",
     "output_type": "stream",
     "text": [
      "C:\\Users\\vella\\Anaconda3\\lib\\site-packages\\ipykernel_launcher.py:20: UserWarning: `Model.fit_generator` is deprecated and will be removed in a future version. Please use `Model.fit`, which supports generators.\n"
     ]
    },
    {
     "name": "stdout",
     "output_type": "stream",
     "text": [
      "9/9 [==============================] - 1s 4ms/step - loss: 0.2732\n",
      "Epoch 2/6\n",
      "9/9 [==============================] - 0s 4ms/step - loss: 0.2434\n",
      "Epoch 3/6\n",
      "9/9 [==============================] - 0s 4ms/step - loss: 0.2227\n",
      "Epoch 4/6\n",
      "9/9 [==============================] - 0s 4ms/step - loss: 0.1945\n",
      "Epoch 5/6\n",
      "9/9 [==============================] - 0s 4ms/step - loss: 0.1721\n",
      "Epoch 6/6\n",
      "9/9 [==============================] - 0s 4ms/step - loss: 0.1491\n",
      "1/1 [==============================] - 0s 135ms/step\n",
      "Epoch 1/6\n"
     ]
    },
    {
     "name": "stderr",
     "output_type": "stream",
     "text": [
      "C:\\Users\\vella\\Anaconda3\\lib\\site-packages\\ipykernel_launcher.py:20: UserWarning: `Model.fit_generator` is deprecated and will be removed in a future version. Please use `Model.fit`, which supports generators.\n"
     ]
    },
    {
     "name": "stdout",
     "output_type": "stream",
     "text": [
      "9/9 [==============================] - 1s 4ms/step - loss: 0.2775\n",
      "Epoch 2/6\n",
      "9/9 [==============================] - 0s 4ms/step - loss: 0.2465\n",
      "Epoch 3/6\n",
      "9/9 [==============================] - 0s 4ms/step - loss: 0.2193\n",
      "Epoch 4/6\n",
      "9/9 [==============================] - 0s 4ms/step - loss: 0.1981\n",
      "Epoch 5/6\n",
      "9/9 [==============================] - 0s 4ms/step - loss: 0.1758\n",
      "Epoch 6/6\n",
      "9/9 [==============================] - 0s 4ms/step - loss: 0.1515\n",
      "1/1 [==============================] - 0s 131ms/step\n",
      "Epoch 1/6\n"
     ]
    },
    {
     "name": "stderr",
     "output_type": "stream",
     "text": [
      "C:\\Users\\vella\\Anaconda3\\lib\\site-packages\\ipykernel_launcher.py:20: UserWarning: `Model.fit_generator` is deprecated and will be removed in a future version. Please use `Model.fit`, which supports generators.\n"
     ]
    },
    {
     "name": "stdout",
     "output_type": "stream",
     "text": [
      "9/9 [==============================] - 1s 4ms/step - loss: 0.3019\n",
      "Epoch 2/6\n",
      "9/9 [==============================] - 0s 4ms/step - loss: 0.2672\n",
      "Epoch 3/6\n",
      "9/9 [==============================] - 0s 4ms/step - loss: 0.2319\n",
      "Epoch 4/6\n",
      "9/9 [==============================] - 0s 4ms/step - loss: 0.2048\n",
      "Epoch 5/6\n",
      "9/9 [==============================] - 0s 4ms/step - loss: 0.1688\n",
      "Epoch 6/6\n",
      "9/9 [==============================] - 0s 4ms/step - loss: 0.1448\n",
      "1/1 [==============================] - 0s 147ms/step\n",
      "Epoch 1/6\n"
     ]
    },
    {
     "name": "stderr",
     "output_type": "stream",
     "text": [
      "C:\\Users\\vella\\Anaconda3\\lib\\site-packages\\ipykernel_launcher.py:20: UserWarning: `Model.fit_generator` is deprecated and will be removed in a future version. Please use `Model.fit`, which supports generators.\n"
     ]
    },
    {
     "name": "stdout",
     "output_type": "stream",
     "text": [
      "9/9 [==============================] - 1s 4ms/step - loss: 0.2945\n",
      "Epoch 2/6\n",
      "9/9 [==============================] - 0s 4ms/step - loss: 0.2639\n",
      "Epoch 3/6\n",
      "9/9 [==============================] - 0s 4ms/step - loss: 0.2381\n",
      "Epoch 4/6\n",
      "9/9 [==============================] - 0s 4ms/step - loss: 0.2111\n",
      "Epoch 5/6\n",
      "9/9 [==============================] - 0s 4ms/step - loss: 0.1828\n",
      "Epoch 6/6\n",
      "9/9 [==============================] - 0s 4ms/step - loss: 0.1588\n",
      "1/1 [==============================] - 0s 150ms/step\n",
      "Epoch 1/6\n"
     ]
    },
    {
     "name": "stderr",
     "output_type": "stream",
     "text": [
      "C:\\Users\\vella\\Anaconda3\\lib\\site-packages\\ipykernel_launcher.py:20: UserWarning: `Model.fit_generator` is deprecated and will be removed in a future version. Please use `Model.fit`, which supports generators.\n"
     ]
    },
    {
     "name": "stdout",
     "output_type": "stream",
     "text": [
      "9/9 [==============================] - 2s 4ms/step - loss: 0.2951\n",
      "Epoch 2/6\n",
      "9/9 [==============================] - 0s 4ms/step - loss: 0.2650\n",
      "Epoch 3/6\n",
      "9/9 [==============================] - 0s 4ms/step - loss: 0.2347\n",
      "Epoch 4/6\n",
      "9/9 [==============================] - 0s 4ms/step - loss: 0.2015\n",
      "Epoch 5/6\n",
      "9/9 [==============================] - 0s 4ms/step - loss: 0.1774\n",
      "Epoch 6/6\n",
      "9/9 [==============================] - 0s 4ms/step - loss: 0.1495\n",
      "1/1 [==============================] - 0s 134ms/step\n",
      "Epoch 1/6\n"
     ]
    },
    {
     "name": "stderr",
     "output_type": "stream",
     "text": [
      "C:\\Users\\vella\\Anaconda3\\lib\\site-packages\\ipykernel_launcher.py:20: UserWarning: `Model.fit_generator` is deprecated and will be removed in a future version. Please use `Model.fit`, which supports generators.\n"
     ]
    },
    {
     "name": "stdout",
     "output_type": "stream",
     "text": [
      "9/9 [==============================] - 1s 4ms/step - loss: 0.3084\n",
      "Epoch 2/6\n",
      "9/9 [==============================] - 0s 4ms/step - loss: 0.2747\n",
      "Epoch 3/6\n",
      "9/9 [==============================] - 0s 4ms/step - loss: 0.2387\n",
      "Epoch 4/6\n",
      "9/9 [==============================] - 0s 4ms/step - loss: 0.2140\n",
      "Epoch 5/6\n",
      "9/9 [==============================] - 0s 4ms/step - loss: 0.1856\n",
      "Epoch 6/6\n",
      "9/9 [==============================] - 0s 4ms/step - loss: 0.1612\n",
      "1/1 [==============================] - 0s 131ms/step\n",
      "Epoch 1/6\n"
     ]
    },
    {
     "name": "stderr",
     "output_type": "stream",
     "text": [
      "C:\\Users\\vella\\Anaconda3\\lib\\site-packages\\ipykernel_launcher.py:20: UserWarning: `Model.fit_generator` is deprecated and will be removed in a future version. Please use `Model.fit`, which supports generators.\n"
     ]
    },
    {
     "name": "stdout",
     "output_type": "stream",
     "text": [
      "9/9 [==============================] - 1s 4ms/step - loss: 0.3105\n",
      "Epoch 2/6\n",
      "9/9 [==============================] - 0s 4ms/step - loss: 0.2786\n",
      "Epoch 3/6\n",
      "9/9 [==============================] - 0s 4ms/step - loss: 0.2538\n",
      "Epoch 4/6\n",
      "9/9 [==============================] - 0s 4ms/step - loss: 0.2227\n",
      "Epoch 5/6\n",
      "9/9 [==============================] - 0s 4ms/step - loss: 0.2019\n",
      "Epoch 6/6\n",
      "9/9 [==============================] - 0s 4ms/step - loss: 0.1725\n",
      "1/1 [==============================] - 0s 132ms/step\n",
      "Epoch 1/6\n"
     ]
    },
    {
     "name": "stderr",
     "output_type": "stream",
     "text": [
      "C:\\Users\\vella\\Anaconda3\\lib\\site-packages\\ipykernel_launcher.py:20: UserWarning: `Model.fit_generator` is deprecated and will be removed in a future version. Please use `Model.fit`, which supports generators.\n"
     ]
    },
    {
     "name": "stdout",
     "output_type": "stream",
     "text": [
      "9/9 [==============================] - 1s 4ms/step - loss: 0.3084\n",
      "Epoch 2/6\n",
      "9/9 [==============================] - 0s 4ms/step - loss: 0.2729\n",
      "Epoch 3/6\n",
      "9/9 [==============================] - 0s 4ms/step - loss: 0.2433\n",
      "Epoch 4/6\n",
      "9/9 [==============================] - 0s 4ms/step - loss: 0.2119\n",
      "Epoch 5/6\n",
      "9/9 [==============================] - 0s 4ms/step - loss: 0.1887\n",
      "Epoch 6/6\n",
      "9/9 [==============================] - 0s 4ms/step - loss: 0.1589\n",
      "1/1 [==============================] - 0s 134ms/step\n",
      "Epoch 1/6\n"
     ]
    },
    {
     "name": "stderr",
     "output_type": "stream",
     "text": [
      "C:\\Users\\vella\\Anaconda3\\lib\\site-packages\\ipykernel_launcher.py:20: UserWarning: `Model.fit_generator` is deprecated and will be removed in a future version. Please use `Model.fit`, which supports generators.\n"
     ]
    },
    {
     "name": "stdout",
     "output_type": "stream",
     "text": [
      "9/9 [==============================] - 1s 4ms/step - loss: 0.3100\n",
      "Epoch 2/6\n",
      "9/9 [==============================] - 0s 4ms/step - loss: 0.2784\n",
      "Epoch 3/6\n",
      "9/9 [==============================] - 0s 4ms/step - loss: 0.2539\n",
      "Epoch 4/6\n",
      "9/9 [==============================] - 0s 4ms/step - loss: 0.2275\n",
      "Epoch 5/6\n",
      "9/9 [==============================] - 0s 4ms/step - loss: 0.2042\n",
      "Epoch 6/6\n",
      "9/9 [==============================] - 0s 4ms/step - loss: 0.1753\n",
      "1/1 [==============================] - 0s 132ms/step\n",
      "Epoch 1/6\n"
     ]
    },
    {
     "name": "stderr",
     "output_type": "stream",
     "text": [
      "C:\\Users\\vella\\Anaconda3\\lib\\site-packages\\ipykernel_launcher.py:20: UserWarning: `Model.fit_generator` is deprecated and will be removed in a future version. Please use `Model.fit`, which supports generators.\n"
     ]
    },
    {
     "name": "stdout",
     "output_type": "stream",
     "text": [
      "9/9 [==============================] - 1s 4ms/step - loss: 0.3455\n",
      "Epoch 2/6\n",
      "9/9 [==============================] - 0s 4ms/step - loss: 0.3044\n",
      "Epoch 3/6\n",
      "9/9 [==============================] - 0s 4ms/step - loss: 0.2713\n",
      "Epoch 4/6\n",
      "9/9 [==============================] - 0s 4ms/step - loss: 0.2378\n",
      "Epoch 5/6\n",
      "9/9 [==============================] - 0s 3ms/step - loss: 0.2022\n",
      "Epoch 6/6\n",
      "9/9 [==============================] - 0s 4ms/step - loss: 0.1716\n",
      "1/1 [==============================] - 0s 134ms/step\n",
      "Epoch 1/6\n"
     ]
    },
    {
     "name": "stderr",
     "output_type": "stream",
     "text": [
      "C:\\Users\\vella\\Anaconda3\\lib\\site-packages\\ipykernel_launcher.py:20: UserWarning: `Model.fit_generator` is deprecated and will be removed in a future version. Please use `Model.fit`, which supports generators.\n"
     ]
    },
    {
     "name": "stdout",
     "output_type": "stream",
     "text": [
      "9/9 [==============================] - 1s 4ms/step - loss: 0.3512\n",
      "Epoch 2/6\n",
      "9/9 [==============================] - 0s 4ms/step - loss: 0.3152\n",
      "Epoch 3/6\n",
      "9/9 [==============================] - 0s 4ms/step - loss: 0.2808\n",
      "Epoch 4/6\n",
      "9/9 [==============================] - 0s 4ms/step - loss: 0.2519\n",
      "Epoch 5/6\n",
      "9/9 [==============================] - 0s 4ms/step - loss: 0.2214\n",
      "Epoch 6/6\n",
      "9/9 [==============================] - 0s 4ms/step - loss: 0.1947\n",
      "1/1 [==============================] - 0s 137ms/step\n",
      "Epoch 1/6\n"
     ]
    },
    {
     "name": "stderr",
     "output_type": "stream",
     "text": [
      "C:\\Users\\vella\\Anaconda3\\lib\\site-packages\\ipykernel_launcher.py:20: UserWarning: `Model.fit_generator` is deprecated and will be removed in a future version. Please use `Model.fit`, which supports generators.\n"
     ]
    },
    {
     "name": "stdout",
     "output_type": "stream",
     "text": [
      "9/9 [==============================] - 1s 4ms/step - loss: 0.3652\n",
      "Epoch 2/6\n",
      "9/9 [==============================] - 0s 4ms/step - loss: 0.3177\n",
      "Epoch 3/6\n",
      "9/9 [==============================] - 0s 4ms/step - loss: 0.2824\n",
      "Epoch 4/6\n",
      "9/9 [==============================] - 0s 4ms/step - loss: 0.2456\n",
      "Epoch 5/6\n",
      "9/9 [==============================] - 0s 3ms/step - loss: 0.2145\n",
      "Epoch 6/6\n",
      "9/9 [==============================] - 0s 4ms/step - loss: 0.1761\n",
      "1/1 [==============================] - 0s 142ms/step\n",
      "Epoch 1/6\n"
     ]
    },
    {
     "name": "stderr",
     "output_type": "stream",
     "text": [
      "C:\\Users\\vella\\Anaconda3\\lib\\site-packages\\ipykernel_launcher.py:20: UserWarning: `Model.fit_generator` is deprecated and will be removed in a future version. Please use `Model.fit`, which supports generators.\n"
     ]
    },
    {
     "name": "stdout",
     "output_type": "stream",
     "text": [
      "9/9 [==============================] - 2s 4ms/step - loss: 0.3573\n",
      "Epoch 2/6\n",
      "9/9 [==============================] - 0s 4ms/step - loss: 0.3098\n",
      "Epoch 3/6\n",
      "9/9 [==============================] - 0s 4ms/step - loss: 0.2785\n",
      "Epoch 4/6\n",
      "9/9 [==============================] - 0s 4ms/step - loss: 0.2360\n",
      "Epoch 5/6\n",
      "9/9 [==============================] - 0s 4ms/step - loss: 0.2039\n",
      "Epoch 6/6\n",
      "9/9 [==============================] - 0s 4ms/step - loss: 0.1698\n",
      "1/1 [==============================] - 0s 133ms/step\n",
      "Epoch 1/6\n"
     ]
    },
    {
     "name": "stderr",
     "output_type": "stream",
     "text": [
      "C:\\Users\\vella\\Anaconda3\\lib\\site-packages\\ipykernel_launcher.py:20: UserWarning: `Model.fit_generator` is deprecated and will be removed in a future version. Please use `Model.fit`, which supports generators.\n"
     ]
    },
    {
     "name": "stdout",
     "output_type": "stream",
     "text": [
      "9/9 [==============================] - 1s 4ms/step - loss: 0.3508\n",
      "Epoch 2/6\n",
      "9/9 [==============================] - 0s 4ms/step - loss: 0.3096\n",
      "Epoch 3/6\n",
      "9/9 [==============================] - 0s 4ms/step - loss: 0.2751\n",
      "Epoch 4/6\n",
      "9/9 [==============================] - 0s 4ms/step - loss: 0.2415\n",
      "Epoch 5/6\n",
      "9/9 [==============================] - 0s 4ms/step - loss: 0.2071\n",
      "Epoch 6/6\n",
      "9/9 [==============================] - 0s 4ms/step - loss: 0.1723\n",
      "1/1 [==============================] - 0s 133ms/step\n",
      "Epoch 1/6\n"
     ]
    },
    {
     "name": "stderr",
     "output_type": "stream",
     "text": [
      "C:\\Users\\vella\\Anaconda3\\lib\\site-packages\\ipykernel_launcher.py:20: UserWarning: `Model.fit_generator` is deprecated and will be removed in a future version. Please use `Model.fit`, which supports generators.\n"
     ]
    },
    {
     "name": "stdout",
     "output_type": "stream",
     "text": [
      "9/9 [==============================] - 1s 4ms/step - loss: 0.3560\n",
      "Epoch 2/6\n",
      "9/9 [==============================] - 0s 4ms/step - loss: 0.3130\n",
      "Epoch 3/6\n",
      "9/9 [==============================] - 0s 4ms/step - loss: 0.2790\n",
      "Epoch 4/6\n",
      "9/9 [==============================] - 0s 4ms/step - loss: 0.2423\n",
      "Epoch 5/6\n",
      "9/9 [==============================] - 0s 4ms/step - loss: 0.2159\n",
      "Epoch 6/6\n",
      "9/9 [==============================] - 0s 4ms/step - loss: 0.1857\n",
      "1/1 [==============================] - 0s 140ms/step\n",
      "Epoch 1/6\n"
     ]
    },
    {
     "name": "stderr",
     "output_type": "stream",
     "text": [
      "C:\\Users\\vella\\Anaconda3\\lib\\site-packages\\ipykernel_launcher.py:20: UserWarning: `Model.fit_generator` is deprecated and will be removed in a future version. Please use `Model.fit`, which supports generators.\n"
     ]
    },
    {
     "name": "stdout",
     "output_type": "stream",
     "text": [
      "9/9 [==============================] - 1s 4ms/step - loss: 0.3434\n",
      "Epoch 2/6\n",
      "9/9 [==============================] - 0s 4ms/step - loss: 0.3056\n",
      "Epoch 3/6\n",
      "9/9 [==============================] - 0s 4ms/step - loss: 0.2695\n",
      "Epoch 4/6\n",
      "9/9 [==============================] - 0s 4ms/step - loss: 0.2370\n",
      "Epoch 5/6\n",
      "9/9 [==============================] - 0s 4ms/step - loss: 0.2036\n",
      "Epoch 6/6\n",
      "9/9 [==============================] - 0s 4ms/step - loss: 0.1753\n",
      "1/1 [==============================] - 0s 149ms/step\n",
      "Epoch 1/6\n"
     ]
    },
    {
     "name": "stderr",
     "output_type": "stream",
     "text": [
      "C:\\Users\\vella\\Anaconda3\\lib\\site-packages\\ipykernel_launcher.py:20: UserWarning: `Model.fit_generator` is deprecated and will be removed in a future version. Please use `Model.fit`, which supports generators.\n"
     ]
    },
    {
     "name": "stdout",
     "output_type": "stream",
     "text": [
      "9/9 [==============================] - 1s 4ms/step - loss: 0.3432\n",
      "Epoch 2/6\n",
      "9/9 [==============================] - 0s 4ms/step - loss: 0.3110\n",
      "Epoch 3/6\n",
      "9/9 [==============================] - 0s 4ms/step - loss: 0.2722\n",
      "Epoch 4/6\n",
      "9/9 [==============================] - 0s 4ms/step - loss: 0.2360\n",
      "Epoch 5/6\n",
      "9/9 [==============================] - 0s 4ms/step - loss: 0.2079\n",
      "Epoch 6/6\n",
      "9/9 [==============================] - 0s 4ms/step - loss: 0.1765\n",
      "1/1 [==============================] - 0s 135ms/step\n",
      "Epoch 1/6\n"
     ]
    },
    {
     "name": "stderr",
     "output_type": "stream",
     "text": [
      "C:\\Users\\vella\\Anaconda3\\lib\\site-packages\\ipykernel_launcher.py:20: UserWarning: `Model.fit_generator` is deprecated and will be removed in a future version. Please use `Model.fit`, which supports generators.\n"
     ]
    },
    {
     "name": "stdout",
     "output_type": "stream",
     "text": [
      "9/9 [==============================] - 1s 4ms/step - loss: 0.3356\n",
      "Epoch 2/6\n",
      "9/9 [==============================] - 0s 4ms/step - loss: 0.2930\n",
      "Epoch 3/6\n",
      "9/9 [==============================] - 0s 4ms/step - loss: 0.2564\n",
      "Epoch 4/6\n",
      "9/9 [==============================] - 0s 3ms/step - loss: 0.2313\n",
      "Epoch 5/6\n",
      "9/9 [==============================] - 0s 4ms/step - loss: 0.1905\n",
      "Epoch 6/6\n",
      "9/9 [==============================] - 0s 4ms/step - loss: 0.1618\n",
      "1/1 [==============================] - 0s 136ms/step\n",
      "Epoch 1/6\n"
     ]
    },
    {
     "name": "stderr",
     "output_type": "stream",
     "text": [
      "C:\\Users\\vella\\Anaconda3\\lib\\site-packages\\ipykernel_launcher.py:20: UserWarning: `Model.fit_generator` is deprecated and will be removed in a future version. Please use `Model.fit`, which supports generators.\n"
     ]
    },
    {
     "name": "stdout",
     "output_type": "stream",
     "text": [
      "9/9 [==============================] - 1s 5ms/step - loss: 0.3244\n",
      "Epoch 2/6\n",
      "9/9 [==============================] - 0s 4ms/step - loss: 0.2848\n",
      "Epoch 3/6\n",
      "9/9 [==============================] - 0s 4ms/step - loss: 0.2498\n",
      "Epoch 4/6\n",
      "9/9 [==============================] - 0s 3ms/step - loss: 0.2260\n",
      "Epoch 5/6\n",
      "9/9 [==============================] - 0s 4ms/step - loss: 0.1961\n",
      "Epoch 6/6\n",
      "9/9 [==============================] - 0s 4ms/step - loss: 0.1691\n",
      "1/1 [==============================] - 0s 143ms/step\n",
      "Epoch 1/6\n"
     ]
    },
    {
     "name": "stderr",
     "output_type": "stream",
     "text": [
      "C:\\Users\\vella\\Anaconda3\\lib\\site-packages\\ipykernel_launcher.py:20: UserWarning: `Model.fit_generator` is deprecated and will be removed in a future version. Please use `Model.fit`, which supports generators.\n"
     ]
    },
    {
     "name": "stdout",
     "output_type": "stream",
     "text": [
      "9/9 [==============================] - 1s 4ms/step - loss: 0.3065\n",
      "Epoch 2/6\n",
      "9/9 [==============================] - 0s 4ms/step - loss: 0.2734\n",
      "Epoch 3/6\n",
      "9/9 [==============================] - 0s 4ms/step - loss: 0.2438\n",
      "Epoch 4/6\n",
      "9/9 [==============================] - 0s 4ms/step - loss: 0.2206\n",
      "Epoch 5/6\n",
      "9/9 [==============================] - 0s 4ms/step - loss: 0.1918\n",
      "Epoch 6/6\n",
      "9/9 [==============================] - 0s 4ms/step - loss: 0.1674\n",
      "1/1 [==============================] - 0s 145ms/step\n",
      "Epoch 1/6\n"
     ]
    },
    {
     "name": "stderr",
     "output_type": "stream",
     "text": [
      "C:\\Users\\vella\\Anaconda3\\lib\\site-packages\\ipykernel_launcher.py:20: UserWarning: `Model.fit_generator` is deprecated and will be removed in a future version. Please use `Model.fit`, which supports generators.\n"
     ]
    },
    {
     "name": "stdout",
     "output_type": "stream",
     "text": [
      "9/9 [==============================] - 1s 4ms/step - loss: 0.3038\n",
      "Epoch 2/6\n",
      "9/9 [==============================] - 0s 4ms/step - loss: 0.2664\n",
      "Epoch 3/6\n",
      "9/9 [==============================] - 0s 4ms/step - loss: 0.2339\n",
      "Epoch 4/6\n",
      "9/9 [==============================] - 0s 4ms/step - loss: 0.2132\n",
      "Epoch 5/6\n",
      "9/9 [==============================] - 0s 4ms/step - loss: 0.1893\n",
      "Epoch 6/6\n",
      "9/9 [==============================] - 0s 4ms/step - loss: 0.1616\n",
      "1/1 [==============================] - 0s 135ms/step\n",
      "Epoch 1/6\n"
     ]
    },
    {
     "name": "stderr",
     "output_type": "stream",
     "text": [
      "C:\\Users\\vella\\Anaconda3\\lib\\site-packages\\ipykernel_launcher.py:20: UserWarning: `Model.fit_generator` is deprecated and will be removed in a future version. Please use `Model.fit`, which supports generators.\n"
     ]
    },
    {
     "name": "stdout",
     "output_type": "stream",
     "text": [
      "9/9 [==============================] - 1s 4ms/step - loss: 0.2756\n",
      "Epoch 2/6\n",
      "9/9 [==============================] - 0s 4ms/step - loss: 0.2464\n",
      "Epoch 3/6\n",
      "9/9 [==============================] - 0s 4ms/step - loss: 0.2194\n",
      "Epoch 4/6\n",
      "9/9 [==============================] - 0s 4ms/step - loss: 0.1897\n",
      "Epoch 5/6\n",
      "9/9 [==============================] - 0s 4ms/step - loss: 0.1689\n",
      "Epoch 6/6\n",
      "9/9 [==============================] - 0s 4ms/step - loss: 0.1460\n",
      "1/1 [==============================] - 0s 135ms/step\n",
      "Epoch 1/6\n"
     ]
    },
    {
     "name": "stderr",
     "output_type": "stream",
     "text": [
      "C:\\Users\\vella\\Anaconda3\\lib\\site-packages\\ipykernel_launcher.py:20: UserWarning: `Model.fit_generator` is deprecated and will be removed in a future version. Please use `Model.fit`, which supports generators.\n"
     ]
    },
    {
     "name": "stdout",
     "output_type": "stream",
     "text": [
      "9/9 [==============================] - 1s 4ms/step - loss: 0.2666\n",
      "Epoch 2/6\n",
      "9/9 [==============================] - 0s 4ms/step - loss: 0.2283\n",
      "Epoch 3/6\n",
      "9/9 [==============================] - 0s 4ms/step - loss: 0.1957\n",
      "Epoch 4/6\n",
      "9/9 [==============================] - 0s 4ms/step - loss: 0.1689\n",
      "Epoch 5/6\n",
      "9/9 [==============================] - 0s 4ms/step - loss: 0.1462\n",
      "Epoch 6/6\n",
      "9/9 [==============================] - 0s 4ms/step - loss: 0.1164\n",
      "1/1 [==============================] - 0s 146ms/step\n",
      "Epoch 1/6\n"
     ]
    },
    {
     "name": "stderr",
     "output_type": "stream",
     "text": [
      "C:\\Users\\vella\\Anaconda3\\lib\\site-packages\\ipykernel_launcher.py:20: UserWarning: `Model.fit_generator` is deprecated and will be removed in a future version. Please use `Model.fit`, which supports generators.\n"
     ]
    },
    {
     "name": "stdout",
     "output_type": "stream",
     "text": [
      "9/9 [==============================] - 1s 4ms/step - loss: 0.2602\n",
      "Epoch 2/6\n",
      "9/9 [==============================] - 0s 4ms/step - loss: 0.2330\n",
      "Epoch 3/6\n",
      "9/9 [==============================] - 0s 4ms/step - loss: 0.2096\n",
      "Epoch 4/6\n",
      "9/9 [==============================] - 0s 4ms/step - loss: 0.1896\n",
      "Epoch 5/6\n",
      "9/9 [==============================] - 0s 4ms/step - loss: 0.1717\n",
      "Epoch 6/6\n",
      "9/9 [==============================] - 0s 4ms/step - loss: 0.1528\n",
      "1/1 [==============================] - 0s 136ms/step\n",
      "Epoch 1/6\n"
     ]
    },
    {
     "name": "stderr",
     "output_type": "stream",
     "text": [
      "C:\\Users\\vella\\Anaconda3\\lib\\site-packages\\ipykernel_launcher.py:20: UserWarning: `Model.fit_generator` is deprecated and will be removed in a future version. Please use `Model.fit`, which supports generators.\n"
     ]
    },
    {
     "name": "stdout",
     "output_type": "stream",
     "text": [
      "9/9 [==============================] - 1s 4ms/step - loss: 0.2469\n",
      "Epoch 2/6\n",
      "9/9 [==============================] - 0s 4ms/step - loss: 0.2213\n",
      "Epoch 3/6\n",
      "9/9 [==============================] - 0s 4ms/step - loss: 0.1981\n",
      "Epoch 4/6\n",
      "9/9 [==============================] - 0s 4ms/step - loss: 0.1762\n",
      "Epoch 5/6\n",
      "9/9 [==============================] - 0s 4ms/step - loss: 0.1568\n",
      "Epoch 6/6\n",
      "9/9 [==============================] - 0s 4ms/step - loss: 0.1400\n",
      "1/1 [==============================] - 0s 155ms/step\n",
      "Epoch 1/6\n"
     ]
    },
    {
     "name": "stderr",
     "output_type": "stream",
     "text": [
      "C:\\Users\\vella\\Anaconda3\\lib\\site-packages\\ipykernel_launcher.py:20: UserWarning: `Model.fit_generator` is deprecated and will be removed in a future version. Please use `Model.fit`, which supports generators.\n"
     ]
    },
    {
     "name": "stdout",
     "output_type": "stream",
     "text": [
      "9/9 [==============================] - 1s 4ms/step - loss: 0.2138\n",
      "Epoch 2/6\n",
      "9/9 [==============================] - 0s 4ms/step - loss: 0.1910\n",
      "Epoch 3/6\n",
      "9/9 [==============================] - 0s 4ms/step - loss: 0.1698\n",
      "Epoch 4/6\n",
      "9/9 [==============================] - 0s 4ms/step - loss: 0.1485\n",
      "Epoch 5/6\n",
      "9/9 [==============================] - 0s 4ms/step - loss: 0.1351\n",
      "Epoch 6/6\n",
      "9/9 [==============================] - 0s 4ms/step - loss: 0.1132\n",
      "1/1 [==============================] - 0s 139ms/step\n",
      "Epoch 1/6\n"
     ]
    },
    {
     "name": "stderr",
     "output_type": "stream",
     "text": [
      "C:\\Users\\vella\\Anaconda3\\lib\\site-packages\\ipykernel_launcher.py:20: UserWarning: `Model.fit_generator` is deprecated and will be removed in a future version. Please use `Model.fit`, which supports generators.\n"
     ]
    },
    {
     "name": "stdout",
     "output_type": "stream",
     "text": [
      "9/9 [==============================] - 1s 4ms/step - loss: 0.2682\n",
      "Epoch 2/6\n",
      "9/9 [==============================] - 0s 4ms/step - loss: 0.2433\n",
      "Epoch 3/6\n",
      "9/9 [==============================] - 0s 4ms/step - loss: 0.2203\n",
      "Epoch 4/6\n",
      "9/9 [==============================] - 0s 4ms/step - loss: 0.1990\n",
      "Epoch 5/6\n",
      "9/9 [==============================] - 0s 4ms/step - loss: 0.1810\n",
      "Epoch 6/6\n",
      "9/9 [==============================] - 0s 3ms/step - loss: 0.1581\n",
      "1/1 [==============================] - 0s 139ms/step\n",
      "Epoch 1/6\n"
     ]
    },
    {
     "name": "stderr",
     "output_type": "stream",
     "text": [
      "C:\\Users\\vella\\Anaconda3\\lib\\site-packages\\ipykernel_launcher.py:20: UserWarning: `Model.fit_generator` is deprecated and will be removed in a future version. Please use `Model.fit`, which supports generators.\n"
     ]
    },
    {
     "name": "stdout",
     "output_type": "stream",
     "text": [
      "9/9 [==============================] - 1s 4ms/step - loss: 0.2828\n",
      "Epoch 2/6\n",
      "9/9 [==============================] - 0s 4ms/step - loss: 0.2524\n",
      "Epoch 3/6\n",
      "9/9 [==============================] - 0s 4ms/step - loss: 0.2336\n",
      "Epoch 4/6\n",
      "9/9 [==============================] - 0s 4ms/step - loss: 0.2113\n",
      "Epoch 5/6\n",
      "9/9 [==============================] - 0s 4ms/step - loss: 0.1969\n",
      "Epoch 6/6\n",
      "9/9 [==============================] - 0s 4ms/step - loss: 0.1755\n",
      "1/1 [==============================] - 0s 457ms/step\n",
      "Epoch 1/6\n"
     ]
    },
    {
     "name": "stderr",
     "output_type": "stream",
     "text": [
      "C:\\Users\\vella\\Anaconda3\\lib\\site-packages\\ipykernel_launcher.py:20: UserWarning: `Model.fit_generator` is deprecated and will be removed in a future version. Please use `Model.fit`, which supports generators.\n"
     ]
    },
    {
     "name": "stdout",
     "output_type": "stream",
     "text": [
      "9/9 [==============================] - 1s 4ms/step - loss: 0.2587\n",
      "Epoch 2/6\n",
      "9/9 [==============================] - 0s 4ms/step - loss: 0.2275\n",
      "Epoch 3/6\n",
      "9/9 [==============================] - 0s 4ms/step - loss: 0.2110\n",
      "Epoch 4/6\n",
      "9/9 [==============================] - 0s 4ms/step - loss: 0.1842\n",
      "Epoch 5/6\n",
      "9/9 [==============================] - 0s 4ms/step - loss: 0.1666\n",
      "Epoch 6/6\n",
      "9/9 [==============================] - 0s 4ms/step - loss: 0.1501\n",
      "1/1 [==============================] - 0s 144ms/step\n",
      "Epoch 1/6\n"
     ]
    },
    {
     "name": "stderr",
     "output_type": "stream",
     "text": [
      "C:\\Users\\vella\\Anaconda3\\lib\\site-packages\\ipykernel_launcher.py:20: UserWarning: `Model.fit_generator` is deprecated and will be removed in a future version. Please use `Model.fit`, which supports generators.\n"
     ]
    },
    {
     "name": "stdout",
     "output_type": "stream",
     "text": [
      "9/9 [==============================] - 1s 4ms/step - loss: 0.2774\n",
      "Epoch 2/6\n",
      "9/9 [==============================] - 0s 4ms/step - loss: 0.2465\n",
      "Epoch 3/6\n",
      "9/9 [==============================] - 0s 4ms/step - loss: 0.2259\n",
      "Epoch 4/6\n",
      "9/9 [==============================] - 0s 4ms/step - loss: 0.2059\n",
      "Epoch 5/6\n",
      "9/9 [==============================] - 0s 4ms/step - loss: 0.1788\n",
      "Epoch 6/6\n",
      "9/9 [==============================] - 0s 4ms/step - loss: 0.1625\n",
      "1/1 [==============================] - 0s 135ms/step\n",
      "Epoch 1/6\n"
     ]
    },
    {
     "name": "stderr",
     "output_type": "stream",
     "text": [
      "C:\\Users\\vella\\Anaconda3\\lib\\site-packages\\ipykernel_launcher.py:20: UserWarning: `Model.fit_generator` is deprecated and will be removed in a future version. Please use `Model.fit`, which supports generators.\n"
     ]
    },
    {
     "name": "stdout",
     "output_type": "stream",
     "text": [
      "9/9 [==============================] - 1s 4ms/step - loss: 0.2700\n",
      "Epoch 2/6\n",
      "9/9 [==============================] - 0s 4ms/step - loss: 0.2416\n",
      "Epoch 3/6\n",
      "9/9 [==============================] - 0s 4ms/step - loss: 0.2195\n",
      "Epoch 4/6\n",
      "9/9 [==============================] - 0s 4ms/step - loss: 0.1981\n",
      "Epoch 5/6\n",
      "9/9 [==============================] - 0s 4ms/step - loss: 0.1791\n",
      "Epoch 6/6\n",
      "9/9 [==============================] - 0s 4ms/step - loss: 0.1606\n",
      "1/1 [==============================] - 0s 137ms/step\n",
      "Epoch 1/6\n"
     ]
    },
    {
     "name": "stderr",
     "output_type": "stream",
     "text": [
      "C:\\Users\\vella\\Anaconda3\\lib\\site-packages\\ipykernel_launcher.py:20: UserWarning: `Model.fit_generator` is deprecated and will be removed in a future version. Please use `Model.fit`, which supports generators.\n"
     ]
    },
    {
     "name": "stdout",
     "output_type": "stream",
     "text": [
      "9/9 [==============================] - 1s 4ms/step - loss: 0.2534\n",
      "Epoch 2/6\n",
      "9/9 [==============================] - 0s 4ms/step - loss: 0.2234\n",
      "Epoch 3/6\n",
      "9/9 [==============================] - 0s 4ms/step - loss: 0.2006\n",
      "Epoch 4/6\n",
      "9/9 [==============================] - 0s 4ms/step - loss: 0.1792\n",
      "Epoch 5/6\n",
      "9/9 [==============================] - 0s 4ms/step - loss: 0.1598\n",
      "Epoch 6/6\n",
      "9/9 [==============================] - 0s 4ms/step - loss: 0.1382\n",
      "1/1 [==============================] - 0s 134ms/step\n",
      "Epoch 1/6\n"
     ]
    },
    {
     "name": "stderr",
     "output_type": "stream",
     "text": [
      "C:\\Users\\vella\\Anaconda3\\lib\\site-packages\\ipykernel_launcher.py:20: UserWarning: `Model.fit_generator` is deprecated and will be removed in a future version. Please use `Model.fit`, which supports generators.\n"
     ]
    },
    {
     "name": "stdout",
     "output_type": "stream",
     "text": [
      "9/9 [==============================] - 1s 4ms/step - loss: 0.2303\n",
      "Epoch 2/6\n",
      "9/9 [==============================] - 0s 4ms/step - loss: 0.2093\n",
      "Epoch 3/6\n",
      "9/9 [==============================] - 0s 4ms/step - loss: 0.1795\n",
      "Epoch 4/6\n",
      "9/9 [==============================] - 0s 4ms/step - loss: 0.1643\n",
      "Epoch 5/6\n",
      "9/9 [==============================] - 0s 4ms/step - loss: 0.1402\n",
      "Epoch 6/6\n",
      "9/9 [==============================] - 0s 4ms/step - loss: 0.1220\n",
      "1/1 [==============================] - 0s 134ms/step\n",
      "Epoch 1/6\n"
     ]
    },
    {
     "name": "stderr",
     "output_type": "stream",
     "text": [
      "C:\\Users\\vella\\Anaconda3\\lib\\site-packages\\ipykernel_launcher.py:20: UserWarning: `Model.fit_generator` is deprecated and will be removed in a future version. Please use `Model.fit`, which supports generators.\n"
     ]
    },
    {
     "name": "stdout",
     "output_type": "stream",
     "text": [
      "9/9 [==============================] - 1s 4ms/step - loss: 0.2116\n",
      "Epoch 2/6\n",
      "9/9 [==============================] - 0s 4ms/step - loss: 0.1850\n",
      "Epoch 3/6\n",
      "9/9 [==============================] - 0s 4ms/step - loss: 0.1708\n",
      "Epoch 4/6\n",
      "9/9 [==============================] - 0s 3ms/step - loss: 0.1499\n",
      "Epoch 5/6\n",
      "9/9 [==============================] - 0s 3ms/step - loss: 0.1315\n",
      "Epoch 6/6\n",
      "9/9 [==============================] - 0s 4ms/step - loss: 0.1121\n",
      "1/1 [==============================] - 0s 135ms/step\n",
      "Epoch 1/6\n"
     ]
    },
    {
     "name": "stderr",
     "output_type": "stream",
     "text": [
      "C:\\Users\\vella\\Anaconda3\\lib\\site-packages\\ipykernel_launcher.py:20: UserWarning: `Model.fit_generator` is deprecated and will be removed in a future version. Please use `Model.fit`, which supports generators.\n"
     ]
    },
    {
     "name": "stdout",
     "output_type": "stream",
     "text": [
      "9/9 [==============================] - 1s 4ms/step - loss: 0.2006\n",
      "Epoch 2/6\n",
      "9/9 [==============================] - 0s 4ms/step - loss: 0.1758\n",
      "Epoch 3/6\n",
      "9/9 [==============================] - 0s 4ms/step - loss: 0.1563\n",
      "Epoch 4/6\n",
      "9/9 [==============================] - 0s 4ms/step - loss: 0.1384\n",
      "Epoch 5/6\n",
      "9/9 [==============================] - 0s 4ms/step - loss: 0.1195\n",
      "Epoch 6/6\n",
      "9/9 [==============================] - 0s 3ms/step - loss: 0.1035\n",
      "1/1 [==============================] - 0s 135ms/step\n",
      "Epoch 1/6\n"
     ]
    },
    {
     "name": "stderr",
     "output_type": "stream",
     "text": [
      "C:\\Users\\vella\\Anaconda3\\lib\\site-packages\\ipykernel_launcher.py:20: UserWarning: `Model.fit_generator` is deprecated and will be removed in a future version. Please use `Model.fit`, which supports generators.\n"
     ]
    },
    {
     "name": "stdout",
     "output_type": "stream",
     "text": [
      "9/9 [==============================] - 1s 4ms/step - loss: 0.1756\n",
      "Epoch 2/6\n",
      "9/9 [==============================] - 0s 4ms/step - loss: 0.1642\n",
      "Epoch 3/6\n",
      "9/9 [==============================] - 0s 4ms/step - loss: 0.1436\n",
      "Epoch 4/6\n",
      "9/9 [==============================] - 0s 4ms/step - loss: 0.1317\n",
      "Epoch 5/6\n",
      "9/9 [==============================] - 0s 4ms/step - loss: 0.1140\n",
      "Epoch 6/6\n",
      "9/9 [==============================] - 0s 4ms/step - loss: 0.1032\n",
      "1/1 [==============================] - 0s 134ms/step\n",
      "Epoch 1/6\n"
     ]
    },
    {
     "name": "stderr",
     "output_type": "stream",
     "text": [
      "C:\\Users\\vella\\Anaconda3\\lib\\site-packages\\ipykernel_launcher.py:20: UserWarning: `Model.fit_generator` is deprecated and will be removed in a future version. Please use `Model.fit`, which supports generators.\n"
     ]
    },
    {
     "name": "stdout",
     "output_type": "stream",
     "text": [
      "9/9 [==============================] - 1s 4ms/step - loss: 0.1650\n",
      "Epoch 2/6\n",
      "9/9 [==============================] - 0s 4ms/step - loss: 0.1449\n",
      "Epoch 3/6\n",
      "9/9 [==============================] - 0s 4ms/step - loss: 0.1314\n",
      "Epoch 4/6\n",
      "9/9 [==============================] - 0s 4ms/step - loss: 0.1129\n",
      "Epoch 5/6\n",
      "9/9 [==============================] - 0s 4ms/step - loss: 0.0961\n",
      "Epoch 6/6\n",
      "9/9 [==============================] - 0s 4ms/step - loss: 0.0843\n",
      "1/1 [==============================] - 0s 133ms/step\n",
      "Epoch 1/6\n"
     ]
    },
    {
     "name": "stderr",
     "output_type": "stream",
     "text": [
      "C:\\Users\\vella\\Anaconda3\\lib\\site-packages\\ipykernel_launcher.py:20: UserWarning: `Model.fit_generator` is deprecated and will be removed in a future version. Please use `Model.fit`, which supports generators.\n"
     ]
    },
    {
     "name": "stdout",
     "output_type": "stream",
     "text": [
      "9/9 [==============================] - 1s 4ms/step - loss: 0.1673\n",
      "Epoch 2/6\n",
      "9/9 [==============================] - 0s 4ms/step - loss: 0.1475\n",
      "Epoch 3/6\n",
      "9/9 [==============================] - 0s 4ms/step - loss: 0.1343\n",
      "Epoch 4/6\n",
      "9/9 [==============================] - 0s 4ms/step - loss: 0.1214\n",
      "Epoch 5/6\n",
      "9/9 [==============================] - 0s 4ms/step - loss: 0.1102\n",
      "Epoch 6/6\n",
      "9/9 [==============================] - 0s 4ms/step - loss: 0.0979\n",
      "1/1 [==============================] - 0s 131ms/step\n",
      "Epoch 1/6\n"
     ]
    },
    {
     "name": "stderr",
     "output_type": "stream",
     "text": [
      "C:\\Users\\vella\\Anaconda3\\lib\\site-packages\\ipykernel_launcher.py:20: UserWarning: `Model.fit_generator` is deprecated and will be removed in a future version. Please use `Model.fit`, which supports generators.\n"
     ]
    },
    {
     "name": "stdout",
     "output_type": "stream",
     "text": [
      "9/9 [==============================] - 1s 4ms/step - loss: 0.1424\n",
      "Epoch 2/6\n",
      "9/9 [==============================] - 0s 4ms/step - loss: 0.1292\n",
      "Epoch 3/6\n",
      "9/9 [==============================] - 0s 4ms/step - loss: 0.1109\n",
      "Epoch 4/6\n",
      "9/9 [==============================] - 0s 4ms/step - loss: 0.0984\n",
      "Epoch 5/6\n",
      "9/9 [==============================] - 0s 4ms/step - loss: 0.0865\n",
      "Epoch 6/6\n",
      "9/9 [==============================] - 0s 4ms/step - loss: 0.0746\n",
      "1/1 [==============================] - 0s 134ms/step\n",
      "Epoch 1/6\n"
     ]
    },
    {
     "name": "stderr",
     "output_type": "stream",
     "text": [
      "C:\\Users\\vella\\Anaconda3\\lib\\site-packages\\ipykernel_launcher.py:20: UserWarning: `Model.fit_generator` is deprecated and will be removed in a future version. Please use `Model.fit`, which supports generators.\n"
     ]
    },
    {
     "name": "stdout",
     "output_type": "stream",
     "text": [
      "9/9 [==============================] - 1s 4ms/step - loss: 0.1292\n",
      "Epoch 2/6\n",
      "9/9 [==============================] - 0s 4ms/step - loss: 0.1128\n",
      "Epoch 3/6\n",
      "9/9 [==============================] - 0s 4ms/step - loss: 0.0940\n",
      "Epoch 4/6\n",
      "9/9 [==============================] - 0s 4ms/step - loss: 0.0826\n",
      "Epoch 5/6\n",
      "9/9 [==============================] - 0s 4ms/step - loss: 0.0665\n",
      "Epoch 6/6\n",
      "9/9 [==============================] - 0s 3ms/step - loss: 0.0578\n",
      "1/1 [==============================] - 0s 135ms/step\n",
      "Epoch 1/6\n"
     ]
    },
    {
     "name": "stderr",
     "output_type": "stream",
     "text": [
      "C:\\Users\\vella\\Anaconda3\\lib\\site-packages\\ipykernel_launcher.py:20: UserWarning: `Model.fit_generator` is deprecated and will be removed in a future version. Please use `Model.fit`, which supports generators.\n"
     ]
    },
    {
     "name": "stdout",
     "output_type": "stream",
     "text": [
      "9/9 [==============================] - 1s 4ms/step - loss: 0.1605\n",
      "Epoch 2/6\n",
      "9/9 [==============================] - 0s 4ms/step - loss: 0.1411\n",
      "Epoch 3/6\n",
      "9/9 [==============================] - 0s 4ms/step - loss: 0.1258\n",
      "Epoch 4/6\n",
      "9/9 [==============================] - 0s 4ms/step - loss: 0.1099\n",
      "Epoch 5/6\n",
      "9/9 [==============================] - 0s 4ms/step - loss: 0.0941\n",
      "Epoch 6/6\n",
      "9/9 [==============================] - 0s 4ms/step - loss: 0.0818\n",
      "1/1 [==============================] - 0s 134ms/step\n",
      "Epoch 1/6\n"
     ]
    },
    {
     "name": "stderr",
     "output_type": "stream",
     "text": [
      "C:\\Users\\vella\\Anaconda3\\lib\\site-packages\\ipykernel_launcher.py:20: UserWarning: `Model.fit_generator` is deprecated and will be removed in a future version. Please use `Model.fit`, which supports generators.\n"
     ]
    },
    {
     "name": "stdout",
     "output_type": "stream",
     "text": [
      "9/9 [==============================] - 1s 4ms/step - loss: 0.1614\n",
      "Epoch 2/6\n",
      "9/9 [==============================] - 0s 4ms/step - loss: 0.1397\n",
      "Epoch 3/6\n",
      "9/9 [==============================] - 0s 4ms/step - loss: 0.1240\n",
      "Epoch 4/6\n",
      "9/9 [==============================] - 0s 4ms/step - loss: 0.1119\n",
      "Epoch 5/6\n",
      "9/9 [==============================] - 0s 3ms/step - loss: 0.0957\n",
      "Epoch 6/6\n",
      "9/9 [==============================] - 0s 3ms/step - loss: 0.0829\n",
      "1/1 [==============================] - 0s 134ms/step\n",
      "Epoch 1/6\n"
     ]
    },
    {
     "name": "stderr",
     "output_type": "stream",
     "text": [
      "C:\\Users\\vella\\Anaconda3\\lib\\site-packages\\ipykernel_launcher.py:20: UserWarning: `Model.fit_generator` is deprecated and will be removed in a future version. Please use `Model.fit`, which supports generators.\n"
     ]
    },
    {
     "name": "stdout",
     "output_type": "stream",
     "text": [
      "9/9 [==============================] - 1s 4ms/step - loss: 0.1454\n",
      "Epoch 2/6\n",
      "9/9 [==============================] - 0s 4ms/step - loss: 0.1258\n",
      "Epoch 3/6\n",
      "9/9 [==============================] - 0s 4ms/step - loss: 0.1073\n",
      "Epoch 4/6\n",
      "9/9 [==============================] - 0s 3ms/step - loss: 0.0948\n",
      "Epoch 5/6\n",
      "9/9 [==============================] - 0s 3ms/step - loss: 0.0794\n",
      "Epoch 6/6\n",
      "9/9 [==============================] - 0s 4ms/step - loss: 0.0708\n",
      "1/1 [==============================] - 0s 137ms/step\n",
      "Epoch 1/6\n"
     ]
    },
    {
     "name": "stderr",
     "output_type": "stream",
     "text": [
      "C:\\Users\\vella\\Anaconda3\\lib\\site-packages\\ipykernel_launcher.py:20: UserWarning: `Model.fit_generator` is deprecated and will be removed in a future version. Please use `Model.fit`, which supports generators.\n"
     ]
    },
    {
     "name": "stdout",
     "output_type": "stream",
     "text": [
      "9/9 [==============================] - 1s 4ms/step - loss: 0.1294\n",
      "Epoch 2/6\n",
      "9/9 [==============================] - 0s 4ms/step - loss: 0.1100\n",
      "Epoch 3/6\n",
      "9/9 [==============================] - 0s 4ms/step - loss: 0.0980\n",
      "Epoch 4/6\n",
      "9/9 [==============================] - 0s 4ms/step - loss: 0.0874\n",
      "Epoch 5/6\n",
      "9/9 [==============================] - 0s 4ms/step - loss: 0.0730\n",
      "Epoch 6/6\n",
      "9/9 [==============================] - 0s 3ms/step - loss: 0.0624\n",
      "1/1 [==============================] - 0s 134ms/step\n",
      "Epoch 1/6\n"
     ]
    },
    {
     "name": "stderr",
     "output_type": "stream",
     "text": [
      "C:\\Users\\vella\\Anaconda3\\lib\\site-packages\\ipykernel_launcher.py:20: UserWarning: `Model.fit_generator` is deprecated and will be removed in a future version. Please use `Model.fit`, which supports generators.\n"
     ]
    },
    {
     "name": "stdout",
     "output_type": "stream",
     "text": [
      "9/9 [==============================] - 1s 4ms/step - loss: 0.1249\n",
      "Epoch 2/6\n",
      "9/9 [==============================] - 0s 4ms/step - loss: 0.1059\n",
      "Epoch 3/6\n",
      "9/9 [==============================] - 0s 4ms/step - loss: 0.0931\n",
      "Epoch 4/6\n",
      "9/9 [==============================] - 0s 4ms/step - loss: 0.0800\n",
      "Epoch 5/6\n",
      "9/9 [==============================] - 0s 4ms/step - loss: 0.0682\n",
      "Epoch 6/6\n",
      "9/9 [==============================] - 0s 5ms/step - loss: 0.0603\n",
      "1/1 [==============================] - 0s 136ms/step\n",
      "Epoch 1/6\n"
     ]
    },
    {
     "name": "stderr",
     "output_type": "stream",
     "text": [
      "C:\\Users\\vella\\Anaconda3\\lib\\site-packages\\ipykernel_launcher.py:20: UserWarning: `Model.fit_generator` is deprecated and will be removed in a future version. Please use `Model.fit`, which supports generators.\n"
     ]
    },
    {
     "name": "stdout",
     "output_type": "stream",
     "text": [
      "9/9 [==============================] - 1s 4ms/step - loss: 0.1085\n",
      "Epoch 2/6\n",
      "9/9 [==============================] - 0s 4ms/step - loss: 0.0892\n",
      "Epoch 3/6\n",
      "9/9 [==============================] - 0s 4ms/step - loss: 0.0780\n",
      "Epoch 4/6\n",
      "9/9 [==============================] - 0s 4ms/step - loss: 0.0646\n",
      "Epoch 5/6\n",
      "9/9 [==============================] - 0s 4ms/step - loss: 0.0531\n",
      "Epoch 6/6\n",
      "9/9 [==============================] - 0s 4ms/step - loss: 0.0421\n",
      "1/1 [==============================] - 0s 133ms/step\n",
      "Epoch 1/6\n"
     ]
    },
    {
     "name": "stderr",
     "output_type": "stream",
     "text": [
      "C:\\Users\\vella\\Anaconda3\\lib\\site-packages\\ipykernel_launcher.py:20: UserWarning: `Model.fit_generator` is deprecated and will be removed in a future version. Please use `Model.fit`, which supports generators.\n"
     ]
    },
    {
     "name": "stdout",
     "output_type": "stream",
     "text": [
      "9/9 [==============================] - 1s 4ms/step - loss: 0.0900\n",
      "Epoch 2/6\n",
      "9/9 [==============================] - 0s 4ms/step - loss: 0.0729\n",
      "Epoch 3/6\n",
      "9/9 [==============================] - 0s 4ms/step - loss: 0.0620\n",
      "Epoch 4/6\n",
      "9/9 [==============================] - 0s 4ms/step - loss: 0.0495\n",
      "Epoch 5/6\n",
      "9/9 [==============================] - 0s 4ms/step - loss: 0.0416\n",
      "Epoch 6/6\n",
      "9/9 [==============================] - 0s 4ms/step - loss: 0.0310\n",
      "1/1 [==============================] - 0s 133ms/step\n",
      "Epoch 1/6\n"
     ]
    },
    {
     "name": "stderr",
     "output_type": "stream",
     "text": [
      "C:\\Users\\vella\\Anaconda3\\lib\\site-packages\\ipykernel_launcher.py:20: UserWarning: `Model.fit_generator` is deprecated and will be removed in a future version. Please use `Model.fit`, which supports generators.\n"
     ]
    },
    {
     "name": "stdout",
     "output_type": "stream",
     "text": [
      "9/9 [==============================] - 1s 4ms/step - loss: 0.1371\n",
      "Epoch 2/6\n",
      "9/9 [==============================] - 0s 4ms/step - loss: 0.1167\n",
      "Epoch 3/6\n",
      "9/9 [==============================] - 0s 4ms/step - loss: 0.0965\n",
      "Epoch 4/6\n",
      "9/9 [==============================] - 0s 4ms/step - loss: 0.0822\n",
      "Epoch 5/6\n",
      "9/9 [==============================] - 0s 4ms/step - loss: 0.0628\n",
      "Epoch 6/6\n",
      "9/9 [==============================] - 0s 4ms/step - loss: 0.0496\n",
      "1/1 [==============================] - 0s 133ms/step\n",
      "Epoch 1/6\n"
     ]
    },
    {
     "name": "stderr",
     "output_type": "stream",
     "text": [
      "C:\\Users\\vella\\Anaconda3\\lib\\site-packages\\ipykernel_launcher.py:20: UserWarning: `Model.fit_generator` is deprecated and will be removed in a future version. Please use `Model.fit`, which supports generators.\n"
     ]
    },
    {
     "name": "stdout",
     "output_type": "stream",
     "text": [
      "9/9 [==============================] - 1s 4ms/step - loss: 0.1352\n",
      "Epoch 2/6\n",
      "9/9 [==============================] - 0s 4ms/step - loss: 0.1137\n",
      "Epoch 3/6\n",
      "9/9 [==============================] - 0s 4ms/step - loss: 0.0955\n",
      "Epoch 4/6\n",
      "9/9 [==============================] - 0s 4ms/step - loss: 0.0795\n",
      "Epoch 5/6\n",
      "9/9 [==============================] - 0s 4ms/step - loss: 0.0636\n",
      "Epoch 6/6\n",
      "9/9 [==============================] - 0s 4ms/step - loss: 0.0475\n",
      "1/1 [==============================] - 0s 135ms/step\n",
      "Epoch 1/6\n"
     ]
    },
    {
     "name": "stderr",
     "output_type": "stream",
     "text": [
      "C:\\Users\\vella\\Anaconda3\\lib\\site-packages\\ipykernel_launcher.py:20: UserWarning: `Model.fit_generator` is deprecated and will be removed in a future version. Please use `Model.fit`, which supports generators.\n"
     ]
    },
    {
     "name": "stdout",
     "output_type": "stream",
     "text": [
      "9/9 [==============================] - 1s 4ms/step - loss: 0.2561\n",
      "Epoch 2/6\n",
      "9/9 [==============================] - 0s 4ms/step - loss: 0.2222\n",
      "Epoch 3/6\n",
      "9/9 [==============================] - 0s 4ms/step - loss: 0.1927\n",
      "Epoch 4/6\n",
      "9/9 [==============================] - 0s 4ms/step - loss: 0.1657\n",
      "Epoch 5/6\n",
      "9/9 [==============================] - 0s 4ms/step - loss: 0.1349\n",
      "Epoch 6/6\n",
      "9/9 [==============================] - 0s 4ms/step - loss: 0.1119\n",
      "1/1 [==============================] - 0s 134ms/step\n",
      "Epoch 1/6\n"
     ]
    },
    {
     "name": "stderr",
     "output_type": "stream",
     "text": [
      "C:\\Users\\vella\\Anaconda3\\lib\\site-packages\\ipykernel_launcher.py:20: UserWarning: `Model.fit_generator` is deprecated and will be removed in a future version. Please use `Model.fit`, which supports generators.\n"
     ]
    },
    {
     "name": "stdout",
     "output_type": "stream",
     "text": [
      "9/9 [==============================] - 1s 4ms/step - loss: 0.2352\n",
      "Epoch 2/6\n",
      "9/9 [==============================] - 0s 4ms/step - loss: 0.2036\n",
      "Epoch 3/6\n",
      "9/9 [==============================] - 0s 4ms/step - loss: 0.1758\n",
      "Epoch 4/6\n",
      "9/9 [==============================] - 0s 4ms/step - loss: 0.1549\n",
      "Epoch 5/6\n",
      "9/9 [==============================] - 0s 4ms/step - loss: 0.1331\n",
      "Epoch 6/6\n",
      "9/9 [==============================] - 0s 4ms/step - loss: 0.1140\n",
      "1/1 [==============================] - 0s 132ms/step\n",
      "Epoch 1/6\n"
     ]
    },
    {
     "name": "stderr",
     "output_type": "stream",
     "text": [
      "C:\\Users\\vella\\Anaconda3\\lib\\site-packages\\ipykernel_launcher.py:20: UserWarning: `Model.fit_generator` is deprecated and will be removed in a future version. Please use `Model.fit`, which supports generators.\n"
     ]
    },
    {
     "name": "stdout",
     "output_type": "stream",
     "text": [
      "9/9 [==============================] - 1s 4ms/step - loss: 0.2362\n",
      "Epoch 2/6\n",
      "9/9 [==============================] - 0s 4ms/step - loss: 0.2079\n",
      "Epoch 3/6\n",
      "9/9 [==============================] - 0s 4ms/step - loss: 0.1820\n",
      "Epoch 4/6\n",
      "9/9 [==============================] - 0s 4ms/step - loss: 0.1609\n",
      "Epoch 5/6\n",
      "9/9 [==============================] - 0s 4ms/step - loss: 0.1393\n",
      "Epoch 6/6\n",
      "9/9 [==============================] - 0s 4ms/step - loss: 0.1151\n",
      "1/1 [==============================] - 0s 131ms/step\n",
      "Epoch 1/6\n"
     ]
    },
    {
     "name": "stderr",
     "output_type": "stream",
     "text": [
      "C:\\Users\\vella\\Anaconda3\\lib\\site-packages\\ipykernel_launcher.py:20: UserWarning: `Model.fit_generator` is deprecated and will be removed in a future version. Please use `Model.fit`, which supports generators.\n"
     ]
    },
    {
     "name": "stdout",
     "output_type": "stream",
     "text": [
      "9/9 [==============================] - 1s 4ms/step - loss: 0.2431\n",
      "Epoch 2/6\n",
      "9/9 [==============================] - 0s 4ms/step - loss: 0.2109\n",
      "Epoch 3/6\n",
      "9/9 [==============================] - 0s 4ms/step - loss: 0.1792\n",
      "Epoch 4/6\n",
      "9/9 [==============================] - 0s 4ms/step - loss: 0.1563\n",
      "Epoch 5/6\n",
      "9/9 [==============================] - 0s 4ms/step - loss: 0.1356\n",
      "Epoch 6/6\n",
      "9/9 [==============================] - 0s 4ms/step - loss: 0.1118\n",
      "1/1 [==============================] - 0s 141ms/step\n",
      "Epoch 1/6\n"
     ]
    },
    {
     "name": "stderr",
     "output_type": "stream",
     "text": [
      "C:\\Users\\vella\\Anaconda3\\lib\\site-packages\\ipykernel_launcher.py:20: UserWarning: `Model.fit_generator` is deprecated and will be removed in a future version. Please use `Model.fit`, which supports generators.\n"
     ]
    },
    {
     "name": "stdout",
     "output_type": "stream",
     "text": [
      "9/9 [==============================] - 1s 4ms/step - loss: 0.2477\n",
      "Epoch 2/6\n",
      "9/9 [==============================] - 0s 4ms/step - loss: 0.2061\n",
      "Epoch 3/6\n",
      "9/9 [==============================] - 0s 4ms/step - loss: 0.1780\n",
      "Epoch 4/6\n",
      "9/9 [==============================] - 0s 4ms/step - loss: 0.1493\n",
      "Epoch 5/6\n",
      "9/9 [==============================] - 0s 4ms/step - loss: 0.1263\n",
      "Epoch 6/6\n",
      "9/9 [==============================] - 0s 4ms/step - loss: 0.0989\n",
      "1/1 [==============================] - 0s 141ms/step\n",
      "Epoch 1/6\n"
     ]
    },
    {
     "name": "stderr",
     "output_type": "stream",
     "text": [
      "C:\\Users\\vella\\Anaconda3\\lib\\site-packages\\ipykernel_launcher.py:20: UserWarning: `Model.fit_generator` is deprecated and will be removed in a future version. Please use `Model.fit`, which supports generators.\n"
     ]
    },
    {
     "name": "stdout",
     "output_type": "stream",
     "text": [
      "9/9 [==============================] - 1s 4ms/step - loss: 0.2395\n",
      "Epoch 2/6\n",
      "9/9 [==============================] - 0s 5ms/step - loss: 0.2104\n",
      "Epoch 3/6\n",
      "9/9 [==============================] - 0s 5ms/step - loss: 0.1889\n",
      "Epoch 4/6\n",
      "9/9 [==============================] - 0s 4ms/step - loss: 0.1647\n",
      "Epoch 5/6\n",
      "9/9 [==============================] - 0s 5ms/step - loss: 0.1460\n",
      "Epoch 6/6\n",
      "9/9 [==============================] - 0s 5ms/step - loss: 0.1184\n",
      "1/1 [==============================] - 0s 148ms/step\n",
      "Epoch 1/6\n"
     ]
    },
    {
     "name": "stderr",
     "output_type": "stream",
     "text": [
      "C:\\Users\\vella\\Anaconda3\\lib\\site-packages\\ipykernel_launcher.py:20: UserWarning: `Model.fit_generator` is deprecated and will be removed in a future version. Please use `Model.fit`, which supports generators.\n"
     ]
    },
    {
     "name": "stdout",
     "output_type": "stream",
     "text": [
      "9/9 [==============================] - 1s 4ms/step - loss: 0.2108\n",
      "Epoch 2/6\n",
      "9/9 [==============================] - 0s 5ms/step - loss: 0.1845\n",
      "Epoch 3/6\n",
      "9/9 [==============================] - 0s 4ms/step - loss: 0.1635\n",
      "Epoch 4/6\n",
      "9/9 [==============================] - 0s 4ms/step - loss: 0.1434\n",
      "Epoch 5/6\n",
      "9/9 [==============================] - 0s 4ms/step - loss: 0.1278\n",
      "Epoch 6/6\n",
      "9/9 [==============================] - 0s 4ms/step - loss: 0.1039\n",
      "1/1 [==============================] - 0s 152ms/step\n",
      "Epoch 1/6\n"
     ]
    },
    {
     "name": "stderr",
     "output_type": "stream",
     "text": [
      "C:\\Users\\vella\\Anaconda3\\lib\\site-packages\\ipykernel_launcher.py:20: UserWarning: `Model.fit_generator` is deprecated and will be removed in a future version. Please use `Model.fit`, which supports generators.\n"
     ]
    },
    {
     "name": "stdout",
     "output_type": "stream",
     "text": [
      "9/9 [==============================] - 1s 4ms/step - loss: 0.1606\n",
      "Epoch 2/6\n",
      "9/9 [==============================] - 0s 5ms/step - loss: 0.1410\n",
      "Epoch 3/6\n",
      "9/9 [==============================] - 0s 4ms/step - loss: 0.1252\n",
      "Epoch 4/6\n",
      "9/9 [==============================] - 0s 4ms/step - loss: 0.1122\n",
      "Epoch 5/6\n",
      "9/9 [==============================] - 0s 4ms/step - loss: 0.0968\n",
      "Epoch 6/6\n",
      "9/9 [==============================] - 0s 4ms/step - loss: 0.0844\n",
      "1/1 [==============================] - 0s 153ms/step\n",
      "Epoch 1/6\n"
     ]
    },
    {
     "name": "stderr",
     "output_type": "stream",
     "text": [
      "C:\\Users\\vella\\Anaconda3\\lib\\site-packages\\ipykernel_launcher.py:20: UserWarning: `Model.fit_generator` is deprecated and will be removed in a future version. Please use `Model.fit`, which supports generators.\n"
     ]
    },
    {
     "name": "stdout",
     "output_type": "stream",
     "text": [
      "9/9 [==============================] - 1s 4ms/step - loss: 0.1752\n",
      "Epoch 2/6\n",
      "9/9 [==============================] - 0s 4ms/step - loss: 0.1522\n",
      "Epoch 3/6\n",
      "9/9 [==============================] - 0s 4ms/step - loss: 0.1349\n",
      "Epoch 4/6\n",
      "9/9 [==============================] - 0s 4ms/step - loss: 0.1168\n",
      "Epoch 5/6\n",
      "9/9 [==============================] - 0s 4ms/step - loss: 0.1025\n",
      "Epoch 6/6\n",
      "9/9 [==============================] - 0s 4ms/step - loss: 0.0898\n",
      "1/1 [==============================] - 0s 137ms/step\n",
      "Epoch 1/6\n"
     ]
    },
    {
     "name": "stderr",
     "output_type": "stream",
     "text": [
      "C:\\Users\\vella\\Anaconda3\\lib\\site-packages\\ipykernel_launcher.py:20: UserWarning: `Model.fit_generator` is deprecated and will be removed in a future version. Please use `Model.fit`, which supports generators.\n"
     ]
    },
    {
     "name": "stdout",
     "output_type": "stream",
     "text": [
      "9/9 [==============================] - 1s 4ms/step - loss: 0.1789\n",
      "Epoch 2/6\n",
      "9/9 [==============================] - 0s 4ms/step - loss: 0.1608\n",
      "Epoch 3/6\n",
      "9/9 [==============================] - 0s 4ms/step - loss: 0.1424\n",
      "Epoch 4/6\n",
      "9/9 [==============================] - 0s 4ms/step - loss: 0.1243\n",
      "Epoch 5/6\n",
      "9/9 [==============================] - 0s 4ms/step - loss: 0.1090\n",
      "Epoch 6/6\n",
      "9/9 [==============================] - 0s 4ms/step - loss: 0.0949\n",
      "1/1 [==============================] - 0s 136ms/step\n",
      "Epoch 1/6\n"
     ]
    },
    {
     "name": "stderr",
     "output_type": "stream",
     "text": [
      "C:\\Users\\vella\\Anaconda3\\lib\\site-packages\\ipykernel_launcher.py:20: UserWarning: `Model.fit_generator` is deprecated and will be removed in a future version. Please use `Model.fit`, which supports generators.\n"
     ]
    },
    {
     "name": "stdout",
     "output_type": "stream",
     "text": [
      "9/9 [==============================] - 1s 4ms/step - loss: 0.1818\n",
      "Epoch 2/6\n",
      "9/9 [==============================] - 0s 4ms/step - loss: 0.1614\n",
      "Epoch 3/6\n",
      "9/9 [==============================] - 0s 4ms/step - loss: 0.1435\n",
      "Epoch 4/6\n",
      "9/9 [==============================] - 0s 4ms/step - loss: 0.1281\n",
      "Epoch 5/6\n",
      "9/9 [==============================] - 0s 4ms/step - loss: 0.1117\n",
      "Epoch 6/6\n",
      "9/9 [==============================] - 0s 4ms/step - loss: 0.0956\n",
      "1/1 [==============================] - 0s 134ms/step\n",
      "Epoch 1/6\n"
     ]
    },
    {
     "name": "stderr",
     "output_type": "stream",
     "text": [
      "C:\\Users\\vella\\Anaconda3\\lib\\site-packages\\ipykernel_launcher.py:20: UserWarning: `Model.fit_generator` is deprecated and will be removed in a future version. Please use `Model.fit`, which supports generators.\n"
     ]
    },
    {
     "name": "stdout",
     "output_type": "stream",
     "text": [
      "9/9 [==============================] - 1s 4ms/step - loss: 0.2020\n",
      "Epoch 2/6\n",
      "9/9 [==============================] - 0s 4ms/step - loss: 0.1759\n",
      "Epoch 3/6\n",
      "9/9 [==============================] - 0s 4ms/step - loss: 0.1635\n",
      "Epoch 4/6\n",
      "9/9 [==============================] - 0s 4ms/step - loss: 0.1465\n",
      "Epoch 5/6\n",
      "9/9 [==============================] - 0s 4ms/step - loss: 0.1293\n",
      "Epoch 6/6\n",
      "9/9 [==============================] - 0s 4ms/step - loss: 0.1178\n",
      "1/1 [==============================] - 0s 142ms/step\n",
      "Epoch 1/6\n"
     ]
    },
    {
     "name": "stderr",
     "output_type": "stream",
     "text": [
      "C:\\Users\\vella\\Anaconda3\\lib\\site-packages\\ipykernel_launcher.py:20: UserWarning: `Model.fit_generator` is deprecated and will be removed in a future version. Please use `Model.fit`, which supports generators.\n"
     ]
    },
    {
     "name": "stdout",
     "output_type": "stream",
     "text": [
      "9/9 [==============================] - 1s 4ms/step - loss: 0.1934\n",
      "Epoch 2/6\n",
      "9/9 [==============================] - 0s 5ms/step - loss: 0.1696\n",
      "Epoch 3/6\n",
      "9/9 [==============================] - 0s 4ms/step - loss: 0.1533\n",
      "Epoch 4/6\n",
      "9/9 [==============================] - 0s 4ms/step - loss: 0.1349\n",
      "Epoch 5/6\n",
      "9/9 [==============================] - 0s 4ms/step - loss: 0.1187\n",
      "Epoch 6/6\n",
      "9/9 [==============================] - 0s 4ms/step - loss: 0.1022\n",
      "1/1 [==============================] - 0s 148ms/step\n",
      "Epoch 1/6\n"
     ]
    },
    {
     "name": "stderr",
     "output_type": "stream",
     "text": [
      "C:\\Users\\vella\\Anaconda3\\lib\\site-packages\\ipykernel_launcher.py:20: UserWarning: `Model.fit_generator` is deprecated and will be removed in a future version. Please use `Model.fit`, which supports generators.\n"
     ]
    },
    {
     "name": "stdout",
     "output_type": "stream",
     "text": [
      "9/9 [==============================] - 1s 4ms/step - loss: 0.2000\n",
      "Epoch 2/6\n",
      "9/9 [==============================] - 0s 4ms/step - loss: 0.1760\n",
      "Epoch 3/6\n",
      "9/9 [==============================] - 0s 4ms/step - loss: 0.1592\n",
      "Epoch 4/6\n",
      "9/9 [==============================] - 0s 4ms/step - loss: 0.1412\n",
      "Epoch 5/6\n",
      "9/9 [==============================] - 0s 4ms/step - loss: 0.1242\n",
      "Epoch 6/6\n",
      "9/9 [==============================] - 0s 4ms/step - loss: 0.1099\n",
      "1/1 [==============================] - 0s 135ms/step\n",
      "Epoch 1/6\n"
     ]
    },
    {
     "name": "stderr",
     "output_type": "stream",
     "text": [
      "C:\\Users\\vella\\Anaconda3\\lib\\site-packages\\ipykernel_launcher.py:20: UserWarning: `Model.fit_generator` is deprecated and will be removed in a future version. Please use `Model.fit`, which supports generators.\n"
     ]
    },
    {
     "name": "stdout",
     "output_type": "stream",
     "text": [
      "9/9 [==============================] - 1s 4ms/step - loss: 0.2138\n",
      "Epoch 2/6\n",
      "9/9 [==============================] - 0s 4ms/step - loss: 0.1937\n",
      "Epoch 3/6\n",
      "9/9 [==============================] - 0s 4ms/step - loss: 0.1694\n",
      "Epoch 4/6\n",
      "9/9 [==============================] - 0s 4ms/step - loss: 0.1519\n",
      "Epoch 5/6\n",
      "9/9 [==============================] - 0s 4ms/step - loss: 0.1339\n",
      "Epoch 6/6\n",
      "9/9 [==============================] - 0s 4ms/step - loss: 0.1151\n",
      "1/1 [==============================] - 0s 137ms/step\n",
      "Epoch 1/6\n"
     ]
    },
    {
     "name": "stderr",
     "output_type": "stream",
     "text": [
      "C:\\Users\\vella\\Anaconda3\\lib\\site-packages\\ipykernel_launcher.py:20: UserWarning: `Model.fit_generator` is deprecated and will be removed in a future version. Please use `Model.fit`, which supports generators.\n"
     ]
    },
    {
     "name": "stdout",
     "output_type": "stream",
     "text": [
      "9/9 [==============================] - 1s 4ms/step - loss: 0.2162\n",
      "Epoch 2/6\n",
      "9/9 [==============================] - 0s 4ms/step - loss: 0.1882\n",
      "Epoch 3/6\n",
      "9/9 [==============================] - 0s 4ms/step - loss: 0.1677\n",
      "Epoch 4/6\n",
      "9/9 [==============================] - 0s 4ms/step - loss: 0.1474\n",
      "Epoch 5/6\n",
      "9/9 [==============================] - 0s 4ms/step - loss: 0.1317\n",
      "Epoch 6/6\n",
      "9/9 [==============================] - 0s 4ms/step - loss: 0.1079\n",
      "1/1 [==============================] - 0s 142ms/step\n",
      "Epoch 1/6\n"
     ]
    },
    {
     "name": "stderr",
     "output_type": "stream",
     "text": [
      "C:\\Users\\vella\\Anaconda3\\lib\\site-packages\\ipykernel_launcher.py:20: UserWarning: `Model.fit_generator` is deprecated and will be removed in a future version. Please use `Model.fit`, which supports generators.\n"
     ]
    },
    {
     "name": "stdout",
     "output_type": "stream",
     "text": [
      "9/9 [==============================] - 1s 4ms/step - loss: 0.2202\n",
      "Epoch 2/6\n",
      "9/9 [==============================] - 0s 4ms/step - loss: 0.2014\n",
      "Epoch 3/6\n",
      "9/9 [==============================] - 0s 4ms/step - loss: 0.1793\n",
      "Epoch 4/6\n",
      "9/9 [==============================] - 0s 4ms/step - loss: 0.1589\n",
      "Epoch 5/6\n",
      "9/9 [==============================] - 0s 4ms/step - loss: 0.1394\n",
      "Epoch 6/6\n",
      "9/9 [==============================] - 0s 4ms/step - loss: 0.1211\n",
      "1/1 [==============================] - 0s 136ms/step\n",
      "Epoch 1/6\n"
     ]
    },
    {
     "name": "stderr",
     "output_type": "stream",
     "text": [
      "C:\\Users\\vella\\Anaconda3\\lib\\site-packages\\ipykernel_launcher.py:20: UserWarning: `Model.fit_generator` is deprecated and will be removed in a future version. Please use `Model.fit`, which supports generators.\n"
     ]
    },
    {
     "name": "stdout",
     "output_type": "stream",
     "text": [
      "9/9 [==============================] - 1s 4ms/step - loss: 0.2431\n",
      "Epoch 2/6\n",
      "9/9 [==============================] - 0s 4ms/step - loss: 0.2149\n",
      "Epoch 3/6\n",
      "9/9 [==============================] - 0s 4ms/step - loss: 0.1943\n",
      "Epoch 4/6\n",
      "9/9 [==============================] - 0s 4ms/step - loss: 0.1713\n",
      "Epoch 5/6\n",
      "9/9 [==============================] - 0s 4ms/step - loss: 0.1520\n",
      "Epoch 6/6\n",
      "9/9 [==============================] - 0s 4ms/step - loss: 0.1288\n",
      "1/1 [==============================] - 0s 153ms/step\n",
      "Epoch 1/6\n"
     ]
    },
    {
     "name": "stderr",
     "output_type": "stream",
     "text": [
      "C:\\Users\\vella\\Anaconda3\\lib\\site-packages\\ipykernel_launcher.py:20: UserWarning: `Model.fit_generator` is deprecated and will be removed in a future version. Please use `Model.fit`, which supports generators.\n"
     ]
    },
    {
     "name": "stdout",
     "output_type": "stream",
     "text": [
      "9/9 [==============================] - 1s 4ms/step - loss: 0.2459\n",
      "Epoch 2/6\n",
      "9/9 [==============================] - 0s 4ms/step - loss: 0.2262\n",
      "Epoch 3/6\n",
      "9/9 [==============================] - 0s 3ms/step - loss: 0.1999\n",
      "Epoch 4/6\n",
      "9/9 [==============================] - 0s 4ms/step - loss: 0.1780\n",
      "Epoch 5/6\n",
      "9/9 [==============================] - 0s 3ms/step - loss: 0.1583\n",
      "Epoch 6/6\n",
      "9/9 [==============================] - 0s 4ms/step - loss: 0.1407\n",
      "1/1 [==============================] - 0s 136ms/step\n",
      "Epoch 1/6\n"
     ]
    },
    {
     "name": "stderr",
     "output_type": "stream",
     "text": [
      "C:\\Users\\vella\\Anaconda3\\lib\\site-packages\\ipykernel_launcher.py:20: UserWarning: `Model.fit_generator` is deprecated and will be removed in a future version. Please use `Model.fit`, which supports generators.\n"
     ]
    },
    {
     "name": "stdout",
     "output_type": "stream",
     "text": [
      "9/9 [==============================] - 2s 5ms/step - loss: 0.2685\n",
      "Epoch 2/6\n",
      "9/9 [==============================] - 0s 4ms/step - loss: 0.2401\n",
      "Epoch 3/6\n",
      "9/9 [==============================] - 0s 4ms/step - loss: 0.2113\n",
      "Epoch 4/6\n",
      "9/9 [==============================] - 0s 4ms/step - loss: 0.1880\n",
      "Epoch 5/6\n",
      "9/9 [==============================] - 0s 4ms/step - loss: 0.1634\n",
      "Epoch 6/6\n",
      "9/9 [==============================] - 0s 4ms/step - loss: 0.1423\n",
      "1/1 [==============================] - 0s 166ms/step\n",
      "Epoch 1/6\n"
     ]
    },
    {
     "name": "stderr",
     "output_type": "stream",
     "text": [
      "C:\\Users\\vella\\Anaconda3\\lib\\site-packages\\ipykernel_launcher.py:20: UserWarning: `Model.fit_generator` is deprecated and will be removed in a future version. Please use `Model.fit`, which supports generators.\n"
     ]
    },
    {
     "name": "stdout",
     "output_type": "stream",
     "text": [
      "9/9 [==============================] - 1s 4ms/step - loss: 0.2786\n",
      "Epoch 2/6\n",
      "9/9 [==============================] - 0s 4ms/step - loss: 0.2530\n",
      "Epoch 3/6\n",
      "9/9 [==============================] - 0s 4ms/step - loss: 0.2266\n",
      "Epoch 4/6\n",
      "9/9 [==============================] - 0s 4ms/step - loss: 0.2002\n",
      "Epoch 5/6\n",
      "9/9 [==============================] - 0s 4ms/step - loss: 0.1797\n",
      "Epoch 6/6\n",
      "9/9 [==============================] - 0s 4ms/step - loss: 0.1517\n",
      "1/1 [==============================] - 0s 139ms/step\n",
      "Epoch 1/6\n"
     ]
    },
    {
     "name": "stderr",
     "output_type": "stream",
     "text": [
      "C:\\Users\\vella\\Anaconda3\\lib\\site-packages\\ipykernel_launcher.py:20: UserWarning: `Model.fit_generator` is deprecated and will be removed in a future version. Please use `Model.fit`, which supports generators.\n"
     ]
    },
    {
     "name": "stdout",
     "output_type": "stream",
     "text": [
      "9/9 [==============================] - 1s 4ms/step - loss: 0.3097\n",
      "Epoch 2/6\n",
      "9/9 [==============================] - 0s 4ms/step - loss: 0.2839\n",
      "Epoch 3/6\n",
      "9/9 [==============================] - 0s 4ms/step - loss: 0.2600\n",
      "Epoch 4/6\n",
      "9/9 [==============================] - 0s 4ms/step - loss: 0.2396\n",
      "Epoch 5/6\n",
      "9/9 [==============================] - 0s 4ms/step - loss: 0.2126\n",
      "Epoch 6/6\n",
      "9/9 [==============================] - 0s 4ms/step - loss: 0.1902\n",
      "1/1 [==============================] - 0s 138ms/step\n",
      "Epoch 1/6\n"
     ]
    },
    {
     "name": "stderr",
     "output_type": "stream",
     "text": [
      "C:\\Users\\vella\\Anaconda3\\lib\\site-packages\\ipykernel_launcher.py:20: UserWarning: `Model.fit_generator` is deprecated and will be removed in a future version. Please use `Model.fit`, which supports generators.\n"
     ]
    },
    {
     "name": "stdout",
     "output_type": "stream",
     "text": [
      "9/9 [==============================] - 1s 4ms/step - loss: 0.3096\n",
      "Epoch 2/6\n",
      "9/9 [==============================] - 0s 7ms/step - loss: 0.2830\n",
      "Epoch 3/6\n",
      "9/9 [==============================] - 0s 5ms/step - loss: 0.2493\n",
      "Epoch 4/6\n",
      "9/9 [==============================] - 0s 4ms/step - loss: 0.2240\n",
      "Epoch 5/6\n",
      "9/9 [==============================] - 0s 4ms/step - loss: 0.1906\n",
      "Epoch 6/6\n",
      "9/9 [==============================] - 0s 4ms/step - loss: 0.1683\n",
      "1/1 [==============================] - 0s 192ms/step\n",
      "Epoch 1/6\n"
     ]
    },
    {
     "name": "stderr",
     "output_type": "stream",
     "text": [
      "C:\\Users\\vella\\Anaconda3\\lib\\site-packages\\ipykernel_launcher.py:20: UserWarning: `Model.fit_generator` is deprecated and will be removed in a future version. Please use `Model.fit`, which supports generators.\n"
     ]
    },
    {
     "name": "stdout",
     "output_type": "stream",
     "text": [
      "9/9 [==============================] - 1s 4ms/step - loss: 0.3367\n",
      "Epoch 2/6\n",
      "9/9 [==============================] - 0s 4ms/step - loss: 0.2981\n",
      "Epoch 3/6\n",
      "9/9 [==============================] - 0s 5ms/step - loss: 0.2743\n",
      "Epoch 4/6\n",
      "9/9 [==============================] - 0s 4ms/step - loss: 0.2460\n",
      "Epoch 5/6\n",
      "9/9 [==============================] - 0s 4ms/step - loss: 0.2143\n",
      "Epoch 6/6\n",
      "9/9 [==============================] - 0s 4ms/step - loss: 0.1915\n",
      "1/1 [==============================] - 0s 149ms/step\n",
      "Epoch 1/6\n"
     ]
    },
    {
     "name": "stderr",
     "output_type": "stream",
     "text": [
      "C:\\Users\\vella\\Anaconda3\\lib\\site-packages\\ipykernel_launcher.py:20: UserWarning: `Model.fit_generator` is deprecated and will be removed in a future version. Please use `Model.fit`, which supports generators.\n"
     ]
    },
    {
     "name": "stdout",
     "output_type": "stream",
     "text": [
      "9/9 [==============================] - 1s 4ms/step - loss: 0.3488\n",
      "Epoch 2/6\n",
      "9/9 [==============================] - 0s 4ms/step - loss: 0.3182\n",
      "Epoch 3/6\n",
      "9/9 [==============================] - 0s 4ms/step - loss: 0.2895\n",
      "Epoch 4/6\n",
      "9/9 [==============================] - 0s 4ms/step - loss: 0.2595\n",
      "Epoch 5/6\n",
      "9/9 [==============================] - 0s 4ms/step - loss: 0.2382\n",
      "Epoch 6/6\n",
      "9/9 [==============================] - 0s 4ms/step - loss: 0.2106\n",
      "1/1 [==============================] - 0s 141ms/step\n",
      "Epoch 1/6\n"
     ]
    },
    {
     "name": "stderr",
     "output_type": "stream",
     "text": [
      "C:\\Users\\vella\\Anaconda3\\lib\\site-packages\\ipykernel_launcher.py:20: UserWarning: `Model.fit_generator` is deprecated and will be removed in a future version. Please use `Model.fit`, which supports generators.\n"
     ]
    },
    {
     "name": "stdout",
     "output_type": "stream",
     "text": [
      "9/9 [==============================] - 1s 4ms/step - loss: 0.3621\n",
      "Epoch 2/6\n",
      "9/9 [==============================] - 0s 4ms/step - loss: 0.3225\n",
      "Epoch 3/6\n",
      "9/9 [==============================] - 0s 4ms/step - loss: 0.2882\n",
      "Epoch 4/6\n",
      "9/9 [==============================] - 0s 4ms/step - loss: 0.2625\n",
      "Epoch 5/6\n",
      "9/9 [==============================] - 0s 4ms/step - loss: 0.2290\n",
      "Epoch 6/6\n",
      "9/9 [==============================] - 0s 4ms/step - loss: 0.1968\n",
      "1/1 [==============================] - 0s 138ms/step\n",
      "Epoch 1/6\n"
     ]
    },
    {
     "name": "stderr",
     "output_type": "stream",
     "text": [
      "C:\\Users\\vella\\Anaconda3\\lib\\site-packages\\ipykernel_launcher.py:20: UserWarning: `Model.fit_generator` is deprecated and will be removed in a future version. Please use `Model.fit`, which supports generators.\n"
     ]
    },
    {
     "name": "stdout",
     "output_type": "stream",
     "text": [
      "9/9 [==============================] - 1s 4ms/step - loss: 0.3632\n",
      "Epoch 2/6\n",
      "9/9 [==============================] - 0s 4ms/step - loss: 0.3260\n",
      "Epoch 3/6\n",
      "9/9 [==============================] - 0s 4ms/step - loss: 0.2869\n",
      "Epoch 4/6\n",
      "9/9 [==============================] - 0s 4ms/step - loss: 0.2547\n",
      "Epoch 5/6\n",
      "9/9 [==============================] - 0s 4ms/step - loss: 0.2165\n",
      "Epoch 6/6\n",
      "9/9 [==============================] - 0s 4ms/step - loss: 0.1793\n",
      "1/1 [==============================] - 0s 148ms/step\n",
      "Epoch 1/6\n"
     ]
    },
    {
     "name": "stderr",
     "output_type": "stream",
     "text": [
      "C:\\Users\\vella\\Anaconda3\\lib\\site-packages\\ipykernel_launcher.py:20: UserWarning: `Model.fit_generator` is deprecated and will be removed in a future version. Please use `Model.fit`, which supports generators.\n"
     ]
    },
    {
     "name": "stdout",
     "output_type": "stream",
     "text": [
      "9/9 [==============================] - 1s 4ms/step - loss: 0.3648\n",
      "Epoch 2/6\n",
      "9/9 [==============================] - 0s 4ms/step - loss: 0.3279\n",
      "Epoch 3/6\n",
      "9/9 [==============================] - 0s 4ms/step - loss: 0.2874\n",
      "Epoch 4/6\n",
      "9/9 [==============================] - 0s 4ms/step - loss: 0.2455\n",
      "Epoch 5/6\n",
      "9/9 [==============================] - 0s 4ms/step - loss: 0.2083\n",
      "Epoch 6/6\n",
      "9/9 [==============================] - 0s 4ms/step - loss: 0.1739\n",
      "1/1 [==============================] - 0s 140ms/step\n",
      "Epoch 1/6\n"
     ]
    },
    {
     "name": "stderr",
     "output_type": "stream",
     "text": [
      "C:\\Users\\vella\\Anaconda3\\lib\\site-packages\\ipykernel_launcher.py:20: UserWarning: `Model.fit_generator` is deprecated and will be removed in a future version. Please use `Model.fit`, which supports generators.\n"
     ]
    },
    {
     "name": "stdout",
     "output_type": "stream",
     "text": [
      "9/9 [==============================] - 1s 4ms/step - loss: 0.3686\n",
      "Epoch 2/6\n",
      "9/9 [==============================] - 0s 4ms/step - loss: 0.3175\n",
      "Epoch 3/6\n",
      "9/9 [==============================] - 0s 4ms/step - loss: 0.2740\n",
      "Epoch 4/6\n",
      "9/9 [==============================] - 0s 4ms/step - loss: 0.2354\n",
      "Epoch 5/6\n",
      "9/9 [==============================] - 0s 4ms/step - loss: 0.1988\n",
      "Epoch 6/6\n",
      "9/9 [==============================] - 0s 4ms/step - loss: 0.1626\n",
      "1/1 [==============================] - 0s 137ms/step\n",
      "Epoch 1/6\n"
     ]
    },
    {
     "name": "stderr",
     "output_type": "stream",
     "text": [
      "C:\\Users\\vella\\Anaconda3\\lib\\site-packages\\ipykernel_launcher.py:20: UserWarning: `Model.fit_generator` is deprecated and will be removed in a future version. Please use `Model.fit`, which supports generators.\n"
     ]
    },
    {
     "name": "stdout",
     "output_type": "stream",
     "text": [
      "9/9 [==============================] - 1s 4ms/step - loss: 0.3616\n",
      "Epoch 2/6\n",
      "9/9 [==============================] - 0s 5ms/step - loss: 0.3199\n",
      "Epoch 3/6\n",
      "9/9 [==============================] - 0s 4ms/step - loss: 0.2880\n",
      "Epoch 4/6\n",
      "9/9 [==============================] - 0s 4ms/step - loss: 0.2565\n",
      "Epoch 5/6\n",
      "9/9 [==============================] - 0s 4ms/step - loss: 0.2209\n",
      "Epoch 6/6\n",
      "9/9 [==============================] - 0s 4ms/step - loss: 0.1881\n",
      "1/1 [==============================] - 0s 159ms/step\n",
      "Epoch 1/6\n"
     ]
    },
    {
     "name": "stderr",
     "output_type": "stream",
     "text": [
      "C:\\Users\\vella\\Anaconda3\\lib\\site-packages\\ipykernel_launcher.py:20: UserWarning: `Model.fit_generator` is deprecated and will be removed in a future version. Please use `Model.fit`, which supports generators.\n"
     ]
    },
    {
     "name": "stdout",
     "output_type": "stream",
     "text": [
      "9/9 [==============================] - 1s 4ms/step - loss: 0.3703\n",
      "Epoch 2/6\n",
      "9/9 [==============================] - 0s 4ms/step - loss: 0.3337\n",
      "Epoch 3/6\n",
      "9/9 [==============================] - 0s 4ms/step - loss: 0.2967\n",
      "Epoch 4/6\n",
      "9/9 [==============================] - 0s 4ms/step - loss: 0.2644\n",
      "Epoch 5/6\n",
      "9/9 [==============================] - 0s 4ms/step - loss: 0.2294\n",
      "Epoch 6/6\n",
      "9/9 [==============================] - 0s 4ms/step - loss: 0.1905\n",
      "1/1 [==============================] - 0s 138ms/step\n",
      "Epoch 1/6\n"
     ]
    },
    {
     "name": "stderr",
     "output_type": "stream",
     "text": [
      "C:\\Users\\vella\\Anaconda3\\lib\\site-packages\\ipykernel_launcher.py:20: UserWarning: `Model.fit_generator` is deprecated and will be removed in a future version. Please use `Model.fit`, which supports generators.\n"
     ]
    },
    {
     "name": "stdout",
     "output_type": "stream",
     "text": [
      "9/9 [==============================] - 1s 4ms/step - loss: 0.3832\n",
      "Epoch 2/6\n",
      "9/9 [==============================] - 0s 5ms/step - loss: 0.3374\n",
      "Epoch 3/6\n",
      "9/9 [==============================] - 0s 4ms/step - loss: 0.2974\n",
      "Epoch 4/6\n",
      "9/9 [==============================] - 0s 4ms/step - loss: 0.2551\n",
      "Epoch 5/6\n",
      "9/9 [==============================] - 0s 4ms/step - loss: 0.2256\n",
      "Epoch 6/6\n",
      "9/9 [==============================] - 0s 4ms/step - loss: 0.1853\n",
      "1/1 [==============================] - 0s 141ms/step\n",
      "Epoch 1/6\n"
     ]
    },
    {
     "name": "stderr",
     "output_type": "stream",
     "text": [
      "C:\\Users\\vella\\Anaconda3\\lib\\site-packages\\ipykernel_launcher.py:20: UserWarning: `Model.fit_generator` is deprecated and will be removed in a future version. Please use `Model.fit`, which supports generators.\n"
     ]
    },
    {
     "name": "stdout",
     "output_type": "stream",
     "text": [
      "9/9 [==============================] - 1s 4ms/step - loss: 0.3790\n",
      "Epoch 2/6\n",
      "9/9 [==============================] - 0s 4ms/step - loss: 0.3501\n",
      "Epoch 3/6\n",
      "9/9 [==============================] - 0s 4ms/step - loss: 0.3044\n",
      "Epoch 4/6\n",
      "9/9 [==============================] - 0s 4ms/step - loss: 0.2719\n",
      "Epoch 5/6\n",
      "9/9 [==============================] - 0s 4ms/step - loss: 0.2457\n",
      "Epoch 6/6\n",
      "9/9 [==============================] - 0s 4ms/step - loss: 0.2068\n",
      "1/1 [==============================] - 0s 154ms/step\n",
      "Epoch 1/6\n"
     ]
    },
    {
     "name": "stderr",
     "output_type": "stream",
     "text": [
      "C:\\Users\\vella\\Anaconda3\\lib\\site-packages\\ipykernel_launcher.py:20: UserWarning: `Model.fit_generator` is deprecated and will be removed in a future version. Please use `Model.fit`, which supports generators.\n"
     ]
    },
    {
     "name": "stdout",
     "output_type": "stream",
     "text": [
      "9/9 [==============================] - 1s 4ms/step - loss: 0.4020\n",
      "Epoch 2/6\n",
      "9/9 [==============================] - 0s 4ms/step - loss: 0.3657\n",
      "Epoch 3/6\n",
      "9/9 [==============================] - 0s 6ms/step - loss: 0.3289\n",
      "Epoch 4/6\n",
      "9/9 [==============================] - 0s 4ms/step - loss: 0.2912\n",
      "Epoch 5/6\n",
      "9/9 [==============================] - 0s 4ms/step - loss: 0.2661\n",
      "Epoch 6/6\n",
      "9/9 [==============================] - 0s 4ms/step - loss: 0.2274\n",
      "1/1 [==============================] - 0s 147ms/step\n",
      "Epoch 1/6\n"
     ]
    },
    {
     "name": "stderr",
     "output_type": "stream",
     "text": [
      "C:\\Users\\vella\\Anaconda3\\lib\\site-packages\\ipykernel_launcher.py:20: UserWarning: `Model.fit_generator` is deprecated and will be removed in a future version. Please use `Model.fit`, which supports generators.\n"
     ]
    },
    {
     "name": "stdout",
     "output_type": "stream",
     "text": [
      "9/9 [==============================] - 1s 4ms/step - loss: 0.3976\n",
      "Epoch 2/6\n",
      "9/9 [==============================] - 0s 4ms/step - loss: 0.3629\n",
      "Epoch 3/6\n",
      "9/9 [==============================] - 0s 4ms/step - loss: 0.3224\n",
      "Epoch 4/6\n",
      "9/9 [==============================] - 0s 4ms/step - loss: 0.2952\n",
      "Epoch 5/6\n",
      "9/9 [==============================] - 0s 4ms/step - loss: 0.2557\n",
      "Epoch 6/6\n",
      "9/9 [==============================] - 0s 4ms/step - loss: 0.2234\n",
      "1/1 [==============================] - 0s 141ms/step\n",
      "Epoch 1/6\n"
     ]
    },
    {
     "name": "stderr",
     "output_type": "stream",
     "text": [
      "C:\\Users\\vella\\Anaconda3\\lib\\site-packages\\ipykernel_launcher.py:20: UserWarning: `Model.fit_generator` is deprecated and will be removed in a future version. Please use `Model.fit`, which supports generators.\n"
     ]
    },
    {
     "name": "stdout",
     "output_type": "stream",
     "text": [
      "9/9 [==============================] - 1s 4ms/step - loss: 0.4147\n",
      "Epoch 2/6\n",
      "9/9 [==============================] - 0s 4ms/step - loss: 0.3706\n",
      "Epoch 3/6\n",
      "9/9 [==============================] - 0s 4ms/step - loss: 0.3340\n",
      "Epoch 4/6\n",
      "9/9 [==============================] - 0s 4ms/step - loss: 0.2955\n",
      "Epoch 5/6\n",
      "9/9 [==============================] - 0s 4ms/step - loss: 0.2550\n",
      "Epoch 6/6\n",
      "9/9 [==============================] - 0s 4ms/step - loss: 0.2174\n",
      "1/1 [==============================] - 0s 147ms/step\n",
      "Epoch 1/6\n"
     ]
    },
    {
     "name": "stderr",
     "output_type": "stream",
     "text": [
      "C:\\Users\\vella\\Anaconda3\\lib\\site-packages\\ipykernel_launcher.py:20: UserWarning: `Model.fit_generator` is deprecated and will be removed in a future version. Please use `Model.fit`, which supports generators.\n"
     ]
    },
    {
     "name": "stdout",
     "output_type": "stream",
     "text": [
      "9/9 [==============================] - 2s 5ms/step - loss: 0.4165\n",
      "Epoch 2/6\n",
      "9/9 [==============================] - 0s 5ms/step - loss: 0.3629\n",
      "Epoch 3/6\n",
      "9/9 [==============================] - 0s 4ms/step - loss: 0.3171\n",
      "Epoch 4/6\n",
      "9/9 [==============================] - 0s 5ms/step - loss: 0.2764\n",
      "Epoch 5/6\n",
      "9/9 [==============================] - 0s 4ms/step - loss: 0.2288\n",
      "Epoch 6/6\n",
      "9/9 [==============================] - 0s 5ms/step - loss: 0.1816\n",
      "1/1 [==============================] - 0s 175ms/step\n",
      "Epoch 1/6\n"
     ]
    },
    {
     "name": "stderr",
     "output_type": "stream",
     "text": [
      "C:\\Users\\vella\\Anaconda3\\lib\\site-packages\\ipykernel_launcher.py:20: UserWarning: `Model.fit_generator` is deprecated and will be removed in a future version. Please use `Model.fit`, which supports generators.\n"
     ]
    },
    {
     "name": "stdout",
     "output_type": "stream",
     "text": [
      "9/9 [==============================] - 1s 4ms/step - loss: 0.4081\n",
      "Epoch 2/6\n",
      "9/9 [==============================] - 0s 4ms/step - loss: 0.3625\n",
      "Epoch 3/6\n",
      "9/9 [==============================] - 0s 4ms/step - loss: 0.3149\n",
      "Epoch 4/6\n",
      "9/9 [==============================] - 0s 4ms/step - loss: 0.2690\n",
      "Epoch 5/6\n",
      "9/9 [==============================] - 0s 4ms/step - loss: 0.2246\n",
      "Epoch 6/6\n",
      "9/9 [==============================] - 0s 4ms/step - loss: 0.1871\n",
      "1/1 [==============================] - 0s 140ms/step\n",
      "Epoch 1/6\n"
     ]
    },
    {
     "name": "stderr",
     "output_type": "stream",
     "text": [
      "C:\\Users\\vella\\Anaconda3\\lib\\site-packages\\ipykernel_launcher.py:20: UserWarning: `Model.fit_generator` is deprecated and will be removed in a future version. Please use `Model.fit`, which supports generators.\n"
     ]
    },
    {
     "name": "stdout",
     "output_type": "stream",
     "text": [
      "9/9 [==============================] - 1s 4ms/step - loss: 0.4353\n",
      "Epoch 2/6\n",
      "9/9 [==============================] - 0s 4ms/step - loss: 0.3876\n",
      "Epoch 3/6\n",
      "9/9 [==============================] - 0s 4ms/step - loss: 0.3426\n",
      "Epoch 4/6\n",
      "9/9 [==============================] - 0s 4ms/step - loss: 0.3070\n",
      "Epoch 5/6\n",
      "9/9 [==============================] - 0s 4ms/step - loss: 0.2656\n",
      "Epoch 6/6\n",
      "9/9 [==============================] - 0s 4ms/step - loss: 0.2221\n",
      "1/1 [==============================] - 0s 138ms/step\n",
      "Epoch 1/6\n"
     ]
    },
    {
     "name": "stderr",
     "output_type": "stream",
     "text": [
      "C:\\Users\\vella\\Anaconda3\\lib\\site-packages\\ipykernel_launcher.py:20: UserWarning: `Model.fit_generator` is deprecated and will be removed in a future version. Please use `Model.fit`, which supports generators.\n"
     ]
    },
    {
     "name": "stdout",
     "output_type": "stream",
     "text": [
      "9/9 [==============================] - 1s 4ms/step - loss: 0.4441\n",
      "Epoch 2/6\n",
      "9/9 [==============================] - 0s 4ms/step - loss: 0.3950\n",
      "Epoch 3/6\n",
      "9/9 [==============================] - 0s 4ms/step - loss: 0.3510\n",
      "Epoch 4/6\n",
      "9/9 [==============================] - 0s 4ms/step - loss: 0.3091\n",
      "Epoch 5/6\n",
      "9/9 [==============================] - 0s 4ms/step - loss: 0.2592\n",
      "Epoch 6/6\n",
      "9/9 [==============================] - 0s 4ms/step - loss: 0.2221\n",
      "1/1 [==============================] - 0s 142ms/step\n",
      "Epoch 1/6\n"
     ]
    },
    {
     "name": "stderr",
     "output_type": "stream",
     "text": [
      "C:\\Users\\vella\\Anaconda3\\lib\\site-packages\\ipykernel_launcher.py:20: UserWarning: `Model.fit_generator` is deprecated and will be removed in a future version. Please use `Model.fit`, which supports generators.\n"
     ]
    },
    {
     "name": "stdout",
     "output_type": "stream",
     "text": [
      "9/9 [==============================] - 1s 4ms/step - loss: 0.4552\n",
      "Epoch 2/6\n",
      "9/9 [==============================] - 0s 4ms/step - loss: 0.4057\n",
      "Epoch 3/6\n",
      "9/9 [==============================] - 0s 4ms/step - loss: 0.3615\n",
      "Epoch 4/6\n",
      "9/9 [==============================] - 0s 4ms/step - loss: 0.3195\n",
      "Epoch 5/6\n",
      "9/9 [==============================] - 0s 4ms/step - loss: 0.2831\n",
      "Epoch 6/6\n",
      "9/9 [==============================] - 0s 4ms/step - loss: 0.2412\n",
      "1/1 [==============================] - 0s 137ms/step\n",
      "Epoch 1/6\n"
     ]
    },
    {
     "name": "stderr",
     "output_type": "stream",
     "text": [
      "C:\\Users\\vella\\Anaconda3\\lib\\site-packages\\ipykernel_launcher.py:20: UserWarning: `Model.fit_generator` is deprecated and will be removed in a future version. Please use `Model.fit`, which supports generators.\n"
     ]
    },
    {
     "name": "stdout",
     "output_type": "stream",
     "text": [
      "9/9 [==============================] - 1s 4ms/step - loss: 0.4692\n",
      "Epoch 2/6\n",
      "9/9 [==============================] - 0s 4ms/step - loss: 0.4145\n",
      "Epoch 3/6\n",
      "9/9 [==============================] - 0s 4ms/step - loss: 0.3680\n",
      "Epoch 4/6\n",
      "9/9 [==============================] - 0s 4ms/step - loss: 0.3230\n",
      "Epoch 5/6\n",
      "9/9 [==============================] - 0s 4ms/step - loss: 0.2698\n",
      "Epoch 6/6\n",
      "9/9 [==============================] - 0s 4ms/step - loss: 0.2268\n",
      "1/1 [==============================] - 0s 139ms/step\n",
      "Epoch 1/6\n"
     ]
    },
    {
     "name": "stderr",
     "output_type": "stream",
     "text": [
      "C:\\Users\\vella\\Anaconda3\\lib\\site-packages\\ipykernel_launcher.py:20: UserWarning: `Model.fit_generator` is deprecated and will be removed in a future version. Please use `Model.fit`, which supports generators.\n"
     ]
    },
    {
     "name": "stdout",
     "output_type": "stream",
     "text": [
      "9/9 [==============================] - 1s 4ms/step - loss: 0.4911\n",
      "Epoch 2/6\n",
      "9/9 [==============================] - 0s 4ms/step - loss: 0.4207\n",
      "Epoch 3/6\n",
      "9/9 [==============================] - 0s 4ms/step - loss: 0.3786\n",
      "Epoch 4/6\n",
      "9/9 [==============================] - 0s 4ms/step - loss: 0.3200\n",
      "Epoch 5/6\n",
      "9/9 [==============================] - 0s 4ms/step - loss: 0.2818\n",
      "Epoch 6/6\n",
      "9/9 [==============================] - 0s 4ms/step - loss: 0.2287\n",
      "1/1 [==============================] - 0s 138ms/step\n",
      "Epoch 1/6\n"
     ]
    },
    {
     "name": "stderr",
     "output_type": "stream",
     "text": [
      "C:\\Users\\vella\\Anaconda3\\lib\\site-packages\\ipykernel_launcher.py:20: UserWarning: `Model.fit_generator` is deprecated and will be removed in a future version. Please use `Model.fit`, which supports generators.\n"
     ]
    },
    {
     "name": "stdout",
     "output_type": "stream",
     "text": [
      "9/9 [==============================] - 1s 4ms/step - loss: 0.5157\n",
      "Epoch 2/6\n",
      "9/9 [==============================] - 0s 4ms/step - loss: 0.4580\n",
      "Epoch 3/6\n",
      "9/9 [==============================] - 0s 4ms/step - loss: 0.4032\n",
      "Epoch 4/6\n",
      "9/9 [==============================] - 0s 4ms/step - loss: 0.3529\n",
      "Epoch 5/6\n",
      "9/9 [==============================] - 0s 4ms/step - loss: 0.3050\n",
      "Epoch 6/6\n",
      "9/9 [==============================] - 0s 4ms/step - loss: 0.2519\n",
      "1/1 [==============================] - 0s 139ms/step\n",
      "Epoch 1/6\n"
     ]
    },
    {
     "name": "stderr",
     "output_type": "stream",
     "text": [
      "C:\\Users\\vella\\Anaconda3\\lib\\site-packages\\ipykernel_launcher.py:20: UserWarning: `Model.fit_generator` is deprecated and will be removed in a future version. Please use `Model.fit`, which supports generators.\n"
     ]
    },
    {
     "name": "stdout",
     "output_type": "stream",
     "text": [
      "9/9 [==============================] - 1s 4ms/step - loss: 0.5097\n",
      "Epoch 2/6\n",
      "9/9 [==============================] - 0s 4ms/step - loss: 0.4434\n",
      "Epoch 3/6\n",
      "9/9 [==============================] - 0s 4ms/step - loss: 0.3846\n",
      "Epoch 4/6\n",
      "9/9 [==============================] - 0s 4ms/step - loss: 0.3331\n",
      "Epoch 5/6\n",
      "9/9 [==============================] - 0s 4ms/step - loss: 0.2790\n",
      "Epoch 6/6\n",
      "9/9 [==============================] - 0s 4ms/step - loss: 0.2284\n",
      "1/1 [==============================] - 0s 139ms/step\n",
      "Epoch 1/6\n"
     ]
    },
    {
     "name": "stderr",
     "output_type": "stream",
     "text": [
      "C:\\Users\\vella\\Anaconda3\\lib\\site-packages\\ipykernel_launcher.py:20: UserWarning: `Model.fit_generator` is deprecated and will be removed in a future version. Please use `Model.fit`, which supports generators.\n"
     ]
    },
    {
     "name": "stdout",
     "output_type": "stream",
     "text": [
      "9/9 [==============================] - 1s 4ms/step - loss: 0.5054\n",
      "Epoch 2/6\n",
      "9/9 [==============================] - 0s 4ms/step - loss: 0.4487\n",
      "Epoch 3/6\n",
      "9/9 [==============================] - 0s 4ms/step - loss: 0.3953\n",
      "Epoch 4/6\n",
      "9/9 [==============================] - 0s 4ms/step - loss: 0.3342\n",
      "Epoch 5/6\n",
      "9/9 [==============================] - 0s 4ms/step - loss: 0.2976\n",
      "Epoch 6/6\n",
      "9/9 [==============================] - 0s 4ms/step - loss: 0.2418\n",
      "1/1 [==============================] - 0s 137ms/step\n",
      "Epoch 1/6\n"
     ]
    },
    {
     "name": "stderr",
     "output_type": "stream",
     "text": [
      "C:\\Users\\vella\\Anaconda3\\lib\\site-packages\\ipykernel_launcher.py:20: UserWarning: `Model.fit_generator` is deprecated and will be removed in a future version. Please use `Model.fit`, which supports generators.\n"
     ]
    },
    {
     "name": "stdout",
     "output_type": "stream",
     "text": [
      "9/9 [==============================] - 1s 4ms/step - loss: 0.5186\n",
      "Epoch 2/6\n",
      "9/9 [==============================] - 0s 4ms/step - loss: 0.4525\n",
      "Epoch 3/6\n",
      "9/9 [==============================] - 0s 4ms/step - loss: 0.3971\n",
      "Epoch 4/6\n",
      "9/9 [==============================] - 0s 4ms/step - loss: 0.3395\n",
      "Epoch 5/6\n",
      "9/9 [==============================] - 0s 4ms/step - loss: 0.2856\n",
      "Epoch 6/6\n",
      "9/9 [==============================] - 0s 4ms/step - loss: 0.2354\n",
      "1/1 [==============================] - 0s 135ms/step\n",
      "Epoch 1/6\n"
     ]
    },
    {
     "name": "stderr",
     "output_type": "stream",
     "text": [
      "C:\\Users\\vella\\Anaconda3\\lib\\site-packages\\ipykernel_launcher.py:20: UserWarning: `Model.fit_generator` is deprecated and will be removed in a future version. Please use `Model.fit`, which supports generators.\n"
     ]
    },
    {
     "name": "stdout",
     "output_type": "stream",
     "text": [
      "9/9 [==============================] - 1s 4ms/step - loss: 0.5216\n",
      "Epoch 2/6\n",
      "9/9 [==============================] - 0s 4ms/step - loss: 0.4689\n",
      "Epoch 3/6\n",
      "9/9 [==============================] - 0s 4ms/step - loss: 0.4162\n",
      "Epoch 4/6\n",
      "9/9 [==============================] - 0s 4ms/step - loss: 0.3676\n",
      "Epoch 5/6\n",
      "9/9 [==============================] - 0s 4ms/step - loss: 0.3220\n",
      "Epoch 6/6\n",
      "9/9 [==============================] - 0s 4ms/step - loss: 0.2779\n",
      "1/1 [==============================] - 0s 142ms/step\n",
      "Epoch 1/6\n"
     ]
    },
    {
     "name": "stderr",
     "output_type": "stream",
     "text": [
      "C:\\Users\\vella\\Anaconda3\\lib\\site-packages\\ipykernel_launcher.py:20: UserWarning: `Model.fit_generator` is deprecated and will be removed in a future version. Please use `Model.fit`, which supports generators.\n"
     ]
    },
    {
     "name": "stdout",
     "output_type": "stream",
     "text": [
      "9/9 [==============================] - 1s 4ms/step - loss: 0.4888\n",
      "Epoch 2/6\n",
      "9/9 [==============================] - 0s 4ms/step - loss: 0.4350\n",
      "Epoch 3/6\n",
      "9/9 [==============================] - 0s 4ms/step - loss: 0.3784\n",
      "Epoch 4/6\n",
      "9/9 [==============================] - 0s 4ms/step - loss: 0.3289\n",
      "Epoch 5/6\n",
      "9/9 [==============================] - 0s 4ms/step - loss: 0.2728\n",
      "Epoch 6/6\n",
      "9/9 [==============================] - 0s 4ms/step - loss: 0.2174\n",
      "1/1 [==============================] - 0s 136ms/step\n",
      "Epoch 1/6\n"
     ]
    },
    {
     "name": "stderr",
     "output_type": "stream",
     "text": [
      "C:\\Users\\vella\\Anaconda3\\lib\\site-packages\\ipykernel_launcher.py:20: UserWarning: `Model.fit_generator` is deprecated and will be removed in a future version. Please use `Model.fit`, which supports generators.\n"
     ]
    },
    {
     "name": "stdout",
     "output_type": "stream",
     "text": [
      "9/9 [==============================] - 1s 4ms/step - loss: 0.4952\n",
      "Epoch 2/6\n",
      "9/9 [==============================] - 0s 4ms/step - loss: 0.4336\n",
      "Epoch 3/6\n",
      "9/9 [==============================] - 0s 4ms/step - loss: 0.3779\n",
      "Epoch 4/6\n",
      "9/9 [==============================] - 0s 4ms/step - loss: 0.3325\n",
      "Epoch 5/6\n",
      "9/9 [==============================] - 0s 4ms/step - loss: 0.2868\n",
      "Epoch 6/6\n",
      "9/9 [==============================] - 0s 4ms/step - loss: 0.2286\n",
      "1/1 [==============================] - 0s 136ms/step\n",
      "Epoch 1/6\n"
     ]
    },
    {
     "name": "stderr",
     "output_type": "stream",
     "text": [
      "C:\\Users\\vella\\Anaconda3\\lib\\site-packages\\ipykernel_launcher.py:20: UserWarning: `Model.fit_generator` is deprecated and will be removed in a future version. Please use `Model.fit`, which supports generators.\n"
     ]
    },
    {
     "name": "stdout",
     "output_type": "stream",
     "text": [
      "9/9 [==============================] - 1s 4ms/step - loss: 0.4293\n",
      "Epoch 2/6\n",
      "9/9 [==============================] - 0s 4ms/step - loss: 0.3780\n",
      "Epoch 3/6\n",
      "9/9 [==============================] - 0s 4ms/step - loss: 0.3262\n",
      "Epoch 4/6\n",
      "9/9 [==============================] - 0s 4ms/step - loss: 0.2852\n",
      "Epoch 5/6\n",
      "9/9 [==============================] - 0s 4ms/step - loss: 0.2391\n",
      "Epoch 6/6\n",
      "9/9 [==============================] - 0s 4ms/step - loss: 0.1937\n",
      "1/1 [==============================] - 0s 137ms/step\n"
     ]
    }
   ],
   "source": [
    "for i in range(0,(len(df3)-49)):\n",
    "    #Putting the dataframe into a variable \"train\"\n",
    "    #print(i)\n",
    "    train = df3.iloc[i:(i+50)]\n",
    "    #Model fitting for prediction\n",
    "    scaler = MinMaxScaler()\n",
    "    scaler.fit(train)\n",
    "    train = scaler.transform(train)\n",
    "    \n",
    "    n_input = 1\n",
    "    n_features = 1\n",
    "    generator = TimeseriesGenerator(train, train, length=n_input, batch_size=6)\n",
    "    \n",
    "    model = Sequential()\n",
    "    model.add(LSTM(200, activation='relu', input_shape=(n_input, n_features)))\n",
    "    model.add(Dropout(0.15))\n",
    "    model.add(Dense(1))\n",
    "    model.compile(optimizer='adam', loss='mse')\n",
    "    \n",
    "    model.fit_generator(generator,epochs=6)\n",
    "    \n",
    "    pred_list = []\n",
    "    \n",
    "    batch = train[-n_input:].reshape((1, n_input, n_features))\n",
    "    \n",
    "    for i in range(n_input):   \n",
    "        pred_list.append(model.predict(batch)[0]) \n",
    "        batch = np.append(batch[:,1:,:],[[pred_list[i]]],axis=1)\n",
    "    \n",
    "    from pandas.tseries.offsets import DateOffset\n",
    "    add_dates = [df3.iloc[i:(i+50)].index[-1] + DateOffset(days = x) for x in range(0,2) ]\n",
    "    future_dates = pd.DataFrame(index=add_dates[1:],columns=df3.iloc[i:(i+50)].columns)\n",
    "    \n",
    "    df_predict = pd.DataFrame(scaler.inverse_transform(pred_list),\n",
    "                          index=future_dates[-n_input:].index, columns=['Prediction'])\n",
    "    \n",
    "    predicted = predicted.append(df_predict, ignore_index=True)"
   ]
  },
  {
   "cell_type": "code",
   "execution_count": 236,
   "metadata": {},
   "outputs": [
    {
     "data": {
      "text/html": [
       "<div>\n",
       "<style scoped>\n",
       "    .dataframe tbody tr th:only-of-type {\n",
       "        vertical-align: middle;\n",
       "    }\n",
       "\n",
       "    .dataframe tbody tr th {\n",
       "        vertical-align: top;\n",
       "    }\n",
       "\n",
       "    .dataframe thead th {\n",
       "        text-align: right;\n",
       "    }\n",
       "</style>\n",
       "<table border=\"1\" class=\"dataframe\">\n",
       "  <thead>\n",
       "    <tr style=\"text-align: right;\">\n",
       "      <th></th>\n",
       "      <th>Prediction</th>\n",
       "    </tr>\n",
       "  </thead>\n",
       "  <tbody>\n",
       "    <tr>\n",
       "      <th>0</th>\n",
       "      <td>295.363618</td>\n",
       "    </tr>\n",
       "    <tr>\n",
       "      <th>1</th>\n",
       "      <td>292.607625</td>\n",
       "    </tr>\n",
       "    <tr>\n",
       "      <th>2</th>\n",
       "      <td>288.009458</td>\n",
       "    </tr>\n",
       "    <tr>\n",
       "      <th>3</th>\n",
       "      <td>287.413031</td>\n",
       "    </tr>\n",
       "    <tr>\n",
       "      <th>4</th>\n",
       "      <td>289.423148</td>\n",
       "    </tr>\n",
       "    <tr>\n",
       "      <th>...</th>\n",
       "      <td>...</td>\n",
       "    </tr>\n",
       "    <tr>\n",
       "      <th>198</th>\n",
       "      <td>257.544437</td>\n",
       "    </tr>\n",
       "    <tr>\n",
       "      <th>199</th>\n",
       "      <td>255.258682</td>\n",
       "    </tr>\n",
       "    <tr>\n",
       "      <th>200</th>\n",
       "      <td>262.927881</td>\n",
       "    </tr>\n",
       "    <tr>\n",
       "      <th>201</th>\n",
       "      <td>264.539307</td>\n",
       "    </tr>\n",
       "    <tr>\n",
       "      <th>202</th>\n",
       "      <td>268.188225</td>\n",
       "    </tr>\n",
       "  </tbody>\n",
       "</table>\n",
       "<p>203 rows × 1 columns</p>\n",
       "</div>"
      ],
      "text/plain": [
       "     Prediction\n",
       "0    295.363618\n",
       "1    292.607625\n",
       "2    288.009458\n",
       "3    287.413031\n",
       "4    289.423148\n",
       "..          ...\n",
       "198  257.544437\n",
       "199  255.258682\n",
       "200  262.927881\n",
       "201  264.539307\n",
       "202  268.188225\n",
       "\n",
       "[203 rows x 1 columns]"
      ]
     },
     "execution_count": 236,
     "metadata": {},
     "output_type": "execute_result"
    }
   ],
   "source": [
    "predicted"
   ]
  },
  {
   "cell_type": "code",
   "execution_count": 290,
   "metadata": {},
   "outputs": [],
   "source": [
    "df4 = pd.DataFrame(np.nan, index=[list(range(50))], columns=['Prediction'])"
   ]
  },
  {
   "cell_type": "code",
   "execution_count": 291,
   "metadata": {
    "scrolled": true
   },
   "outputs": [
    {
     "data": {
      "text/html": [
       "<div>\n",
       "<style scoped>\n",
       "    .dataframe tbody tr th:only-of-type {\n",
       "        vertical-align: middle;\n",
       "    }\n",
       "\n",
       "    .dataframe tbody tr th {\n",
       "        vertical-align: top;\n",
       "    }\n",
       "\n",
       "    .dataframe thead th {\n",
       "        text-align: right;\n",
       "    }\n",
       "</style>\n",
       "<table border=\"1\" class=\"dataframe\">\n",
       "  <thead>\n",
       "    <tr style=\"text-align: right;\">\n",
       "      <th></th>\n",
       "      <th>Prediction</th>\n",
       "    </tr>\n",
       "  </thead>\n",
       "  <tbody>\n",
       "    <tr>\n",
       "      <th>0</th>\n",
       "      <td>NaN</td>\n",
       "    </tr>\n",
       "    <tr>\n",
       "      <th>1</th>\n",
       "      <td>NaN</td>\n",
       "    </tr>\n",
       "    <tr>\n",
       "      <th>2</th>\n",
       "      <td>NaN</td>\n",
       "    </tr>\n",
       "    <tr>\n",
       "      <th>3</th>\n",
       "      <td>NaN</td>\n",
       "    </tr>\n",
       "    <tr>\n",
       "      <th>4</th>\n",
       "      <td>NaN</td>\n",
       "    </tr>\n",
       "    <tr>\n",
       "      <th>5</th>\n",
       "      <td>NaN</td>\n",
       "    </tr>\n",
       "    <tr>\n",
       "      <th>6</th>\n",
       "      <td>NaN</td>\n",
       "    </tr>\n",
       "    <tr>\n",
       "      <th>7</th>\n",
       "      <td>NaN</td>\n",
       "    </tr>\n",
       "    <tr>\n",
       "      <th>8</th>\n",
       "      <td>NaN</td>\n",
       "    </tr>\n",
       "    <tr>\n",
       "      <th>9</th>\n",
       "      <td>NaN</td>\n",
       "    </tr>\n",
       "    <tr>\n",
       "      <th>10</th>\n",
       "      <td>NaN</td>\n",
       "    </tr>\n",
       "    <tr>\n",
       "      <th>11</th>\n",
       "      <td>NaN</td>\n",
       "    </tr>\n",
       "    <tr>\n",
       "      <th>12</th>\n",
       "      <td>NaN</td>\n",
       "    </tr>\n",
       "    <tr>\n",
       "      <th>13</th>\n",
       "      <td>NaN</td>\n",
       "    </tr>\n",
       "    <tr>\n",
       "      <th>14</th>\n",
       "      <td>NaN</td>\n",
       "    </tr>\n",
       "    <tr>\n",
       "      <th>15</th>\n",
       "      <td>NaN</td>\n",
       "    </tr>\n",
       "    <tr>\n",
       "      <th>16</th>\n",
       "      <td>NaN</td>\n",
       "    </tr>\n",
       "    <tr>\n",
       "      <th>17</th>\n",
       "      <td>NaN</td>\n",
       "    </tr>\n",
       "    <tr>\n",
       "      <th>18</th>\n",
       "      <td>NaN</td>\n",
       "    </tr>\n",
       "    <tr>\n",
       "      <th>19</th>\n",
       "      <td>NaN</td>\n",
       "    </tr>\n",
       "    <tr>\n",
       "      <th>20</th>\n",
       "      <td>NaN</td>\n",
       "    </tr>\n",
       "    <tr>\n",
       "      <th>21</th>\n",
       "      <td>NaN</td>\n",
       "    </tr>\n",
       "    <tr>\n",
       "      <th>22</th>\n",
       "      <td>NaN</td>\n",
       "    </tr>\n",
       "    <tr>\n",
       "      <th>23</th>\n",
       "      <td>NaN</td>\n",
       "    </tr>\n",
       "    <tr>\n",
       "      <th>24</th>\n",
       "      <td>NaN</td>\n",
       "    </tr>\n",
       "    <tr>\n",
       "      <th>25</th>\n",
       "      <td>NaN</td>\n",
       "    </tr>\n",
       "    <tr>\n",
       "      <th>26</th>\n",
       "      <td>NaN</td>\n",
       "    </tr>\n",
       "    <tr>\n",
       "      <th>27</th>\n",
       "      <td>NaN</td>\n",
       "    </tr>\n",
       "    <tr>\n",
       "      <th>28</th>\n",
       "      <td>NaN</td>\n",
       "    </tr>\n",
       "    <tr>\n",
       "      <th>29</th>\n",
       "      <td>NaN</td>\n",
       "    </tr>\n",
       "    <tr>\n",
       "      <th>30</th>\n",
       "      <td>NaN</td>\n",
       "    </tr>\n",
       "    <tr>\n",
       "      <th>31</th>\n",
       "      <td>NaN</td>\n",
       "    </tr>\n",
       "    <tr>\n",
       "      <th>32</th>\n",
       "      <td>NaN</td>\n",
       "    </tr>\n",
       "    <tr>\n",
       "      <th>33</th>\n",
       "      <td>NaN</td>\n",
       "    </tr>\n",
       "    <tr>\n",
       "      <th>34</th>\n",
       "      <td>NaN</td>\n",
       "    </tr>\n",
       "    <tr>\n",
       "      <th>35</th>\n",
       "      <td>NaN</td>\n",
       "    </tr>\n",
       "    <tr>\n",
       "      <th>36</th>\n",
       "      <td>NaN</td>\n",
       "    </tr>\n",
       "    <tr>\n",
       "      <th>37</th>\n",
       "      <td>NaN</td>\n",
       "    </tr>\n",
       "    <tr>\n",
       "      <th>38</th>\n",
       "      <td>NaN</td>\n",
       "    </tr>\n",
       "    <tr>\n",
       "      <th>39</th>\n",
       "      <td>NaN</td>\n",
       "    </tr>\n",
       "    <tr>\n",
       "      <th>40</th>\n",
       "      <td>NaN</td>\n",
       "    </tr>\n",
       "    <tr>\n",
       "      <th>41</th>\n",
       "      <td>NaN</td>\n",
       "    </tr>\n",
       "    <tr>\n",
       "      <th>42</th>\n",
       "      <td>NaN</td>\n",
       "    </tr>\n",
       "    <tr>\n",
       "      <th>43</th>\n",
       "      <td>NaN</td>\n",
       "    </tr>\n",
       "    <tr>\n",
       "      <th>44</th>\n",
       "      <td>NaN</td>\n",
       "    </tr>\n",
       "    <tr>\n",
       "      <th>45</th>\n",
       "      <td>NaN</td>\n",
       "    </tr>\n",
       "    <tr>\n",
       "      <th>46</th>\n",
       "      <td>NaN</td>\n",
       "    </tr>\n",
       "    <tr>\n",
       "      <th>47</th>\n",
       "      <td>NaN</td>\n",
       "    </tr>\n",
       "    <tr>\n",
       "      <th>48</th>\n",
       "      <td>NaN</td>\n",
       "    </tr>\n",
       "    <tr>\n",
       "      <th>49</th>\n",
       "      <td>NaN</td>\n",
       "    </tr>\n",
       "  </tbody>\n",
       "</table>\n",
       "</div>"
      ],
      "text/plain": [
       "    Prediction\n",
       "0          NaN\n",
       "1          NaN\n",
       "2          NaN\n",
       "3          NaN\n",
       "4          NaN\n",
       "5          NaN\n",
       "6          NaN\n",
       "7          NaN\n",
       "8          NaN\n",
       "9          NaN\n",
       "10         NaN\n",
       "11         NaN\n",
       "12         NaN\n",
       "13         NaN\n",
       "14         NaN\n",
       "15         NaN\n",
       "16         NaN\n",
       "17         NaN\n",
       "18         NaN\n",
       "19         NaN\n",
       "20         NaN\n",
       "21         NaN\n",
       "22         NaN\n",
       "23         NaN\n",
       "24         NaN\n",
       "25         NaN\n",
       "26         NaN\n",
       "27         NaN\n",
       "28         NaN\n",
       "29         NaN\n",
       "30         NaN\n",
       "31         NaN\n",
       "32         NaN\n",
       "33         NaN\n",
       "34         NaN\n",
       "35         NaN\n",
       "36         NaN\n",
       "37         NaN\n",
       "38         NaN\n",
       "39         NaN\n",
       "40         NaN\n",
       "41         NaN\n",
       "42         NaN\n",
       "43         NaN\n",
       "44         NaN\n",
       "45         NaN\n",
       "46         NaN\n",
       "47         NaN\n",
       "48         NaN\n",
       "49         NaN"
      ]
     },
     "execution_count": 291,
     "metadata": {},
     "output_type": "execute_result"
    }
   ],
   "source": [
    "df4"
   ]
  },
  {
   "cell_type": "code",
   "execution_count": 292,
   "metadata": {},
   "outputs": [],
   "source": [
    "df4 = df4.append(predicted, ignore_index=True)"
   ]
  },
  {
   "cell_type": "code",
   "execution_count": 293,
   "metadata": {
    "scrolled": false
   },
   "outputs": [
    {
     "data": {
      "text/html": [
       "<div>\n",
       "<style scoped>\n",
       "    .dataframe tbody tr th:only-of-type {\n",
       "        vertical-align: middle;\n",
       "    }\n",
       "\n",
       "    .dataframe tbody tr th {\n",
       "        vertical-align: top;\n",
       "    }\n",
       "\n",
       "    .dataframe thead th {\n",
       "        text-align: right;\n",
       "    }\n",
       "</style>\n",
       "<table border=\"1\" class=\"dataframe\">\n",
       "  <thead>\n",
       "    <tr style=\"text-align: right;\">\n",
       "      <th></th>\n",
       "      <th>Prediction</th>\n",
       "    </tr>\n",
       "  </thead>\n",
       "  <tbody>\n",
       "    <tr>\n",
       "      <th>0</th>\n",
       "      <td>NaN</td>\n",
       "    </tr>\n",
       "    <tr>\n",
       "      <th>1</th>\n",
       "      <td>NaN</td>\n",
       "    </tr>\n",
       "    <tr>\n",
       "      <th>2</th>\n",
       "      <td>NaN</td>\n",
       "    </tr>\n",
       "    <tr>\n",
       "      <th>3</th>\n",
       "      <td>NaN</td>\n",
       "    </tr>\n",
       "    <tr>\n",
       "      <th>4</th>\n",
       "      <td>NaN</td>\n",
       "    </tr>\n",
       "    <tr>\n",
       "      <th>...</th>\n",
       "      <td>...</td>\n",
       "    </tr>\n",
       "    <tr>\n",
       "      <th>247</th>\n",
       "      <td>258.505497</td>\n",
       "    </tr>\n",
       "    <tr>\n",
       "      <th>248</th>\n",
       "      <td>257.544437</td>\n",
       "    </tr>\n",
       "    <tr>\n",
       "      <th>249</th>\n",
       "      <td>255.258682</td>\n",
       "    </tr>\n",
       "    <tr>\n",
       "      <th>250</th>\n",
       "      <td>262.927881</td>\n",
       "    </tr>\n",
       "    <tr>\n",
       "      <th>251</th>\n",
       "      <td>264.539307</td>\n",
       "    </tr>\n",
       "  </tbody>\n",
       "</table>\n",
       "<p>252 rows × 1 columns</p>\n",
       "</div>"
      ],
      "text/plain": [
       "     Prediction\n",
       "0           NaN\n",
       "1           NaN\n",
       "2           NaN\n",
       "3           NaN\n",
       "4           NaN\n",
       "..          ...\n",
       "247  258.505497\n",
       "248  257.544437\n",
       "249  255.258682\n",
       "250  262.927881\n",
       "251  264.539307\n",
       "\n",
       "[252 rows x 1 columns]"
      ]
     },
     "execution_count": 293,
     "metadata": {},
     "output_type": "execute_result"
    }
   ],
   "source": [
    "df4.drop(df4.tail(1).index,inplace=True)\n",
    "df4"
   ]
  },
  {
   "cell_type": "code",
   "execution_count": 280,
   "metadata": {},
   "outputs": [
    {
     "data": {
      "text/html": [
       "<div>\n",
       "<style scoped>\n",
       "    .dataframe tbody tr th:only-of-type {\n",
       "        vertical-align: middle;\n",
       "    }\n",
       "\n",
       "    .dataframe tbody tr th {\n",
       "        vertical-align: top;\n",
       "    }\n",
       "\n",
       "    .dataframe thead th {\n",
       "        text-align: right;\n",
       "    }\n",
       "</style>\n",
       "<table border=\"1\" class=\"dataframe\">\n",
       "  <thead>\n",
       "    <tr style=\"text-align: right;\">\n",
       "      <th></th>\n",
       "      <th>Close</th>\n",
       "      <th>Prediction</th>\n",
       "    </tr>\n",
       "    <tr>\n",
       "      <th>Date</th>\n",
       "      <th></th>\n",
       "      <th></th>\n",
       "    </tr>\n",
       "  </thead>\n",
       "  <tbody>\n",
       "    <tr>\n",
       "      <th>2021-09-30</th>\n",
       "      <td>258.493347</td>\n",
       "      <td>NaN</td>\n",
       "    </tr>\n",
       "    <tr>\n",
       "      <th>2021-10-01</th>\n",
       "      <td>258.406677</td>\n",
       "      <td>NaN</td>\n",
       "    </tr>\n",
       "    <tr>\n",
       "      <th>2021-10-04</th>\n",
       "      <td>260.510010</td>\n",
       "      <td>NaN</td>\n",
       "    </tr>\n",
       "    <tr>\n",
       "      <th>2021-10-05</th>\n",
       "      <td>260.196655</td>\n",
       "      <td>NaN</td>\n",
       "    </tr>\n",
       "    <tr>\n",
       "      <th>2021-10-06</th>\n",
       "      <td>260.916656</td>\n",
       "      <td>NaN</td>\n",
       "    </tr>\n",
       "    <tr>\n",
       "      <th>...</th>\n",
       "      <td>...</td>\n",
       "      <td>...</td>\n",
       "    </tr>\n",
       "    <tr>\n",
       "      <th>2022-09-23</th>\n",
       "      <td>275.329987</td>\n",
       "      <td>NaN</td>\n",
       "    </tr>\n",
       "    <tr>\n",
       "      <th>2022-09-26</th>\n",
       "      <td>276.010010</td>\n",
       "      <td>NaN</td>\n",
       "    </tr>\n",
       "    <tr>\n",
       "      <th>2022-09-27</th>\n",
       "      <td>282.940002</td>\n",
       "      <td>NaN</td>\n",
       "    </tr>\n",
       "    <tr>\n",
       "      <th>2022-09-28</th>\n",
       "      <td>287.809998</td>\n",
       "      <td>NaN</td>\n",
       "    </tr>\n",
       "    <tr>\n",
       "      <th>2022-09-29</th>\n",
       "      <td>268.209991</td>\n",
       "      <td>NaN</td>\n",
       "    </tr>\n",
       "  </tbody>\n",
       "</table>\n",
       "<p>252 rows × 2 columns</p>\n",
       "</div>"
      ],
      "text/plain": [
       "                 Close  Prediction\n",
       "Date                              \n",
       "2021-09-30  258.493347         NaN\n",
       "2021-10-01  258.406677         NaN\n",
       "2021-10-04  260.510010         NaN\n",
       "2021-10-05  260.196655         NaN\n",
       "2021-10-06  260.916656         NaN\n",
       "...                ...         ...\n",
       "2022-09-23  275.329987         NaN\n",
       "2022-09-26  276.010010         NaN\n",
       "2022-09-27  282.940002         NaN\n",
       "2022-09-28  287.809998         NaN\n",
       "2022-09-29  268.209991         NaN\n",
       "\n",
       "[252 rows x 2 columns]"
      ]
     },
     "execution_count": 280,
     "metadata": {},
     "output_type": "execute_result"
    }
   ],
   "source": [
    "df5 = df3\n",
    "df5"
   ]
  },
  {
   "cell_type": "code",
   "execution_count": 294,
   "metadata": {},
   "outputs": [],
   "source": [
    "extracted_col = list(df4[\"Prediction\"])"
   ]
  },
  {
   "cell_type": "code",
   "execution_count": 295,
   "metadata": {},
   "outputs": [
    {
     "data": {
      "text/plain": [
       "[nan,\n",
       " nan,\n",
       " nan,\n",
       " nan,\n",
       " nan,\n",
       " nan,\n",
       " nan,\n",
       " nan,\n",
       " nan,\n",
       " nan,\n",
       " nan,\n",
       " nan,\n",
       " nan,\n",
       " nan,\n",
       " nan,\n",
       " nan,\n",
       " nan,\n",
       " nan,\n",
       " nan,\n",
       " nan,\n",
       " nan,\n",
       " nan,\n",
       " nan,\n",
       " nan,\n",
       " nan,\n",
       " nan,\n",
       " nan,\n",
       " nan,\n",
       " nan,\n",
       " nan,\n",
       " nan,\n",
       " nan,\n",
       " nan,\n",
       " nan,\n",
       " nan,\n",
       " nan,\n",
       " nan,\n",
       " nan,\n",
       " nan,\n",
       " nan,\n",
       " nan,\n",
       " nan,\n",
       " nan,\n",
       " nan,\n",
       " nan,\n",
       " nan,\n",
       " nan,\n",
       " nan,\n",
       " nan,\n",
       " nan,\n",
       " 295.3636175417386,\n",
       " 292.6076252522607,\n",
       " 288.00945838961525,\n",
       " 287.4130307888695,\n",
       " 289.4231481192619,\n",
       " 287.18290270297257,\n",
       " 292.9498409919106,\n",
       " 292.56235897528677,\n",
       " 293.6228042219354,\n",
       " 300.0043139050913,\n",
       " 307.41200108192425,\n",
       " 318.8188791113671,\n",
       " 322.14384251408774,\n",
       " 313.54003822540653,\n",
       " 322.1592096319109,\n",
       " 319.46498922279943,\n",
       " 335.8272521115723,\n",
       " 327.60639126408205,\n",
       " 326.6487033036101,\n",
       " 325.13636204793147,\n",
       " 323.197116043033,\n",
       " 325.2629043056877,\n",
       " 320.8386652102563,\n",
       " 322.976393159468,\n",
       " 321.6725234225123,\n",
       " 328.15226619004534,\n",
       " 323.53419376738657,\n",
       " 321.44519711741486,\n",
       " 320.2495208935834,\n",
       " 315.7696784044783,\n",
       " 315.53283314002147,\n",
       " 313.6359189552022,\n",
       " 315.61566918633434,\n",
       " 292.3939310358155,\n",
       " 295.116975454348,\n",
       " 299.167368722653,\n",
       " 297.43764492839546,\n",
       " 298.16578300795663,\n",
       " 296.4484043754892,\n",
       " 300.15799937207703,\n",
       " 295.92798722180396,\n",
       " 296.5039309063268,\n",
       " 298.7962608232865,\n",
       " 300.9187504047759,\n",
       " 293.4905091341416,\n",
       " 292.8513648495282,\n",
       " 297.2218872193407,\n",
       " 295.7193622728946,\n",
       " 293.10986756620696,\n",
       " 291.26532179958303,\n",
       " 287.9859368178827,\n",
       " 271.8341998091653,\n",
       " 275.4216856397861,\n",
       " 275.4383510893249,\n",
       " 278.3576075842152,\n",
       " 276.42274672841904,\n",
       " 277.76063170263933,\n",
       " 274.54549854811285,\n",
       " 277.0760951163179,\n",
       " 274.1764670580337,\n",
       " 275.3006901474464,\n",
       " 278.03999441682345,\n",
       " 275.8673500612704,\n",
       " 271.71997546732973,\n",
       " 268.83917395616413,\n",
       " 274.4209924896495,\n",
       " 273.413171218781,\n",
       " 274.06146998196436,\n",
       " 276.0391501730519,\n",
       " 279.44481398264907,\n",
       " 281.2733417585541,\n",
       " 277.99839451647676,\n",
       " 280.2744951125251,\n",
       " 277.9511947258434,\n",
       " 281.5599962109018,\n",
       " 280.9454613809926,\n",
       " 285.8590708836082,\n",
       " 278.6833025238093,\n",
       " 276.82738473452264,\n",
       " 291.9057601471359,\n",
       " 282.81203665827024,\n",
       " 284.92174951392417,\n",
       " 284.58217267825876,\n",
       " 280.5556490403028,\n",
       " 281.4734471080469,\n",
       " 282.0163381026946,\n",
       " 281.10833262421966,\n",
       " 282.1661198192355,\n",
       " 279.7934089716846,\n",
       " 284.90196730902016,\n",
       " 278.4306855861546,\n",
       " 287.9786571499726,\n",
       " 284.462789856555,\n",
       " 284.5336738805627,\n",
       " 277.9234734140464,\n",
       " 278.589909412372,\n",
       " 277.3919493251087,\n",
       " 276.2190475814832,\n",
       " 280.3696201559369,\n",
       " 280.52147254380134,\n",
       " 278.9887078267866,\n",
       " 278.91354618510877,\n",
       " 273.67526340284985,\n",
       " 270.62443737080275,\n",
       " 271.1356910047316,\n",
       " 262.1001227087943,\n",
       " 258.7390000278565,\n",
       " 262.7528749717503,\n",
       " 257.68198968659567,\n",
       " 258.67370300518905,\n",
       " 254.027547992348,\n",
       " 252.85496385617353,\n",
       " 241.60226460166632,\n",
       " 240.05599234369538,\n",
       " 232.48639011433852,\n",
       " 233.47270080283147,\n",
       " 237.30819132215174,\n",
       " 238.67171413324695,\n",
       " 239.25674762996414,\n",
       " 236.46218312161727,\n",
       " 239.88981619695664,\n",
       " 233.64342507372976,\n",
       " 233.77246071048967,\n",
       " 233.68933781353985,\n",
       " 235.7159398693925,\n",
       " 237.654485766197,\n",
       " 229.04889051480245,\n",
       " 227.87882609077542,\n",
       " 230.22793244808554,\n",
       " 226.07306023615467,\n",
       " 223.1770127019204,\n",
       " 225.09089449470676,\n",
       " 227.13077673231624,\n",
       " 225.9423752432781,\n",
       " 227.98688268247815,\n",
       " 230.00081171614625,\n",
       " 229.38733034421602,\n",
       " 227.728711614526,\n",
       " 224.86470946341626,\n",
       " 227.79470446561254,\n",
       " 223.1297853713554,\n",
       " 225.72692403572955,\n",
       " 228.01316950096862,\n",
       " 227.62040597498708,\n",
       " 226.37572067169003,\n",
       " 226.01745325844877,\n",
       " 225.8736670002529,\n",
       " 225.4086900350785,\n",
       " 227.2724174121563,\n",
       " 227.71262231560922,\n",
       " 226.8375096240602,\n",
       " 226.63225244781188,\n",
       " 224.74987846032036,\n",
       " 225.72711220119254,\n",
       " 226.1766108275333,\n",
       " 228.060820001499,\n",
       " 228.11127291353387,\n",
       " 227.84868438236072,\n",
       " 228.57794649068455,\n",
       " 229.64206843467127,\n",
       " 231.46564318821405,\n",
       " 232.23701991866437,\n",
       " 231.23271550016992,\n",
       " 229.0409880869979,\n",
       " 233.50308529280844,\n",
       " 234.75865017649264,\n",
       " 232.68403153286997,\n",
       " 237.53022263159798,\n",
       " 235.23930012340494,\n",
       " 236.67372646287,\n",
       " 239.30321344239925,\n",
       " 240.29082215889954,\n",
       " 239.09955221139714,\n",
       " 232.44968124023032,\n",
       " 238.45237966514466,\n",
       " 234.75861610471836,\n",
       " 234.18958509974615,\n",
       " 238.22514406310162,\n",
       " 240.5661442015198,\n",
       " 241.64314684124471,\n",
       " 244.92949409990163,\n",
       " 244.1747769535577,\n",
       " 244.22689830030137,\n",
       " 245.55146070854968,\n",
       " 241.80696074904697,\n",
       " 240.8901965163095,\n",
       " 243.42026846452788,\n",
       " 245.4833938329975,\n",
       " 252.77485858902216,\n",
       " 256.6277011345328,\n",
       " 251.4570143582532,\n",
       " 255.31145495633243,\n",
       " 255.36677780002356,\n",
       " 257.07685189694166,\n",
       " 259.6138553917408,\n",
       " 257.3843930885196,\n",
       " 261.1626774884635,\n",
       " 258.5054973380493,\n",
       " 257.5444369387005,\n",
       " 255.25868199534762,\n",
       " 262.92788080331957,\n",
       " 264.539306585737]"
      ]
     },
     "metadata": {},
     "output_type": "display_data"
    }
   ],
   "source": [
    "display(extracted_col)"
   ]
  },
  {
   "cell_type": "code",
   "execution_count": 296,
   "metadata": {
    "scrolled": true
   },
   "outputs": [],
   "source": [
    "df5[\"Prediction\"] = extracted_col"
   ]
  },
  {
   "cell_type": "code",
   "execution_count": 297,
   "metadata": {
    "scrolled": true
   },
   "outputs": [
    {
     "data": {
      "text/html": [
       "<div>\n",
       "<style scoped>\n",
       "    .dataframe tbody tr th:only-of-type {\n",
       "        vertical-align: middle;\n",
       "    }\n",
       "\n",
       "    .dataframe tbody tr th {\n",
       "        vertical-align: top;\n",
       "    }\n",
       "\n",
       "    .dataframe thead th {\n",
       "        text-align: right;\n",
       "    }\n",
       "</style>\n",
       "<table border=\"1\" class=\"dataframe\">\n",
       "  <thead>\n",
       "    <tr style=\"text-align: right;\">\n",
       "      <th></th>\n",
       "      <th>Close</th>\n",
       "      <th>Prediction</th>\n",
       "    </tr>\n",
       "    <tr>\n",
       "      <th>Date</th>\n",
       "      <th></th>\n",
       "      <th></th>\n",
       "    </tr>\n",
       "  </thead>\n",
       "  <tbody>\n",
       "    <tr>\n",
       "      <th>2021-11-26</th>\n",
       "      <td>360.640015</td>\n",
       "      <td>NaN</td>\n",
       "    </tr>\n",
       "    <tr>\n",
       "      <th>2021-11-29</th>\n",
       "      <td>378.996674</td>\n",
       "      <td>NaN</td>\n",
       "    </tr>\n",
       "    <tr>\n",
       "      <th>2021-11-30</th>\n",
       "      <td>381.586670</td>\n",
       "      <td>NaN</td>\n",
       "    </tr>\n",
       "    <tr>\n",
       "      <th>2021-12-01</th>\n",
       "      <td>365.000000</td>\n",
       "      <td>NaN</td>\n",
       "    </tr>\n",
       "    <tr>\n",
       "      <th>2021-12-02</th>\n",
       "      <td>361.533325</td>\n",
       "      <td>NaN</td>\n",
       "    </tr>\n",
       "    <tr>\n",
       "      <th>2021-12-03</th>\n",
       "      <td>338.323334</td>\n",
       "      <td>NaN</td>\n",
       "    </tr>\n",
       "    <tr>\n",
       "      <th>2021-12-06</th>\n",
       "      <td>336.336670</td>\n",
       "      <td>NaN</td>\n",
       "    </tr>\n",
       "    <tr>\n",
       "      <th>2021-12-07</th>\n",
       "      <td>350.583344</td>\n",
       "      <td>NaN</td>\n",
       "    </tr>\n",
       "    <tr>\n",
       "      <th>2021-12-08</th>\n",
       "      <td>356.320007</td>\n",
       "      <td>NaN</td>\n",
       "    </tr>\n",
       "    <tr>\n",
       "      <th>2021-12-09</th>\n",
       "      <td>334.600006</td>\n",
       "      <td>NaN</td>\n",
       "    </tr>\n",
       "    <tr>\n",
       "      <th>2021-12-10</th>\n",
       "      <td>339.010010</td>\n",
       "      <td>295.363618</td>\n",
       "    </tr>\n",
       "    <tr>\n",
       "      <th>2021-12-13</th>\n",
       "      <td>322.136658</td>\n",
       "      <td>292.607625</td>\n",
       "    </tr>\n",
       "    <tr>\n",
       "      <th>2021-12-14</th>\n",
       "      <td>319.503326</td>\n",
       "      <td>288.009458</td>\n",
       "    </tr>\n",
       "    <tr>\n",
       "      <th>2021-12-15</th>\n",
       "      <td>325.329987</td>\n",
       "      <td>287.413031</td>\n",
       "    </tr>\n",
       "    <tr>\n",
       "      <th>2021-12-16</th>\n",
       "      <td>308.973328</td>\n",
       "      <td>289.423148</td>\n",
       "    </tr>\n",
       "    <tr>\n",
       "      <th>2021-12-17</th>\n",
       "      <td>310.856659</td>\n",
       "      <td>287.182903</td>\n",
       "    </tr>\n",
       "    <tr>\n",
       "      <th>2021-12-20</th>\n",
       "      <td>299.980011</td>\n",
       "      <td>292.949841</td>\n",
       "    </tr>\n",
       "    <tr>\n",
       "      <th>2021-12-21</th>\n",
       "      <td>312.843323</td>\n",
       "      <td>292.562359</td>\n",
       "    </tr>\n",
       "    <tr>\n",
       "      <th>2021-12-22</th>\n",
       "      <td>336.290009</td>\n",
       "      <td>293.622804</td>\n",
       "    </tr>\n",
       "    <tr>\n",
       "      <th>2021-12-23</th>\n",
       "      <td>355.666656</td>\n",
       "      <td>300.004314</td>\n",
       "    </tr>\n",
       "    <tr>\n",
       "      <th>2021-12-27</th>\n",
       "      <td>364.646667</td>\n",
       "      <td>307.412001</td>\n",
       "    </tr>\n",
       "    <tr>\n",
       "      <th>2021-12-28</th>\n",
       "      <td>362.823334</td>\n",
       "      <td>318.818879</td>\n",
       "    </tr>\n",
       "    <tr>\n",
       "      <th>2021-12-29</th>\n",
       "      <td>362.063324</td>\n",
       "      <td>322.143843</td>\n",
       "    </tr>\n",
       "    <tr>\n",
       "      <th>2021-12-30</th>\n",
       "      <td>356.779999</td>\n",
       "      <td>313.540038</td>\n",
       "    </tr>\n",
       "    <tr>\n",
       "      <th>2021-12-31</th>\n",
       "      <td>352.260010</td>\n",
       "      <td>322.159210</td>\n",
       "    </tr>\n",
       "    <tr>\n",
       "      <th>2022-01-03</th>\n",
       "      <td>399.926666</td>\n",
       "      <td>319.464989</td>\n",
       "    </tr>\n",
       "    <tr>\n",
       "      <th>2022-01-04</th>\n",
       "      <td>383.196655</td>\n",
       "      <td>335.827252</td>\n",
       "    </tr>\n",
       "    <tr>\n",
       "      <th>2022-01-05</th>\n",
       "      <td>362.706665</td>\n",
       "      <td>327.606391</td>\n",
       "    </tr>\n",
       "    <tr>\n",
       "      <th>2022-01-06</th>\n",
       "      <td>354.899994</td>\n",
       "      <td>326.648703</td>\n",
       "    </tr>\n",
       "    <tr>\n",
       "      <th>2022-01-07</th>\n",
       "      <td>342.320007</td>\n",
       "      <td>325.136362</td>\n",
       "    </tr>\n",
       "    <tr>\n",
       "      <th>2022-01-10</th>\n",
       "      <td>352.706665</td>\n",
       "      <td>323.197116</td>\n",
       "    </tr>\n",
       "    <tr>\n",
       "      <th>2022-01-11</th>\n",
       "      <td>354.799988</td>\n",
       "      <td>325.262904</td>\n",
       "    </tr>\n",
       "    <tr>\n",
       "      <th>2022-01-12</th>\n",
       "      <td>368.739990</td>\n",
       "      <td>320.838665</td>\n",
       "    </tr>\n",
       "    <tr>\n",
       "      <th>2022-01-13</th>\n",
       "      <td>343.853333</td>\n",
       "      <td>322.976393</td>\n",
       "    </tr>\n",
       "    <tr>\n",
       "      <th>2022-01-14</th>\n",
       "      <td>349.869995</td>\n",
       "      <td>321.672523</td>\n",
       "    </tr>\n",
       "    <tr>\n",
       "      <th>2022-01-18</th>\n",
       "      <td>343.503326</td>\n",
       "      <td>328.152266</td>\n",
       "    </tr>\n",
       "    <tr>\n",
       "      <th>2022-01-19</th>\n",
       "      <td>331.883331</td>\n",
       "      <td>323.534194</td>\n",
       "    </tr>\n",
       "    <tr>\n",
       "      <th>2022-01-20</th>\n",
       "      <td>332.089996</td>\n",
       "      <td>321.445197</td>\n",
       "    </tr>\n",
       "    <tr>\n",
       "      <th>2022-01-21</th>\n",
       "      <td>314.633331</td>\n",
       "      <td>320.249521</td>\n",
       "    </tr>\n",
       "    <tr>\n",
       "      <th>2022-01-24</th>\n",
       "      <td>310.000000</td>\n",
       "      <td>315.769678</td>\n",
       "    </tr>\n",
       "    <tr>\n",
       "      <th>2022-01-25</th>\n",
       "      <td>306.133331</td>\n",
       "      <td>315.532833</td>\n",
       "    </tr>\n",
       "    <tr>\n",
       "      <th>2022-01-26</th>\n",
       "      <td>312.470001</td>\n",
       "      <td>313.635919</td>\n",
       "    </tr>\n",
       "    <tr>\n",
       "      <th>2022-01-27</th>\n",
       "      <td>276.366669</td>\n",
       "      <td>315.615669</td>\n",
       "    </tr>\n",
       "    <tr>\n",
       "      <th>2022-01-28</th>\n",
       "      <td>282.116669</td>\n",
       "      <td>292.393931</td>\n",
       "    </tr>\n",
       "    <tr>\n",
       "      <th>2022-01-31</th>\n",
       "      <td>312.239990</td>\n",
       "      <td>295.116975</td>\n",
       "    </tr>\n",
       "    <tr>\n",
       "      <th>2022-02-01</th>\n",
       "      <td>310.416656</td>\n",
       "      <td>299.167369</td>\n",
       "    </tr>\n",
       "    <tr>\n",
       "      <th>2022-02-02</th>\n",
       "      <td>301.886658</td>\n",
       "      <td>297.437645</td>\n",
       "    </tr>\n",
       "    <tr>\n",
       "      <th>2022-02-03</th>\n",
       "      <td>297.046661</td>\n",
       "      <td>298.165783</td>\n",
       "    </tr>\n",
       "    <tr>\n",
       "      <th>2022-02-04</th>\n",
       "      <td>307.773346</td>\n",
       "      <td>296.448404</td>\n",
       "    </tr>\n",
       "    <tr>\n",
       "      <th>2022-02-07</th>\n",
       "      <td>302.446655</td>\n",
       "      <td>300.157999</td>\n",
       "    </tr>\n",
       "    <tr>\n",
       "      <th>2022-02-08</th>\n",
       "      <td>307.333344</td>\n",
       "      <td>295.927987</td>\n",
       "    </tr>\n",
       "    <tr>\n",
       "      <th>2022-02-09</th>\n",
       "      <td>310.666656</td>\n",
       "      <td>296.503931</td>\n",
       "    </tr>\n",
       "    <tr>\n",
       "      <th>2022-02-10</th>\n",
       "      <td>301.516663</td>\n",
       "      <td>298.796261</td>\n",
       "    </tr>\n",
       "    <tr>\n",
       "      <th>2022-02-11</th>\n",
       "      <td>286.666656</td>\n",
       "      <td>300.918750</td>\n",
       "    </tr>\n",
       "    <tr>\n",
       "      <th>2022-02-14</th>\n",
       "      <td>291.920013</td>\n",
       "      <td>293.490509</td>\n",
       "    </tr>\n",
       "    <tr>\n",
       "      <th>2022-02-15</th>\n",
       "      <td>307.476654</td>\n",
       "      <td>292.851365</td>\n",
       "    </tr>\n",
       "    <tr>\n",
       "      <th>2022-02-16</th>\n",
       "      <td>307.796661</td>\n",
       "      <td>297.221887</td>\n",
       "    </tr>\n",
       "    <tr>\n",
       "      <th>2022-02-17</th>\n",
       "      <td>292.116669</td>\n",
       "      <td>295.719362</td>\n",
       "    </tr>\n",
       "    <tr>\n",
       "      <th>2022-02-18</th>\n",
       "      <td>285.660004</td>\n",
       "      <td>293.109868</td>\n",
       "    </tr>\n",
       "    <tr>\n",
       "      <th>2022-02-22</th>\n",
       "      <td>273.843323</td>\n",
       "      <td>291.265322</td>\n",
       "    </tr>\n",
       "  </tbody>\n",
       "</table>\n",
       "</div>"
      ],
      "text/plain": [
       "                 Close  Prediction\n",
       "Date                              \n",
       "2021-11-26  360.640015         NaN\n",
       "2021-11-29  378.996674         NaN\n",
       "2021-11-30  381.586670         NaN\n",
       "2021-12-01  365.000000         NaN\n",
       "2021-12-02  361.533325         NaN\n",
       "2021-12-03  338.323334         NaN\n",
       "2021-12-06  336.336670         NaN\n",
       "2021-12-07  350.583344         NaN\n",
       "2021-12-08  356.320007         NaN\n",
       "2021-12-09  334.600006         NaN\n",
       "2021-12-10  339.010010  295.363618\n",
       "2021-12-13  322.136658  292.607625\n",
       "2021-12-14  319.503326  288.009458\n",
       "2021-12-15  325.329987  287.413031\n",
       "2021-12-16  308.973328  289.423148\n",
       "2021-12-17  310.856659  287.182903\n",
       "2021-12-20  299.980011  292.949841\n",
       "2021-12-21  312.843323  292.562359\n",
       "2021-12-22  336.290009  293.622804\n",
       "2021-12-23  355.666656  300.004314\n",
       "2021-12-27  364.646667  307.412001\n",
       "2021-12-28  362.823334  318.818879\n",
       "2021-12-29  362.063324  322.143843\n",
       "2021-12-30  356.779999  313.540038\n",
       "2021-12-31  352.260010  322.159210\n",
       "2022-01-03  399.926666  319.464989\n",
       "2022-01-04  383.196655  335.827252\n",
       "2022-01-05  362.706665  327.606391\n",
       "2022-01-06  354.899994  326.648703\n",
       "2022-01-07  342.320007  325.136362\n",
       "2022-01-10  352.706665  323.197116\n",
       "2022-01-11  354.799988  325.262904\n",
       "2022-01-12  368.739990  320.838665\n",
       "2022-01-13  343.853333  322.976393\n",
       "2022-01-14  349.869995  321.672523\n",
       "2022-01-18  343.503326  328.152266\n",
       "2022-01-19  331.883331  323.534194\n",
       "2022-01-20  332.089996  321.445197\n",
       "2022-01-21  314.633331  320.249521\n",
       "2022-01-24  310.000000  315.769678\n",
       "2022-01-25  306.133331  315.532833\n",
       "2022-01-26  312.470001  313.635919\n",
       "2022-01-27  276.366669  315.615669\n",
       "2022-01-28  282.116669  292.393931\n",
       "2022-01-31  312.239990  295.116975\n",
       "2022-02-01  310.416656  299.167369\n",
       "2022-02-02  301.886658  297.437645\n",
       "2022-02-03  297.046661  298.165783\n",
       "2022-02-04  307.773346  296.448404\n",
       "2022-02-07  302.446655  300.157999\n",
       "2022-02-08  307.333344  295.927987\n",
       "2022-02-09  310.666656  296.503931\n",
       "2022-02-10  301.516663  298.796261\n",
       "2022-02-11  286.666656  300.918750\n",
       "2022-02-14  291.920013  293.490509\n",
       "2022-02-15  307.476654  292.851365\n",
       "2022-02-16  307.796661  297.221887\n",
       "2022-02-17  292.116669  295.719362\n",
       "2022-02-18  285.660004  293.109868\n",
       "2022-02-22  273.843323  291.265322"
      ]
     },
     "execution_count": 297,
     "metadata": {},
     "output_type": "execute_result"
    }
   ],
   "source": [
    "df5.iloc[40:100]"
   ]
  },
  {
   "cell_type": "code",
   "execution_count": 298,
   "metadata": {
    "scrolled": true
   },
   "outputs": [],
   "source": [
    "df5 = df5.fillna(0)"
   ]
  },
  {
   "cell_type": "code",
   "execution_count": 300,
   "metadata": {
    "scrolled": true
   },
   "outputs": [
    {
     "data": {
      "text/html": [
       "<div>\n",
       "<style scoped>\n",
       "    .dataframe tbody tr th:only-of-type {\n",
       "        vertical-align: middle;\n",
       "    }\n",
       "\n",
       "    .dataframe tbody tr th {\n",
       "        vertical-align: top;\n",
       "    }\n",
       "\n",
       "    .dataframe thead th {\n",
       "        text-align: right;\n",
       "    }\n",
       "</style>\n",
       "<table border=\"1\" class=\"dataframe\">\n",
       "  <thead>\n",
       "    <tr style=\"text-align: right;\">\n",
       "      <th></th>\n",
       "      <th>Close</th>\n",
       "      <th>Prediction</th>\n",
       "    </tr>\n",
       "    <tr>\n",
       "      <th>Date</th>\n",
       "      <th></th>\n",
       "      <th></th>\n",
       "    </tr>\n",
       "  </thead>\n",
       "  <tbody>\n",
       "    <tr>\n",
       "      <th>2022-07-07</th>\n",
       "      <td>244.543335</td>\n",
       "      <td>228.013170</td>\n",
       "    </tr>\n",
       "    <tr>\n",
       "      <th>2022-07-08</th>\n",
       "      <td>250.763336</td>\n",
       "      <td>227.620406</td>\n",
       "    </tr>\n",
       "    <tr>\n",
       "      <th>2022-07-11</th>\n",
       "      <td>234.343338</td>\n",
       "      <td>226.375721</td>\n",
       "    </tr>\n",
       "    <tr>\n",
       "      <th>2022-07-12</th>\n",
       "      <td>233.070007</td>\n",
       "      <td>226.017453</td>\n",
       "    </tr>\n",
       "    <tr>\n",
       "      <th>2022-07-13</th>\n",
       "      <td>237.039993</td>\n",
       "      <td>225.873667</td>\n",
       "    </tr>\n",
       "    <tr>\n",
       "      <th>2022-07-14</th>\n",
       "      <td>238.313339</td>\n",
       "      <td>225.408690</td>\n",
       "    </tr>\n",
       "    <tr>\n",
       "      <th>2022-07-15</th>\n",
       "      <td>240.066666</td>\n",
       "      <td>227.272417</td>\n",
       "    </tr>\n",
       "    <tr>\n",
       "      <th>2022-07-18</th>\n",
       "      <td>240.546661</td>\n",
       "      <td>227.712622</td>\n",
       "    </tr>\n",
       "    <tr>\n",
       "      <th>2022-07-19</th>\n",
       "      <td>245.529999</td>\n",
       "      <td>226.837510</td>\n",
       "    </tr>\n",
       "    <tr>\n",
       "      <th>2022-07-20</th>\n",
       "      <td>247.500000</td>\n",
       "      <td>226.632252</td>\n",
       "    </tr>\n",
       "    <tr>\n",
       "      <th>2022-07-21</th>\n",
       "      <td>271.706665</td>\n",
       "      <td>224.749878</td>\n",
       "    </tr>\n",
       "    <tr>\n",
       "      <th>2022-07-22</th>\n",
       "      <td>272.243347</td>\n",
       "      <td>225.727112</td>\n",
       "    </tr>\n",
       "    <tr>\n",
       "      <th>2022-07-25</th>\n",
       "      <td>268.433319</td>\n",
       "      <td>226.176611</td>\n",
       "    </tr>\n",
       "    <tr>\n",
       "      <th>2022-07-26</th>\n",
       "      <td>258.859985</td>\n",
       "      <td>228.060820</td>\n",
       "    </tr>\n",
       "    <tr>\n",
       "      <th>2022-07-27</th>\n",
       "      <td>274.820007</td>\n",
       "      <td>228.111273</td>\n",
       "    </tr>\n",
       "    <tr>\n",
       "      <th>2022-07-28</th>\n",
       "      <td>280.899994</td>\n",
       "      <td>227.848684</td>\n",
       "    </tr>\n",
       "    <tr>\n",
       "      <th>2022-07-29</th>\n",
       "      <td>297.149994</td>\n",
       "      <td>228.577946</td>\n",
       "    </tr>\n",
       "    <tr>\n",
       "      <th>2022-08-01</th>\n",
       "      <td>297.276672</td>\n",
       "      <td>229.642068</td>\n",
       "    </tr>\n",
       "    <tr>\n",
       "      <th>2022-08-02</th>\n",
       "      <td>300.586670</td>\n",
       "      <td>231.465643</td>\n",
       "    </tr>\n",
       "    <tr>\n",
       "      <th>2022-08-03</th>\n",
       "      <td>307.396667</td>\n",
       "      <td>232.237020</td>\n",
       "    </tr>\n",
       "    <tr>\n",
       "      <th>2022-08-04</th>\n",
       "      <td>308.633331</td>\n",
       "      <td>231.232716</td>\n",
       "    </tr>\n",
       "    <tr>\n",
       "      <th>2022-08-05</th>\n",
       "      <td>288.170013</td>\n",
       "      <td>229.040988</td>\n",
       "    </tr>\n",
       "    <tr>\n",
       "      <th>2022-08-08</th>\n",
       "      <td>290.423340</td>\n",
       "      <td>233.503085</td>\n",
       "    </tr>\n",
       "    <tr>\n",
       "      <th>2022-08-09</th>\n",
       "      <td>283.333344</td>\n",
       "      <td>234.758650</td>\n",
       "    </tr>\n",
       "    <tr>\n",
       "      <th>2022-08-10</th>\n",
       "      <td>294.356659</td>\n",
       "      <td>232.684032</td>\n",
       "    </tr>\n",
       "    <tr>\n",
       "      <th>2022-08-11</th>\n",
       "      <td>286.630005</td>\n",
       "      <td>237.530223</td>\n",
       "    </tr>\n",
       "    <tr>\n",
       "      <th>2022-08-12</th>\n",
       "      <td>300.029999</td>\n",
       "      <td>235.239300</td>\n",
       "    </tr>\n",
       "    <tr>\n",
       "      <th>2022-08-15</th>\n",
       "      <td>309.320007</td>\n",
       "      <td>236.673726</td>\n",
       "    </tr>\n",
       "    <tr>\n",
       "      <th>2022-08-16</th>\n",
       "      <td>306.563324</td>\n",
       "      <td>239.303213</td>\n",
       "    </tr>\n",
       "    <tr>\n",
       "      <th>2022-08-17</th>\n",
       "      <td>303.996674</td>\n",
       "      <td>240.290822</td>\n",
       "    </tr>\n",
       "    <tr>\n",
       "      <th>2022-08-18</th>\n",
       "      <td>302.869995</td>\n",
       "      <td>239.099552</td>\n",
       "    </tr>\n",
       "    <tr>\n",
       "      <th>2022-08-19</th>\n",
       "      <td>296.666656</td>\n",
       "      <td>232.449681</td>\n",
       "    </tr>\n",
       "    <tr>\n",
       "      <th>2022-08-22</th>\n",
       "      <td>289.913330</td>\n",
       "      <td>238.452380</td>\n",
       "    </tr>\n",
       "    <tr>\n",
       "      <th>2022-08-23</th>\n",
       "      <td>296.453339</td>\n",
       "      <td>234.758616</td>\n",
       "    </tr>\n",
       "    <tr>\n",
       "      <th>2022-08-24</th>\n",
       "      <td>297.096680</td>\n",
       "      <td>234.189585</td>\n",
       "    </tr>\n",
       "    <tr>\n",
       "      <th>2022-08-25</th>\n",
       "      <td>296.070007</td>\n",
       "      <td>238.225144</td>\n",
       "    </tr>\n",
       "    <tr>\n",
       "      <th>2022-08-26</th>\n",
       "      <td>288.089996</td>\n",
       "      <td>240.566144</td>\n",
       "    </tr>\n",
       "    <tr>\n",
       "      <th>2022-08-29</th>\n",
       "      <td>284.820007</td>\n",
       "      <td>241.643147</td>\n",
       "    </tr>\n",
       "    <tr>\n",
       "      <th>2022-08-30</th>\n",
       "      <td>277.700012</td>\n",
       "      <td>244.929494</td>\n",
       "    </tr>\n",
       "    <tr>\n",
       "      <th>2022-08-31</th>\n",
       "      <td>275.609985</td>\n",
       "      <td>244.174777</td>\n",
       "    </tr>\n",
       "    <tr>\n",
       "      <th>2022-09-01</th>\n",
       "      <td>277.160004</td>\n",
       "      <td>244.226898</td>\n",
       "    </tr>\n",
       "    <tr>\n",
       "      <th>2022-09-02</th>\n",
       "      <td>270.209991</td>\n",
       "      <td>245.551461</td>\n",
       "    </tr>\n",
       "    <tr>\n",
       "      <th>2022-09-06</th>\n",
       "      <td>274.420013</td>\n",
       "      <td>241.806961</td>\n",
       "    </tr>\n",
       "    <tr>\n",
       "      <th>2022-09-07</th>\n",
       "      <td>283.700012</td>\n",
       "      <td>240.890197</td>\n",
       "    </tr>\n",
       "    <tr>\n",
       "      <th>2022-09-08</th>\n",
       "      <td>289.260010</td>\n",
       "      <td>243.420268</td>\n",
       "    </tr>\n",
       "    <tr>\n",
       "      <th>2022-09-09</th>\n",
       "      <td>299.679993</td>\n",
       "      <td>245.483394</td>\n",
       "    </tr>\n",
       "    <tr>\n",
       "      <th>2022-09-12</th>\n",
       "      <td>304.420013</td>\n",
       "      <td>252.774859</td>\n",
       "    </tr>\n",
       "    <tr>\n",
       "      <th>2022-09-13</th>\n",
       "      <td>292.130005</td>\n",
       "      <td>256.627701</td>\n",
       "    </tr>\n",
       "    <tr>\n",
       "      <th>2022-09-14</th>\n",
       "      <td>302.609985</td>\n",
       "      <td>251.457014</td>\n",
       "    </tr>\n",
       "    <tr>\n",
       "      <th>2022-09-15</th>\n",
       "      <td>303.750000</td>\n",
       "      <td>255.311455</td>\n",
       "    </tr>\n",
       "    <tr>\n",
       "      <th>2022-09-16</th>\n",
       "      <td>303.350006</td>\n",
       "      <td>255.366778</td>\n",
       "    </tr>\n",
       "    <tr>\n",
       "      <th>2022-09-19</th>\n",
       "      <td>309.070007</td>\n",
       "      <td>257.076852</td>\n",
       "    </tr>\n",
       "    <tr>\n",
       "      <th>2022-09-20</th>\n",
       "      <td>308.730011</td>\n",
       "      <td>259.613855</td>\n",
       "    </tr>\n",
       "    <tr>\n",
       "      <th>2022-09-21</th>\n",
       "      <td>300.799988</td>\n",
       "      <td>257.384393</td>\n",
       "    </tr>\n",
       "    <tr>\n",
       "      <th>2022-09-22</th>\n",
       "      <td>288.589996</td>\n",
       "      <td>261.162677</td>\n",
       "    </tr>\n",
       "    <tr>\n",
       "      <th>2022-09-23</th>\n",
       "      <td>275.329987</td>\n",
       "      <td>258.505497</td>\n",
       "    </tr>\n",
       "    <tr>\n",
       "      <th>2022-09-26</th>\n",
       "      <td>276.010010</td>\n",
       "      <td>257.544437</td>\n",
       "    </tr>\n",
       "    <tr>\n",
       "      <th>2022-09-27</th>\n",
       "      <td>282.940002</td>\n",
       "      <td>255.258682</td>\n",
       "    </tr>\n",
       "    <tr>\n",
       "      <th>2022-09-28</th>\n",
       "      <td>287.809998</td>\n",
       "      <td>262.927881</td>\n",
       "    </tr>\n",
       "    <tr>\n",
       "      <th>2022-09-29</th>\n",
       "      <td>268.209991</td>\n",
       "      <td>264.539307</td>\n",
       "    </tr>\n",
       "  </tbody>\n",
       "</table>\n",
       "</div>"
      ],
      "text/plain": [
       "                 Close  Prediction\n",
       "Date                              \n",
       "2022-07-07  244.543335  228.013170\n",
       "2022-07-08  250.763336  227.620406\n",
       "2022-07-11  234.343338  226.375721\n",
       "2022-07-12  233.070007  226.017453\n",
       "2022-07-13  237.039993  225.873667\n",
       "2022-07-14  238.313339  225.408690\n",
       "2022-07-15  240.066666  227.272417\n",
       "2022-07-18  240.546661  227.712622\n",
       "2022-07-19  245.529999  226.837510\n",
       "2022-07-20  247.500000  226.632252\n",
       "2022-07-21  271.706665  224.749878\n",
       "2022-07-22  272.243347  225.727112\n",
       "2022-07-25  268.433319  226.176611\n",
       "2022-07-26  258.859985  228.060820\n",
       "2022-07-27  274.820007  228.111273\n",
       "2022-07-28  280.899994  227.848684\n",
       "2022-07-29  297.149994  228.577946\n",
       "2022-08-01  297.276672  229.642068\n",
       "2022-08-02  300.586670  231.465643\n",
       "2022-08-03  307.396667  232.237020\n",
       "2022-08-04  308.633331  231.232716\n",
       "2022-08-05  288.170013  229.040988\n",
       "2022-08-08  290.423340  233.503085\n",
       "2022-08-09  283.333344  234.758650\n",
       "2022-08-10  294.356659  232.684032\n",
       "2022-08-11  286.630005  237.530223\n",
       "2022-08-12  300.029999  235.239300\n",
       "2022-08-15  309.320007  236.673726\n",
       "2022-08-16  306.563324  239.303213\n",
       "2022-08-17  303.996674  240.290822\n",
       "2022-08-18  302.869995  239.099552\n",
       "2022-08-19  296.666656  232.449681\n",
       "2022-08-22  289.913330  238.452380\n",
       "2022-08-23  296.453339  234.758616\n",
       "2022-08-24  297.096680  234.189585\n",
       "2022-08-25  296.070007  238.225144\n",
       "2022-08-26  288.089996  240.566144\n",
       "2022-08-29  284.820007  241.643147\n",
       "2022-08-30  277.700012  244.929494\n",
       "2022-08-31  275.609985  244.174777\n",
       "2022-09-01  277.160004  244.226898\n",
       "2022-09-02  270.209991  245.551461\n",
       "2022-09-06  274.420013  241.806961\n",
       "2022-09-07  283.700012  240.890197\n",
       "2022-09-08  289.260010  243.420268\n",
       "2022-09-09  299.679993  245.483394\n",
       "2022-09-12  304.420013  252.774859\n",
       "2022-09-13  292.130005  256.627701\n",
       "2022-09-14  302.609985  251.457014\n",
       "2022-09-15  303.750000  255.311455\n",
       "2022-09-16  303.350006  255.366778\n",
       "2022-09-19  309.070007  257.076852\n",
       "2022-09-20  308.730011  259.613855\n",
       "2022-09-21  300.799988  257.384393\n",
       "2022-09-22  288.589996  261.162677\n",
       "2022-09-23  275.329987  258.505497\n",
       "2022-09-26  276.010010  257.544437\n",
       "2022-09-27  282.940002  255.258682\n",
       "2022-09-28  287.809998  262.927881\n",
       "2022-09-29  268.209991  264.539307"
      ]
     },
     "execution_count": 300,
     "metadata": {},
     "output_type": "execute_result"
    }
   ],
   "source": [
    "df5.tail(60)"
   ]
  },
  {
   "cell_type": "code",
   "execution_count": null,
   "metadata": {},
   "outputs": [],
   "source": []
  },
  {
   "cell_type": "code",
   "execution_count": null,
   "metadata": {},
   "outputs": [],
   "source": []
  },
  {
   "cell_type": "code",
   "execution_count": null,
   "metadata": {},
   "outputs": [],
   "source": []
  },
  {
   "cell_type": "code",
   "execution_count": 225,
   "metadata": {},
   "outputs": [
    {
     "data": {
      "text/html": [
       "<div>\n",
       "<style scoped>\n",
       "    .dataframe tbody tr th:only-of-type {\n",
       "        vertical-align: middle;\n",
       "    }\n",
       "\n",
       "    .dataframe tbody tr th {\n",
       "        vertical-align: top;\n",
       "    }\n",
       "\n",
       "    .dataframe thead th {\n",
       "        text-align: right;\n",
       "    }\n",
       "</style>\n",
       "<table border=\"1\" class=\"dataframe\">\n",
       "  <thead>\n",
       "    <tr style=\"text-align: right;\">\n",
       "      <th></th>\n",
       "      <th>Close</th>\n",
       "      <th>Prediction</th>\n",
       "    </tr>\n",
       "    <tr>\n",
       "      <th>Date</th>\n",
       "      <th></th>\n",
       "      <th></th>\n",
       "    </tr>\n",
       "  </thead>\n",
       "  <tbody>\n",
       "    <tr>\n",
       "      <th>2021-09-30</th>\n",
       "      <td>258.493347</td>\n",
       "      <td>NaN</td>\n",
       "    </tr>\n",
       "    <tr>\n",
       "      <th>2021-10-01</th>\n",
       "      <td>258.406677</td>\n",
       "      <td>NaN</td>\n",
       "    </tr>\n",
       "    <tr>\n",
       "      <th>2021-10-04</th>\n",
       "      <td>260.510010</td>\n",
       "      <td>NaN</td>\n",
       "    </tr>\n",
       "    <tr>\n",
       "      <th>2021-10-05</th>\n",
       "      <td>260.196655</td>\n",
       "      <td>NaN</td>\n",
       "    </tr>\n",
       "    <tr>\n",
       "      <th>2021-10-06</th>\n",
       "      <td>260.916656</td>\n",
       "      <td>NaN</td>\n",
       "    </tr>\n",
       "    <tr>\n",
       "      <th>...</th>\n",
       "      <td>...</td>\n",
       "      <td>...</td>\n",
       "    </tr>\n",
       "    <tr>\n",
       "      <th>2022-09-23</th>\n",
       "      <td>275.329987</td>\n",
       "      <td>NaN</td>\n",
       "    </tr>\n",
       "    <tr>\n",
       "      <th>2022-09-26</th>\n",
       "      <td>276.010010</td>\n",
       "      <td>NaN</td>\n",
       "    </tr>\n",
       "    <tr>\n",
       "      <th>2022-09-27</th>\n",
       "      <td>282.940002</td>\n",
       "      <td>NaN</td>\n",
       "    </tr>\n",
       "    <tr>\n",
       "      <th>2022-09-28</th>\n",
       "      <td>287.809998</td>\n",
       "      <td>NaN</td>\n",
       "    </tr>\n",
       "    <tr>\n",
       "      <th>2022-09-29</th>\n",
       "      <td>268.209991</td>\n",
       "      <td>NaN</td>\n",
       "    </tr>\n",
       "  </tbody>\n",
       "</table>\n",
       "<p>252 rows × 2 columns</p>\n",
       "</div>"
      ],
      "text/plain": [
       "                 Close  Prediction\n",
       "Date                              \n",
       "2021-09-30  258.493347         NaN\n",
       "2021-10-01  258.406677         NaN\n",
       "2021-10-04  260.510010         NaN\n",
       "2021-10-05  260.196655         NaN\n",
       "2021-10-06  260.916656         NaN\n",
       "...                ...         ...\n",
       "2022-09-23  275.329987         NaN\n",
       "2022-09-26  276.010010         NaN\n",
       "2022-09-27  282.940002         NaN\n",
       "2022-09-28  287.809998         NaN\n",
       "2022-09-29  268.209991         NaN\n",
       "\n",
       "[252 rows x 2 columns]"
      ]
     },
     "execution_count": 225,
     "metadata": {},
     "output_type": "execute_result"
    }
   ],
   "source": [
    "df3"
   ]
  },
  {
   "cell_type": "code",
   "execution_count": 71,
   "metadata": {},
   "outputs": [
    {
     "data": {
      "text/html": [
       "<div>\n",
       "<style scoped>\n",
       "    .dataframe tbody tr th:only-of-type {\n",
       "        vertical-align: middle;\n",
       "    }\n",
       "\n",
       "    .dataframe tbody tr th {\n",
       "        vertical-align: top;\n",
       "    }\n",
       "\n",
       "    .dataframe thead th {\n",
       "        text-align: right;\n",
       "    }\n",
       "</style>\n",
       "<table border=\"1\" class=\"dataframe\">\n",
       "  <thead>\n",
       "    <tr style=\"text-align: right;\">\n",
       "      <th></th>\n",
       "      <th>Unnamed: 0</th>\n",
       "      <th>Date</th>\n",
       "      <th>compound_x</th>\n",
       "      <th>compound_y</th>\n",
       "    </tr>\n",
       "  </thead>\n",
       "  <tbody>\n",
       "    <tr>\n",
       "      <th>0</th>\n",
       "      <td>0</td>\n",
       "      <td>2021-09-30</td>\n",
       "      <td>0.213078</td>\n",
       "      <td>0.0000</td>\n",
       "    </tr>\n",
       "    <tr>\n",
       "      <th>1</th>\n",
       "      <td>1</td>\n",
       "      <td>2021-10-01</td>\n",
       "      <td>0.224785</td>\n",
       "      <td>0.0000</td>\n",
       "    </tr>\n",
       "    <tr>\n",
       "      <th>2</th>\n",
       "      <td>2</td>\n",
       "      <td>2021-10-02</td>\n",
       "      <td>0.255568</td>\n",
       "      <td>0.0000</td>\n",
       "    </tr>\n",
       "    <tr>\n",
       "      <th>3</th>\n",
       "      <td>3</td>\n",
       "      <td>2021-10-03</td>\n",
       "      <td>0.257956</td>\n",
       "      <td>-0.0772</td>\n",
       "    </tr>\n",
       "    <tr>\n",
       "      <th>4</th>\n",
       "      <td>4</td>\n",
       "      <td>2021-10-04</td>\n",
       "      <td>0.106842</td>\n",
       "      <td>0.0000</td>\n",
       "    </tr>\n",
       "  </tbody>\n",
       "</table>\n",
       "</div>"
      ],
      "text/plain": [
       "   Unnamed: 0        Date  compound_x  compound_y\n",
       "0           0  2021-09-30    0.213078      0.0000\n",
       "1           1  2021-10-01    0.224785      0.0000\n",
       "2           2  2021-10-02    0.255568      0.0000\n",
       "3           3  2021-10-03    0.257956     -0.0772\n",
       "4           4  2021-10-04    0.106842      0.0000"
      ]
     },
     "execution_count": 71,
     "metadata": {},
     "output_type": "execute_result"
    }
   ],
   "source": [
    "df = pd.read_csv(r\"C:\\Users\\vella\\Desktop\\Praju\\College\\Projects\\Final year\\Data\\Comb_Sent.csv\")\n",
    "df.head()"
   ]
  },
  {
   "cell_type": "code",
   "execution_count": null,
   "metadata": {},
   "outputs": [],
   "source": []
  }
 ],
 "metadata": {
  "kernelspec": {
   "display_name": "Python 3",
   "language": "python",
   "name": "python3"
  },
  "language_info": {
   "codemirror_mode": {
    "name": "ipython",
    "version": 3
   },
   "file_extension": ".py",
   "mimetype": "text/x-python",
   "name": "python",
   "nbconvert_exporter": "python",
   "pygments_lexer": "ipython3",
   "version": "3.7.3"
  }
 },
 "nbformat": 4,
 "nbformat_minor": 2
}
