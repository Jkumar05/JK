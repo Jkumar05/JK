{
 "cells": [
  {
   "cell_type": "code",
   "execution_count": 1,
   "id": "1fa9edf8",
   "metadata": {},
   "outputs": [],
   "source": [
    "#Import the libraries\n",
    "import math\n",
    "import pandas_datareader as web\n",
    "import numpy as np\n",
    "import pandas as pd\n",
    "from sklearn.preprocessing import MinMaxScaler\n",
    "from keras.models import Sequential\n",
    "from keras.layers import Dense, LSTM,LeakyReLU\n",
    "import matplotlib.pyplot as plt\n",
    "plt.style.use('fivethirtyeight')\n",
    "import tensorflow as tf\n",
    "import random\n",
    "random.seed(0)\n",
    "from keras.preprocessing.sequence import TimeseriesGenerator"
   ]
  },
  {
   "cell_type": "code",
   "execution_count": 2,
   "id": "1f95ac46",
   "metadata": {},
   "outputs": [],
   "source": [
    "# fix random seed for reproducibility\n",
    "tf.random.set_seed(7)"
   ]
  },
  {
   "cell_type": "code",
   "execution_count": 3,
   "id": "76f88a5a",
   "metadata": {},
   "outputs": [
    {
     "data": {
      "text/html": [
       "<div>\n",
       "<style scoped>\n",
       "    .dataframe tbody tr th:only-of-type {\n",
       "        vertical-align: middle;\n",
       "    }\n",
       "\n",
       "    .dataframe tbody tr th {\n",
       "        vertical-align: top;\n",
       "    }\n",
       "\n",
       "    .dataframe thead th {\n",
       "        text-align: right;\n",
       "    }\n",
       "</style>\n",
       "<table border=\"1\" class=\"dataframe\">\n",
       "  <thead>\n",
       "    <tr style=\"text-align: right;\">\n",
       "      <th></th>\n",
       "      <th>Date</th>\n",
       "      <th>Open</th>\n",
       "      <th>High</th>\n",
       "      <th>Low</th>\n",
       "      <th>Close</th>\n",
       "      <th>Adj Close</th>\n",
       "      <th>Volume</th>\n",
       "      <th>Stock Name</th>\n",
       "    </tr>\n",
       "  </thead>\n",
       "  <tbody>\n",
       "    <tr>\n",
       "      <th>0</th>\n",
       "      <td>2021-09-30</td>\n",
       "      <td>260.333344</td>\n",
       "      <td>263.043335</td>\n",
       "      <td>258.333344</td>\n",
       "      <td>258.493347</td>\n",
       "      <td>258.493347</td>\n",
       "      <td>53868000</td>\n",
       "      <td>TSLA</td>\n",
       "    </tr>\n",
       "    <tr>\n",
       "      <th>1</th>\n",
       "      <td>2021-10-01</td>\n",
       "      <td>259.466675</td>\n",
       "      <td>260.260010</td>\n",
       "      <td>254.529999</td>\n",
       "      <td>258.406677</td>\n",
       "      <td>258.406677</td>\n",
       "      <td>51094200</td>\n",
       "      <td>TSLA</td>\n",
       "    </tr>\n",
       "    <tr>\n",
       "      <th>2</th>\n",
       "      <td>2021-10-04</td>\n",
       "      <td>265.500000</td>\n",
       "      <td>268.989990</td>\n",
       "      <td>258.706665</td>\n",
       "      <td>260.510010</td>\n",
       "      <td>260.510010</td>\n",
       "      <td>91449900</td>\n",
       "      <td>TSLA</td>\n",
       "    </tr>\n",
       "    <tr>\n",
       "      <th>3</th>\n",
       "      <td>2021-10-05</td>\n",
       "      <td>261.600006</td>\n",
       "      <td>265.769989</td>\n",
       "      <td>258.066681</td>\n",
       "      <td>260.196655</td>\n",
       "      <td>260.196655</td>\n",
       "      <td>55297800</td>\n",
       "      <td>TSLA</td>\n",
       "    </tr>\n",
       "    <tr>\n",
       "      <th>4</th>\n",
       "      <td>2021-10-06</td>\n",
       "      <td>258.733337</td>\n",
       "      <td>262.220001</td>\n",
       "      <td>257.739990</td>\n",
       "      <td>260.916656</td>\n",
       "      <td>260.916656</td>\n",
       "      <td>43898400</td>\n",
       "      <td>TSLA</td>\n",
       "    </tr>\n",
       "  </tbody>\n",
       "</table>\n",
       "</div>"
      ],
      "text/plain": [
       "         Date        Open        High         Low       Close   Adj Close  \\\n",
       "0  2021-09-30  260.333344  263.043335  258.333344  258.493347  258.493347   \n",
       "1  2021-10-01  259.466675  260.260010  254.529999  258.406677  258.406677   \n",
       "2  2021-10-04  265.500000  268.989990  258.706665  260.510010  260.510010   \n",
       "3  2021-10-05  261.600006  265.769989  258.066681  260.196655  260.196655   \n",
       "4  2021-10-06  258.733337  262.220001  257.739990  260.916656  260.916656   \n",
       "\n",
       "     Volume Stock Name  \n",
       "0  53868000       TSLA  \n",
       "1  51094200       TSLA  \n",
       "2  91449900       TSLA  \n",
       "3  55297800       TSLA  \n",
       "4  43898400       TSLA  "
      ]
     },
     "execution_count": 3,
     "metadata": {},
     "output_type": "execute_result"
    }
   ],
   "source": [
    "df1 = pd.read_csv(r\"C:\\Users\\vella\\Desktop\\Praju\\College\\Projects\\Final year\\Data\\Tesla\\stock_yfinance_data.csv\")\n",
    "df1.head()"
   ]
  },
  {
   "cell_type": "code",
   "execution_count": 4,
   "id": "fade54fe",
   "metadata": {},
   "outputs": [],
   "source": [
    "df1.rename(columns = {'Stock Name':'Stock_Name'}, inplace = True)"
   ]
  },
  {
   "cell_type": "code",
   "execution_count": 5,
   "id": "1d19e86a",
   "metadata": {},
   "outputs": [],
   "source": [
    "names = ['TSLA']\n",
    "df1 = df1[df1.Stock_Name.isin(names)]"
   ]
  },
  {
   "cell_type": "code",
   "execution_count": 6,
   "id": "3153bdf2",
   "metadata": {},
   "outputs": [
    {
     "data": {
      "text/html": [
       "<div>\n",
       "<style scoped>\n",
       "    .dataframe tbody tr th:only-of-type {\n",
       "        vertical-align: middle;\n",
       "    }\n",
       "\n",
       "    .dataframe tbody tr th {\n",
       "        vertical-align: top;\n",
       "    }\n",
       "\n",
       "    .dataframe thead th {\n",
       "        text-align: right;\n",
       "    }\n",
       "</style>\n",
       "<table border=\"1\" class=\"dataframe\">\n",
       "  <thead>\n",
       "    <tr style=\"text-align: right;\">\n",
       "      <th></th>\n",
       "      <th>Date</th>\n",
       "      <th>Open</th>\n",
       "      <th>High</th>\n",
       "      <th>Low</th>\n",
       "      <th>Close</th>\n",
       "      <th>Adj Close</th>\n",
       "      <th>Volume</th>\n",
       "      <th>Stock_Name</th>\n",
       "    </tr>\n",
       "  </thead>\n",
       "  <tbody>\n",
       "    <tr>\n",
       "      <th>0</th>\n",
       "      <td>2021-09-30</td>\n",
       "      <td>260.333344</td>\n",
       "      <td>263.043335</td>\n",
       "      <td>258.333344</td>\n",
       "      <td>258.493347</td>\n",
       "      <td>258.493347</td>\n",
       "      <td>53868000</td>\n",
       "      <td>TSLA</td>\n",
       "    </tr>\n",
       "    <tr>\n",
       "      <th>1</th>\n",
       "      <td>2021-10-01</td>\n",
       "      <td>259.466675</td>\n",
       "      <td>260.260010</td>\n",
       "      <td>254.529999</td>\n",
       "      <td>258.406677</td>\n",
       "      <td>258.406677</td>\n",
       "      <td>51094200</td>\n",
       "      <td>TSLA</td>\n",
       "    </tr>\n",
       "    <tr>\n",
       "      <th>2</th>\n",
       "      <td>2021-10-04</td>\n",
       "      <td>265.500000</td>\n",
       "      <td>268.989990</td>\n",
       "      <td>258.706665</td>\n",
       "      <td>260.510010</td>\n",
       "      <td>260.510010</td>\n",
       "      <td>91449900</td>\n",
       "      <td>TSLA</td>\n",
       "    </tr>\n",
       "    <tr>\n",
       "      <th>3</th>\n",
       "      <td>2021-10-05</td>\n",
       "      <td>261.600006</td>\n",
       "      <td>265.769989</td>\n",
       "      <td>258.066681</td>\n",
       "      <td>260.196655</td>\n",
       "      <td>260.196655</td>\n",
       "      <td>55297800</td>\n",
       "      <td>TSLA</td>\n",
       "    </tr>\n",
       "    <tr>\n",
       "      <th>4</th>\n",
       "      <td>2021-10-06</td>\n",
       "      <td>258.733337</td>\n",
       "      <td>262.220001</td>\n",
       "      <td>257.739990</td>\n",
       "      <td>260.916656</td>\n",
       "      <td>260.916656</td>\n",
       "      <td>43898400</td>\n",
       "      <td>TSLA</td>\n",
       "    </tr>\n",
       "    <tr>\n",
       "      <th>...</th>\n",
       "      <td>...</td>\n",
       "      <td>...</td>\n",
       "      <td>...</td>\n",
       "      <td>...</td>\n",
       "      <td>...</td>\n",
       "      <td>...</td>\n",
       "      <td>...</td>\n",
       "      <td>...</td>\n",
       "    </tr>\n",
       "    <tr>\n",
       "      <th>247</th>\n",
       "      <td>2022-09-23</td>\n",
       "      <td>283.089996</td>\n",
       "      <td>284.500000</td>\n",
       "      <td>272.820007</td>\n",
       "      <td>275.329987</td>\n",
       "      <td>275.329987</td>\n",
       "      <td>63748400</td>\n",
       "      <td>TSLA</td>\n",
       "    </tr>\n",
       "    <tr>\n",
       "      <th>248</th>\n",
       "      <td>2022-09-26</td>\n",
       "      <td>271.829987</td>\n",
       "      <td>284.089996</td>\n",
       "      <td>270.309998</td>\n",
       "      <td>276.010010</td>\n",
       "      <td>276.010010</td>\n",
       "      <td>58076900</td>\n",
       "      <td>TSLA</td>\n",
       "    </tr>\n",
       "    <tr>\n",
       "      <th>249</th>\n",
       "      <td>2022-09-27</td>\n",
       "      <td>283.839996</td>\n",
       "      <td>288.670013</td>\n",
       "      <td>277.510010</td>\n",
       "      <td>282.940002</td>\n",
       "      <td>282.940002</td>\n",
       "      <td>61925200</td>\n",
       "      <td>TSLA</td>\n",
       "    </tr>\n",
       "    <tr>\n",
       "      <th>250</th>\n",
       "      <td>2022-09-28</td>\n",
       "      <td>283.079987</td>\n",
       "      <td>289.000000</td>\n",
       "      <td>277.570007</td>\n",
       "      <td>287.809998</td>\n",
       "      <td>287.809998</td>\n",
       "      <td>54664800</td>\n",
       "      <td>TSLA</td>\n",
       "    </tr>\n",
       "    <tr>\n",
       "      <th>251</th>\n",
       "      <td>2022-09-29</td>\n",
       "      <td>282.760010</td>\n",
       "      <td>283.649994</td>\n",
       "      <td>265.779999</td>\n",
       "      <td>268.209991</td>\n",
       "      <td>268.209991</td>\n",
       "      <td>77620600</td>\n",
       "      <td>TSLA</td>\n",
       "    </tr>\n",
       "  </tbody>\n",
       "</table>\n",
       "<p>252 rows × 8 columns</p>\n",
       "</div>"
      ],
      "text/plain": [
       "           Date        Open        High         Low       Close   Adj Close  \\\n",
       "0    2021-09-30  260.333344  263.043335  258.333344  258.493347  258.493347   \n",
       "1    2021-10-01  259.466675  260.260010  254.529999  258.406677  258.406677   \n",
       "2    2021-10-04  265.500000  268.989990  258.706665  260.510010  260.510010   \n",
       "3    2021-10-05  261.600006  265.769989  258.066681  260.196655  260.196655   \n",
       "4    2021-10-06  258.733337  262.220001  257.739990  260.916656  260.916656   \n",
       "..          ...         ...         ...         ...         ...         ...   \n",
       "247  2022-09-23  283.089996  284.500000  272.820007  275.329987  275.329987   \n",
       "248  2022-09-26  271.829987  284.089996  270.309998  276.010010  276.010010   \n",
       "249  2022-09-27  283.839996  288.670013  277.510010  282.940002  282.940002   \n",
       "250  2022-09-28  283.079987  289.000000  277.570007  287.809998  287.809998   \n",
       "251  2022-09-29  282.760010  283.649994  265.779999  268.209991  268.209991   \n",
       "\n",
       "       Volume Stock_Name  \n",
       "0    53868000       TSLA  \n",
       "1    51094200       TSLA  \n",
       "2    91449900       TSLA  \n",
       "3    55297800       TSLA  \n",
       "4    43898400       TSLA  \n",
       "..        ...        ...  \n",
       "247  63748400       TSLA  \n",
       "248  58076900       TSLA  \n",
       "249  61925200       TSLA  \n",
       "250  54664800       TSLA  \n",
       "251  77620600       TSLA  \n",
       "\n",
       "[252 rows x 8 columns]"
      ]
     },
     "execution_count": 6,
     "metadata": {},
     "output_type": "execute_result"
    }
   ],
   "source": [
    "df1"
   ]
  },
  {
   "cell_type": "code",
   "execution_count": 7,
   "id": "73b34e61",
   "metadata": {},
   "outputs": [
    {
     "data": {
      "text/html": [
       "<div>\n",
       "<style scoped>\n",
       "    .dataframe tbody tr th:only-of-type {\n",
       "        vertical-align: middle;\n",
       "    }\n",
       "\n",
       "    .dataframe tbody tr th {\n",
       "        vertical-align: top;\n",
       "    }\n",
       "\n",
       "    .dataframe thead th {\n",
       "        text-align: right;\n",
       "    }\n",
       "</style>\n",
       "<table border=\"1\" class=\"dataframe\">\n",
       "  <thead>\n",
       "    <tr style=\"text-align: right;\">\n",
       "      <th></th>\n",
       "      <th>Date</th>\n",
       "      <th>Close</th>\n",
       "    </tr>\n",
       "  </thead>\n",
       "  <tbody>\n",
       "    <tr>\n",
       "      <th>0</th>\n",
       "      <td>2021-09-30</td>\n",
       "      <td>258.493347</td>\n",
       "    </tr>\n",
       "    <tr>\n",
       "      <th>1</th>\n",
       "      <td>2021-10-01</td>\n",
       "      <td>258.406677</td>\n",
       "    </tr>\n",
       "    <tr>\n",
       "      <th>2</th>\n",
       "      <td>2021-10-04</td>\n",
       "      <td>260.510010</td>\n",
       "    </tr>\n",
       "    <tr>\n",
       "      <th>3</th>\n",
       "      <td>2021-10-05</td>\n",
       "      <td>260.196655</td>\n",
       "    </tr>\n",
       "    <tr>\n",
       "      <th>4</th>\n",
       "      <td>2021-10-06</td>\n",
       "      <td>260.916656</td>\n",
       "    </tr>\n",
       "  </tbody>\n",
       "</table>\n",
       "</div>"
      ],
      "text/plain": [
       "         Date       Close\n",
       "0  2021-09-30  258.493347\n",
       "1  2021-10-01  258.406677\n",
       "2  2021-10-04  260.510010\n",
       "3  2021-10-05  260.196655\n",
       "4  2021-10-06  260.916656"
      ]
     },
     "execution_count": 7,
     "metadata": {},
     "output_type": "execute_result"
    }
   ],
   "source": [
    "df2 = df1.iloc[:,[0,4]]\n",
    "df2.head()"
   ]
  },
  {
   "cell_type": "code",
   "execution_count": 8,
   "id": "e2b470be",
   "metadata": {},
   "outputs": [
    {
     "name": "stderr",
     "output_type": "stream",
     "text": [
      "C:\\Users\\vella\\AppData\\Local\\Temp\\ipykernel_6344\\1509892825.py:2: SettingWithCopyWarning: \n",
      "A value is trying to be set on a copy of a slice from a DataFrame.\n",
      "Try using .loc[row_indexer,col_indexer] = value instead\n",
      "\n",
      "See the caveats in the documentation: https://pandas.pydata.org/pandas-docs/stable/user_guide/indexing.html#returning-a-view-versus-a-copy\n",
      "  df2.Date = pd.to_datetime(df2.Date)\n"
     ]
    }
   ],
   "source": [
    "#Converting dates as datetime format\n",
    "df2.Date = pd.to_datetime(df2.Date)"
   ]
  },
  {
   "cell_type": "code",
   "execution_count": 9,
   "id": "2e805843",
   "metadata": {},
   "outputs": [],
   "source": [
    "#Converting date column as index\n",
    "df3 = df2.set_index(\"Date\")"
   ]
  },
  {
   "cell_type": "code",
   "execution_count": 10,
   "id": "69b5ab0f",
   "metadata": {
    "scrolled": true
   },
   "outputs": [
    {
     "data": {
      "text/html": [
       "<div>\n",
       "<style scoped>\n",
       "    .dataframe tbody tr th:only-of-type {\n",
       "        vertical-align: middle;\n",
       "    }\n",
       "\n",
       "    .dataframe tbody tr th {\n",
       "        vertical-align: top;\n",
       "    }\n",
       "\n",
       "    .dataframe thead th {\n",
       "        text-align: right;\n",
       "    }\n",
       "</style>\n",
       "<table border=\"1\" class=\"dataframe\">\n",
       "  <thead>\n",
       "    <tr style=\"text-align: right;\">\n",
       "      <th></th>\n",
       "      <th>Close</th>\n",
       "    </tr>\n",
       "    <tr>\n",
       "      <th>Date</th>\n",
       "      <th></th>\n",
       "    </tr>\n",
       "  </thead>\n",
       "  <tbody>\n",
       "    <tr>\n",
       "      <th>2021-09-30</th>\n",
       "      <td>258.493347</td>\n",
       "    </tr>\n",
       "    <tr>\n",
       "      <th>2021-10-01</th>\n",
       "      <td>258.406677</td>\n",
       "    </tr>\n",
       "    <tr>\n",
       "      <th>2021-10-04</th>\n",
       "      <td>260.510010</td>\n",
       "    </tr>\n",
       "    <tr>\n",
       "      <th>2021-10-05</th>\n",
       "      <td>260.196655</td>\n",
       "    </tr>\n",
       "    <tr>\n",
       "      <th>2021-10-06</th>\n",
       "      <td>260.916656</td>\n",
       "    </tr>\n",
       "    <tr>\n",
       "      <th>...</th>\n",
       "      <td>...</td>\n",
       "    </tr>\n",
       "    <tr>\n",
       "      <th>2022-09-23</th>\n",
       "      <td>275.329987</td>\n",
       "    </tr>\n",
       "    <tr>\n",
       "      <th>2022-09-26</th>\n",
       "      <td>276.010010</td>\n",
       "    </tr>\n",
       "    <tr>\n",
       "      <th>2022-09-27</th>\n",
       "      <td>282.940002</td>\n",
       "    </tr>\n",
       "    <tr>\n",
       "      <th>2022-09-28</th>\n",
       "      <td>287.809998</td>\n",
       "    </tr>\n",
       "    <tr>\n",
       "      <th>2022-09-29</th>\n",
       "      <td>268.209991</td>\n",
       "    </tr>\n",
       "  </tbody>\n",
       "</table>\n",
       "<p>252 rows × 1 columns</p>\n",
       "</div>"
      ],
      "text/plain": [
       "                 Close\n",
       "Date                  \n",
       "2021-09-30  258.493347\n",
       "2021-10-01  258.406677\n",
       "2021-10-04  260.510010\n",
       "2021-10-05  260.196655\n",
       "2021-10-06  260.916656\n",
       "...                ...\n",
       "2022-09-23  275.329987\n",
       "2022-09-26  276.010010\n",
       "2022-09-27  282.940002\n",
       "2022-09-28  287.809998\n",
       "2022-09-29  268.209991\n",
       "\n",
       "[252 rows x 1 columns]"
      ]
     },
     "execution_count": 10,
     "metadata": {},
     "output_type": "execute_result"
    }
   ],
   "source": [
    "df3"
   ]
  },
  {
   "cell_type": "markdown",
   "id": "f8355941",
   "metadata": {},
   "source": [
    "# Actual Prediction"
   ]
  },
  {
   "cell_type": "code",
   "execution_count": 11,
   "id": "0eaf77db",
   "metadata": {},
   "outputs": [
    {
     "data": {
      "text/plain": [
       "215"
      ]
     },
     "execution_count": 11,
     "metadata": {},
     "output_type": "execute_result"
    }
   ],
   "source": [
    "#Create a dataframe with only the 'Create Column\n",
    "data= df3\n",
    "#convert the dataframe to a numpy array\n",
    "dataset= data.values\n",
    "#get the number of rows to train the model on\n",
    "training_data_len= math.ceil(len(dataset)* 0.85)\n",
    "training_data_len"
   ]
  },
  {
   "cell_type": "code",
   "execution_count": 12,
   "id": "c8ecddf6",
   "metadata": {},
   "outputs": [
    {
     "data": {
      "text/plain": [
       "array([[0.24481932],\n",
       "       [0.24438723],\n",
       "       [0.25487331],\n",
       "       [0.25331109],\n",
       "       [0.25690063],\n",
       "       [0.27494812],\n",
       "       [0.261454  ],\n",
       "       [0.27217286],\n",
       "       [0.29507268],\n",
       "       [0.30397996],\n",
       "       [0.31601167],\n",
       "       [0.35707522],\n",
       "       [0.40207733],\n",
       "       [0.39237221],\n",
       "       [0.39491484],\n",
       "       [0.44177813],\n",
       "       [0.4678354 ],\n",
       "       [0.65924383],\n",
       "       [0.64855829],\n",
       "       [0.68084754],\n",
       "       [0.74595763],\n",
       "       [0.80737852],\n",
       "       [0.96457004],\n",
       "       [0.90376396],\n",
       "       [0.97332776],\n",
       "       [1.        ],\n",
       "       [0.98700461],\n",
       "       [0.88870793],\n",
       "       [0.65698373],\n",
       "       [0.73085169],\n",
       "       [0.72347316],\n",
       "       [0.67346901],\n",
       "       [0.64018276],\n",
       "       [0.70888238],\n",
       "       [0.76584956],\n",
       "       [0.77809716],\n",
       "       [0.84569998],\n",
       "       [0.87862062],\n",
       "       [0.79911922],\n",
       "       [0.81070211],\n",
       "       [0.75406736],\n",
       "       [0.84558374],\n",
       "       [0.85849606],\n",
       "       [0.77580389],\n",
       "       [0.75852093],\n",
       "       [0.64280846],\n",
       "       [0.63290403],\n",
       "       [0.70393024],\n",
       "       [0.73253014],\n",
       "       [0.62424596],\n",
       "       [0.64623186],\n",
       "       [0.56211045],\n",
       "       [0.54898208],\n",
       "       [0.57803066],\n",
       "       [0.4964852 ],\n",
       "       [0.50587448],\n",
       "       [0.45164939],\n",
       "       [0.51577891],\n",
       "       [0.6326714 ],\n",
       "       [0.72927289],\n",
       "       [0.77404237],\n",
       "       [0.76495221],\n",
       "       [0.76116321],\n",
       "       [0.73482341],\n",
       "       [0.71228919],\n",
       "       [0.94992936],\n",
       "       [0.86652258],\n",
       "       [0.76437057],\n",
       "       [0.72545073],\n",
       "       [0.66273372],\n",
       "       [0.71451597],\n",
       "       [0.72495215],\n",
       "       [0.79444946],\n",
       "       [0.67037805],\n",
       "       [0.70037387],\n",
       "       [0.6686331 ],\n",
       "       [0.61070209],\n",
       "       [0.61173241],\n",
       "       [0.52470292],\n",
       "       [0.50160364],\n",
       "       [0.48232652],\n",
       "       [0.51391773],\n",
       "       [0.33392604],\n",
       "       [0.36259243],\n",
       "       [0.51277102],\n",
       "       [0.50368086],\n",
       "       [0.4611549 ],\n",
       "       [0.4370253 ],\n",
       "       [0.49050274],\n",
       "       [0.46394675],\n",
       "       [0.48830913],\n",
       "       [0.50492723],\n",
       "       [0.4593103 ],\n",
       "       [0.38527621],\n",
       "       [0.4114666 ],\n",
       "       [0.4890236 ],\n",
       "       [0.49061898],\n",
       "       [0.41244702],\n",
       "       [0.38025758],\n",
       "       [0.321346  ],\n",
       "       [0.225808  ],\n",
       "       [0.28684671],\n",
       "       [0.30196922],\n",
       "       [0.40260907],\n",
       "       [0.39253835],\n",
       "       [0.41832982],\n",
       "       [0.35085998],\n",
       "       [0.34919811],\n",
       "       [0.29317818],\n",
       "       [0.32611541],\n",
       "       [0.38356458],\n",
       "       [0.3492147 ],\n",
       "       [0.27783962],\n",
       "       [0.22968007],\n",
       "       [0.28870788],\n",
       "       [0.35242205],\n",
       "       [0.40455332],\n",
       "       [0.46070623],\n",
       "       [0.48691321],\n",
       "       [0.60792683],\n",
       "       [0.61645208],\n",
       "       [0.64106352],\n",
       "       [0.63561281],\n",
       "       [0.77055249],\n",
       "       [0.78339847],\n",
       "       [0.77412544],\n",
       "       [0.74688829],\n",
       "       [0.75850434],\n",
       "       [0.85964277],\n",
       "       [0.76958865],\n",
       "       [0.69397591],\n",
       "       [0.71308688],\n",
       "       [0.66029074],\n",
       "       [0.57793101],\n",
       "       [0.59624429],\n",
       "       [0.65510597],\n",
       "       [0.59300377],\n",
       "       [0.62506024],\n",
       "       [0.66471128],\n",
       "       [0.58004155],\n",
       "       [0.63252184],\n",
       "       [0.62632319],\n",
       "       [0.61464065],\n",
       "       [0.41256341],\n",
       "       [0.42102201],\n",
       "       [0.41437468],\n",
       "       [0.4031574 ],\n",
       "       [0.45663485],\n",
       "       [0.46712093],\n",
       "       [0.53919404],\n",
       "       [0.40734517],\n",
       "       [0.39466548],\n",
       "       [0.26414619],\n",
       "       [0.28563351],\n",
       "       [0.17588699],\n",
       "       [0.16591608],\n",
       "       [0.23503113],\n",
       "       [0.15988364],\n",
       "       [0.22176979],\n",
       "       [0.13568755],\n",
       "       [0.13503941],\n",
       "       [0.05939342],\n",
       "       [0.07767339],\n",
       "       [0.        ],\n",
       "       [0.05091816],\n",
       "       [0.13223098],\n",
       "       [0.21847944],\n",
       "       [0.21620268],\n",
       "       [0.18647273],\n",
       "       [0.24402163],\n",
       "       [0.12528454],\n",
       "       [0.1440465 ],\n",
       "       [0.14707105],\n",
       "       [0.16192769],\n",
       "       [0.15115908],\n",
       "       [0.11388445],\n",
       "       [0.03165762],\n",
       "       [0.05734936],\n",
       "       [0.11772328],\n",
       "       [0.01851267],\n",
       "       [0.03675939],\n",
       "       [0.13784792],\n",
       "       [0.13311175],\n",
       "       [0.12804322],\n",
       "       [0.18107184],\n",
       "       [0.17714994],\n",
       "       [0.11604482],\n",
       "       [0.09523888],\n",
       "       [0.0752139 ],\n",
       "       [0.08912338],\n",
       "       [0.11805564],\n",
       "       [0.11140838],\n",
       "       [0.1752721 ],\n",
       "       [0.20628167],\n",
       "       [0.12442044],\n",
       "       [0.1180723 ],\n",
       "       [0.1378645 ],\n",
       "       [0.14421271],\n",
       "       [0.15295385],\n",
       "       [0.15534685],\n",
       "       [0.18019108],\n",
       "       [0.19001244],\n",
       "       [0.31069378],\n",
       "       [0.31336938],\n",
       "       [0.29437465],\n",
       "       [0.24664718],\n",
       "       [0.32621522],\n",
       "       [0.35652674],\n",
       "       [0.43754046],\n",
       "       [0.43817201],\n",
       "       [0.45467386],\n",
       "       [0.48862483],\n",
       "       [0.49479017],\n",
       "       [0.39277113],\n",
       "       [0.404005  ],\n",
       "       [0.36865811],\n",
       "       [0.4236144 ],\n",
       "       [0.38509348],\n",
       "       [0.4518986 ],\n",
       "       [0.49821356],\n",
       "       [0.48447023],\n",
       "       [0.4716743 ],\n",
       "       [0.46605729],\n",
       "       [0.4351308 ],\n",
       "       [0.40146236],\n",
       "       [0.43406731],\n",
       "       [0.43727466],\n",
       "       [0.43215623],\n",
       "       [0.39237221],\n",
       "       [0.37606981],\n",
       "       [0.34057337],\n",
       "       [0.33015362],\n",
       "       [0.33788118],\n",
       "       [0.30323217],\n",
       "       [0.32422107],\n",
       "       [0.37048612],\n",
       "       [0.39820526],\n",
       "       [0.45015366],\n",
       "       [0.47378484],\n",
       "       [0.41251351],\n",
       "       [0.46476102],\n",
       "       [0.47044452],\n",
       "       [0.46845036],\n",
       "       [0.4969672 ],\n",
       "       [0.49527216],\n",
       "       [0.45573735],\n",
       "       [0.39486494],\n",
       "       [0.3287577 ],\n",
       "       [0.33214793],\n",
       "       [0.36669712],\n",
       "       [0.39097629],\n",
       "       [0.29326125]])"
      ]
     },
     "execution_count": 12,
     "metadata": {},
     "output_type": "execute_result"
    }
   ],
   "source": [
    "#Scale the all of the data to be values between 0 and 1 \n",
    "scaler= MinMaxScaler(feature_range=(0,1))\n",
    "scaled_data= scaler.fit_transform(dataset)\n",
    "scaled_data"
   ]
  },
  {
   "cell_type": "code",
   "execution_count": 13,
   "id": "9466f824",
   "metadata": {},
   "outputs": [
    {
     "name": "stdout",
     "output_type": "stream",
     "text": [
      "[array([0.24481932, 0.24438723, 0.25487331, 0.25331109, 0.25690063,\n",
      "       0.27494812, 0.261454  , 0.27217286, 0.29507268, 0.30397996,\n",
      "       0.31601167, 0.35707522, 0.40207733, 0.39237221, 0.39491484,\n",
      "       0.44177813, 0.4678354 , 0.65924383, 0.64855829, 0.68084754,\n",
      "       0.74595763, 0.80737852, 0.96457004, 0.90376396, 0.97332776,\n",
      "       1.        , 0.98700461, 0.88870793, 0.65698373, 0.73085169,\n",
      "       0.72347316, 0.67346901, 0.64018276, 0.70888238, 0.76584956,\n",
      "       0.77809716, 0.84569998, 0.87862062, 0.79911922, 0.81070211,\n",
      "       0.75406736, 0.84558374, 0.85849606, 0.77580389, 0.75852093,\n",
      "       0.64280846, 0.63290403, 0.70393024, 0.73253014, 0.62424596,\n",
      "       0.64623186, 0.56211045, 0.54898208, 0.57803066, 0.4964852 ,\n",
      "       0.50587448, 0.45164939, 0.51577891, 0.6326714 , 0.72927289,\n",
      "       0.77404237, 0.76495221, 0.76116321, 0.73482341, 0.71228919,\n",
      "       0.94992936, 0.86652258])]\n",
      "[0.7643705656163826]\n",
      "\n"
     ]
    }
   ],
   "source": [
    "#Create the scaled training data set \n",
    "train_data = scaled_data[0:training_data_len  , : ]\n",
    "#Split the data into x_train and y_train data sets\n",
    "x_train=[]\n",
    "y_train = []\n",
    "for i in range(67,len(train_data)):\n",
    "    x_train.append(train_data[i-67:i,0])\n",
    "    y_train.append(train_data[i,0])\n",
    "\n",
    "    if i<=67:\n",
    "      print(x_train)\n",
    "      print(y_train)\n",
    "      print()"
   ]
  },
  {
   "cell_type": "code",
   "execution_count": 14,
   "id": "6416e5bd",
   "metadata": {},
   "outputs": [],
   "source": [
    "#Convert x_train and y_train to numpy arrays\n",
    "x_train, y_train = np.array(x_train), np.array(y_train)"
   ]
  },
  {
   "cell_type": "code",
   "execution_count": 15,
   "id": "5ad97660",
   "metadata": {},
   "outputs": [
    {
     "data": {
      "text/plain": [
       "(148, 67, 1)"
      ]
     },
     "execution_count": 15,
     "metadata": {},
     "output_type": "execute_result"
    }
   ],
   "source": [
    "#Reshape the data into the shape accepted by the LSTM\n",
    "x_train = np.reshape(x_train, (x_train.shape[0],x_train.shape[1],1))\n",
    "x_train.shape"
   ]
  },
  {
   "cell_type": "code",
   "execution_count": 16,
   "id": "44f32a2c",
   "metadata": {},
   "outputs": [],
   "source": [
    "#Build the LSTM network model\n",
    "model = Sequential()\n",
    "\n",
    "n_input = 1\n",
    "n_features = 1\n",
    "    \n",
    "model.add(LeakyReLU(alpha = 0.05))\n",
    "model.add(LSTM(50, input_shape=(n_input, n_features)))\n",
    "#model.add(LSTM(units=50, return_sequences=False))\n",
    "model.add(Dense(units=75))\n",
    "model.add(Dense(units=1))\n",
    "model.compile(optimizer='adam', loss='mean_squared_error')\n",
    "\n",
    "#model.add(LSTM(units=50, return_sequences=True,input_shape=(x_train.shape[1],1)))\n",
    "#model.add(LSTM(units=50, return_sequences=False))\n",
    "#model.add(Dense(units=25))\n",
    "#model.add(Dense(units=1))"
   ]
  },
  {
   "cell_type": "code",
   "execution_count": 17,
   "id": "d12fde74",
   "metadata": {},
   "outputs": [],
   "source": [
    "#Compile the model\n",
    "model.compile(optimizer='adam', loss='mean_squared_error')"
   ]
  },
  {
   "cell_type": "code",
   "execution_count": 18,
   "id": "880a304a",
   "metadata": {},
   "outputs": [
    {
     "name": "stdout",
     "output_type": "stream",
     "text": [
      "148/148 [==============================] - 3s 10ms/step - loss: 0.0152\n"
     ]
    },
    {
     "data": {
      "text/plain": [
       "<keras.callbacks.History at 0x1f9e46d2640>"
      ]
     },
     "execution_count": 18,
     "metadata": {},
     "output_type": "execute_result"
    }
   ],
   "source": [
    "#Train the model\n",
    "model.fit(x_train, y_train, batch_size=1, epochs=1)"
   ]
  },
  {
   "cell_type": "code",
   "execution_count": 19,
   "id": "588a20e3",
   "metadata": {},
   "outputs": [],
   "source": [
    "#Test data set\n",
    "test_data = scaled_data[training_data_len - 180: , : ]\n",
    "#Create the x_test and y_test data sets\n",
    "x_test = []\n",
    "y_test =  dataset[training_data_len : , : ] \n",
    "for i in range(180,len(test_data)):\n",
    "    x_test.append(test_data[i-67:i,0])"
   ]
  },
  {
   "cell_type": "code",
   "execution_count": 20,
   "id": "c612c8c3",
   "metadata": {},
   "outputs": [],
   "source": [
    "#Convert x_test to a numpy array \n",
    "x_test = np.array(x_test)"
   ]
  },
  {
   "cell_type": "code",
   "execution_count": 21,
   "id": "9eec57b7",
   "metadata": {},
   "outputs": [],
   "source": [
    "#Reshape the data into the shape accepted by the LSTM\n",
    "x_test = np.reshape(x_test, (x_test.shape[0],x_test.shape[1],1))"
   ]
  },
  {
   "cell_type": "code",
   "execution_count": 22,
   "id": "5ab9a1a1",
   "metadata": {},
   "outputs": [
    {
     "name": "stdout",
     "output_type": "stream",
     "text": [
      "2/2 [==============================] - 1s 7ms/step\n"
     ]
    }
   ],
   "source": [
    "#Getting the models predicted price values\n",
    "predictions = model.predict(x_test) \n",
    "predictions = scaler.inverse_transform(predictions)\n",
    "#Undo scaling"
   ]
  },
  {
   "cell_type": "code",
   "execution_count": 23,
   "id": "e2253f18",
   "metadata": {},
   "outputs": [
    {
     "data": {
      "text/plain": [
       "11.020386355576026"
      ]
     },
     "execution_count": 23,
     "metadata": {},
     "output_type": "execute_result"
    }
   ],
   "source": [
    "#Calculate/Get the value of RMSE\n",
    "rmse=np.sqrt(np.mean(((predictions- y_test)**2)))\n",
    "rmse"
   ]
  },
  {
   "cell_type": "code",
   "execution_count": 24,
   "id": "b0ce5d7c",
   "metadata": {
    "scrolled": false
   },
   "outputs": [
    {
     "name": "stderr",
     "output_type": "stream",
     "text": [
      "C:\\Users\\vella\\AppData\\Local\\Temp\\ipykernel_6344\\3590450730.py:4: SettingWithCopyWarning: \n",
      "A value is trying to be set on a copy of a slice from a DataFrame.\n",
      "Try using .loc[row_indexer,col_indexer] = value instead\n",
      "\n",
      "See the caveats in the documentation: https://pandas.pydata.org/pandas-docs/stable/user_guide/indexing.html#returning-a-view-versus-a-copy\n",
      "  valid['Predictions'] = predictions\n"
     ]
    },
    {
     "data": {
      "image/png": "[encoded data removed]",
      "text/plain": [
       "<Figure size 1000x500 with 1 Axes>"
      ]
     },
     "metadata": {},
     "output_type": "display_data"
    }
   ],
   "source": [
    "#Create the data for the graph\n",
    "train = data[:training_data_len]\n",
    "valid = data[training_data_len:]\n",
    "valid['Predictions'] = predictions\n",
    "#Visualize the data\n",
    "plt.figure(figsize=(10,5))\n",
    "plt.title('Model')\n",
    "plt.xlabel('Date', fontsize=8)\n",
    "plt.ylabel('Close Price USD ($)', fontsize=12)\n",
    "plt.plot(train['Close'])\n",
    "plt.plot(valid[['Close', 'Predictions']])\n",
    "plt.legend(['Train', 'Val', 'Predictions'], loc='lower right')\n",
    "plt.show()"
   ]
  },
  {
   "cell_type": "markdown",
   "id": "c3912c35",
   "metadata": {},
   "source": [
    "# Live Predictions"
   ]
  },
  {
   "cell_type": "code",
   "execution_count": 25,
   "id": "98672a70",
   "metadata": {},
   "outputs": [
    {
     "name": "stdout",
     "output_type": "stream",
     "text": [
      "1/1 [==============================] - 0s 24ms/step\n",
      "            0\n",
      "0  366.688293\n",
      "1/1 [==============================] - 0s 23ms/step\n",
      "            0\n",
      "0  365.760651\n",
      "1/1 [==============================] - 0s 21ms/step\n",
      "            0\n",
      "0  362.290619\n",
      "1/1 [==============================] - 0s 22ms/step\n",
      "            0\n",
      "0  355.772064\n"
     ]
    },
    {
     "name": "stderr",
     "output_type": "stream",
     "text": [
      "C:\\Users\\vella\\AppData\\Local\\Temp\\ipykernel_6344\\3582800836.py:23: FutureWarning: The frame.append method is deprecated and will be removed from pandas in a future version. Use pandas.concat instead.\n",
      "  predicted = predicted.append(df_pred, ignore_index=True)\n",
      "C:\\Users\\vella\\AppData\\Local\\Temp\\ipykernel_6344\\3582800836.py:23: FutureWarning: The frame.append method is deprecated and will be removed from pandas in a future version. Use pandas.concat instead.\n",
      "  predicted = predicted.append(df_pred, ignore_index=True)\n",
      "C:\\Users\\vella\\AppData\\Local\\Temp\\ipykernel_6344\\3582800836.py:23: FutureWarning: The frame.append method is deprecated and will be removed from pandas in a future version. Use pandas.concat instead.\n",
      "  predicted = predicted.append(df_pred, ignore_index=True)\n",
      "C:\\Users\\vella\\AppData\\Local\\Temp\\ipykernel_6344\\3582800836.py:23: FutureWarning: The frame.append method is deprecated and will be removed from pandas in a future version. Use pandas.concat instead.\n",
      "  predicted = predicted.append(df_pred, ignore_index=True)\n"
     ]
    },
    {
     "name": "stdout",
     "output_type": "stream",
     "text": [
      "1/1 [==============================] - 0s 27ms/step\n",
      "            0\n",
      "0  352.694733\n",
      "1/1 [==============================] - 0s 23ms/step\n",
      "            0\n",
      "0  350.714996\n",
      "1/1 [==============================] - 0s 24ms/step\n",
      "            0\n",
      "0  352.650787\n",
      "1/1 [==============================] - 0s 20ms/step\n",
      "            0\n",
      "0  348.086304\n"
     ]
    },
    {
     "name": "stderr",
     "output_type": "stream",
     "text": [
      "C:\\Users\\vella\\AppData\\Local\\Temp\\ipykernel_6344\\3582800836.py:23: FutureWarning: The frame.append method is deprecated and will be removed from pandas in a future version. Use pandas.concat instead.\n",
      "  predicted = predicted.append(df_pred, ignore_index=True)\n",
      "C:\\Users\\vella\\AppData\\Local\\Temp\\ipykernel_6344\\3582800836.py:23: FutureWarning: The frame.append method is deprecated and will be removed from pandas in a future version. Use pandas.concat instead.\n",
      "  predicted = predicted.append(df_pred, ignore_index=True)\n",
      "C:\\Users\\vella\\AppData\\Local\\Temp\\ipykernel_6344\\3582800836.py:23: FutureWarning: The frame.append method is deprecated and will be removed from pandas in a future version. Use pandas.concat instead.\n",
      "  predicted = predicted.append(df_pred, ignore_index=True)\n",
      "C:\\Users\\vella\\AppData\\Local\\Temp\\ipykernel_6344\\3582800836.py:23: FutureWarning: The frame.append method is deprecated and will be removed from pandas in a future version. Use pandas.concat instead.\n",
      "  predicted = predicted.append(df_pred, ignore_index=True)\n"
     ]
    },
    {
     "name": "stdout",
     "output_type": "stream",
     "text": [
      "1/1 [==============================] - 0s 20ms/step\n",
      "            0\n",
      "0  345.670563\n",
      "1/1 [==============================] - 0s 21ms/step\n",
      "            0\n",
      "0  342.227783\n",
      "1/1 [==============================] - 0s 21ms/step\n",
      "            0\n",
      "0  336.556793\n",
      "1/1 [==============================] - 0s 23ms/step\n",
      "            0\n",
      "0  332.055542\n"
     ]
    },
    {
     "name": "stderr",
     "output_type": "stream",
     "text": [
      "C:\\Users\\vella\\AppData\\Local\\Temp\\ipykernel_6344\\3582800836.py:23: FutureWarning: The frame.append method is deprecated and will be removed from pandas in a future version. Use pandas.concat instead.\n",
      "  predicted = predicted.append(df_pred, ignore_index=True)\n",
      "C:\\Users\\vella\\AppData\\Local\\Temp\\ipykernel_6344\\3582800836.py:23: FutureWarning: The frame.append method is deprecated and will be removed from pandas in a future version. Use pandas.concat instead.\n",
      "  predicted = predicted.append(df_pred, ignore_index=True)\n",
      "C:\\Users\\vella\\AppData\\Local\\Temp\\ipykernel_6344\\3582800836.py:23: FutureWarning: The frame.append method is deprecated and will be removed from pandas in a future version. Use pandas.concat instead.\n",
      "  predicted = predicted.append(df_pred, ignore_index=True)\n",
      "C:\\Users\\vella\\AppData\\Local\\Temp\\ipykernel_6344\\3582800836.py:23: FutureWarning: The frame.append method is deprecated and will be removed from pandas in a future version. Use pandas.concat instead.\n",
      "  predicted = predicted.append(df_pred, ignore_index=True)\n"
     ]
    },
    {
     "name": "stdout",
     "output_type": "stream",
     "text": [
      "1/1 [==============================] - 0s 31ms/step\n",
      "            0\n",
      "0  324.238281\n",
      "1/1 [==============================] - 0s 21ms/step\n",
      "            0\n",
      "0  316.855133\n",
      "1/1 [==============================] - 0s 21ms/step\n",
      "            0\n",
      "0  310.221039\n",
      "1/1 [==============================] - 0s 21ms/step\n",
      "            0\n",
      "0  306.841034\n"
     ]
    },
    {
     "name": "stderr",
     "output_type": "stream",
     "text": [
      "C:\\Users\\vella\\AppData\\Local\\Temp\\ipykernel_6344\\3582800836.py:23: FutureWarning: The frame.append method is deprecated and will be removed from pandas in a future version. Use pandas.concat instead.\n",
      "  predicted = predicted.append(df_pred, ignore_index=True)\n",
      "C:\\Users\\vella\\AppData\\Local\\Temp\\ipykernel_6344\\3582800836.py:23: FutureWarning: The frame.append method is deprecated and will be removed from pandas in a future version. Use pandas.concat instead.\n",
      "  predicted = predicted.append(df_pred, ignore_index=True)\n",
      "C:\\Users\\vella\\AppData\\Local\\Temp\\ipykernel_6344\\3582800836.py:23: FutureWarning: The frame.append method is deprecated and will be removed from pandas in a future version. Use pandas.concat instead.\n",
      "  predicted = predicted.append(df_pred, ignore_index=True)\n",
      "C:\\Users\\vella\\AppData\\Local\\Temp\\ipykernel_6344\\3582800836.py:23: FutureWarning: The frame.append method is deprecated and will be removed from pandas in a future version. Use pandas.concat instead.\n",
      "  predicted = predicted.append(df_pred, ignore_index=True)\n"
     ]
    },
    {
     "name": "stdout",
     "output_type": "stream",
     "text": [
      "1/1 [==============================] - 0s 30ms/step\n",
      "            0\n",
      "0  295.576019\n",
      "1/1 [==============================] - 0s 28ms/step\n",
      "            0\n",
      "0  288.072174\n",
      "1/1 [==============================] - 0s 24ms/step\n",
      "            0\n",
      "0  290.166046\n",
      "1/1 [==============================] - ETA: 0s"
     ]
    },
    {
     "name": "stderr",
     "output_type": "stream",
     "text": [
      "C:\\Users\\vella\\AppData\\Local\\Temp\\ipykernel_6344\\3582800836.py:23: FutureWarning: The frame.append method is deprecated and will be removed from pandas in a future version. Use pandas.concat instead.\n",
      "  predicted = predicted.append(df_pred, ignore_index=True)\n",
      "C:\\Users\\vella\\AppData\\Local\\Temp\\ipykernel_6344\\3582800836.py:23: FutureWarning: The frame.append method is deprecated and will be removed from pandas in a future version. Use pandas.concat instead.\n",
      "  predicted = predicted.append(df_pred, ignore_index=True)\n",
      "C:\\Users\\vella\\AppData\\Local\\Temp\\ipykernel_6344\\3582800836.py:23: FutureWarning: The frame.append method is deprecated and will be removed from pandas in a future version. Use pandas.concat instead.\n",
      "  predicted = predicted.append(df_pred, ignore_index=True)\n"
     ]
    },
    {
     "name": "stdout",
     "output_type": "stream",
     "text": [
      "1/1 [==============================] - 0s 20ms/step\n",
      "            0\n",
      "0  292.199402\n",
      "1/1 [==============================] - 0s 23ms/step\n",
      "            0\n",
      "0  292.131622\n",
      "1/1 [==============================] - 0s 21ms/step\n",
      "            0\n",
      "0  291.123566\n",
      "1/1 [==============================] - 0s 22ms/step\n",
      "           0\n",
      "0  293.24646\n"
     ]
    },
    {
     "name": "stderr",
     "output_type": "stream",
     "text": [
      "C:\\Users\\vella\\AppData\\Local\\Temp\\ipykernel_6344\\3582800836.py:23: FutureWarning: The frame.append method is deprecated and will be removed from pandas in a future version. Use pandas.concat instead.\n",
      "  predicted = predicted.append(df_pred, ignore_index=True)\n",
      "C:\\Users\\vella\\AppData\\Local\\Temp\\ipykernel_6344\\3582800836.py:23: FutureWarning: The frame.append method is deprecated and will be removed from pandas in a future version. Use pandas.concat instead.\n",
      "  predicted = predicted.append(df_pred, ignore_index=True)\n",
      "C:\\Users\\vella\\AppData\\Local\\Temp\\ipykernel_6344\\3582800836.py:23: FutureWarning: The frame.append method is deprecated and will be removed from pandas in a future version. Use pandas.concat instead.\n",
      "  predicted = predicted.append(df_pred, ignore_index=True)\n",
      "C:\\Users\\vella\\AppData\\Local\\Temp\\ipykernel_6344\\3582800836.py:23: FutureWarning: The frame.append method is deprecated and will be removed from pandas in a future version. Use pandas.concat instead.\n",
      "  predicted = predicted.append(df_pred, ignore_index=True)\n"
     ]
    },
    {
     "name": "stdout",
     "output_type": "stream",
     "text": [
      "1/1 [==============================] - 0s 21ms/step\n",
      "            0\n",
      "0  293.897949\n",
      "1/1 [==============================] - 0s 24ms/step\n",
      "            0\n",
      "0  295.773895\n",
      "1/1 [==============================] - 0s 20ms/step\n",
      "            0\n",
      "0  298.263885\n",
      "1/1 [==============================] - 0s 25ms/step\n",
      "            0\n",
      "0  298.018951\n"
     ]
    },
    {
     "name": "stderr",
     "output_type": "stream",
     "text": [
      "C:\\Users\\vella\\AppData\\Local\\Temp\\ipykernel_6344\\3582800836.py:23: FutureWarning: The frame.append method is deprecated and will be removed from pandas in a future version. Use pandas.concat instead.\n",
      "  predicted = predicted.append(df_pred, ignore_index=True)\n",
      "C:\\Users\\vella\\AppData\\Local\\Temp\\ipykernel_6344\\3582800836.py:23: FutureWarning: The frame.append method is deprecated and will be removed from pandas in a future version. Use pandas.concat instead.\n",
      "  predicted = predicted.append(df_pred, ignore_index=True)\n",
      "C:\\Users\\vella\\AppData\\Local\\Temp\\ipykernel_6344\\3582800836.py:23: FutureWarning: The frame.append method is deprecated and will be removed from pandas in a future version. Use pandas.concat instead.\n",
      "  predicted = predicted.append(df_pred, ignore_index=True)\n",
      "C:\\Users\\vella\\AppData\\Local\\Temp\\ipykernel_6344\\3582800836.py:23: FutureWarning: The frame.append method is deprecated and will be removed from pandas in a future version. Use pandas.concat instead.\n",
      "  predicted = predicted.append(df_pred, ignore_index=True)\n"
     ]
    },
    {
     "name": "stdout",
     "output_type": "stream",
     "text": [
      "1/1 [==============================] - 0s 21ms/step\n",
      "            0\n",
      "0  293.995331\n",
      "1/1 [==============================] - 0s 19ms/step\n",
      "            0\n",
      "0  291.963379\n",
      "1/1 [==============================] - 0s 22ms/step\n",
      "           0\n",
      "0  294.34494\n",
      "1/1 [==============================] - 0s 22ms/step\n",
      "            0\n",
      "0  296.532074\n"
     ]
    },
    {
     "name": "stderr",
     "output_type": "stream",
     "text": [
      "C:\\Users\\vella\\AppData\\Local\\Temp\\ipykernel_6344\\3582800836.py:23: FutureWarning: The frame.append method is deprecated and will be removed from pandas in a future version. Use pandas.concat instead.\n",
      "  predicted = predicted.append(df_pred, ignore_index=True)\n",
      "C:\\Users\\vella\\AppData\\Local\\Temp\\ipykernel_6344\\3582800836.py:23: FutureWarning: The frame.append method is deprecated and will be removed from pandas in a future version. Use pandas.concat instead.\n",
      "  predicted = predicted.append(df_pred, ignore_index=True)\n",
      "C:\\Users\\vella\\AppData\\Local\\Temp\\ipykernel_6344\\3582800836.py:23: FutureWarning: The frame.append method is deprecated and will be removed from pandas in a future version. Use pandas.concat instead.\n",
      "  predicted = predicted.append(df_pred, ignore_index=True)\n",
      "C:\\Users\\vella\\AppData\\Local\\Temp\\ipykernel_6344\\3582800836.py:23: FutureWarning: The frame.append method is deprecated and will be removed from pandas in a future version. Use pandas.concat instead.\n",
      "  predicted = predicted.append(df_pred, ignore_index=True)\n"
     ]
    },
    {
     "name": "stdout",
     "output_type": "stream",
     "text": [
      "1/1 [==============================] - 0s 20ms/step\n",
      "            0\n",
      "0  294.364227\n",
      "1/1 [==============================] - 0s 22ms/step\n",
      "            0\n",
      "0  290.873962\n",
      "1/1 [==============================] - 0s 25ms/step\n",
      "            0\n",
      "0  285.056519\n",
      "1/1 [==============================] - 0s 25ms/step\n",
      "            0\n",
      "0  275.568909\n"
     ]
    },
    {
     "name": "stderr",
     "output_type": "stream",
     "text": [
      "C:\\Users\\vella\\AppData\\Local\\Temp\\ipykernel_6344\\3582800836.py:23: FutureWarning: The frame.append method is deprecated and will be removed from pandas in a future version. Use pandas.concat instead.\n",
      "  predicted = predicted.append(df_pred, ignore_index=True)\n",
      "C:\\Users\\vella\\AppData\\Local\\Temp\\ipykernel_6344\\3582800836.py:23: FutureWarning: The frame.append method is deprecated and will be removed from pandas in a future version. Use pandas.concat instead.\n",
      "  predicted = predicted.append(df_pred, ignore_index=True)\n",
      "C:\\Users\\vella\\AppData\\Local\\Temp\\ipykernel_6344\\3582800836.py:23: FutureWarning: The frame.append method is deprecated and will be removed from pandas in a future version. Use pandas.concat instead.\n",
      "  predicted = predicted.append(df_pred, ignore_index=True)\n",
      "C:\\Users\\vella\\AppData\\Local\\Temp\\ipykernel_6344\\3582800836.py:23: FutureWarning: The frame.append method is deprecated and will be removed from pandas in a future version. Use pandas.concat instead.\n",
      "  predicted = predicted.append(df_pred, ignore_index=True)\n"
     ]
    },
    {
     "name": "stdout",
     "output_type": "stream",
     "text": [
      "1/1 [==============================] - 0s 19ms/step\n",
      "            0\n",
      "0  271.023895\n",
      "1/1 [==============================] - 0s 21ms/step\n",
      "           0\n",
      "0  268.47699\n",
      "1/1 [==============================] - 0s 20ms/step\n",
      "            0\n",
      "0  271.842743\n",
      "1/1 [==============================] - 0s 22ms/step\n",
      "            0\n",
      "0  274.470215\n"
     ]
    },
    {
     "name": "stderr",
     "output_type": "stream",
     "text": [
      "C:\\Users\\vella\\AppData\\Local\\Temp\\ipykernel_6344\\3582800836.py:23: FutureWarning: The frame.append method is deprecated and will be removed from pandas in a future version. Use pandas.concat instead.\n",
      "  predicted = predicted.append(df_pred, ignore_index=True)\n",
      "C:\\Users\\vella\\AppData\\Local\\Temp\\ipykernel_6344\\3582800836.py:23: FutureWarning: The frame.append method is deprecated and will be removed from pandas in a future version. Use pandas.concat instead.\n",
      "  predicted = predicted.append(df_pred, ignore_index=True)\n",
      "C:\\Users\\vella\\AppData\\Local\\Temp\\ipykernel_6344\\3582800836.py:23: FutureWarning: The frame.append method is deprecated and will be removed from pandas in a future version. Use pandas.concat instead.\n",
      "  predicted = predicted.append(df_pred, ignore_index=True)\n",
      "C:\\Users\\vella\\AppData\\Local\\Temp\\ipykernel_6344\\3582800836.py:23: FutureWarning: The frame.append method is deprecated and will be removed from pandas in a future version. Use pandas.concat instead.\n",
      "  predicted = predicted.append(df_pred, ignore_index=True)\n"
     ]
    },
    {
     "name": "stdout",
     "output_type": "stream",
     "text": [
      "1/1 [==============================] - 0s 22ms/step\n",
      "            0\n",
      "0  278.101837\n",
      "1/1 [==============================] - 0s 26ms/step\n",
      "            0\n",
      "0  277.757141\n",
      "1/1 [==============================] - 0s 25ms/step\n",
      "            0\n",
      "0  277.358917\n",
      "1/1 [==============================] - ETA: 0s"
     ]
    },
    {
     "name": "stderr",
     "output_type": "stream",
     "text": [
      "C:\\Users\\vella\\AppData\\Local\\Temp\\ipykernel_6344\\3582800836.py:23: FutureWarning: The frame.append method is deprecated and will be removed from pandas in a future version. Use pandas.concat instead.\n",
      "  predicted = predicted.append(df_pred, ignore_index=True)\n",
      "C:\\Users\\vella\\AppData\\Local\\Temp\\ipykernel_6344\\3582800836.py:23: FutureWarning: The frame.append method is deprecated and will be removed from pandas in a future version. Use pandas.concat instead.\n",
      "  predicted = predicted.append(df_pred, ignore_index=True)\n",
      "C:\\Users\\vella\\AppData\\Local\\Temp\\ipykernel_6344\\3582800836.py:23: FutureWarning: The frame.append method is deprecated and will be removed from pandas in a future version. Use pandas.concat instead.\n",
      "  predicted = predicted.append(df_pred, ignore_index=True)\n"
     ]
    },
    {
     "name": "stdout",
     "output_type": "stream",
     "text": [
      "1/1 [==============================] - 0s 22ms/step\n",
      "            0\n",
      "0  274.222198\n",
      "1/1 [==============================] - 0s 22ms/step\n",
      "            0\n",
      "0  273.316284\n",
      "1/1 [==============================] - 0s 20ms/step\n",
      "           0\n",
      "0  275.58728\n",
      "1/1 [==============================] - 0s 20ms/step\n",
      "            0\n",
      "0  275.809021\n"
     ]
    },
    {
     "name": "stderr",
     "output_type": "stream",
     "text": [
      "C:\\Users\\vella\\AppData\\Local\\Temp\\ipykernel_6344\\3582800836.py:23: FutureWarning: The frame.append method is deprecated and will be removed from pandas in a future version. Use pandas.concat instead.\n",
      "  predicted = predicted.append(df_pred, ignore_index=True)\n",
      "C:\\Users\\vella\\AppData\\Local\\Temp\\ipykernel_6344\\3582800836.py:23: FutureWarning: The frame.append method is deprecated and will be removed from pandas in a future version. Use pandas.concat instead.\n",
      "  predicted = predicted.append(df_pred, ignore_index=True)\n",
      "C:\\Users\\vella\\AppData\\Local\\Temp\\ipykernel_6344\\3582800836.py:23: FutureWarning: The frame.append method is deprecated and will be removed from pandas in a future version. Use pandas.concat instead.\n",
      "  predicted = predicted.append(df_pred, ignore_index=True)\n",
      "C:\\Users\\vella\\AppData\\Local\\Temp\\ipykernel_6344\\3582800836.py:23: FutureWarning: The frame.append method is deprecated and will be removed from pandas in a future version. Use pandas.concat instead.\n",
      "  predicted = predicted.append(df_pred, ignore_index=True)\n"
     ]
    },
    {
     "name": "stdout",
     "output_type": "stream",
     "text": [
      "1/1 [==============================] - 0s 21ms/step\n",
      "            0\n",
      "0  272.376587\n",
      "1/1 [==============================] - 0s 23ms/step\n",
      "            0\n",
      "0  267.129608\n",
      "1/1 [==============================] - 0s 21ms/step\n",
      "            0\n",
      "0  265.878265\n",
      "1/1 [==============================] - 0s 21ms/step\n",
      "            0\n",
      "0  268.274994\n",
      "1/1 [==============================] - ETA: 0s"
     ]
    },
    {
     "name": "stderr",
     "output_type": "stream",
     "text": [
      "C:\\Users\\vella\\AppData\\Local\\Temp\\ipykernel_6344\\3582800836.py:23: FutureWarning: The frame.append method is deprecated and will be removed from pandas in a future version. Use pandas.concat instead.\n",
      "  predicted = predicted.append(df_pred, ignore_index=True)\n",
      "C:\\Users\\vella\\AppData\\Local\\Temp\\ipykernel_6344\\3582800836.py:23: FutureWarning: The frame.append method is deprecated and will be removed from pandas in a future version. Use pandas.concat instead.\n",
      "  predicted = predicted.append(df_pred, ignore_index=True)\n",
      "C:\\Users\\vella\\AppData\\Local\\Temp\\ipykernel_6344\\3582800836.py:23: FutureWarning: The frame.append method is deprecated and will be removed from pandas in a future version. Use pandas.concat instead.\n",
      "  predicted = predicted.append(df_pred, ignore_index=True)\n",
      "C:\\Users\\vella\\AppData\\Local\\Temp\\ipykernel_6344\\3582800836.py:23: FutureWarning: The frame.append method is deprecated and will be removed from pandas in a future version. Use pandas.concat instead.\n",
      "  predicted = predicted.append(df_pred, ignore_index=True)\n"
     ]
    },
    {
     "name": "stdout",
     "output_type": "stream",
     "text": [
      "1/1 [==============================] - 0s 22ms/step\n",
      "            0\n",
      "0  273.055389\n",
      "1/1 [==============================] - 0s 22ms/step\n",
      "            0\n",
      "0  279.911072\n",
      "1/1 [==============================] - 0s 22ms/step\n",
      "           0\n",
      "0  286.83786\n",
      "1/1 [==============================] - 0s 22ms/step\n"
     ]
    },
    {
     "name": "stderr",
     "output_type": "stream",
     "text": [
      "C:\\Users\\vella\\AppData\\Local\\Temp\\ipykernel_6344\\3582800836.py:23: FutureWarning: The frame.append method is deprecated and will be removed from pandas in a future version. Use pandas.concat instead.\n",
      "  predicted = predicted.append(df_pred, ignore_index=True)\n",
      "C:\\Users\\vella\\AppData\\Local\\Temp\\ipykernel_6344\\3582800836.py:23: FutureWarning: The frame.append method is deprecated and will be removed from pandas in a future version. Use pandas.concat instead.\n",
      "  predicted = predicted.append(df_pred, ignore_index=True)\n",
      "C:\\Users\\vella\\AppData\\Local\\Temp\\ipykernel_6344\\3582800836.py:23: FutureWarning: The frame.append method is deprecated and will be removed from pandas in a future version. Use pandas.concat instead.\n",
      "  predicted = predicted.append(df_pred, ignore_index=True)\n",
      "C:\\Users\\vella\\AppData\\Local\\Temp\\ipykernel_6344\\3582800836.py:23: FutureWarning: The frame.append method is deprecated and will be removed from pandas in a future version. Use pandas.concat instead.\n",
      "  predicted = predicted.append(df_pred, ignore_index=True)\n"
     ]
    },
    {
     "name": "stdout",
     "output_type": "stream",
     "text": [
      "            0\n",
      "0  298.566284\n",
      "1/1 [==============================] - 0s 27ms/step\n",
      "            0\n",
      "0  308.399933\n",
      "1/1 [==============================] - 0s 22ms/step\n",
      "            0\n",
      "0  317.268555\n",
      "1/1 [==============================] - 0s 21ms/step\n",
      "            0\n",
      "0  323.703278\n",
      "1/1 [==============================] - 0s 25ms/step\n",
      "            0\n",
      "0  335.319641\n"
     ]
    },
    {
     "name": "stderr",
     "output_type": "stream",
     "text": [
      "C:\\Users\\vella\\AppData\\Local\\Temp\\ipykernel_6344\\3582800836.py:23: FutureWarning: The frame.append method is deprecated and will be removed from pandas in a future version. Use pandas.concat instead.\n",
      "  predicted = predicted.append(df_pred, ignore_index=True)\n",
      "C:\\Users\\vella\\AppData\\Local\\Temp\\ipykernel_6344\\3582800836.py:23: FutureWarning: The frame.append method is deprecated and will be removed from pandas in a future version. Use pandas.concat instead.\n",
      "  predicted = predicted.append(df_pred, ignore_index=True)\n",
      "C:\\Users\\vella\\AppData\\Local\\Temp\\ipykernel_6344\\3582800836.py:23: FutureWarning: The frame.append method is deprecated and will be removed from pandas in a future version. Use pandas.concat instead.\n",
      "  predicted = predicted.append(df_pred, ignore_index=True)\n",
      "C:\\Users\\vella\\AppData\\Local\\Temp\\ipykernel_6344\\3582800836.py:23: FutureWarning: The frame.append method is deprecated and will be removed from pandas in a future version. Use pandas.concat instead.\n",
      "  predicted = predicted.append(df_pred, ignore_index=True)\n"
     ]
    },
    {
     "name": "stdout",
     "output_type": "stream",
     "text": [
      "1/1 [==============================] - 0s 25ms/step\n",
      "            0\n",
      "0  344.979095\n",
      "1/1 [==============================] - 0s 22ms/step\n",
      "            0\n",
      "0  351.669342\n",
      "1/1 [==============================] - 0s 21ms/step\n",
      "            0\n",
      "0  354.933502\n",
      "1/1 [==============================] - 0s 20ms/step\n",
      "            0\n",
      "0  357.394348\n"
     ]
    },
    {
     "name": "stderr",
     "output_type": "stream",
     "text": [
      "C:\\Users\\vella\\AppData\\Local\\Temp\\ipykernel_6344\\3582800836.py:23: FutureWarning: The frame.append method is deprecated and will be removed from pandas in a future version. Use pandas.concat instead.\n",
      "  predicted = predicted.append(df_pred, ignore_index=True)\n",
      "C:\\Users\\vella\\AppData\\Local\\Temp\\ipykernel_6344\\3582800836.py:23: FutureWarning: The frame.append method is deprecated and will be removed from pandas in a future version. Use pandas.concat instead.\n",
      "  predicted = predicted.append(df_pred, ignore_index=True)\n",
      "C:\\Users\\vella\\AppData\\Local\\Temp\\ipykernel_6344\\3582800836.py:23: FutureWarning: The frame.append method is deprecated and will be removed from pandas in a future version. Use pandas.concat instead.\n",
      "  predicted = predicted.append(df_pred, ignore_index=True)\n",
      "C:\\Users\\vella\\AppData\\Local\\Temp\\ipykernel_6344\\3582800836.py:23: FutureWarning: The frame.append method is deprecated and will be removed from pandas in a future version. Use pandas.concat instead.\n",
      "  predicted = predicted.append(df_pred, ignore_index=True)\n"
     ]
    },
    {
     "name": "stdout",
     "output_type": "stream",
     "text": [
      "1/1 [==============================] - 0s 20ms/step\n",
      "            0\n",
      "0  363.932465\n",
      "1/1 [==============================] - 0s 20ms/step\n",
      "            0\n",
      "0  364.203644\n",
      "1/1 [==============================] - 0s 19ms/step\n",
      "            0\n",
      "0  359.827911\n",
      "1/1 [==============================] - 0s 24ms/step\n",
      "            0\n",
      "0  356.614014\n",
      "1/1 [==============================] - ETA: 0s"
     ]
    },
    {
     "name": "stderr",
     "output_type": "stream",
     "text": [
      "C:\\Users\\vella\\AppData\\Local\\Temp\\ipykernel_6344\\3582800836.py:23: FutureWarning: The frame.append method is deprecated and will be removed from pandas in a future version. Use pandas.concat instead.\n",
      "  predicted = predicted.append(df_pred, ignore_index=True)\n",
      "C:\\Users\\vella\\AppData\\Local\\Temp\\ipykernel_6344\\3582800836.py:23: FutureWarning: The frame.append method is deprecated and will be removed from pandas in a future version. Use pandas.concat instead.\n",
      "  predicted = predicted.append(df_pred, ignore_index=True)\n",
      "C:\\Users\\vella\\AppData\\Local\\Temp\\ipykernel_6344\\3582800836.py:23: FutureWarning: The frame.append method is deprecated and will be removed from pandas in a future version. Use pandas.concat instead.\n",
      "  predicted = predicted.append(df_pred, ignore_index=True)\n",
      "C:\\Users\\vella\\AppData\\Local\\Temp\\ipykernel_6344\\3582800836.py:23: FutureWarning: The frame.append method is deprecated and will be removed from pandas in a future version. Use pandas.concat instead.\n",
      "  predicted = predicted.append(df_pred, ignore_index=True)\n"
     ]
    },
    {
     "name": "stdout",
     "output_type": "stream",
     "text": [
      "1/1 [==============================] - 0s 20ms/step\n",
      "            0\n",
      "0  351.040344\n",
      "1/1 [==============================] - 0s 21ms/step\n",
      "            0\n",
      "0  342.068176\n",
      "1/1 [==============================] - 0s 20ms/step\n",
      "            0\n",
      "0  335.516998\n",
      "1/1 [==============================] - 0s 24ms/step\n"
     ]
    },
    {
     "name": "stderr",
     "output_type": "stream",
     "text": [
      "C:\\Users\\vella\\AppData\\Local\\Temp\\ipykernel_6344\\3582800836.py:23: FutureWarning: The frame.append method is deprecated and will be removed from pandas in a future version. Use pandas.concat instead.\n",
      "  predicted = predicted.append(df_pred, ignore_index=True)\n",
      "C:\\Users\\vella\\AppData\\Local\\Temp\\ipykernel_6344\\3582800836.py:23: FutureWarning: The frame.append method is deprecated and will be removed from pandas in a future version. Use pandas.concat instead.\n",
      "  predicted = predicted.append(df_pred, ignore_index=True)\n",
      "C:\\Users\\vella\\AppData\\Local\\Temp\\ipykernel_6344\\3582800836.py:23: FutureWarning: The frame.append method is deprecated and will be removed from pandas in a future version. Use pandas.concat instead.\n",
      "  predicted = predicted.append(df_pred, ignore_index=True)\n",
      "C:\\Users\\vella\\AppData\\Local\\Temp\\ipykernel_6344\\3582800836.py:23: FutureWarning: The frame.append method is deprecated and will be removed from pandas in a future version. Use pandas.concat instead.\n",
      "  predicted = predicted.append(df_pred, ignore_index=True)\n"
     ]
    },
    {
     "name": "stdout",
     "output_type": "stream",
     "text": [
      "            0\n",
      "0  333.355103\n",
      "1/1 [==============================] - 0s 23ms/step\n",
      "            0\n",
      "0  328.812317\n",
      "1/1 [==============================] - 0s 21ms/step\n",
      "            0\n",
      "0  326.897858\n",
      "1/1 [==============================] - 0s 19ms/step\n",
      "            0\n",
      "0  327.702179\n",
      "1/1 [==============================] - 0s 22ms/step\n",
      "            0\n",
      "0  324.397003\n"
     ]
    },
    {
     "name": "stderr",
     "output_type": "stream",
     "text": [
      "C:\\Users\\vella\\AppData\\Local\\Temp\\ipykernel_6344\\3582800836.py:23: FutureWarning: The frame.append method is deprecated and will be removed from pandas in a future version. Use pandas.concat instead.\n",
      "  predicted = predicted.append(df_pred, ignore_index=True)\n",
      "C:\\Users\\vella\\AppData\\Local\\Temp\\ipykernel_6344\\3582800836.py:23: FutureWarning: The frame.append method is deprecated and will be removed from pandas in a future version. Use pandas.concat instead.\n",
      "  predicted = predicted.append(df_pred, ignore_index=True)\n",
      "C:\\Users\\vella\\AppData\\Local\\Temp\\ipykernel_6344\\3582800836.py:23: FutureWarning: The frame.append method is deprecated and will be removed from pandas in a future version. Use pandas.concat instead.\n",
      "  predicted = predicted.append(df_pred, ignore_index=True)\n",
      "C:\\Users\\vella\\AppData\\Local\\Temp\\ipykernel_6344\\3582800836.py:23: FutureWarning: The frame.append method is deprecated and will be removed from pandas in a future version. Use pandas.concat instead.\n",
      "  predicted = predicted.append(df_pred, ignore_index=True)\n"
     ]
    },
    {
     "name": "stdout",
     "output_type": "stream",
     "text": [
      "1/1 [==============================] - 0s 21ms/step\n",
      "            0\n",
      "0  324.452271\n",
      "1/1 [==============================] - 0s 20ms/step\n",
      "            0\n",
      "0  324.488251\n",
      "1/1 [==============================] - 0s 20ms/step\n",
      "            0\n",
      "0  324.098419\n",
      "1/1 [==============================] - 0s 24ms/step\n",
      "            0\n",
      "0  313.677612\n"
     ]
    },
    {
     "name": "stderr",
     "output_type": "stream",
     "text": [
      "C:\\Users\\vella\\AppData\\Local\\Temp\\ipykernel_6344\\3582800836.py:23: FutureWarning: The frame.append method is deprecated and will be removed from pandas in a future version. Use pandas.concat instead.\n",
      "  predicted = predicted.append(df_pred, ignore_index=True)\n",
      "C:\\Users\\vella\\AppData\\Local\\Temp\\ipykernel_6344\\3582800836.py:23: FutureWarning: The frame.append method is deprecated and will be removed from pandas in a future version. Use pandas.concat instead.\n",
      "  predicted = predicted.append(df_pred, ignore_index=True)\n",
      "C:\\Users\\vella\\AppData\\Local\\Temp\\ipykernel_6344\\3582800836.py:23: FutureWarning: The frame.append method is deprecated and will be removed from pandas in a future version. Use pandas.concat instead.\n",
      "  predicted = predicted.append(df_pred, ignore_index=True)\n",
      "C:\\Users\\vella\\AppData\\Local\\Temp\\ipykernel_6344\\3582800836.py:23: FutureWarning: The frame.append method is deprecated and will be removed from pandas in a future version. Use pandas.concat instead.\n",
      "  predicted = predicted.append(df_pred, ignore_index=True)\n"
     ]
    },
    {
     "name": "stdout",
     "output_type": "stream",
     "text": [
      "1/1 [==============================] - 0s 26ms/step\n",
      "            0\n",
      "0  305.460205\n",
      "1/1 [==============================] - 0s 23ms/step\n",
      "            0\n",
      "0  298.753754\n",
      "1/1 [==============================] - 0s 22ms/step\n",
      "          0\n",
      "0  293.1297\n",
      "1/1 [==============================] - 0s 21ms/step\n"
     ]
    },
    {
     "name": "stderr",
     "output_type": "stream",
     "text": [
      "C:\\Users\\vella\\AppData\\Local\\Temp\\ipykernel_6344\\3582800836.py:23: FutureWarning: The frame.append method is deprecated and will be removed from pandas in a future version. Use pandas.concat instead.\n",
      "  predicted = predicted.append(df_pred, ignore_index=True)\n",
      "C:\\Users\\vella\\AppData\\Local\\Temp\\ipykernel_6344\\3582800836.py:23: FutureWarning: The frame.append method is deprecated and will be removed from pandas in a future version. Use pandas.concat instead.\n",
      "  predicted = predicted.append(df_pred, ignore_index=True)\n",
      "C:\\Users\\vella\\AppData\\Local\\Temp\\ipykernel_6344\\3582800836.py:23: FutureWarning: The frame.append method is deprecated and will be removed from pandas in a future version. Use pandas.concat instead.\n",
      "  predicted = predicted.append(df_pred, ignore_index=True)\n",
      "C:\\Users\\vella\\AppData\\Local\\Temp\\ipykernel_6344\\3582800836.py:23: FutureWarning: The frame.append method is deprecated and will be removed from pandas in a future version. Use pandas.concat instead.\n",
      "  predicted = predicted.append(df_pred, ignore_index=True)\n"
     ]
    },
    {
     "name": "stdout",
     "output_type": "stream",
     "text": [
      "            0\n",
      "0  291.691772\n",
      "1/1 [==============================] - 0s 20ms/step\n",
      "            0\n",
      "0  291.584839\n",
      "1/1 [==============================] - 0s 22ms/step\n",
      "            0\n",
      "0  295.573029\n",
      "1/1 [==============================] - 0s 23ms/step\n",
      "            0\n",
      "0  292.523804\n",
      "1/1 [==============================] - 0s 21ms/step\n",
      "            0\n",
      "0  289.444366\n"
     ]
    },
    {
     "name": "stderr",
     "output_type": "stream",
     "text": [
      "C:\\Users\\vella\\AppData\\Local\\Temp\\ipykernel_6344\\3582800836.py:23: FutureWarning: The frame.append method is deprecated and will be removed from pandas in a future version. Use pandas.concat instead.\n",
      "  predicted = predicted.append(df_pred, ignore_index=True)\n",
      "C:\\Users\\vella\\AppData\\Local\\Temp\\ipykernel_6344\\3582800836.py:23: FutureWarning: The frame.append method is deprecated and will be removed from pandas in a future version. Use pandas.concat instead.\n",
      "  predicted = predicted.append(df_pred, ignore_index=True)\n",
      "C:\\Users\\vella\\AppData\\Local\\Temp\\ipykernel_6344\\3582800836.py:23: FutureWarning: The frame.append method is deprecated and will be removed from pandas in a future version. Use pandas.concat instead.\n",
      "  predicted = predicted.append(df_pred, ignore_index=True)\n",
      "C:\\Users\\vella\\AppData\\Local\\Temp\\ipykernel_6344\\3582800836.py:23: FutureWarning: The frame.append method is deprecated and will be removed from pandas in a future version. Use pandas.concat instead.\n",
      "  predicted = predicted.append(df_pred, ignore_index=True)\n"
     ]
    },
    {
     "name": "stdout",
     "output_type": "stream",
     "text": [
      "1/1 [==============================] - 0s 22ms/step\n",
      "            0\n",
      "0  280.560333\n",
      "1/1 [==============================] - 0s 22ms/step\n",
      "            0\n",
      "0  274.514893\n",
      "1/1 [==============================] - 0s 31ms/step\n",
      "            0\n",
      "0  264.497253\n",
      "1/1 [==============================] - 0s 23ms/step\n"
     ]
    },
    {
     "name": "stderr",
     "output_type": "stream",
     "text": [
      "C:\\Users\\vella\\AppData\\Local\\Temp\\ipykernel_6344\\3582800836.py:23: FutureWarning: The frame.append method is deprecated and will be removed from pandas in a future version. Use pandas.concat instead.\n",
      "  predicted = predicted.append(df_pred, ignore_index=True)\n",
      "C:\\Users\\vella\\AppData\\Local\\Temp\\ipykernel_6344\\3582800836.py:23: FutureWarning: The frame.append method is deprecated and will be removed from pandas in a future version. Use pandas.concat instead.\n",
      "  predicted = predicted.append(df_pred, ignore_index=True)\n",
      "C:\\Users\\vella\\AppData\\Local\\Temp\\ipykernel_6344\\3582800836.py:23: FutureWarning: The frame.append method is deprecated and will be removed from pandas in a future version. Use pandas.concat instead.\n",
      "  predicted = predicted.append(df_pred, ignore_index=True)\n",
      "C:\\Users\\vella\\AppData\\Local\\Temp\\ipykernel_6344\\3582800836.py:23: FutureWarning: The frame.append method is deprecated and will be removed from pandas in a future version. Use pandas.concat instead.\n",
      "  predicted = predicted.append(df_pred, ignore_index=True)\n"
     ]
    },
    {
     "name": "stdout",
     "output_type": "stream",
     "text": [
      "            0\n",
      "0  256.176941\n",
      "1/1 [==============================] - 0s 29ms/step\n",
      "            0\n",
      "0  253.366348\n",
      "1/1 [==============================] - 0s 25ms/step\n",
      "            0\n",
      "0  247.951782\n",
      "1/1 [==============================] - 0s 21ms/step\n",
      "            0\n",
      "0  247.078781\n",
      "1/1 [==============================] - 0s 21ms/step\n",
      "            0\n",
      "0  242.615479\n"
     ]
    },
    {
     "name": "stderr",
     "output_type": "stream",
     "text": [
      "C:\\Users\\vella\\AppData\\Local\\Temp\\ipykernel_6344\\3582800836.py:23: FutureWarning: The frame.append method is deprecated and will be removed from pandas in a future version. Use pandas.concat instead.\n",
      "  predicted = predicted.append(df_pred, ignore_index=True)\n",
      "C:\\Users\\vella\\AppData\\Local\\Temp\\ipykernel_6344\\3582800836.py:23: FutureWarning: The frame.append method is deprecated and will be removed from pandas in a future version. Use pandas.concat instead.\n",
      "  predicted = predicted.append(df_pred, ignore_index=True)\n",
      "C:\\Users\\vella\\AppData\\Local\\Temp\\ipykernel_6344\\3582800836.py:23: FutureWarning: The frame.append method is deprecated and will be removed from pandas in a future version. Use pandas.concat instead.\n",
      "  predicted = predicted.append(df_pred, ignore_index=True)\n",
      "C:\\Users\\vella\\AppData\\Local\\Temp\\ipykernel_6344\\3582800836.py:23: FutureWarning: The frame.append method is deprecated and will be removed from pandas in a future version. Use pandas.concat instead.\n",
      "  predicted = predicted.append(df_pred, ignore_index=True)\n"
     ]
    },
    {
     "name": "stdout",
     "output_type": "stream",
     "text": [
      "1/1 [==============================] - 0s 24ms/step\n",
      "            0\n",
      "0  239.323853\n",
      "1/1 [==============================] - 0s 25ms/step\n",
      "           0\n",
      "0  233.32515\n",
      "1/1 [==============================] - 0s 21ms/step\n",
      "            0\n",
      "0  229.720505\n",
      "1/1 [==============================] - 0s 22ms/step\n",
      "          0\n",
      "0  223.4086\n"
     ]
    },
    {
     "name": "stderr",
     "output_type": "stream",
     "text": [
      "C:\\Users\\vella\\AppData\\Local\\Temp\\ipykernel_6344\\3582800836.py:23: FutureWarning: The frame.append method is deprecated and will be removed from pandas in a future version. Use pandas.concat instead.\n",
      "  predicted = predicted.append(df_pred, ignore_index=True)\n",
      "C:\\Users\\vella\\AppData\\Local\\Temp\\ipykernel_6344\\3582800836.py:23: FutureWarning: The frame.append method is deprecated and will be removed from pandas in a future version. Use pandas.concat instead.\n",
      "  predicted = predicted.append(df_pred, ignore_index=True)\n",
      "C:\\Users\\vella\\AppData\\Local\\Temp\\ipykernel_6344\\3582800836.py:23: FutureWarning: The frame.append method is deprecated and will be removed from pandas in a future version. Use pandas.concat instead.\n",
      "  predicted = predicted.append(df_pred, ignore_index=True)\n",
      "C:\\Users\\vella\\AppData\\Local\\Temp\\ipykernel_6344\\3582800836.py:23: FutureWarning: The frame.append method is deprecated and will be removed from pandas in a future version. Use pandas.concat instead.\n",
      "  predicted = predicted.append(df_pred, ignore_index=True)\n"
     ]
    },
    {
     "name": "stdout",
     "output_type": "stream",
     "text": [
      "1/1 [==============================] - 0s 24ms/step\n",
      "            0\n",
      "0  221.166779\n",
      "1/1 [==============================] - 0s 23ms/step\n",
      "            0\n",
      "0  223.792969\n",
      "1/1 [==============================] - 0s 20ms/step\n",
      "            0\n",
      "0  230.592804\n",
      "1/1 [==============================] - 0s 20ms/step\n",
      "            0\n",
      "0  236.252716\n",
      "1/1 [==============================] - ETA: 0s"
     ]
    },
    {
     "name": "stderr",
     "output_type": "stream",
     "text": [
      "C:\\Users\\vella\\AppData\\Local\\Temp\\ipykernel_6344\\3582800836.py:23: FutureWarning: The frame.append method is deprecated and will be removed from pandas in a future version. Use pandas.concat instead.\n",
      "  predicted = predicted.append(df_pred, ignore_index=True)\n",
      "C:\\Users\\vella\\AppData\\Local\\Temp\\ipykernel_6344\\3582800836.py:23: FutureWarning: The frame.append method is deprecated and will be removed from pandas in a future version. Use pandas.concat instead.\n",
      "  predicted = predicted.append(df_pred, ignore_index=True)\n",
      "C:\\Users\\vella\\AppData\\Local\\Temp\\ipykernel_6344\\3582800836.py:23: FutureWarning: The frame.append method is deprecated and will be removed from pandas in a future version. Use pandas.concat instead.\n",
      "  predicted = predicted.append(df_pred, ignore_index=True)\n",
      "C:\\Users\\vella\\AppData\\Local\\Temp\\ipykernel_6344\\3582800836.py:23: FutureWarning: The frame.append method is deprecated and will be removed from pandas in a future version. Use pandas.concat instead.\n",
      "  predicted = predicted.append(df_pred, ignore_index=True)\n"
     ]
    },
    {
     "name": "stdout",
     "output_type": "stream",
     "text": [
      "1/1 [==============================] - 0s 21ms/step\n",
      "            0\n",
      "0  239.427719\n",
      "1/1 [==============================] - 0s 27ms/step\n",
      "            0\n",
      "0  244.846405\n",
      "1/1 [==============================] - 0s 21ms/step\n",
      "            0\n",
      "0  243.209869\n",
      "1/1 [==============================] - 0s 29ms/step\n",
      "            0\n",
      "0  242.624298\n"
     ]
    },
    {
     "name": "stderr",
     "output_type": "stream",
     "text": [
      "C:\\Users\\vella\\AppData\\Local\\Temp\\ipykernel_6344\\3582800836.py:23: FutureWarning: The frame.append method is deprecated and will be removed from pandas in a future version. Use pandas.concat instead.\n",
      "  predicted = predicted.append(df_pred, ignore_index=True)\n",
      "C:\\Users\\vella\\AppData\\Local\\Temp\\ipykernel_6344\\3582800836.py:23: FutureWarning: The frame.append method is deprecated and will be removed from pandas in a future version. Use pandas.concat instead.\n",
      "  predicted = predicted.append(df_pred, ignore_index=True)\n",
      "C:\\Users\\vella\\AppData\\Local\\Temp\\ipykernel_6344\\3582800836.py:23: FutureWarning: The frame.append method is deprecated and will be removed from pandas in a future version. Use pandas.concat instead.\n",
      "  predicted = predicted.append(df_pred, ignore_index=True)\n",
      "C:\\Users\\vella\\AppData\\Local\\Temp\\ipykernel_6344\\3582800836.py:23: FutureWarning: The frame.append method is deprecated and will be removed from pandas in a future version. Use pandas.concat instead.\n",
      "  predicted = predicted.append(df_pred, ignore_index=True)\n"
     ]
    },
    {
     "name": "stdout",
     "output_type": "stream",
     "text": [
      "1/1 [==============================] - 0s 27ms/step\n",
      "            0\n",
      "0  242.198914\n",
      "1/1 [==============================] - 0s 22ms/step\n",
      "            0\n",
      "0  242.520432\n",
      "1/1 [==============================] - 0s 25ms/step\n",
      "            0\n",
      "0  242.192886\n",
      "1/1 [==============================] - ETA: 0s"
     ]
    },
    {
     "name": "stderr",
     "output_type": "stream",
     "text": [
      "C:\\Users\\vella\\AppData\\Local\\Temp\\ipykernel_6344\\3582800836.py:23: FutureWarning: The frame.append method is deprecated and will be removed from pandas in a future version. Use pandas.concat instead.\n",
      "  predicted = predicted.append(df_pred, ignore_index=True)\n",
      "C:\\Users\\vella\\AppData\\Local\\Temp\\ipykernel_6344\\3582800836.py:23: FutureWarning: The frame.append method is deprecated and will be removed from pandas in a future version. Use pandas.concat instead.\n",
      "  predicted = predicted.append(df_pred, ignore_index=True)\n",
      "C:\\Users\\vella\\AppData\\Local\\Temp\\ipykernel_6344\\3582800836.py:23: FutureWarning: The frame.append method is deprecated and will be removed from pandas in a future version. Use pandas.concat instead.\n",
      "  predicted = predicted.append(df_pred, ignore_index=True)\n"
     ]
    },
    {
     "name": "stdout",
     "output_type": "stream",
     "text": [
      "1/1 [==============================] - 0s 21ms/step\n",
      "            0\n",
      "0  240.018509\n",
      "1/1 [==============================] - 0s 19ms/step\n",
      "            0\n",
      "0  234.143951\n",
      "1/1 [==============================] - 0s 23ms/step\n",
      "            0\n",
      "0  230.658936\n",
      "1/1 [==============================] - 0s 18ms/step\n",
      "            0\n",
      "0  230.953079\n"
     ]
    },
    {
     "name": "stderr",
     "output_type": "stream",
     "text": [
      "C:\\Users\\vella\\AppData\\Local\\Temp\\ipykernel_6344\\3582800836.py:23: FutureWarning: The frame.append method is deprecated and will be removed from pandas in a future version. Use pandas.concat instead.\n",
      "  predicted = predicted.append(df_pred, ignore_index=True)\n",
      "C:\\Users\\vella\\AppData\\Local\\Temp\\ipykernel_6344\\3582800836.py:23: FutureWarning: The frame.append method is deprecated and will be removed from pandas in a future version. Use pandas.concat instead.\n",
      "  predicted = predicted.append(df_pred, ignore_index=True)\n",
      "C:\\Users\\vella\\AppData\\Local\\Temp\\ipykernel_6344\\3582800836.py:23: FutureWarning: The frame.append method is deprecated and will be removed from pandas in a future version. Use pandas.concat instead.\n",
      "  predicted = predicted.append(df_pred, ignore_index=True)\n",
      "C:\\Users\\vella\\AppData\\Local\\Temp\\ipykernel_6344\\3582800836.py:23: FutureWarning: The frame.append method is deprecated and will be removed from pandas in a future version. Use pandas.concat instead.\n",
      "  predicted = predicted.append(df_pred, ignore_index=True)\n"
     ]
    },
    {
     "name": "stdout",
     "output_type": "stream",
     "text": [
      "1/1 [==============================] - 0s 26ms/step\n",
      "            0\n",
      "0  226.457703\n",
      "1/1 [==============================] - 0s 22ms/step\n",
      "            0\n",
      "0  223.821594\n",
      "1/1 [==============================] - 0s 22ms/step\n",
      "            0\n",
      "0  226.863968\n",
      "1/1 [==============================] - 0s 20ms/step\n"
     ]
    },
    {
     "name": "stderr",
     "output_type": "stream",
     "text": [
      "C:\\Users\\vella\\AppData\\Local\\Temp\\ipykernel_6344\\3582800836.py:23: FutureWarning: The frame.append method is deprecated and will be removed from pandas in a future version. Use pandas.concat instead.\n",
      "  predicted = predicted.append(df_pred, ignore_index=True)\n",
      "C:\\Users\\vella\\AppData\\Local\\Temp\\ipykernel_6344\\3582800836.py:23: FutureWarning: The frame.append method is deprecated and will be removed from pandas in a future version. Use pandas.concat instead.\n",
      "  predicted = predicted.append(df_pred, ignore_index=True)\n",
      "C:\\Users\\vella\\AppData\\Local\\Temp\\ipykernel_6344\\3582800836.py:23: FutureWarning: The frame.append method is deprecated and will be removed from pandas in a future version. Use pandas.concat instead.\n",
      "  predicted = predicted.append(df_pred, ignore_index=True)\n",
      "C:\\Users\\vella\\AppData\\Local\\Temp\\ipykernel_6344\\3582800836.py:23: FutureWarning: The frame.append method is deprecated and will be removed from pandas in a future version. Use pandas.concat instead.\n",
      "  predicted = predicted.append(df_pred, ignore_index=True)\n"
     ]
    },
    {
     "name": "stdout",
     "output_type": "stream",
     "text": [
      "            0\n",
      "0  229.290375\n",
      "1/1 [==============================] - 0s 21ms/step\n",
      "            0\n",
      "0  231.092957\n",
      "1/1 [==============================] - 0s 21ms/step\n",
      "            0\n",
      "0  235.227158\n",
      "1/1 [==============================] - 0s 22ms/step\n",
      "            0\n",
      "0  238.381882\n",
      "1/1 [==============================] - 0s 22ms/step\n"
     ]
    },
    {
     "name": "stderr",
     "output_type": "stream",
     "text": [
      "C:\\Users\\vella\\AppData\\Local\\Temp\\ipykernel_6344\\3582800836.py:23: FutureWarning: The frame.append method is deprecated and will be removed from pandas in a future version. Use pandas.concat instead.\n",
      "  predicted = predicted.append(df_pred, ignore_index=True)\n",
      "C:\\Users\\vella\\AppData\\Local\\Temp\\ipykernel_6344\\3582800836.py:23: FutureWarning: The frame.append method is deprecated and will be removed from pandas in a future version. Use pandas.concat instead.\n",
      "  predicted = predicted.append(df_pred, ignore_index=True)\n",
      "C:\\Users\\vella\\AppData\\Local\\Temp\\ipykernel_6344\\3582800836.py:23: FutureWarning: The frame.append method is deprecated and will be removed from pandas in a future version. Use pandas.concat instead.\n",
      "  predicted = predicted.append(df_pred, ignore_index=True)\n",
      "C:\\Users\\vella\\AppData\\Local\\Temp\\ipykernel_6344\\3582800836.py:23: FutureWarning: The frame.append method is deprecated and will be removed from pandas in a future version. Use pandas.concat instead.\n",
      "  predicted = predicted.append(df_pred, ignore_index=True)\n"
     ]
    },
    {
     "name": "stdout",
     "output_type": "stream",
     "text": [
      "            0\n",
      "0  237.806625\n",
      "1/1 [==============================] - 0s 24ms/step\n",
      "            0\n",
      "0  236.176468\n",
      "1/1 [==============================] - 0s 21ms/step\n",
      "           0\n",
      "0  233.77536\n",
      "1/1 [==============================] - 0s 24ms/step\n",
      "            0\n",
      "0  232.479965\n",
      "1/1 [==============================] - 0s 20ms/step\n",
      "            0\n",
      "0  232.881485\n"
     ]
    },
    {
     "name": "stderr",
     "output_type": "stream",
     "text": [
      "C:\\Users\\vella\\AppData\\Local\\Temp\\ipykernel_6344\\3582800836.py:23: FutureWarning: The frame.append method is deprecated and will be removed from pandas in a future version. Use pandas.concat instead.\n",
      "  predicted = predicted.append(df_pred, ignore_index=True)\n",
      "C:\\Users\\vella\\AppData\\Local\\Temp\\ipykernel_6344\\3582800836.py:23: FutureWarning: The frame.append method is deprecated and will be removed from pandas in a future version. Use pandas.concat instead.\n",
      "  predicted = predicted.append(df_pred, ignore_index=True)\n",
      "C:\\Users\\vella\\AppData\\Local\\Temp\\ipykernel_6344\\3582800836.py:23: FutureWarning: The frame.append method is deprecated and will be removed from pandas in a future version. Use pandas.concat instead.\n",
      "  predicted = predicted.append(df_pred, ignore_index=True)\n",
      "C:\\Users\\vella\\AppData\\Local\\Temp\\ipykernel_6344\\3582800836.py:23: FutureWarning: The frame.append method is deprecated and will be removed from pandas in a future version. Use pandas.concat instead.\n",
      "  predicted = predicted.append(df_pred, ignore_index=True)\n"
     ]
    },
    {
     "name": "stdout",
     "output_type": "stream",
     "text": [
      "1/1 [==============================] - 0s 22ms/step\n",
      "            0\n",
      "0  232.912567\n",
      "1/1 [==============================] - 0s 21ms/step\n",
      "            0\n",
      "0  236.135223\n",
      "1/1 [==============================] - 0s 23ms/step\n",
      "            0\n",
      "0  240.324493\n",
      "1/1 [==============================] - 0s 22ms/step\n",
      "            0\n",
      "0  239.586136\n"
     ]
    },
    {
     "name": "stderr",
     "output_type": "stream",
     "text": [
      "C:\\Users\\vella\\AppData\\Local\\Temp\\ipykernel_6344\\3582800836.py:23: FutureWarning: The frame.append method is deprecated and will be removed from pandas in a future version. Use pandas.concat instead.\n",
      "  predicted = predicted.append(df_pred, ignore_index=True)\n",
      "C:\\Users\\vella\\AppData\\Local\\Temp\\ipykernel_6344\\3582800836.py:23: FutureWarning: The frame.append method is deprecated and will be removed from pandas in a future version. Use pandas.concat instead.\n",
      "  predicted = predicted.append(df_pred, ignore_index=True)\n",
      "C:\\Users\\vella\\AppData\\Local\\Temp\\ipykernel_6344\\3582800836.py:23: FutureWarning: The frame.append method is deprecated and will be removed from pandas in a future version. Use pandas.concat instead.\n",
      "  predicted = predicted.append(df_pred, ignore_index=True)\n",
      "C:\\Users\\vella\\AppData\\Local\\Temp\\ipykernel_6344\\3582800836.py:23: FutureWarning: The frame.append method is deprecated and will be removed from pandas in a future version. Use pandas.concat instead.\n",
      "  predicted = predicted.append(df_pred, ignore_index=True)\n"
     ]
    },
    {
     "name": "stdout",
     "output_type": "stream",
     "text": [
      "1/1 [==============================] - 0s 22ms/step\n",
      "            0\n",
      "0  238.545761\n",
      "1/1 [==============================] - 0s 21ms/step\n",
      "            0\n",
      "0  238.614136\n",
      "1/1 [==============================] - 0s 22ms/step\n",
      "            0\n",
      "0  238.948822\n",
      "1/1 [==============================] - 0s 20ms/step\n",
      "            0\n",
      "0  239.622467\n"
     ]
    },
    {
     "name": "stderr",
     "output_type": "stream",
     "text": [
      "C:\\Users\\vella\\AppData\\Local\\Temp\\ipykernel_6344\\3582800836.py:23: FutureWarning: The frame.append method is deprecated and will be removed from pandas in a future version. Use pandas.concat instead.\n",
      "  predicted = predicted.append(df_pred, ignore_index=True)\n",
      "C:\\Users\\vella\\AppData\\Local\\Temp\\ipykernel_6344\\3582800836.py:23: FutureWarning: The frame.append method is deprecated and will be removed from pandas in a future version. Use pandas.concat instead.\n",
      "  predicted = predicted.append(df_pred, ignore_index=True)\n",
      "C:\\Users\\vella\\AppData\\Local\\Temp\\ipykernel_6344\\3582800836.py:23: FutureWarning: The frame.append method is deprecated and will be removed from pandas in a future version. Use pandas.concat instead.\n",
      "  predicted = predicted.append(df_pred, ignore_index=True)\n",
      "C:\\Users\\vella\\AppData\\Local\\Temp\\ipykernel_6344\\3582800836.py:23: FutureWarning: The frame.append method is deprecated and will be removed from pandas in a future version. Use pandas.concat instead.\n",
      "  predicted = predicted.append(df_pred, ignore_index=True)\n"
     ]
    },
    {
     "name": "stdout",
     "output_type": "stream",
     "text": [
      "1/1 [==============================] - 0s 23ms/step\n",
      "            0\n",
      "0  240.255829\n",
      "1/1 [==============================] - 0s 22ms/step\n",
      "            0\n",
      "0  241.972443\n",
      "1/1 [==============================] - 0s 22ms/step\n",
      "            0\n",
      "0  243.819275\n",
      "1/1 [==============================] - 0s 20ms/step\n",
      "            0\n",
      "0  251.331482\n"
     ]
    },
    {
     "name": "stderr",
     "output_type": "stream",
     "text": [
      "C:\\Users\\vella\\AppData\\Local\\Temp\\ipykernel_6344\\3582800836.py:23: FutureWarning: The frame.append method is deprecated and will be removed from pandas in a future version. Use pandas.concat instead.\n",
      "  predicted = predicted.append(df_pred, ignore_index=True)\n",
      "C:\\Users\\vella\\AppData\\Local\\Temp\\ipykernel_6344\\3582800836.py:23: FutureWarning: The frame.append method is deprecated and will be removed from pandas in a future version. Use pandas.concat instead.\n",
      "  predicted = predicted.append(df_pred, ignore_index=True)\n",
      "C:\\Users\\vella\\AppData\\Local\\Temp\\ipykernel_6344\\3582800836.py:23: FutureWarning: The frame.append method is deprecated and will be removed from pandas in a future version. Use pandas.concat instead.\n",
      "  predicted = predicted.append(df_pred, ignore_index=True)\n",
      "C:\\Users\\vella\\AppData\\Local\\Temp\\ipykernel_6344\\3582800836.py:23: FutureWarning: The frame.append method is deprecated and will be removed from pandas in a future version. Use pandas.concat instead.\n",
      "  predicted = predicted.append(df_pred, ignore_index=True)\n"
     ]
    },
    {
     "name": "stdout",
     "output_type": "stream",
     "text": [
      "1/1 [==============================] - 0s 20ms/step\n",
      "           0\n",
      "0  257.51712\n",
      "1/1 [==============================] - 0s 21ms/step\n",
      "            0\n",
      "0  261.377838\n",
      "1/1 [==============================] - 0s 24ms/step\n",
      "            0\n",
      "0  261.818787\n",
      "1/1 [==============================] - 0s 21ms/step\n",
      "            0\n",
      "0  265.896515\n"
     ]
    },
    {
     "name": "stderr",
     "output_type": "stream",
     "text": [
      "C:\\Users\\vella\\AppData\\Local\\Temp\\ipykernel_6344\\3582800836.py:23: FutureWarning: The frame.append method is deprecated and will be removed from pandas in a future version. Use pandas.concat instead.\n",
      "  predicted = predicted.append(df_pred, ignore_index=True)\n",
      "C:\\Users\\vella\\AppData\\Local\\Temp\\ipykernel_6344\\3582800836.py:23: FutureWarning: The frame.append method is deprecated and will be removed from pandas in a future version. Use pandas.concat instead.\n",
      "  predicted = predicted.append(df_pred, ignore_index=True)\n",
      "C:\\Users\\vella\\AppData\\Local\\Temp\\ipykernel_6344\\3582800836.py:23: FutureWarning: The frame.append method is deprecated and will be removed from pandas in a future version. Use pandas.concat instead.\n",
      "  predicted = predicted.append(df_pred, ignore_index=True)\n",
      "C:\\Users\\vella\\AppData\\Local\\Temp\\ipykernel_6344\\3582800836.py:23: FutureWarning: The frame.append method is deprecated and will be removed from pandas in a future version. Use pandas.concat instead.\n",
      "  predicted = predicted.append(df_pred, ignore_index=True)\n"
     ]
    },
    {
     "name": "stdout",
     "output_type": "stream",
     "text": [
      "1/1 [==============================] - 0s 22ms/step\n",
      "            0\n",
      "0  270.541718\n",
      "1/1 [==============================] - 0s 23ms/step\n",
      "            0\n",
      "0  278.197754\n",
      "1/1 [==============================] - 0s 20ms/step\n",
      "            0\n",
      "0  284.198975\n",
      "1/1 [==============================] - 0s 22ms/step\n",
      "            0\n",
      "0  289.545776\n"
     ]
    },
    {
     "name": "stderr",
     "output_type": "stream",
     "text": [
      "C:\\Users\\vella\\AppData\\Local\\Temp\\ipykernel_6344\\3582800836.py:23: FutureWarning: The frame.append method is deprecated and will be removed from pandas in a future version. Use pandas.concat instead.\n",
      "  predicted = predicted.append(df_pred, ignore_index=True)\n",
      "C:\\Users\\vella\\AppData\\Local\\Temp\\ipykernel_6344\\3582800836.py:23: FutureWarning: The frame.append method is deprecated and will be removed from pandas in a future version. Use pandas.concat instead.\n",
      "  predicted = predicted.append(df_pred, ignore_index=True)\n",
      "C:\\Users\\vella\\AppData\\Local\\Temp\\ipykernel_6344\\3582800836.py:23: FutureWarning: The frame.append method is deprecated and will be removed from pandas in a future version. Use pandas.concat instead.\n",
      "  predicted = predicted.append(df_pred, ignore_index=True)\n",
      "C:\\Users\\vella\\AppData\\Local\\Temp\\ipykernel_6344\\3582800836.py:23: FutureWarning: The frame.append method is deprecated and will be removed from pandas in a future version. Use pandas.concat instead.\n",
      "  predicted = predicted.append(df_pred, ignore_index=True)\n"
     ]
    },
    {
     "name": "stdout",
     "output_type": "stream",
     "text": [
      "1/1 [==============================] - 0s 21ms/step\n",
      "            0\n",
      "0  295.229431\n",
      "1/1 [==============================] - 0s 21ms/step\n",
      "            0\n",
      "0  299.757446\n",
      "1/1 [==============================] - 0s 22ms/step\n",
      "            0\n",
      "0  297.769653\n",
      "1/1 [==============================] - 0s 22ms/step\n"
     ]
    },
    {
     "name": "stderr",
     "output_type": "stream",
     "text": [
      "C:\\Users\\vella\\AppData\\Local\\Temp\\ipykernel_6344\\3582800836.py:23: FutureWarning: The frame.append method is deprecated and will be removed from pandas in a future version. Use pandas.concat instead.\n",
      "  predicted = predicted.append(df_pred, ignore_index=True)\n",
      "C:\\Users\\vella\\AppData\\Local\\Temp\\ipykernel_6344\\3582800836.py:23: FutureWarning: The frame.append method is deprecated and will be removed from pandas in a future version. Use pandas.concat instead.\n",
      "  predicted = predicted.append(df_pred, ignore_index=True)\n",
      "C:\\Users\\vella\\AppData\\Local\\Temp\\ipykernel_6344\\3582800836.py:23: FutureWarning: The frame.append method is deprecated and will be removed from pandas in a future version. Use pandas.concat instead.\n",
      "  predicted = predicted.append(df_pred, ignore_index=True)\n",
      "C:\\Users\\vella\\AppData\\Local\\Temp\\ipykernel_6344\\3582800836.py:23: FutureWarning: The frame.append method is deprecated and will be removed from pandas in a future version. Use pandas.concat instead.\n",
      "  predicted = predicted.append(df_pred, ignore_index=True)\n"
     ]
    },
    {
     "name": "stdout",
     "output_type": "stream",
     "text": [
      "            0\n",
      "0  296.188873\n",
      "1/1 [==============================] - 0s 24ms/step\n",
      "            0\n",
      "0  292.788849\n",
      "1/1 [==============================] - 0s 22ms/step\n",
      "            0\n",
      "0  292.556366\n",
      "1/1 [==============================] - 0s 21ms/step\n",
      "           0\n",
      "0  290.34201\n",
      "1/1 [==============================] - 0s 25ms/step\n"
     ]
    },
    {
     "name": "stderr",
     "output_type": "stream",
     "text": [
      "C:\\Users\\vella\\AppData\\Local\\Temp\\ipykernel_6344\\3582800836.py:23: FutureWarning: The frame.append method is deprecated and will be removed from pandas in a future version. Use pandas.concat instead.\n",
      "  predicted = predicted.append(df_pred, ignore_index=True)\n",
      "C:\\Users\\vella\\AppData\\Local\\Temp\\ipykernel_6344\\3582800836.py:23: FutureWarning: The frame.append method is deprecated and will be removed from pandas in a future version. Use pandas.concat instead.\n",
      "  predicted = predicted.append(df_pred, ignore_index=True)\n",
      "C:\\Users\\vella\\AppData\\Local\\Temp\\ipykernel_6344\\3582800836.py:23: FutureWarning: The frame.append method is deprecated and will be removed from pandas in a future version. Use pandas.concat instead.\n",
      "  predicted = predicted.append(df_pred, ignore_index=True)\n",
      "C:\\Users\\vella\\AppData\\Local\\Temp\\ipykernel_6344\\3582800836.py:23: FutureWarning: The frame.append method is deprecated and will be removed from pandas in a future version. Use pandas.concat instead.\n",
      "  predicted = predicted.append(df_pred, ignore_index=True)\n"
     ]
    },
    {
     "name": "stdout",
     "output_type": "stream",
     "text": [
      "            0\n",
      "0  291.815704\n",
      "1/1 [==============================] - 0s 27ms/step\n",
      "            0\n",
      "0  295.411469\n",
      "1/1 [==============================] - 0s 28ms/step\n",
      "            0\n",
      "0  297.631378\n",
      "1/1 [==============================] - 0s 23ms/step\n",
      "            0\n",
      "0  298.668121\n",
      "1/1 [==============================] - ETA: 0s"
     ]
    },
    {
     "name": "stderr",
     "output_type": "stream",
     "text": [
      "C:\\Users\\vella\\AppData\\Local\\Temp\\ipykernel_6344\\3582800836.py:23: FutureWarning: The frame.append method is deprecated and will be removed from pandas in a future version. Use pandas.concat instead.\n",
      "  predicted = predicted.append(df_pred, ignore_index=True)\n",
      "C:\\Users\\vella\\AppData\\Local\\Temp\\ipykernel_6344\\3582800836.py:23: FutureWarning: The frame.append method is deprecated and will be removed from pandas in a future version. Use pandas.concat instead.\n",
      "  predicted = predicted.append(df_pred, ignore_index=True)\n",
      "C:\\Users\\vella\\AppData\\Local\\Temp\\ipykernel_6344\\3582800836.py:23: FutureWarning: The frame.append method is deprecated and will be removed from pandas in a future version. Use pandas.concat instead.\n",
      "  predicted = predicted.append(df_pred, ignore_index=True)\n"
     ]
    },
    {
     "name": "stdout",
     "output_type": "stream",
     "text": [
      "1/1 [==============================] - 0s 23ms/step\n",
      "           0\n",
      "0  299.08783\n",
      "1/1 [==============================] - 0s 23ms/step\n",
      "            0\n",
      "0  297.728821\n",
      "1/1 [==============================] - 0s 24ms/step\n",
      "            0\n",
      "0  294.779083\n",
      "1/1 [==============================] - 0s 23ms/step\n",
      "            0\n",
      "0  293.945221\n"
     ]
    },
    {
     "name": "stderr",
     "output_type": "stream",
     "text": [
      "C:\\Users\\vella\\AppData\\Local\\Temp\\ipykernel_6344\\3582800836.py:23: FutureWarning: The frame.append method is deprecated and will be removed from pandas in a future version. Use pandas.concat instead.\n",
      "  predicted = predicted.append(df_pred, ignore_index=True)\n",
      "C:\\Users\\vella\\AppData\\Local\\Temp\\ipykernel_6344\\3582800836.py:23: FutureWarning: The frame.append method is deprecated and will be removed from pandas in a future version. Use pandas.concat instead.\n",
      "  predicted = predicted.append(df_pred, ignore_index=True)\n",
      "C:\\Users\\vella\\AppData\\Local\\Temp\\ipykernel_6344\\3582800836.py:23: FutureWarning: The frame.append method is deprecated and will be removed from pandas in a future version. Use pandas.concat instead.\n",
      "  predicted = predicted.append(df_pred, ignore_index=True)\n",
      "C:\\Users\\vella\\AppData\\Local\\Temp\\ipykernel_6344\\3582800836.py:23: FutureWarning: The frame.append method is deprecated and will be removed from pandas in a future version. Use pandas.concat instead.\n",
      "  predicted = predicted.append(df_pred, ignore_index=True)\n"
     ]
    },
    {
     "name": "stdout",
     "output_type": "stream",
     "text": [
      "1/1 [==============================] - 0s 25ms/step\n",
      "           0\n",
      "0  293.47287\n",
      "1/1 [==============================] - 0s 21ms/step\n",
      "            0\n",
      "0  292.857269\n",
      "1/1 [==============================] - 0s 23ms/step\n",
      "            0\n",
      "0  290.363434\n",
      "1/1 [==============================] - 0s 23ms/step\n"
     ]
    },
    {
     "name": "stderr",
     "output_type": "stream",
     "text": [
      "C:\\Users\\vella\\AppData\\Local\\Temp\\ipykernel_6344\\3582800836.py:23: FutureWarning: The frame.append method is deprecated and will be removed from pandas in a future version. Use pandas.concat instead.\n",
      "  predicted = predicted.append(df_pred, ignore_index=True)\n",
      "C:\\Users\\vella\\AppData\\Local\\Temp\\ipykernel_6344\\3582800836.py:23: FutureWarning: The frame.append method is deprecated and will be removed from pandas in a future version. Use pandas.concat instead.\n",
      "  predicted = predicted.append(df_pred, ignore_index=True)\n",
      "C:\\Users\\vella\\AppData\\Local\\Temp\\ipykernel_6344\\3582800836.py:23: FutureWarning: The frame.append method is deprecated and will be removed from pandas in a future version. Use pandas.concat instead.\n",
      "  predicted = predicted.append(df_pred, ignore_index=True)\n",
      "C:\\Users\\vella\\AppData\\Local\\Temp\\ipykernel_6344\\3582800836.py:23: FutureWarning: The frame.append method is deprecated and will be removed from pandas in a future version. Use pandas.concat instead.\n",
      "  predicted = predicted.append(df_pred, ignore_index=True)\n"
     ]
    },
    {
     "name": "stdout",
     "output_type": "stream",
     "text": [
      "           0\n",
      "0  287.50943\n",
      "1/1 [==============================] - 0s 22ms/step\n",
      "           0\n",
      "0  283.45874\n",
      "1/1 [==============================] - 0s 21ms/step\n",
      "            0\n",
      "0  279.727081\n",
      "1/1 [==============================] - 0s 24ms/step\n",
      "            0\n",
      "0  277.247864\n",
      "1/1 [==============================] - 0s 22ms/step\n"
     ]
    },
    {
     "name": "stderr",
     "output_type": "stream",
     "text": [
      "C:\\Users\\vella\\AppData\\Local\\Temp\\ipykernel_6344\\3582800836.py:23: FutureWarning: The frame.append method is deprecated and will be removed from pandas in a future version. Use pandas.concat instead.\n",
      "  predicted = predicted.append(df_pred, ignore_index=True)\n",
      "C:\\Users\\vella\\AppData\\Local\\Temp\\ipykernel_6344\\3582800836.py:23: FutureWarning: The frame.append method is deprecated and will be removed from pandas in a future version. Use pandas.concat instead.\n",
      "  predicted = predicted.append(df_pred, ignore_index=True)\n",
      "C:\\Users\\vella\\AppData\\Local\\Temp\\ipykernel_6344\\3582800836.py:23: FutureWarning: The frame.append method is deprecated and will be removed from pandas in a future version. Use pandas.concat instead.\n",
      "  predicted = predicted.append(df_pred, ignore_index=True)\n",
      "C:\\Users\\vella\\AppData\\Local\\Temp\\ipykernel_6344\\3582800836.py:23: FutureWarning: The frame.append method is deprecated and will be removed from pandas in a future version. Use pandas.concat instead.\n",
      "  predicted = predicted.append(df_pred, ignore_index=True)\n"
     ]
    },
    {
     "name": "stdout",
     "output_type": "stream",
     "text": [
      "            0\n",
      "0  273.703491\n",
      "1/1 [==============================] - 0s 22ms/step\n",
      "            0\n",
      "0  272.066254\n",
      "1/1 [==============================] - 0s 22ms/step\n",
      "            0\n",
      "0  273.326477\n",
      "1/1 [==============================] - 0s 23ms/step\n",
      "            0\n",
      "0  276.010193\n",
      "1/1 [==============================] - 0s 21ms/step\n",
      "            0\n",
      "0  281.005676\n"
     ]
    },
    {
     "name": "stderr",
     "output_type": "stream",
     "text": [
      "C:\\Users\\vella\\AppData\\Local\\Temp\\ipykernel_6344\\3582800836.py:23: FutureWarning: The frame.append method is deprecated and will be removed from pandas in a future version. Use pandas.concat instead.\n",
      "  predicted = predicted.append(df_pred, ignore_index=True)\n",
      "C:\\Users\\vella\\AppData\\Local\\Temp\\ipykernel_6344\\3582800836.py:23: FutureWarning: The frame.append method is deprecated and will be removed from pandas in a future version. Use pandas.concat instead.\n",
      "  predicted = predicted.append(df_pred, ignore_index=True)\n",
      "C:\\Users\\vella\\AppData\\Local\\Temp\\ipykernel_6344\\3582800836.py:23: FutureWarning: The frame.append method is deprecated and will be removed from pandas in a future version. Use pandas.concat instead.\n",
      "  predicted = predicted.append(df_pred, ignore_index=True)\n",
      "C:\\Users\\vella\\AppData\\Local\\Temp\\ipykernel_6344\\3582800836.py:23: FutureWarning: The frame.append method is deprecated and will be removed from pandas in a future version. Use pandas.concat instead.\n",
      "  predicted = predicted.append(df_pred, ignore_index=True)\n"
     ]
    },
    {
     "name": "stdout",
     "output_type": "stream",
     "text": [
      "1/1 [==============================] - 0s 21ms/step\n",
      "            0\n",
      "0  286.385132\n",
      "1/1 [==============================] - 0s 24ms/step\n",
      "            0\n",
      "0  287.617523\n",
      "1/1 [==============================] - 0s 26ms/step\n",
      "            0\n",
      "0  291.103241\n",
      "1/1 [==============================] - ETA: 0s"
     ]
    },
    {
     "name": "stderr",
     "output_type": "stream",
     "text": [
      "C:\\Users\\vella\\AppData\\Local\\Temp\\ipykernel_6344\\3582800836.py:23: FutureWarning: The frame.append method is deprecated and will be removed from pandas in a future version. Use pandas.concat instead.\n",
      "  predicted = predicted.append(df_pred, ignore_index=True)\n",
      "C:\\Users\\vella\\AppData\\Local\\Temp\\ipykernel_6344\\3582800836.py:23: FutureWarning: The frame.append method is deprecated and will be removed from pandas in a future version. Use pandas.concat instead.\n",
      "  predicted = predicted.append(df_pred, ignore_index=True)\n",
      "C:\\Users\\vella\\AppData\\Local\\Temp\\ipykernel_6344\\3582800836.py:23: FutureWarning: The frame.append method is deprecated and will be removed from pandas in a future version. Use pandas.concat instead.\n",
      "  predicted = predicted.append(df_pred, ignore_index=True)\n"
     ]
    },
    {
     "name": "stdout",
     "output_type": "stream",
     "text": [
      "1/1 [==============================] - 0s 26ms/step\n",
      "            0\n",
      "0  294.139984\n",
      "1/1 [==============================] - 0s 22ms/step\n",
      "            0\n",
      "0  296.341034\n",
      "1/1 [==============================] - 0s 23ms/step\n",
      "            0\n",
      "0  299.390289\n",
      "1/1 [==============================] - ETA: 0s"
     ]
    },
    {
     "name": "stderr",
     "output_type": "stream",
     "text": [
      "C:\\Users\\vella\\AppData\\Local\\Temp\\ipykernel_6344\\3582800836.py:23: FutureWarning: The frame.append method is deprecated and will be removed from pandas in a future version. Use pandas.concat instead.\n",
      "  predicted = predicted.append(df_pred, ignore_index=True)\n",
      "C:\\Users\\vella\\AppData\\Local\\Temp\\ipykernel_6344\\3582800836.py:23: FutureWarning: The frame.append method is deprecated and will be removed from pandas in a future version. Use pandas.concat instead.\n",
      "  predicted = predicted.append(df_pred, ignore_index=True)\n",
      "C:\\Users\\vella\\AppData\\Local\\Temp\\ipykernel_6344\\3582800836.py:23: FutureWarning: The frame.append method is deprecated and will be removed from pandas in a future version. Use pandas.concat instead.\n",
      "  predicted = predicted.append(df_pred, ignore_index=True)\n"
     ]
    },
    {
     "name": "stdout",
     "output_type": "stream",
     "text": [
      "1/1 [==============================] - 0s 30ms/step\n",
      "            0\n",
      "0  301.609344\n",
      "1/1 [==============================] - 0s 22ms/step\n",
      "            0\n",
      "0  301.175385\n",
      "1/1 [==============================] - 0s 24ms/step\n",
      "           0\n",
      "0  297.46933\n",
      "1/1 [==============================] - 0s 22ms/step\n",
      "            0\n",
      "0  290.884705\n"
     ]
    },
    {
     "name": "stderr",
     "output_type": "stream",
     "text": [
      "C:\\Users\\vella\\AppData\\Local\\Temp\\ipykernel_6344\\3582800836.py:23: FutureWarning: The frame.append method is deprecated and will be removed from pandas in a future version. Use pandas.concat instead.\n",
      "  predicted = predicted.append(df_pred, ignore_index=True)\n",
      "C:\\Users\\vella\\AppData\\Local\\Temp\\ipykernel_6344\\3582800836.py:23: FutureWarning: The frame.append method is deprecated and will be removed from pandas in a future version. Use pandas.concat instead.\n",
      "  predicted = predicted.append(df_pred, ignore_index=True)\n",
      "C:\\Users\\vella\\AppData\\Local\\Temp\\ipykernel_6344\\3582800836.py:23: FutureWarning: The frame.append method is deprecated and will be removed from pandas in a future version. Use pandas.concat instead.\n",
      "  predicted = predicted.append(df_pred, ignore_index=True)\n",
      "C:\\Users\\vella\\AppData\\Local\\Temp\\ipykernel_6344\\3582800836.py:23: FutureWarning: The frame.append method is deprecated and will be removed from pandas in a future version. Use pandas.concat instead.\n",
      "  predicted = predicted.append(df_pred, ignore_index=True)\n"
     ]
    },
    {
     "name": "stdout",
     "output_type": "stream",
     "text": [
      "1/1 [==============================] - 0s 23ms/step\n",
      "            0\n",
      "0  285.581299\n",
      "1/1 [==============================] - 0s 24ms/step\n",
      "           0\n",
      "0  283.10025\n",
      "1/1 [==============================] - 0s 23ms/step\n",
      "           0\n",
      "0  282.51062\n"
     ]
    },
    {
     "name": "stderr",
     "output_type": "stream",
     "text": [
      "C:\\Users\\vella\\AppData\\Local\\Temp\\ipykernel_6344\\3582800836.py:23: FutureWarning: The frame.append method is deprecated and will be removed from pandas in a future version. Use pandas.concat instead.\n",
      "  predicted = predicted.append(df_pred, ignore_index=True)\n",
      "C:\\Users\\vella\\AppData\\Local\\Temp\\ipykernel_6344\\3582800836.py:23: FutureWarning: The frame.append method is deprecated and will be removed from pandas in a future version. Use pandas.concat instead.\n",
      "  predicted = predicted.append(df_pred, ignore_index=True)\n",
      "C:\\Users\\vella\\AppData\\Local\\Temp\\ipykernel_6344\\3582800836.py:23: FutureWarning: The frame.append method is deprecated and will be removed from pandas in a future version. Use pandas.concat instead.\n",
      "  predicted = predicted.append(df_pred, ignore_index=True)\n"
     ]
    }
   ],
   "source": [
    "predicted = pd.DataFrame()\n",
    "for i in range(0,(len(df3)-67)):\n",
    "    #Create a new dataframe\n",
    "    new_df = df3[i:(i+67)]\n",
    "    #Get the last 180 day closing price \n",
    "    last_67_days = new_df[-67:].values\n",
    "    #Scale the data to be values between 0 and 1\n",
    "    last_67_days_scaled = scaler.transform(last_67_days)\n",
    "    #Create an empty list\n",
    "    X_test = []\n",
    "    #Append teh past 180 days\n",
    "    X_test.append(last_67_days_scaled)\n",
    "    #Convert the X_test data set to a numpy array\n",
    "    X_test = np.array(X_test)\n",
    "    #Reshape the data\n",
    "    X_test = np.reshape(X_test, (X_test.shape[0], X_test.shape[1], 1))\n",
    "    #Get the predicted scaled price\n",
    "    pred_price = model.predict(X_test)\n",
    "    #undo the scaling \n",
    "    pred_price = scaler.inverse_transform(pred_price)\n",
    "    df_pred = pd.DataFrame(pred_price)\n",
    "    print(df_pred)\n",
    "    predicted = predicted.append(df_pred, ignore_index=True)"
   ]
  },
  {
   "cell_type": "code",
   "execution_count": 26,
   "id": "897af32c",
   "metadata": {},
   "outputs": [
    {
     "data": {
      "text/html": [
       "<div>\n",
       "<style scoped>\n",
       "    .dataframe tbody tr th:only-of-type {\n",
       "        vertical-align: middle;\n",
       "    }\n",
       "\n",
       "    .dataframe tbody tr th {\n",
       "        vertical-align: top;\n",
       "    }\n",
       "\n",
       "    .dataframe thead th {\n",
       "        text-align: right;\n",
       "    }\n",
       "</style>\n",
       "<table border=\"1\" class=\"dataframe\">\n",
       "  <thead>\n",
       "    <tr style=\"text-align: right;\">\n",
       "      <th></th>\n",
       "      <th>Prediction</th>\n",
       "    </tr>\n",
       "  </thead>\n",
       "  <tbody>\n",
       "    <tr>\n",
       "      <th>0</th>\n",
       "      <td>366.688293</td>\n",
       "    </tr>\n",
       "    <tr>\n",
       "      <th>1</th>\n",
       "      <td>365.760651</td>\n",
       "    </tr>\n",
       "    <tr>\n",
       "      <th>2</th>\n",
       "      <td>362.290619</td>\n",
       "    </tr>\n",
       "    <tr>\n",
       "      <th>3</th>\n",
       "      <td>355.772064</td>\n",
       "    </tr>\n",
       "    <tr>\n",
       "      <th>4</th>\n",
       "      <td>352.694733</td>\n",
       "    </tr>\n",
       "    <tr>\n",
       "      <th>...</th>\n",
       "      <td>...</td>\n",
       "    </tr>\n",
       "    <tr>\n",
       "      <th>180</th>\n",
       "      <td>297.469330</td>\n",
       "    </tr>\n",
       "    <tr>\n",
       "      <th>181</th>\n",
       "      <td>290.884705</td>\n",
       "    </tr>\n",
       "    <tr>\n",
       "      <th>182</th>\n",
       "      <td>285.581299</td>\n",
       "    </tr>\n",
       "    <tr>\n",
       "      <th>183</th>\n",
       "      <td>283.100250</td>\n",
       "    </tr>\n",
       "    <tr>\n",
       "      <th>184</th>\n",
       "      <td>282.510620</td>\n",
       "    </tr>\n",
       "  </tbody>\n",
       "</table>\n",
       "<p>185 rows × 1 columns</p>\n",
       "</div>"
      ],
      "text/plain": [
       "     Prediction\n",
       "0    366.688293\n",
       "1    365.760651\n",
       "2    362.290619\n",
       "3    355.772064\n",
       "4    352.694733\n",
       "..          ...\n",
       "180  297.469330\n",
       "181  290.884705\n",
       "182  285.581299\n",
       "183  283.100250\n",
       "184  282.510620\n",
       "\n",
       "[185 rows x 1 columns]"
      ]
     },
     "execution_count": 26,
     "metadata": {},
     "output_type": "execute_result"
    }
   ],
   "source": [
    "predicted.rename(columns = {0:'Prediction'},inplace = True)\n",
    "predicted"
   ]
  },
  {
   "cell_type": "code",
   "execution_count": 27,
   "id": "3aac0f59",
   "metadata": {},
   "outputs": [],
   "source": [
    "df4 = pd.DataFrame(np.nan, index=[list(range(67))], columns=['Prediction'])"
   ]
  },
  {
   "cell_type": "code",
   "execution_count": 28,
   "id": "3b298b06",
   "metadata": {
    "scrolled": true
   },
   "outputs": [
    {
     "data": {
      "text/html": [
       "<div>\n",
       "<style scoped>\n",
       "    .dataframe tbody tr th:only-of-type {\n",
       "        vertical-align: middle;\n",
       "    }\n",
       "\n",
       "    .dataframe tbody tr th {\n",
       "        vertical-align: top;\n",
       "    }\n",
       "\n",
       "    .dataframe thead th {\n",
       "        text-align: right;\n",
       "    }\n",
       "</style>\n",
       "<table border=\"1\" class=\"dataframe\">\n",
       "  <thead>\n",
       "    <tr style=\"text-align: right;\">\n",
       "      <th></th>\n",
       "      <th>Prediction</th>\n",
       "    </tr>\n",
       "  </thead>\n",
       "  <tbody>\n",
       "    <tr>\n",
       "      <th>0</th>\n",
       "      <td>NaN</td>\n",
       "    </tr>\n",
       "    <tr>\n",
       "      <th>1</th>\n",
       "      <td>NaN</td>\n",
       "    </tr>\n",
       "    <tr>\n",
       "      <th>2</th>\n",
       "      <td>NaN</td>\n",
       "    </tr>\n",
       "    <tr>\n",
       "      <th>3</th>\n",
       "      <td>NaN</td>\n",
       "    </tr>\n",
       "    <tr>\n",
       "      <th>4</th>\n",
       "      <td>NaN</td>\n",
       "    </tr>\n",
       "    <tr>\n",
       "      <th>...</th>\n",
       "      <td>...</td>\n",
       "    </tr>\n",
       "    <tr>\n",
       "      <th>62</th>\n",
       "      <td>NaN</td>\n",
       "    </tr>\n",
       "    <tr>\n",
       "      <th>63</th>\n",
       "      <td>NaN</td>\n",
       "    </tr>\n",
       "    <tr>\n",
       "      <th>64</th>\n",
       "      <td>NaN</td>\n",
       "    </tr>\n",
       "    <tr>\n",
       "      <th>65</th>\n",
       "      <td>NaN</td>\n",
       "    </tr>\n",
       "    <tr>\n",
       "      <th>66</th>\n",
       "      <td>NaN</td>\n",
       "    </tr>\n",
       "  </tbody>\n",
       "</table>\n",
       "<p>67 rows × 1 columns</p>\n",
       "</div>"
      ],
      "text/plain": [
       "    Prediction\n",
       "0          NaN\n",
       "1          NaN\n",
       "2          NaN\n",
       "3          NaN\n",
       "4          NaN\n",
       "..         ...\n",
       "62         NaN\n",
       "63         NaN\n",
       "64         NaN\n",
       "65         NaN\n",
       "66         NaN\n",
       "\n",
       "[67 rows x 1 columns]"
      ]
     },
     "execution_count": 28,
     "metadata": {},
     "output_type": "execute_result"
    }
   ],
   "source": [
    "df4"
   ]
  },
  {
   "cell_type": "code",
   "execution_count": 29,
   "id": "9be76532",
   "metadata": {},
   "outputs": [
    {
     "name": "stderr",
     "output_type": "stream",
     "text": [
      "C:\\Users\\vella\\AppData\\Local\\Temp\\ipykernel_6344\\837844078.py:1: FutureWarning: The frame.append method is deprecated and will be removed from pandas in a future version. Use pandas.concat instead.\n",
      "  df4 = df4.append(predicted, ignore_index=True)\n"
     ]
    }
   ],
   "source": [
    "df4 = df4.append(predicted, ignore_index=True)"
   ]
  },
  {
   "cell_type": "code",
   "execution_count": 30,
   "id": "dc6478fc",
   "metadata": {},
   "outputs": [
    {
     "data": {
      "text/html": [
       "<div>\n",
       "<style scoped>\n",
       "    .dataframe tbody tr th:only-of-type {\n",
       "        vertical-align: middle;\n",
       "    }\n",
       "\n",
       "    .dataframe tbody tr th {\n",
       "        vertical-align: top;\n",
       "    }\n",
       "\n",
       "    .dataframe thead th {\n",
       "        text-align: right;\n",
       "    }\n",
       "</style>\n",
       "<table border=\"1\" class=\"dataframe\">\n",
       "  <thead>\n",
       "    <tr style=\"text-align: right;\">\n",
       "      <th></th>\n",
       "      <th>Prediction</th>\n",
       "    </tr>\n",
       "  </thead>\n",
       "  <tbody>\n",
       "    <tr>\n",
       "      <th>0</th>\n",
       "      <td>NaN</td>\n",
       "    </tr>\n",
       "    <tr>\n",
       "      <th>1</th>\n",
       "      <td>NaN</td>\n",
       "    </tr>\n",
       "    <tr>\n",
       "      <th>2</th>\n",
       "      <td>NaN</td>\n",
       "    </tr>\n",
       "    <tr>\n",
       "      <th>3</th>\n",
       "      <td>NaN</td>\n",
       "    </tr>\n",
       "    <tr>\n",
       "      <th>4</th>\n",
       "      <td>NaN</td>\n",
       "    </tr>\n",
       "    <tr>\n",
       "      <th>...</th>\n",
       "      <td>...</td>\n",
       "    </tr>\n",
       "    <tr>\n",
       "      <th>247</th>\n",
       "      <td>297.469330</td>\n",
       "    </tr>\n",
       "    <tr>\n",
       "      <th>248</th>\n",
       "      <td>290.884705</td>\n",
       "    </tr>\n",
       "    <tr>\n",
       "      <th>249</th>\n",
       "      <td>285.581299</td>\n",
       "    </tr>\n",
       "    <tr>\n",
       "      <th>250</th>\n",
       "      <td>283.100250</td>\n",
       "    </tr>\n",
       "    <tr>\n",
       "      <th>251</th>\n",
       "      <td>282.510620</td>\n",
       "    </tr>\n",
       "  </tbody>\n",
       "</table>\n",
       "<p>252 rows × 1 columns</p>\n",
       "</div>"
      ],
      "text/plain": [
       "     Prediction\n",
       "0           NaN\n",
       "1           NaN\n",
       "2           NaN\n",
       "3           NaN\n",
       "4           NaN\n",
       "..          ...\n",
       "247  297.469330\n",
       "248  290.884705\n",
       "249  285.581299\n",
       "250  283.100250\n",
       "251  282.510620\n",
       "\n",
       "[252 rows x 1 columns]"
      ]
     },
     "execution_count": 30,
     "metadata": {},
     "output_type": "execute_result"
    }
   ],
   "source": [
    "df4"
   ]
  },
  {
   "cell_type": "code",
   "execution_count": 31,
   "id": "95108d2f",
   "metadata": {},
   "outputs": [],
   "source": [
    "extracted_col = list(df4[\"Prediction\"])"
   ]
  },
  {
   "cell_type": "code",
   "execution_count": 32,
   "id": "236e7cb2",
   "metadata": {
    "scrolled": true
   },
   "outputs": [
    {
     "data": {
      "text/html": [
       "<div>\n",
       "<style scoped>\n",
       "    .dataframe tbody tr th:only-of-type {\n",
       "        vertical-align: middle;\n",
       "    }\n",
       "\n",
       "    .dataframe tbody tr th {\n",
       "        vertical-align: top;\n",
       "    }\n",
       "\n",
       "    .dataframe thead th {\n",
       "        text-align: right;\n",
       "    }\n",
       "</style>\n",
       "<table border=\"1\" class=\"dataframe\">\n",
       "  <thead>\n",
       "    <tr style=\"text-align: right;\">\n",
       "      <th></th>\n",
       "      <th>Close</th>\n",
       "    </tr>\n",
       "    <tr>\n",
       "      <th>Date</th>\n",
       "      <th></th>\n",
       "    </tr>\n",
       "  </thead>\n",
       "  <tbody>\n",
       "    <tr>\n",
       "      <th>2021-09-30</th>\n",
       "      <td>258.493347</td>\n",
       "    </tr>\n",
       "    <tr>\n",
       "      <th>2021-10-01</th>\n",
       "      <td>258.406677</td>\n",
       "    </tr>\n",
       "    <tr>\n",
       "      <th>2021-10-04</th>\n",
       "      <td>260.510010</td>\n",
       "    </tr>\n",
       "    <tr>\n",
       "      <th>2021-10-05</th>\n",
       "      <td>260.196655</td>\n",
       "    </tr>\n",
       "    <tr>\n",
       "      <th>2021-10-06</th>\n",
       "      <td>260.916656</td>\n",
       "    </tr>\n",
       "    <tr>\n",
       "      <th>...</th>\n",
       "      <td>...</td>\n",
       "    </tr>\n",
       "    <tr>\n",
       "      <th>2022-09-23</th>\n",
       "      <td>275.329987</td>\n",
       "    </tr>\n",
       "    <tr>\n",
       "      <th>2022-09-26</th>\n",
       "      <td>276.010010</td>\n",
       "    </tr>\n",
       "    <tr>\n",
       "      <th>2022-09-27</th>\n",
       "      <td>282.940002</td>\n",
       "    </tr>\n",
       "    <tr>\n",
       "      <th>2022-09-28</th>\n",
       "      <td>287.809998</td>\n",
       "    </tr>\n",
       "    <tr>\n",
       "      <th>2022-09-29</th>\n",
       "      <td>268.209991</td>\n",
       "    </tr>\n",
       "  </tbody>\n",
       "</table>\n",
       "<p>252 rows × 1 columns</p>\n",
       "</div>"
      ],
      "text/plain": [
       "                 Close\n",
       "Date                  \n",
       "2021-09-30  258.493347\n",
       "2021-10-01  258.406677\n",
       "2021-10-04  260.510010\n",
       "2021-10-05  260.196655\n",
       "2021-10-06  260.916656\n",
       "...                ...\n",
       "2022-09-23  275.329987\n",
       "2022-09-26  276.010010\n",
       "2022-09-27  282.940002\n",
       "2022-09-28  287.809998\n",
       "2022-09-29  268.209991\n",
       "\n",
       "[252 rows x 1 columns]"
      ]
     },
     "execution_count": 32,
     "metadata": {},
     "output_type": "execute_result"
    }
   ],
   "source": [
    "df5 = df3\n",
    "df5"
   ]
  },
  {
   "cell_type": "code",
   "execution_count": 33,
   "id": "4d566585",
   "metadata": {},
   "outputs": [],
   "source": [
    "df5[\"Prediction\"] = extracted_col"
   ]
  },
  {
   "cell_type": "code",
   "execution_count": 34,
   "id": "b4e955b8",
   "metadata": {},
   "outputs": [
    {
     "data": {
      "text/html": [
       "<div>\n",
       "<style scoped>\n",
       "    .dataframe tbody tr th:only-of-type {\n",
       "        vertical-align: middle;\n",
       "    }\n",
       "\n",
       "    .dataframe tbody tr th {\n",
       "        vertical-align: top;\n",
       "    }\n",
       "\n",
       "    .dataframe thead th {\n",
       "        text-align: right;\n",
       "    }\n",
       "</style>\n",
       "<table border=\"1\" class=\"dataframe\">\n",
       "  <thead>\n",
       "    <tr style=\"text-align: right;\">\n",
       "      <th></th>\n",
       "      <th>Close</th>\n",
       "      <th>Prediction</th>\n",
       "    </tr>\n",
       "    <tr>\n",
       "      <th>Date</th>\n",
       "      <th></th>\n",
       "      <th></th>\n",
       "    </tr>\n",
       "  </thead>\n",
       "  <tbody>\n",
       "    <tr>\n",
       "      <th>2021-09-30</th>\n",
       "      <td>258.493347</td>\n",
       "      <td>NaN</td>\n",
       "    </tr>\n",
       "    <tr>\n",
       "      <th>2021-10-01</th>\n",
       "      <td>258.406677</td>\n",
       "      <td>NaN</td>\n",
       "    </tr>\n",
       "    <tr>\n",
       "      <th>2021-10-04</th>\n",
       "      <td>260.510010</td>\n",
       "      <td>NaN</td>\n",
       "    </tr>\n",
       "    <tr>\n",
       "      <th>2021-10-05</th>\n",
       "      <td>260.196655</td>\n",
       "      <td>NaN</td>\n",
       "    </tr>\n",
       "    <tr>\n",
       "      <th>2021-10-06</th>\n",
       "      <td>260.916656</td>\n",
       "      <td>NaN</td>\n",
       "    </tr>\n",
       "    <tr>\n",
       "      <th>...</th>\n",
       "      <td>...</td>\n",
       "      <td>...</td>\n",
       "    </tr>\n",
       "    <tr>\n",
       "      <th>2022-09-23</th>\n",
       "      <td>275.329987</td>\n",
       "      <td>297.469330</td>\n",
       "    </tr>\n",
       "    <tr>\n",
       "      <th>2022-09-26</th>\n",
       "      <td>276.010010</td>\n",
       "      <td>290.884705</td>\n",
       "    </tr>\n",
       "    <tr>\n",
       "      <th>2022-09-27</th>\n",
       "      <td>282.940002</td>\n",
       "      <td>285.581299</td>\n",
       "    </tr>\n",
       "    <tr>\n",
       "      <th>2022-09-28</th>\n",
       "      <td>287.809998</td>\n",
       "      <td>283.100250</td>\n",
       "    </tr>\n",
       "    <tr>\n",
       "      <th>2022-09-29</th>\n",
       "      <td>268.209991</td>\n",
       "      <td>282.510620</td>\n",
       "    </tr>\n",
       "  </tbody>\n",
       "</table>\n",
       "<p>252 rows × 2 columns</p>\n",
       "</div>"
      ],
      "text/plain": [
       "                 Close  Prediction\n",
       "Date                              \n",
       "2021-09-30  258.493347         NaN\n",
       "2021-10-01  258.406677         NaN\n",
       "2021-10-04  260.510010         NaN\n",
       "2021-10-05  260.196655         NaN\n",
       "2021-10-06  260.916656         NaN\n",
       "...                ...         ...\n",
       "2022-09-23  275.329987  297.469330\n",
       "2022-09-26  276.010010  290.884705\n",
       "2022-09-27  282.940002  285.581299\n",
       "2022-09-28  287.809998  283.100250\n",
       "2022-09-29  268.209991  282.510620\n",
       "\n",
       "[252 rows x 2 columns]"
      ]
     },
     "execution_count": 34,
     "metadata": {},
     "output_type": "execute_result"
    }
   ],
   "source": [
    "df5"
   ]
  },
  {
   "cell_type": "code",
   "execution_count": 35,
   "id": "7b999e8a",
   "metadata": {},
   "outputs": [],
   "source": [
    "df5 = df5.fillna(0)"
   ]
  },
  {
   "cell_type": "code",
   "execution_count": 36,
   "id": "890cd724",
   "metadata": {
    "scrolled": true
   },
   "outputs": [
    {
     "data": {
      "text/html": [
       "<div>\n",
       "<style scoped>\n",
       "    .dataframe tbody tr th:only-of-type {\n",
       "        vertical-align: middle;\n",
       "    }\n",
       "\n",
       "    .dataframe tbody tr th {\n",
       "        vertical-align: top;\n",
       "    }\n",
       "\n",
       "    .dataframe thead th {\n",
       "        text-align: right;\n",
       "    }\n",
       "</style>\n",
       "<table border=\"1\" class=\"dataframe\">\n",
       "  <thead>\n",
       "    <tr style=\"text-align: right;\">\n",
       "      <th></th>\n",
       "      <th>Close</th>\n",
       "      <th>Prediction</th>\n",
       "    </tr>\n",
       "    <tr>\n",
       "      <th>Date</th>\n",
       "      <th></th>\n",
       "      <th></th>\n",
       "    </tr>\n",
       "  </thead>\n",
       "  <tbody>\n",
       "    <tr>\n",
       "      <th>2022-01-05</th>\n",
       "      <td>362.706665</td>\n",
       "      <td>366.688293</td>\n",
       "    </tr>\n",
       "    <tr>\n",
       "      <th>2022-01-06</th>\n",
       "      <td>354.899994</td>\n",
       "      <td>365.760651</td>\n",
       "    </tr>\n",
       "    <tr>\n",
       "      <th>2022-01-07</th>\n",
       "      <td>342.320007</td>\n",
       "      <td>362.290619</td>\n",
       "    </tr>\n",
       "    <tr>\n",
       "      <th>2022-01-10</th>\n",
       "      <td>352.706665</td>\n",
       "      <td>355.772064</td>\n",
       "    </tr>\n",
       "    <tr>\n",
       "      <th>2022-01-11</th>\n",
       "      <td>354.799988</td>\n",
       "      <td>352.694733</td>\n",
       "    </tr>\n",
       "    <tr>\n",
       "      <th>...</th>\n",
       "      <td>...</td>\n",
       "      <td>...</td>\n",
       "    </tr>\n",
       "    <tr>\n",
       "      <th>2022-09-23</th>\n",
       "      <td>275.329987</td>\n",
       "      <td>297.469330</td>\n",
       "    </tr>\n",
       "    <tr>\n",
       "      <th>2022-09-26</th>\n",
       "      <td>276.010010</td>\n",
       "      <td>290.884705</td>\n",
       "    </tr>\n",
       "    <tr>\n",
       "      <th>2022-09-27</th>\n",
       "      <td>282.940002</td>\n",
       "      <td>285.581299</td>\n",
       "    </tr>\n",
       "    <tr>\n",
       "      <th>2022-09-28</th>\n",
       "      <td>287.809998</td>\n",
       "      <td>283.100250</td>\n",
       "    </tr>\n",
       "    <tr>\n",
       "      <th>2022-09-29</th>\n",
       "      <td>268.209991</td>\n",
       "      <td>282.510620</td>\n",
       "    </tr>\n",
       "  </tbody>\n",
       "</table>\n",
       "<p>185 rows × 2 columns</p>\n",
       "</div>"
      ],
      "text/plain": [
       "                 Close  Prediction\n",
       "Date                              \n",
       "2022-01-05  362.706665  366.688293\n",
       "2022-01-06  354.899994  365.760651\n",
       "2022-01-07  342.320007  362.290619\n",
       "2022-01-10  352.706665  355.772064\n",
       "2022-01-11  354.799988  352.694733\n",
       "...                ...         ...\n",
       "2022-09-23  275.329987  297.469330\n",
       "2022-09-26  276.010010  290.884705\n",
       "2022-09-27  282.940002  285.581299\n",
       "2022-09-28  287.809998  283.100250\n",
       "2022-09-29  268.209991  282.510620\n",
       "\n",
       "[185 rows x 2 columns]"
      ]
     },
     "execution_count": 36,
     "metadata": {},
     "output_type": "execute_result"
    }
   ],
   "source": [
    "df7 = df5[67:]\n",
    "df7"
   ]
  },
  {
   "cell_type": "code",
   "execution_count": 37,
   "id": "880574a1",
   "metadata": {},
   "outputs": [
    {
     "data": {
      "image/png": "[encoded data removed]",
      "text/plain": [
       "<Figure size 640x480 with 1 Axes>"
      ]
     },
     "metadata": {},
     "output_type": "display_data"
    }
   ],
   "source": [
    "import matplotlib.pyplot as plt\n",
    "plt.plot(df7[['Close', 'Prediction']])\n",
    "plt.legend(['Train', 'Val', 'Predictions'], loc='lower right')\n",
    "plt.show()"
   ]
  },
  {
   "cell_type": "code",
   "execution_count": null,
   "id": "201c6414",
   "metadata": {},
   "outputs": [],
   "source": []
  }
 ],
 "metadata": {
  "kernelspec": {
   "display_name": "Python 3 (ipykernel)",
   "language": "python",
   "name": "python3"
  },
  "language_info": {
   "codemirror_mode": {
    "name": "ipython",
    "version": 3
   },
   "file_extension": ".py",
   "mimetype": "text/x-python",
   "name": "python",
   "nbconvert_exporter": "python",
   "pygments_lexer": "ipython3",
   "version": "3.9.13"
  }
 },
 "nbformat": 4,
 "nbformat_minor": 5
}
