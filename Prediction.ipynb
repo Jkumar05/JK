{
 "cells": [
  {
   "cell_type": "markdown",
   "id": "5eb503ef",
   "metadata": {},
   "source": [
    "# Phase 1"
   ]
  },
  {
   "cell_type": "code",
   "execution_count": 1,
   "id": "1fa9edf8",
   "metadata": {},
   "outputs": [],
   "source": [
    "#Import the libraries\n",
    "import math\n",
    "import pandas_datareader as web\n",
    "import numpy as np\n",
    "import pandas as pd\n",
    "from sklearn.preprocessing import MinMaxScaler\n",
    "from keras.models import Sequential\n",
    "from keras.layers import Dense, LSTM,LeakyReLU\n",
    "import matplotlib.pyplot as plt\n",
    "plt.style.use('fivethirtyeight')\n",
    "import tensorflow as tf\n",
    "import random\n",
    "random.seed(0)\n",
    "from keras.preprocessing.sequence import TimeseriesGenerator"
   ]
  },
  {
   "cell_type": "code",
   "execution_count": 2,
   "id": "1f95ac46",
   "metadata": {},
   "outputs": [],
   "source": [
    "# fix random seed for reproducibility\n",
    "tf.random.set_seed(25)"
   ]
  },
  {
   "cell_type": "code",
   "execution_count": 3,
   "id": "76f88a5a",
   "metadata": {},
   "outputs": [
    {
     "data": {
      "text/html": [
       "<div>\n",
       "<style scoped>\n",
       "    .dataframe tbody tr th:only-of-type {\n",
       "        vertical-align: middle;\n",
       "    }\n",
       "\n",
       "    .dataframe tbody tr th {\n",
       "        vertical-align: top;\n",
       "    }\n",
       "\n",
       "    .dataframe thead th {\n",
       "        text-align: right;\n",
       "    }\n",
       "</style>\n",
       "<table border=\"1\" class=\"dataframe\">\n",
       "  <thead>\n",
       "    <tr style=\"text-align: right;\">\n",
       "      <th></th>\n",
       "      <th>Date</th>\n",
       "      <th>Open</th>\n",
       "      <th>High</th>\n",
       "      <th>Low</th>\n",
       "      <th>Close</th>\n",
       "      <th>Adj Close</th>\n",
       "      <th>Volume</th>\n",
       "      <th>Stock Name</th>\n",
       "    </tr>\n",
       "  </thead>\n",
       "  <tbody>\n",
       "    <tr>\n",
       "      <th>0</th>\n",
       "      <td>2021-09-30</td>\n",
       "      <td>260.333344</td>\n",
       "      <td>263.043335</td>\n",
       "      <td>258.333344</td>\n",
       "      <td>258.493347</td>\n",
       "      <td>258.493347</td>\n",
       "      <td>53868000</td>\n",
       "      <td>TSLA</td>\n",
       "    </tr>\n",
       "    <tr>\n",
       "      <th>1</th>\n",
       "      <td>2021-10-01</td>\n",
       "      <td>259.466675</td>\n",
       "      <td>260.260010</td>\n",
       "      <td>254.529999</td>\n",
       "      <td>258.406677</td>\n",
       "      <td>258.406677</td>\n",
       "      <td>51094200</td>\n",
       "      <td>TSLA</td>\n",
       "    </tr>\n",
       "    <tr>\n",
       "      <th>2</th>\n",
       "      <td>2021-10-04</td>\n",
       "      <td>265.500000</td>\n",
       "      <td>268.989990</td>\n",
       "      <td>258.706665</td>\n",
       "      <td>260.510010</td>\n",
       "      <td>260.510010</td>\n",
       "      <td>91449900</td>\n",
       "      <td>TSLA</td>\n",
       "    </tr>\n",
       "    <tr>\n",
       "      <th>3</th>\n",
       "      <td>2021-10-05</td>\n",
       "      <td>261.600006</td>\n",
       "      <td>265.769989</td>\n",
       "      <td>258.066681</td>\n",
       "      <td>260.196655</td>\n",
       "      <td>260.196655</td>\n",
       "      <td>55297800</td>\n",
       "      <td>TSLA</td>\n",
       "    </tr>\n",
       "    <tr>\n",
       "      <th>4</th>\n",
       "      <td>2021-10-06</td>\n",
       "      <td>258.733337</td>\n",
       "      <td>262.220001</td>\n",
       "      <td>257.739990</td>\n",
       "      <td>260.916656</td>\n",
       "      <td>260.916656</td>\n",
       "      <td>43898400</td>\n",
       "      <td>TSLA</td>\n",
       "    </tr>\n",
       "  </tbody>\n",
       "</table>\n",
       "</div>"
      ],
      "text/plain": [
       "         Date        Open        High         Low       Close   Adj Close  \\\n",
       "0  2021-09-30  260.333344  263.043335  258.333344  258.493347  258.493347   \n",
       "1  2021-10-01  259.466675  260.260010  254.529999  258.406677  258.406677   \n",
       "2  2021-10-04  265.500000  268.989990  258.706665  260.510010  260.510010   \n",
       "3  2021-10-05  261.600006  265.769989  258.066681  260.196655  260.196655   \n",
       "4  2021-10-06  258.733337  262.220001  257.739990  260.916656  260.916656   \n",
       "\n",
       "     Volume Stock Name  \n",
       "0  53868000       TSLA  \n",
       "1  51094200       TSLA  \n",
       "2  91449900       TSLA  \n",
       "3  55297800       TSLA  \n",
       "4  43898400       TSLA  "
      ]
     },
     "execution_count": 3,
     "metadata": {},
     "output_type": "execute_result"
    }
   ],
   "source": [
    "df1 = pd.read_csv(r\"C:\\Users\\vella\\Desktop\\Praju\\College\\Projects\\Final year\\Data\\Tesla\\stock_yfinance_data.csv\")\n",
    "df1.head()"
   ]
  },
  {
   "cell_type": "code",
   "execution_count": 4,
   "id": "fade54fe",
   "metadata": {},
   "outputs": [],
   "source": [
    "df1.rename(columns = {'Stock Name':'Stock_Name'}, inplace = True)"
   ]
  },
  {
   "cell_type": "code",
   "execution_count": 5,
   "id": "1d19e86a",
   "metadata": {},
   "outputs": [],
   "source": [
    "names = ['TSLA']\n",
    "df1 = df1[df1.Stock_Name.isin(names)]"
   ]
  },
  {
   "cell_type": "code",
   "execution_count": 6,
   "id": "3153bdf2",
   "metadata": {},
   "outputs": [
    {
     "data": {
      "text/html": [
       "<div>\n",
       "<style scoped>\n",
       "    .dataframe tbody tr th:only-of-type {\n",
       "        vertical-align: middle;\n",
       "    }\n",
       "\n",
       "    .dataframe tbody tr th {\n",
       "        vertical-align: top;\n",
       "    }\n",
       "\n",
       "    .dataframe thead th {\n",
       "        text-align: right;\n",
       "    }\n",
       "</style>\n",
       "<table border=\"1\" class=\"dataframe\">\n",
       "  <thead>\n",
       "    <tr style=\"text-align: right;\">\n",
       "      <th></th>\n",
       "      <th>Date</th>\n",
       "      <th>Open</th>\n",
       "      <th>High</th>\n",
       "      <th>Low</th>\n",
       "      <th>Close</th>\n",
       "      <th>Adj Close</th>\n",
       "      <th>Volume</th>\n",
       "      <th>Stock_Name</th>\n",
       "    </tr>\n",
       "  </thead>\n",
       "  <tbody>\n",
       "    <tr>\n",
       "      <th>0</th>\n",
       "      <td>2021-09-30</td>\n",
       "      <td>260.333344</td>\n",
       "      <td>263.043335</td>\n",
       "      <td>258.333344</td>\n",
       "      <td>258.493347</td>\n",
       "      <td>258.493347</td>\n",
       "      <td>53868000</td>\n",
       "      <td>TSLA</td>\n",
       "    </tr>\n",
       "    <tr>\n",
       "      <th>1</th>\n",
       "      <td>2021-10-01</td>\n",
       "      <td>259.466675</td>\n",
       "      <td>260.260010</td>\n",
       "      <td>254.529999</td>\n",
       "      <td>258.406677</td>\n",
       "      <td>258.406677</td>\n",
       "      <td>51094200</td>\n",
       "      <td>TSLA</td>\n",
       "    </tr>\n",
       "    <tr>\n",
       "      <th>2</th>\n",
       "      <td>2021-10-04</td>\n",
       "      <td>265.500000</td>\n",
       "      <td>268.989990</td>\n",
       "      <td>258.706665</td>\n",
       "      <td>260.510010</td>\n",
       "      <td>260.510010</td>\n",
       "      <td>91449900</td>\n",
       "      <td>TSLA</td>\n",
       "    </tr>\n",
       "    <tr>\n",
       "      <th>3</th>\n",
       "      <td>2021-10-05</td>\n",
       "      <td>261.600006</td>\n",
       "      <td>265.769989</td>\n",
       "      <td>258.066681</td>\n",
       "      <td>260.196655</td>\n",
       "      <td>260.196655</td>\n",
       "      <td>55297800</td>\n",
       "      <td>TSLA</td>\n",
       "    </tr>\n",
       "    <tr>\n",
       "      <th>4</th>\n",
       "      <td>2021-10-06</td>\n",
       "      <td>258.733337</td>\n",
       "      <td>262.220001</td>\n",
       "      <td>257.739990</td>\n",
       "      <td>260.916656</td>\n",
       "      <td>260.916656</td>\n",
       "      <td>43898400</td>\n",
       "      <td>TSLA</td>\n",
       "    </tr>\n",
       "    <tr>\n",
       "      <th>...</th>\n",
       "      <td>...</td>\n",
       "      <td>...</td>\n",
       "      <td>...</td>\n",
       "      <td>...</td>\n",
       "      <td>...</td>\n",
       "      <td>...</td>\n",
       "      <td>...</td>\n",
       "      <td>...</td>\n",
       "    </tr>\n",
       "    <tr>\n",
       "      <th>247</th>\n",
       "      <td>2022-09-23</td>\n",
       "      <td>283.089996</td>\n",
       "      <td>284.500000</td>\n",
       "      <td>272.820007</td>\n",
       "      <td>275.329987</td>\n",
       "      <td>275.329987</td>\n",
       "      <td>63748400</td>\n",
       "      <td>TSLA</td>\n",
       "    </tr>\n",
       "    <tr>\n",
       "      <th>248</th>\n",
       "      <td>2022-09-26</td>\n",
       "      <td>271.829987</td>\n",
       "      <td>284.089996</td>\n",
       "      <td>270.309998</td>\n",
       "      <td>276.010010</td>\n",
       "      <td>276.010010</td>\n",
       "      <td>58076900</td>\n",
       "      <td>TSLA</td>\n",
       "    </tr>\n",
       "    <tr>\n",
       "      <th>249</th>\n",
       "      <td>2022-09-27</td>\n",
       "      <td>283.839996</td>\n",
       "      <td>288.670013</td>\n",
       "      <td>277.510010</td>\n",
       "      <td>282.940002</td>\n",
       "      <td>282.940002</td>\n",
       "      <td>61925200</td>\n",
       "      <td>TSLA</td>\n",
       "    </tr>\n",
       "    <tr>\n",
       "      <th>250</th>\n",
       "      <td>2022-09-28</td>\n",
       "      <td>283.079987</td>\n",
       "      <td>289.000000</td>\n",
       "      <td>277.570007</td>\n",
       "      <td>287.809998</td>\n",
       "      <td>287.809998</td>\n",
       "      <td>54664800</td>\n",
       "      <td>TSLA</td>\n",
       "    </tr>\n",
       "    <tr>\n",
       "      <th>251</th>\n",
       "      <td>2022-09-29</td>\n",
       "      <td>282.760010</td>\n",
       "      <td>283.649994</td>\n",
       "      <td>265.779999</td>\n",
       "      <td>268.209991</td>\n",
       "      <td>268.209991</td>\n",
       "      <td>77620600</td>\n",
       "      <td>TSLA</td>\n",
       "    </tr>\n",
       "  </tbody>\n",
       "</table>\n",
       "<p>252 rows × 8 columns</p>\n",
       "</div>"
      ],
      "text/plain": [
       "           Date        Open        High         Low       Close   Adj Close  \\\n",
       "0    2021-09-30  260.333344  263.043335  258.333344  258.493347  258.493347   \n",
       "1    2021-10-01  259.466675  260.260010  254.529999  258.406677  258.406677   \n",
       "2    2021-10-04  265.500000  268.989990  258.706665  260.510010  260.510010   \n",
       "3    2021-10-05  261.600006  265.769989  258.066681  260.196655  260.196655   \n",
       "4    2021-10-06  258.733337  262.220001  257.739990  260.916656  260.916656   \n",
       "..          ...         ...         ...         ...         ...         ...   \n",
       "247  2022-09-23  283.089996  284.500000  272.820007  275.329987  275.329987   \n",
       "248  2022-09-26  271.829987  284.089996  270.309998  276.010010  276.010010   \n",
       "249  2022-09-27  283.839996  288.670013  277.510010  282.940002  282.940002   \n",
       "250  2022-09-28  283.079987  289.000000  277.570007  287.809998  287.809998   \n",
       "251  2022-09-29  282.760010  283.649994  265.779999  268.209991  268.209991   \n",
       "\n",
       "       Volume Stock_Name  \n",
       "0    53868000       TSLA  \n",
       "1    51094200       TSLA  \n",
       "2    91449900       TSLA  \n",
       "3    55297800       TSLA  \n",
       "4    43898400       TSLA  \n",
       "..        ...        ...  \n",
       "247  63748400       TSLA  \n",
       "248  58076900       TSLA  \n",
       "249  61925200       TSLA  \n",
       "250  54664800       TSLA  \n",
       "251  77620600       TSLA  \n",
       "\n",
       "[252 rows x 8 columns]"
      ]
     },
     "execution_count": 6,
     "metadata": {},
     "output_type": "execute_result"
    }
   ],
   "source": [
    "df1"
   ]
  },
  {
   "cell_type": "code",
   "execution_count": 7,
   "id": "73b34e61",
   "metadata": {},
   "outputs": [
    {
     "data": {
      "text/html": [
       "<div>\n",
       "<style scoped>\n",
       "    .dataframe tbody tr th:only-of-type {\n",
       "        vertical-align: middle;\n",
       "    }\n",
       "\n",
       "    .dataframe tbody tr th {\n",
       "        vertical-align: top;\n",
       "    }\n",
       "\n",
       "    .dataframe thead th {\n",
       "        text-align: right;\n",
       "    }\n",
       "</style>\n",
       "<table border=\"1\" class=\"dataframe\">\n",
       "  <thead>\n",
       "    <tr style=\"text-align: right;\">\n",
       "      <th></th>\n",
       "      <th>Date</th>\n",
       "      <th>Close</th>\n",
       "    </tr>\n",
       "  </thead>\n",
       "  <tbody>\n",
       "    <tr>\n",
       "      <th>0</th>\n",
       "      <td>2021-09-30</td>\n",
       "      <td>258.493347</td>\n",
       "    </tr>\n",
       "    <tr>\n",
       "      <th>1</th>\n",
       "      <td>2021-10-01</td>\n",
       "      <td>258.406677</td>\n",
       "    </tr>\n",
       "    <tr>\n",
       "      <th>2</th>\n",
       "      <td>2021-10-04</td>\n",
       "      <td>260.510010</td>\n",
       "    </tr>\n",
       "    <tr>\n",
       "      <th>3</th>\n",
       "      <td>2021-10-05</td>\n",
       "      <td>260.196655</td>\n",
       "    </tr>\n",
       "    <tr>\n",
       "      <th>4</th>\n",
       "      <td>2021-10-06</td>\n",
       "      <td>260.916656</td>\n",
       "    </tr>\n",
       "  </tbody>\n",
       "</table>\n",
       "</div>"
      ],
      "text/plain": [
       "         Date       Close\n",
       "0  2021-09-30  258.493347\n",
       "1  2021-10-01  258.406677\n",
       "2  2021-10-04  260.510010\n",
       "3  2021-10-05  260.196655\n",
       "4  2021-10-06  260.916656"
      ]
     },
     "execution_count": 7,
     "metadata": {},
     "output_type": "execute_result"
    }
   ],
   "source": [
    "df2 = df1.iloc[:,[0,4]]\n",
    "df2.head()"
   ]
  },
  {
   "cell_type": "code",
   "execution_count": 8,
   "id": "e2b470be",
   "metadata": {},
   "outputs": [
    {
     "name": "stderr",
     "output_type": "stream",
     "text": [
      "C:\\Users\\vella\\AppData\\Local\\Temp\\ipykernel_15504\\1509892825.py:2: SettingWithCopyWarning: \n",
      "A value is trying to be set on a copy of a slice from a DataFrame.\n",
      "Try using .loc[row_indexer,col_indexer] = value instead\n",
      "\n",
      "See the caveats in the documentation: https://pandas.pydata.org/pandas-docs/stable/user_guide/indexing.html#returning-a-view-versus-a-copy\n",
      "  df2.Date = pd.to_datetime(df2.Date)\n"
     ]
    }
   ],
   "source": [
    "#Converting dates as datetime format\n",
    "df2.Date = pd.to_datetime(df2.Date)"
   ]
  },
  {
   "cell_type": "code",
   "execution_count": 9,
   "id": "2e805843",
   "metadata": {},
   "outputs": [],
   "source": [
    "#Converting date column as index\n",
    "df3 = df2.set_index(\"Date\")"
   ]
  },
  {
   "cell_type": "code",
   "execution_count": 10,
   "id": "69b5ab0f",
   "metadata": {
    "scrolled": true
   },
   "outputs": [
    {
     "data": {
      "text/html": [
       "<div>\n",
       "<style scoped>\n",
       "    .dataframe tbody tr th:only-of-type {\n",
       "        vertical-align: middle;\n",
       "    }\n",
       "\n",
       "    .dataframe tbody tr th {\n",
       "        vertical-align: top;\n",
       "    }\n",
       "\n",
       "    .dataframe thead th {\n",
       "        text-align: right;\n",
       "    }\n",
       "</style>\n",
       "<table border=\"1\" class=\"dataframe\">\n",
       "  <thead>\n",
       "    <tr style=\"text-align: right;\">\n",
       "      <th></th>\n",
       "      <th>Close</th>\n",
       "    </tr>\n",
       "    <tr>\n",
       "      <th>Date</th>\n",
       "      <th></th>\n",
       "    </tr>\n",
       "  </thead>\n",
       "  <tbody>\n",
       "    <tr>\n",
       "      <th>2021-09-30</th>\n",
       "      <td>258.493347</td>\n",
       "    </tr>\n",
       "    <tr>\n",
       "      <th>2021-10-01</th>\n",
       "      <td>258.406677</td>\n",
       "    </tr>\n",
       "    <tr>\n",
       "      <th>2021-10-04</th>\n",
       "      <td>260.510010</td>\n",
       "    </tr>\n",
       "    <tr>\n",
       "      <th>2021-10-05</th>\n",
       "      <td>260.196655</td>\n",
       "    </tr>\n",
       "    <tr>\n",
       "      <th>2021-10-06</th>\n",
       "      <td>260.916656</td>\n",
       "    </tr>\n",
       "    <tr>\n",
       "      <th>...</th>\n",
       "      <td>...</td>\n",
       "    </tr>\n",
       "    <tr>\n",
       "      <th>2022-09-23</th>\n",
       "      <td>275.329987</td>\n",
       "    </tr>\n",
       "    <tr>\n",
       "      <th>2022-09-26</th>\n",
       "      <td>276.010010</td>\n",
       "    </tr>\n",
       "    <tr>\n",
       "      <th>2022-09-27</th>\n",
       "      <td>282.940002</td>\n",
       "    </tr>\n",
       "    <tr>\n",
       "      <th>2022-09-28</th>\n",
       "      <td>287.809998</td>\n",
       "    </tr>\n",
       "    <tr>\n",
       "      <th>2022-09-29</th>\n",
       "      <td>268.209991</td>\n",
       "    </tr>\n",
       "  </tbody>\n",
       "</table>\n",
       "<p>252 rows × 1 columns</p>\n",
       "</div>"
      ],
      "text/plain": [
       "                 Close\n",
       "Date                  \n",
       "2021-09-30  258.493347\n",
       "2021-10-01  258.406677\n",
       "2021-10-04  260.510010\n",
       "2021-10-05  260.196655\n",
       "2021-10-06  260.916656\n",
       "...                ...\n",
       "2022-09-23  275.329987\n",
       "2022-09-26  276.010010\n",
       "2022-09-27  282.940002\n",
       "2022-09-28  287.809998\n",
       "2022-09-29  268.209991\n",
       "\n",
       "[252 rows x 1 columns]"
      ]
     },
     "execution_count": 10,
     "metadata": {},
     "output_type": "execute_result"
    }
   ],
   "source": [
    "df3"
   ]
  },
  {
   "cell_type": "markdown",
   "id": "f8355941",
   "metadata": {},
   "source": [
    "# Actual Prediction"
   ]
  },
  {
   "cell_type": "code",
   "execution_count": 11,
   "id": "0eaf77db",
   "metadata": {},
   "outputs": [
    {
     "data": {
      "text/plain": [
       "215"
      ]
     },
     "execution_count": 11,
     "metadata": {},
     "output_type": "execute_result"
    }
   ],
   "source": [
    "#Create a dataframe with only the 'Create Column\n",
    "data= df3\n",
    "#convert the dataframe to a numpy array\n",
    "dataset= data.values\n",
    "#get the number of rows to train the model on\n",
    "training_data_len= math.ceil(len(dataset)* 0.85)\n",
    "training_data_len"
   ]
  },
  {
   "cell_type": "code",
   "execution_count": 12,
   "id": "c8ecddf6",
   "metadata": {},
   "outputs": [
    {
     "data": {
      "text/plain": [
       "array([[0.24481932],\n",
       "       [0.24438723],\n",
       "       [0.25487331],\n",
       "       [0.25331109],\n",
       "       [0.25690063],\n",
       "       [0.27494812],\n",
       "       [0.261454  ],\n",
       "       [0.27217286],\n",
       "       [0.29507268],\n",
       "       [0.30397996],\n",
       "       [0.31601167],\n",
       "       [0.35707522],\n",
       "       [0.40207733],\n",
       "       [0.39237221],\n",
       "       [0.39491484],\n",
       "       [0.44177813],\n",
       "       [0.4678354 ],\n",
       "       [0.65924383],\n",
       "       [0.64855829],\n",
       "       [0.68084754],\n",
       "       [0.74595763],\n",
       "       [0.80737852],\n",
       "       [0.96457004],\n",
       "       [0.90376396],\n",
       "       [0.97332776],\n",
       "       [1.        ],\n",
       "       [0.98700461],\n",
       "       [0.88870793],\n",
       "       [0.65698373],\n",
       "       [0.73085169],\n",
       "       [0.72347316],\n",
       "       [0.67346901],\n",
       "       [0.64018276],\n",
       "       [0.70888238],\n",
       "       [0.76584956],\n",
       "       [0.77809716],\n",
       "       [0.84569998],\n",
       "       [0.87862062],\n",
       "       [0.79911922],\n",
       "       [0.81070211],\n",
       "       [0.75406736],\n",
       "       [0.84558374],\n",
       "       [0.85849606],\n",
       "       [0.77580389],\n",
       "       [0.75852093],\n",
       "       [0.64280846],\n",
       "       [0.63290403],\n",
       "       [0.70393024],\n",
       "       [0.73253014],\n",
       "       [0.62424596],\n",
       "       [0.64623186],\n",
       "       [0.56211045],\n",
       "       [0.54898208],\n",
       "       [0.57803066],\n",
       "       [0.4964852 ],\n",
       "       [0.50587448],\n",
       "       [0.45164939],\n",
       "       [0.51577891],\n",
       "       [0.6326714 ],\n",
       "       [0.72927289],\n",
       "       [0.77404237],\n",
       "       [0.76495221],\n",
       "       [0.76116321],\n",
       "       [0.73482341],\n",
       "       [0.71228919],\n",
       "       [0.94992936],\n",
       "       [0.86652258],\n",
       "       [0.76437057],\n",
       "       [0.72545073],\n",
       "       [0.66273372],\n",
       "       [0.71451597],\n",
       "       [0.72495215],\n",
       "       [0.79444946],\n",
       "       [0.67037805],\n",
       "       [0.70037387],\n",
       "       [0.6686331 ],\n",
       "       [0.61070209],\n",
       "       [0.61173241],\n",
       "       [0.52470292],\n",
       "       [0.50160364],\n",
       "       [0.48232652],\n",
       "       [0.51391773],\n",
       "       [0.33392604],\n",
       "       [0.36259243],\n",
       "       [0.51277102],\n",
       "       [0.50368086],\n",
       "       [0.4611549 ],\n",
       "       [0.4370253 ],\n",
       "       [0.49050274],\n",
       "       [0.46394675],\n",
       "       [0.48830913],\n",
       "       [0.50492723],\n",
       "       [0.4593103 ],\n",
       "       [0.38527621],\n",
       "       [0.4114666 ],\n",
       "       [0.4890236 ],\n",
       "       [0.49061898],\n",
       "       [0.41244702],\n",
       "       [0.38025758],\n",
       "       [0.321346  ],\n",
       "       [0.225808  ],\n",
       "       [0.28684671],\n",
       "       [0.30196922],\n",
       "       [0.40260907],\n",
       "       [0.39253835],\n",
       "       [0.41832982],\n",
       "       [0.35085998],\n",
       "       [0.34919811],\n",
       "       [0.29317818],\n",
       "       [0.32611541],\n",
       "       [0.38356458],\n",
       "       [0.3492147 ],\n",
       "       [0.27783962],\n",
       "       [0.22968007],\n",
       "       [0.28870788],\n",
       "       [0.35242205],\n",
       "       [0.40455332],\n",
       "       [0.46070623],\n",
       "       [0.48691321],\n",
       "       [0.60792683],\n",
       "       [0.61645208],\n",
       "       [0.64106352],\n",
       "       [0.63561281],\n",
       "       [0.77055249],\n",
       "       [0.78339847],\n",
       "       [0.77412544],\n",
       "       [0.74688829],\n",
       "       [0.75850434],\n",
       "       [0.85964277],\n",
       "       [0.76958865],\n",
       "       [0.69397591],\n",
       "       [0.71308688],\n",
       "       [0.66029074],\n",
       "       [0.57793101],\n",
       "       [0.59624429],\n",
       "       [0.65510597],\n",
       "       [0.59300377],\n",
       "       [0.62506024],\n",
       "       [0.66471128],\n",
       "       [0.58004155],\n",
       "       [0.63252184],\n",
       "       [0.62632319],\n",
       "       [0.61464065],\n",
       "       [0.41256341],\n",
       "       [0.42102201],\n",
       "       [0.41437468],\n",
       "       [0.4031574 ],\n",
       "       [0.45663485],\n",
       "       [0.46712093],\n",
       "       [0.53919404],\n",
       "       [0.40734517],\n",
       "       [0.39466548],\n",
       "       [0.26414619],\n",
       "       [0.28563351],\n",
       "       [0.17588699],\n",
       "       [0.16591608],\n",
       "       [0.23503113],\n",
       "       [0.15988364],\n",
       "       [0.22176979],\n",
       "       [0.13568755],\n",
       "       [0.13503941],\n",
       "       [0.05939342],\n",
       "       [0.07767339],\n",
       "       [0.        ],\n",
       "       [0.05091816],\n",
       "       [0.13223098],\n",
       "       [0.21847944],\n",
       "       [0.21620268],\n",
       "       [0.18647273],\n",
       "       [0.24402163],\n",
       "       [0.12528454],\n",
       "       [0.1440465 ],\n",
       "       [0.14707105],\n",
       "       [0.16192769],\n",
       "       [0.15115908],\n",
       "       [0.11388445],\n",
       "       [0.03165762],\n",
       "       [0.05734936],\n",
       "       [0.11772328],\n",
       "       [0.01851267],\n",
       "       [0.03675939],\n",
       "       [0.13784792],\n",
       "       [0.13311175],\n",
       "       [0.12804322],\n",
       "       [0.18107184],\n",
       "       [0.17714994],\n",
       "       [0.11604482],\n",
       "       [0.09523888],\n",
       "       [0.0752139 ],\n",
       "       [0.08912338],\n",
       "       [0.11805564],\n",
       "       [0.11140838],\n",
       "       [0.1752721 ],\n",
       "       [0.20628167],\n",
       "       [0.12442044],\n",
       "       [0.1180723 ],\n",
       "       [0.1378645 ],\n",
       "       [0.14421271],\n",
       "       [0.15295385],\n",
       "       [0.15534685],\n",
       "       [0.18019108],\n",
       "       [0.19001244],\n",
       "       [0.31069378],\n",
       "       [0.31336938],\n",
       "       [0.29437465],\n",
       "       [0.24664718],\n",
       "       [0.32621522],\n",
       "       [0.35652674],\n",
       "       [0.43754046],\n",
       "       [0.43817201],\n",
       "       [0.45467386],\n",
       "       [0.48862483],\n",
       "       [0.49479017],\n",
       "       [0.39277113],\n",
       "       [0.404005  ],\n",
       "       [0.36865811],\n",
       "       [0.4236144 ],\n",
       "       [0.38509348],\n",
       "       [0.4518986 ],\n",
       "       [0.49821356],\n",
       "       [0.48447023],\n",
       "       [0.4716743 ],\n",
       "       [0.46605729],\n",
       "       [0.4351308 ],\n",
       "       [0.40146236],\n",
       "       [0.43406731],\n",
       "       [0.43727466],\n",
       "       [0.43215623],\n",
       "       [0.39237221],\n",
       "       [0.37606981],\n",
       "       [0.34057337],\n",
       "       [0.33015362],\n",
       "       [0.33788118],\n",
       "       [0.30323217],\n",
       "       [0.32422107],\n",
       "       [0.37048612],\n",
       "       [0.39820526],\n",
       "       [0.45015366],\n",
       "       [0.47378484],\n",
       "       [0.41251351],\n",
       "       [0.46476102],\n",
       "       [0.47044452],\n",
       "       [0.46845036],\n",
       "       [0.4969672 ],\n",
       "       [0.49527216],\n",
       "       [0.45573735],\n",
       "       [0.39486494],\n",
       "       [0.3287577 ],\n",
       "       [0.33214793],\n",
       "       [0.36669712],\n",
       "       [0.39097629],\n",
       "       [0.29326125]])"
      ]
     },
     "execution_count": 12,
     "metadata": {},
     "output_type": "execute_result"
    }
   ],
   "source": [
    "#Scale the all of the data to be values between 0 and 1 \n",
    "scaler= MinMaxScaler(feature_range=(0,1))\n",
    "scaled_data= scaler.fit_transform(dataset)\n",
    "scaled_data"
   ]
  },
  {
   "cell_type": "code",
   "execution_count": 13,
   "id": "9466f824",
   "metadata": {},
   "outputs": [
    {
     "name": "stdout",
     "output_type": "stream",
     "text": [
      "[array([0.24481932, 0.24438723, 0.25487331, 0.25331109, 0.25690063,\n",
      "       0.27494812, 0.261454  , 0.27217286, 0.29507268, 0.30397996,\n",
      "       0.31601167, 0.35707522, 0.40207733, 0.39237221, 0.39491484,\n",
      "       0.44177813, 0.4678354 , 0.65924383, 0.64855829, 0.68084754,\n",
      "       0.74595763, 0.80737852, 0.96457004, 0.90376396, 0.97332776,\n",
      "       1.        , 0.98700461, 0.88870793, 0.65698373, 0.73085169,\n",
      "       0.72347316, 0.67346901, 0.64018276, 0.70888238, 0.76584956,\n",
      "       0.77809716, 0.84569998, 0.87862062, 0.79911922, 0.81070211,\n",
      "       0.75406736, 0.84558374, 0.85849606, 0.77580389, 0.75852093,\n",
      "       0.64280846, 0.63290403, 0.70393024, 0.73253014, 0.62424596,\n",
      "       0.64623186, 0.56211045, 0.54898208, 0.57803066, 0.4964852 ,\n",
      "       0.50587448, 0.45164939, 0.51577891, 0.6326714 , 0.72927289,\n",
      "       0.77404237, 0.76495221, 0.76116321, 0.73482341, 0.71228919,\n",
      "       0.94992936, 0.86652258])]\n",
      "[0.7643705656163826]\n",
      "\n"
     ]
    }
   ],
   "source": [
    "#Create the scaled training data set \n",
    "train_data = scaled_data[0:training_data_len  , : ]\n",
    "#Split the data into x_train and y_train data sets\n",
    "x_train=[]\n",
    "y_train = []\n",
    "for i in range(67,len(train_data)):\n",
    "    x_train.append(train_data[i-67:i,0])\n",
    "    y_train.append(train_data[i,0])\n",
    "\n",
    "    if i<=67:\n",
    "      print(x_train)\n",
    "      print(y_train)\n",
    "      print()"
   ]
  },
  {
   "cell_type": "code",
   "execution_count": 14,
   "id": "6416e5bd",
   "metadata": {},
   "outputs": [],
   "source": [
    "#Convert x_train and y_train to numpy arrays\n",
    "x_train, y_train = np.array(x_train), np.array(y_train)"
   ]
  },
  {
   "cell_type": "code",
   "execution_count": 15,
   "id": "5ad97660",
   "metadata": {},
   "outputs": [
    {
     "data": {
      "text/plain": [
       "(148, 67, 1)"
      ]
     },
     "execution_count": 15,
     "metadata": {},
     "output_type": "execute_result"
    }
   ],
   "source": [
    "#Reshape the data into the shape accepted by the LSTM\n",
    "x_train = np.reshape(x_train, (x_train.shape[0],x_train.shape[1],1))\n",
    "x_train.shape"
   ]
  },
  {
   "cell_type": "code",
   "execution_count": 16,
   "id": "44f32a2c",
   "metadata": {},
   "outputs": [],
   "source": [
    "#Build the LSTM network model\n",
    "model = Sequential()\n",
    "\n",
    "n_input = 1\n",
    "n_features = 1\n",
    "    \n",
    "model.add(LeakyReLU(alpha = 0.05))\n",
    "model.add(LSTM(50, input_shape=(n_input, n_features)))\n",
    "#model.add(LSTM(units=50, return_sequences=False))\n",
    "model.add(Dense(units=75))\n",
    "model.add(Dense(units=1))\n",
    "model.compile(optimizer='adam', loss='mean_squared_error')\n",
    "\n",
    "#model.add(LSTM(units=50, return_sequences=True,input_shape=(x_train.shape[1],1)))\n",
    "#model.add(LSTM(units=50, return_sequences=False))\n",
    "#model.add(Dense(units=25))\n",
    "#model.add(Dense(units=1))"
   ]
  },
  {
   "cell_type": "code",
   "execution_count": 17,
   "id": "d12fde74",
   "metadata": {},
   "outputs": [],
   "source": [
    "#Compile the model\n",
    "model.compile(optimizer='adam', loss='mean_squared_error')"
   ]
  },
  {
   "cell_type": "code",
   "execution_count": 18,
   "id": "880a304a",
   "metadata": {},
   "outputs": [
    {
     "name": "stdout",
     "output_type": "stream",
     "text": [
      "148/148 [==============================] - 3s 10ms/step - loss: 0.0161\n"
     ]
    },
    {
     "data": {
      "text/plain": [
       "<keras.callbacks.History at 0x245e9403550>"
      ]
     },
     "execution_count": 18,
     "metadata": {},
     "output_type": "execute_result"
    }
   ],
   "source": [
    "#Train the model\n",
    "model.fit(x_train, y_train, batch_size=1, epochs=1)"
   ]
  },
  {
   "cell_type": "code",
   "execution_count": 19,
   "id": "588a20e3",
   "metadata": {},
   "outputs": [],
   "source": [
    "#Test data set\n",
    "test_data = scaled_data[training_data_len - 180: , : ]\n",
    "#Create the x_test and y_test data sets\n",
    "x_test = []\n",
    "y_test =  dataset[training_data_len : , : ] \n",
    "for i in range(180,len(test_data)):\n",
    "    x_test.append(test_data[i-67:i,0])"
   ]
  },
  {
   "cell_type": "code",
   "execution_count": 20,
   "id": "c612c8c3",
   "metadata": {},
   "outputs": [],
   "source": [
    "#Convert x_test to a numpy array \n",
    "x_test = np.array(x_test)"
   ]
  },
  {
   "cell_type": "code",
   "execution_count": 21,
   "id": "9eec57b7",
   "metadata": {},
   "outputs": [],
   "source": [
    "#Reshape the data into the shape accepted by the LSTM\n",
    "x_test = np.reshape(x_test, (x_test.shape[0],x_test.shape[1],1))"
   ]
  },
  {
   "cell_type": "code",
   "execution_count": 22,
   "id": "5ab9a1a1",
   "metadata": {},
   "outputs": [
    {
     "name": "stdout",
     "output_type": "stream",
     "text": [
      "2/2 [==============================] - 1s 7ms/step\n"
     ]
    }
   ],
   "source": [
    "#Getting the models predicted price values\n",
    "predictions = model.predict(x_test) \n",
    "predictions = scaler.inverse_transform(predictions)\n",
    "#Undo scaling"
   ]
  },
  {
   "cell_type": "code",
   "execution_count": 23,
   "id": "e2253f18",
   "metadata": {},
   "outputs": [
    {
     "data": {
      "text/plain": [
       "10.790161195883393"
      ]
     },
     "execution_count": 23,
     "metadata": {},
     "output_type": "execute_result"
    }
   ],
   "source": [
    "#Calculate/Get the value of RMSE\n",
    "rmse=np.sqrt(np.mean(((predictions- y_test)**2)))\n",
    "rmse"
   ]
  },
  {
   "cell_type": "code",
   "execution_count": 24,
   "id": "b0ce5d7c",
   "metadata": {
    "scrolled": false
   },
   "outputs": [
    {
     "name": "stderr",
     "output_type": "stream",
     "text": [
      "C:\\Users\\vella\\AppData\\Local\\Temp\\ipykernel_15504\\3590450730.py:4: SettingWithCopyWarning: \n",
      "A value is trying to be set on a copy of a slice from a DataFrame.\n",
      "Try using .loc[row_indexer,col_indexer] = value instead\n",
      "\n",
      "See the caveats in the documentation: https://pandas.pydata.org/pandas-docs/stable/user_guide/indexing.html#returning-a-view-versus-a-copy\n",
      "  valid['Predictions'] = predictions\n"
     ]
    },
    {
     "data": {
      "image/png": "[encoded data removed]",
      "text/plain": [
       "<Figure size 1000x500 with 1 Axes>"
      ]
     },
     "metadata": {},
     "output_type": "display_data"
    }
   ],
   "source": [
    "#Create the data for the graph\n",
    "train = data[:training_data_len]\n",
    "valid = data[training_data_len:]\n",
    "valid['Predictions'] = predictions\n",
    "#Visualize the data\n",
    "plt.figure(figsize=(10,5))\n",
    "plt.title('Model')\n",
    "plt.xlabel('Date', fontsize=8)\n",
    "plt.ylabel('Close Price USD ($)', fontsize=12)\n",
    "plt.plot(train['Close'])\n",
    "plt.plot(valid[['Close', 'Predictions']])\n",
    "plt.legend(['Train', 'Val', 'Predictions'], loc='lower right')\n",
    "plt.show()"
   ]
  },
  {
   "cell_type": "markdown",
   "id": "c3912c35",
   "metadata": {},
   "source": [
    "# Live Predictions"
   ]
  },
  {
   "cell_type": "code",
   "execution_count": 25,
   "id": "98672a70",
   "metadata": {},
   "outputs": [
    {
     "name": "stdout",
     "output_type": "stream",
     "text": [
      "1/1 [==============================] - 0s 28ms/step\n",
      "            0\n",
      "0  359.103516\n",
      "1/1 [==============================] - 0s 26ms/step\n",
      "            0\n",
      "0  358.563629\n",
      "1/1 [==============================] - 0s 21ms/step\n",
      "           0\n",
      "0  355.85376\n",
      "1/1 [==============================] - 0s 23ms/step\n",
      "            0\n",
      "0  350.493103\n"
     ]
    },
    {
     "name": "stderr",
     "output_type": "stream",
     "text": [
      "C:\\Users\\vella\\AppData\\Local\\Temp\\ipykernel_15504\\3582800836.py:23: FutureWarning: The frame.append method is deprecated and will be removed from pandas in a future version. Use pandas.concat instead.\n",
      "  predicted = predicted.append(df_pred, ignore_index=True)\n",
      "C:\\Users\\vella\\AppData\\Local\\Temp\\ipykernel_15504\\3582800836.py:23: FutureWarning: The frame.append method is deprecated and will be removed from pandas in a future version. Use pandas.concat instead.\n",
      "  predicted = predicted.append(df_pred, ignore_index=True)\n",
      "C:\\Users\\vella\\AppData\\Local\\Temp\\ipykernel_15504\\3582800836.py:23: FutureWarning: The frame.append method is deprecated and will be removed from pandas in a future version. Use pandas.concat instead.\n",
      "  predicted = predicted.append(df_pred, ignore_index=True)\n",
      "C:\\Users\\vella\\AppData\\Local\\Temp\\ipykernel_15504\\3582800836.py:23: FutureWarning: The frame.append method is deprecated and will be removed from pandas in a future version. Use pandas.concat instead.\n",
      "  predicted = predicted.append(df_pred, ignore_index=True)\n"
     ]
    },
    {
     "name": "stdout",
     "output_type": "stream",
     "text": [
      "1/1 [==============================] - 0s 20ms/step\n",
      "            0\n",
      "0  348.075958\n",
      "1/1 [==============================] - 0s 23ms/step\n",
      "            0\n",
      "0  346.537476\n",
      "1/1 [==============================] - 0s 23ms/step\n",
      "            0\n",
      "0  348.322266\n",
      "1/1 [==============================] - 0s 21ms/step\n",
      "            0\n",
      "0  344.409332\n"
     ]
    },
    {
     "name": "stderr",
     "output_type": "stream",
     "text": [
      "C:\\Users\\vella\\AppData\\Local\\Temp\\ipykernel_15504\\3582800836.py:23: FutureWarning: The frame.append method is deprecated and will be removed from pandas in a future version. Use pandas.concat instead.\n",
      "  predicted = predicted.append(df_pred, ignore_index=True)\n",
      "C:\\Users\\vella\\AppData\\Local\\Temp\\ipykernel_15504\\3582800836.py:23: FutureWarning: The frame.append method is deprecated and will be removed from pandas in a future version. Use pandas.concat instead.\n",
      "  predicted = predicted.append(df_pred, ignore_index=True)\n",
      "C:\\Users\\vella\\AppData\\Local\\Temp\\ipykernel_15504\\3582800836.py:23: FutureWarning: The frame.append method is deprecated and will be removed from pandas in a future version. Use pandas.concat instead.\n",
      "  predicted = predicted.append(df_pred, ignore_index=True)\n",
      "C:\\Users\\vella\\AppData\\Local\\Temp\\ipykernel_15504\\3582800836.py:23: FutureWarning: The frame.append method is deprecated and will be removed from pandas in a future version. Use pandas.concat instead.\n",
      "  predicted = predicted.append(df_pred, ignore_index=True)\n"
     ]
    },
    {
     "name": "stdout",
     "output_type": "stream",
     "text": [
      "1/1 [==============================] - 0s 26ms/step\n",
      "            0\n",
      "0  342.330811\n",
      "1/1 [==============================] - 0s 22ms/step\n",
      "           0\n",
      "0  339.32309\n",
      "1/1 [==============================] - 0s 23ms/step\n",
      "            0\n",
      "0  334.350067\n",
      "1/1 [==============================] - 0s 22ms/step\n"
     ]
    },
    {
     "name": "stderr",
     "output_type": "stream",
     "text": [
      "C:\\Users\\vella\\AppData\\Local\\Temp\\ipykernel_15504\\3582800836.py:23: FutureWarning: The frame.append method is deprecated and will be removed from pandas in a future version. Use pandas.concat instead.\n",
      "  predicted = predicted.append(df_pred, ignore_index=True)\n",
      "C:\\Users\\vella\\AppData\\Local\\Temp\\ipykernel_15504\\3582800836.py:23: FutureWarning: The frame.append method is deprecated and will be removed from pandas in a future version. Use pandas.concat instead.\n",
      "  predicted = predicted.append(df_pred, ignore_index=True)\n",
      "C:\\Users\\vella\\AppData\\Local\\Temp\\ipykernel_15504\\3582800836.py:23: FutureWarning: The frame.append method is deprecated and will be removed from pandas in a future version. Use pandas.concat instead.\n",
      "  predicted = predicted.append(df_pred, ignore_index=True)\n",
      "C:\\Users\\vella\\AppData\\Local\\Temp\\ipykernel_15504\\3582800836.py:23: FutureWarning: The frame.append method is deprecated and will be removed from pandas in a future version. Use pandas.concat instead.\n",
      "  predicted = predicted.append(df_pred, ignore_index=True)\n"
     ]
    },
    {
     "name": "stdout",
     "output_type": "stream",
     "text": [
      "            0\n",
      "0  330.364716\n",
      "1/1 [==============================] - 0s 24ms/step\n",
      "            0\n",
      "0  323.465179\n",
      "1/1 [==============================] - 0s 23ms/step\n",
      "            0\n",
      "0  316.914459\n",
      "1/1 [==============================] - 0s 25ms/step\n",
      "            0\n",
      "0  310.978882\n",
      "1/1 [==============================] - ETA: 0s"
     ]
    },
    {
     "name": "stderr",
     "output_type": "stream",
     "text": [
      "C:\\Users\\vella\\AppData\\Local\\Temp\\ipykernel_15504\\3582800836.py:23: FutureWarning: The frame.append method is deprecated and will be removed from pandas in a future version. Use pandas.concat instead.\n",
      "  predicted = predicted.append(df_pred, ignore_index=True)\n",
      "C:\\Users\\vella\\AppData\\Local\\Temp\\ipykernel_15504\\3582800836.py:23: FutureWarning: The frame.append method is deprecated and will be removed from pandas in a future version. Use pandas.concat instead.\n",
      "  predicted = predicted.append(df_pred, ignore_index=True)\n",
      "C:\\Users\\vella\\AppData\\Local\\Temp\\ipykernel_15504\\3582800836.py:23: FutureWarning: The frame.append method is deprecated and will be removed from pandas in a future version. Use pandas.concat instead.\n",
      "  predicted = predicted.append(df_pred, ignore_index=True)\n"
     ]
    },
    {
     "name": "stdout",
     "output_type": "stream",
     "text": [
      "1/1 [==============================] - 0s 21ms/step\n",
      "            0\n",
      "0  307.837402\n",
      "1/1 [==============================] - 0s 21ms/step\n",
      "            0\n",
      "0  297.801117\n",
      "1/1 [==============================] - 0s 19ms/step\n",
      "            0\n",
      "0  291.031647\n",
      "1/1 [==============================] - 0s 21ms/step\n",
      "            0\n",
      "0  292.591217\n"
     ]
    },
    {
     "name": "stderr",
     "output_type": "stream",
     "text": [
      "C:\\Users\\vella\\AppData\\Local\\Temp\\ipykernel_15504\\3582800836.py:23: FutureWarning: The frame.append method is deprecated and will be removed from pandas in a future version. Use pandas.concat instead.\n",
      "  predicted = predicted.append(df_pred, ignore_index=True)\n",
      "C:\\Users\\vella\\AppData\\Local\\Temp\\ipykernel_15504\\3582800836.py:23: FutureWarning: The frame.append method is deprecated and will be removed from pandas in a future version. Use pandas.concat instead.\n",
      "  predicted = predicted.append(df_pred, ignore_index=True)\n",
      "C:\\Users\\vella\\AppData\\Local\\Temp\\ipykernel_15504\\3582800836.py:23: FutureWarning: The frame.append method is deprecated and will be removed from pandas in a future version. Use pandas.concat instead.\n",
      "  predicted = predicted.append(df_pred, ignore_index=True)\n",
      "C:\\Users\\vella\\AppData\\Local\\Temp\\ipykernel_15504\\3582800836.py:23: FutureWarning: The frame.append method is deprecated and will be removed from pandas in a future version. Use pandas.concat instead.\n",
      "  predicted = predicted.append(df_pred, ignore_index=True)\n"
     ]
    },
    {
     "name": "stdout",
     "output_type": "stream",
     "text": [
      "1/1 [==============================] - 0s 24ms/step\n",
      "            0\n",
      "0  294.065186\n",
      "1/1 [==============================] - 0s 22ms/step\n",
      "            0\n",
      "0  293.723785\n",
      "1/1 [==============================] - 0s 19ms/step\n",
      "            0\n",
      "0  292.604828\n",
      "1/1 [==============================] - 0s 20ms/step\n",
      "            0\n",
      "0  294.254242\n"
     ]
    },
    {
     "name": "stderr",
     "output_type": "stream",
     "text": [
      "C:\\Users\\vella\\AppData\\Local\\Temp\\ipykernel_15504\\3582800836.py:23: FutureWarning: The frame.append method is deprecated and will be removed from pandas in a future version. Use pandas.concat instead.\n",
      "  predicted = predicted.append(df_pred, ignore_index=True)\n",
      "C:\\Users\\vella\\AppData\\Local\\Temp\\ipykernel_15504\\3582800836.py:23: FutureWarning: The frame.append method is deprecated and will be removed from pandas in a future version. Use pandas.concat instead.\n",
      "  predicted = predicted.append(df_pred, ignore_index=True)\n",
      "C:\\Users\\vella\\AppData\\Local\\Temp\\ipykernel_15504\\3582800836.py:23: FutureWarning: The frame.append method is deprecated and will be removed from pandas in a future version. Use pandas.concat instead.\n",
      "  predicted = predicted.append(df_pred, ignore_index=True)\n",
      "C:\\Users\\vella\\AppData\\Local\\Temp\\ipykernel_15504\\3582800836.py:23: FutureWarning: The frame.append method is deprecated and will be removed from pandas in a future version. Use pandas.concat instead.\n",
      "  predicted = predicted.append(df_pred, ignore_index=True)\n"
     ]
    },
    {
     "name": "stdout",
     "output_type": "stream",
     "text": [
      "1/1 [==============================] - 0s 28ms/step\n",
      "            0\n",
      "0  294.659546\n",
      "1/1 [==============================] - 0s 22ms/step\n",
      "            0\n",
      "0  296.173126\n",
      "1/1 [==============================] - 0s 20ms/step\n",
      "            0\n",
      "0  298.257782\n",
      "1/1 [==============================] - 0s 24ms/step\n",
      "            0\n",
      "0  297.999084\n"
     ]
    },
    {
     "name": "stderr",
     "output_type": "stream",
     "text": [
      "C:\\Users\\vella\\AppData\\Local\\Temp\\ipykernel_15504\\3582800836.py:23: FutureWarning: The frame.append method is deprecated and will be removed from pandas in a future version. Use pandas.concat instead.\n",
      "  predicted = predicted.append(df_pred, ignore_index=True)\n",
      "C:\\Users\\vella\\AppData\\Local\\Temp\\ipykernel_15504\\3582800836.py:23: FutureWarning: The frame.append method is deprecated and will be removed from pandas in a future version. Use pandas.concat instead.\n",
      "  predicted = predicted.append(df_pred, ignore_index=True)\n",
      "C:\\Users\\vella\\AppData\\Local\\Temp\\ipykernel_15504\\3582800836.py:23: FutureWarning: The frame.append method is deprecated and will be removed from pandas in a future version. Use pandas.concat instead.\n",
      "  predicted = predicted.append(df_pred, ignore_index=True)\n",
      "C:\\Users\\vella\\AppData\\Local\\Temp\\ipykernel_15504\\3582800836.py:23: FutureWarning: The frame.append method is deprecated and will be removed from pandas in a future version. Use pandas.concat instead.\n",
      "  predicted = predicted.append(df_pred, ignore_index=True)\n"
     ]
    },
    {
     "name": "stdout",
     "output_type": "stream",
     "text": [
      "1/1 [==============================] - 0s 22ms/step\n",
      "           0\n",
      "0  294.48941\n",
      "1/1 [==============================] - 0s 22ms/step\n",
      "            0\n",
      "0  292.739227\n",
      "1/1 [==============================] - 0s 23ms/step\n",
      "            0\n",
      "0  294.828552\n",
      "1/1 [==============================] - 0s 24ms/step\n",
      "            0\n",
      "0  296.734192\n"
     ]
    },
    {
     "name": "stderr",
     "output_type": "stream",
     "text": [
      "C:\\Users\\vella\\AppData\\Local\\Temp\\ipykernel_15504\\3582800836.py:23: FutureWarning: The frame.append method is deprecated and will be removed from pandas in a future version. Use pandas.concat instead.\n",
      "  predicted = predicted.append(df_pred, ignore_index=True)\n",
      "C:\\Users\\vella\\AppData\\Local\\Temp\\ipykernel_15504\\3582800836.py:23: FutureWarning: The frame.append method is deprecated and will be removed from pandas in a future version. Use pandas.concat instead.\n",
      "  predicted = predicted.append(df_pred, ignore_index=True)\n",
      "C:\\Users\\vella\\AppData\\Local\\Temp\\ipykernel_15504\\3582800836.py:23: FutureWarning: The frame.append method is deprecated and will be removed from pandas in a future version. Use pandas.concat instead.\n",
      "  predicted = predicted.append(df_pred, ignore_index=True)\n",
      "C:\\Users\\vella\\AppData\\Local\\Temp\\ipykernel_15504\\3582800836.py:23: FutureWarning: The frame.append method is deprecated and will be removed from pandas in a future version. Use pandas.concat instead.\n",
      "  predicted = predicted.append(df_pred, ignore_index=True)\n"
     ]
    },
    {
     "name": "stdout",
     "output_type": "stream",
     "text": [
      "1/1 [==============================] - 0s 22ms/step\n",
      "            0\n",
      "0  294.851654\n",
      "1/1 [==============================] - 0s 21ms/step\n",
      "            0\n",
      "0  291.831451\n",
      "1/1 [==============================] - 0s 21ms/step\n",
      "            0\n",
      "0  286.784027\n",
      "1/1 [==============================] - 0s 21ms/step\n",
      "            0\n",
      "0  278.523773\n"
     ]
    },
    {
     "name": "stderr",
     "output_type": "stream",
     "text": [
      "C:\\Users\\vella\\AppData\\Local\\Temp\\ipykernel_15504\\3582800836.py:23: FutureWarning: The frame.append method is deprecated and will be removed from pandas in a future version. Use pandas.concat instead.\n",
      "  predicted = predicted.append(df_pred, ignore_index=True)\n",
      "C:\\Users\\vella\\AppData\\Local\\Temp\\ipykernel_15504\\3582800836.py:23: FutureWarning: The frame.append method is deprecated and will be removed from pandas in a future version. Use pandas.concat instead.\n",
      "  predicted = predicted.append(df_pred, ignore_index=True)\n",
      "C:\\Users\\vella\\AppData\\Local\\Temp\\ipykernel_15504\\3582800836.py:23: FutureWarning: The frame.append method is deprecated and will be removed from pandas in a future version. Use pandas.concat instead.\n",
      "  predicted = predicted.append(df_pred, ignore_index=True)\n",
      "C:\\Users\\vella\\AppData\\Local\\Temp\\ipykernel_15504\\3582800836.py:23: FutureWarning: The frame.append method is deprecated and will be removed from pandas in a future version. Use pandas.concat instead.\n",
      "  predicted = predicted.append(df_pred, ignore_index=True)\n"
     ]
    },
    {
     "name": "stdout",
     "output_type": "stream",
     "text": [
      "1/1 [==============================] - 0s 22ms/step\n",
      "            0\n",
      "0  274.548462\n",
      "1/1 [==============================] - 0s 20ms/step\n",
      "            0\n",
      "0  272.262421\n",
      "1/1 [==============================] - 0s 20ms/step\n",
      "            0\n",
      "0  275.087067\n",
      "1/1 [==============================] - 0s 20ms/step\n",
      "            0\n",
      "0  277.233917\n"
     ]
    },
    {
     "name": "stderr",
     "output_type": "stream",
     "text": [
      "C:\\Users\\vella\\AppData\\Local\\Temp\\ipykernel_15504\\3582800836.py:23: FutureWarning: The frame.append method is deprecated and will be removed from pandas in a future version. Use pandas.concat instead.\n",
      "  predicted = predicted.append(df_pred, ignore_index=True)\n",
      "C:\\Users\\vella\\AppData\\Local\\Temp\\ipykernel_15504\\3582800836.py:23: FutureWarning: The frame.append method is deprecated and will be removed from pandas in a future version. Use pandas.concat instead.\n",
      "  predicted = predicted.append(df_pred, ignore_index=True)\n",
      "C:\\Users\\vella\\AppData\\Local\\Temp\\ipykernel_15504\\3582800836.py:23: FutureWarning: The frame.append method is deprecated and will be removed from pandas in a future version. Use pandas.concat instead.\n",
      "  predicted = predicted.append(df_pred, ignore_index=True)\n",
      "C:\\Users\\vella\\AppData\\Local\\Temp\\ipykernel_15504\\3582800836.py:23: FutureWarning: The frame.append method is deprecated and will be removed from pandas in a future version. Use pandas.concat instead.\n",
      "  predicted = predicted.append(df_pred, ignore_index=True)\n"
     ]
    },
    {
     "name": "stdout",
     "output_type": "stream",
     "text": [
      "1/1 [==============================] - 0s 21ms/step\n",
      "            0\n",
      "0  280.259583\n",
      "1/1 [==============================] - 0s 23ms/step\n",
      "            0\n",
      "0  279.843994\n",
      "1/1 [==============================] - 0s 24ms/step\n",
      "            0\n",
      "0  279.421051\n",
      "1/1 [==============================] - 0s 23ms/step\n",
      "            0\n",
      "0  276.639893\n"
     ]
    },
    {
     "name": "stderr",
     "output_type": "stream",
     "text": [
      "C:\\Users\\vella\\AppData\\Local\\Temp\\ipykernel_15504\\3582800836.py:23: FutureWarning: The frame.append method is deprecated and will be removed from pandas in a future version. Use pandas.concat instead.\n",
      "  predicted = predicted.append(df_pred, ignore_index=True)\n",
      "C:\\Users\\vella\\AppData\\Local\\Temp\\ipykernel_15504\\3582800836.py:23: FutureWarning: The frame.append method is deprecated and will be removed from pandas in a future version. Use pandas.concat instead.\n",
      "  predicted = predicted.append(df_pred, ignore_index=True)\n",
      "C:\\Users\\vella\\AppData\\Local\\Temp\\ipykernel_15504\\3582800836.py:23: FutureWarning: The frame.append method is deprecated and will be removed from pandas in a future version. Use pandas.concat instead.\n",
      "  predicted = predicted.append(df_pred, ignore_index=True)\n",
      "C:\\Users\\vella\\AppData\\Local\\Temp\\ipykernel_15504\\3582800836.py:23: FutureWarning: The frame.append method is deprecated and will be removed from pandas in a future version. Use pandas.concat instead.\n",
      "  predicted = predicted.append(df_pred, ignore_index=True)\n"
     ]
    },
    {
     "name": "stdout",
     "output_type": "stream",
     "text": [
      "1/1 [==============================] - 0s 21ms/step\n",
      "            0\n",
      "0  275.824432\n",
      "1/1 [==============================] - 0s 21ms/step\n",
      "            0\n",
      "0  277.778107\n",
      "1/1 [==============================] - 0s 23ms/step\n",
      "            0\n",
      "0  277.941742\n",
      "1/1 [==============================] - 0s 21ms/step\n",
      "            0\n",
      "0  274.931671\n"
     ]
    },
    {
     "name": "stderr",
     "output_type": "stream",
     "text": [
      "C:\\Users\\vella\\AppData\\Local\\Temp\\ipykernel_15504\\3582800836.py:23: FutureWarning: The frame.append method is deprecated and will be removed from pandas in a future version. Use pandas.concat instead.\n",
      "  predicted = predicted.append(df_pred, ignore_index=True)\n",
      "C:\\Users\\vella\\AppData\\Local\\Temp\\ipykernel_15504\\3582800836.py:23: FutureWarning: The frame.append method is deprecated and will be removed from pandas in a future version. Use pandas.concat instead.\n",
      "  predicted = predicted.append(df_pred, ignore_index=True)\n",
      "C:\\Users\\vella\\AppData\\Local\\Temp\\ipykernel_15504\\3582800836.py:23: FutureWarning: The frame.append method is deprecated and will be removed from pandas in a future version. Use pandas.concat instead.\n",
      "  predicted = predicted.append(df_pred, ignore_index=True)\n",
      "C:\\Users\\vella\\AppData\\Local\\Temp\\ipykernel_15504\\3582800836.py:23: FutureWarning: The frame.append method is deprecated and will be removed from pandas in a future version. Use pandas.concat instead.\n",
      "  predicted = predicted.append(df_pred, ignore_index=True)\n"
     ]
    },
    {
     "name": "stdout",
     "output_type": "stream",
     "text": [
      "1/1 [==============================] - 0s 19ms/step\n",
      "            0\n",
      "0  270.352081\n",
      "1/1 [==============================] - 0s 20ms/step\n",
      "           0\n",
      "0  269.25528\n",
      "1/1 [==============================] - 0s 20ms/step\n",
      "            0\n",
      "0  271.314606\n",
      "1/1 [==============================] - 0s 20ms/step\n",
      "           0\n",
      "0  275.42926\n"
     ]
    },
    {
     "name": "stderr",
     "output_type": "stream",
     "text": [
      "C:\\Users\\vella\\AppData\\Local\\Temp\\ipykernel_15504\\3582800836.py:23: FutureWarning: The frame.append method is deprecated and will be removed from pandas in a future version. Use pandas.concat instead.\n",
      "  predicted = predicted.append(df_pred, ignore_index=True)\n",
      "C:\\Users\\vella\\AppData\\Local\\Temp\\ipykernel_15504\\3582800836.py:23: FutureWarning: The frame.append method is deprecated and will be removed from pandas in a future version. Use pandas.concat instead.\n",
      "  predicted = predicted.append(df_pred, ignore_index=True)\n",
      "C:\\Users\\vella\\AppData\\Local\\Temp\\ipykernel_15504\\3582800836.py:23: FutureWarning: The frame.append method is deprecated and will be removed from pandas in a future version. Use pandas.concat instead.\n",
      "  predicted = predicted.append(df_pred, ignore_index=True)\n",
      "C:\\Users\\vella\\AppData\\Local\\Temp\\ipykernel_15504\\3582800836.py:23: FutureWarning: The frame.append method is deprecated and will be removed from pandas in a future version. Use pandas.concat instead.\n",
      "  predicted = predicted.append(df_pred, ignore_index=True)\n"
     ]
    },
    {
     "name": "stdout",
     "output_type": "stream",
     "text": [
      "1/1 [==============================] - 0s 23ms/step\n",
      "            0\n",
      "0  281.347046\n",
      "1/1 [==============================] - 0s 22ms/step\n",
      "            0\n",
      "0  287.342041\n",
      "1/1 [==============================] - 0s 22ms/step\n",
      "            0\n",
      "0  297.547668\n",
      "1/1 [==============================] - 0s 23ms/step\n",
      "            0\n",
      "0  306.144745\n"
     ]
    },
    {
     "name": "stderr",
     "output_type": "stream",
     "text": [
      "C:\\Users\\vella\\AppData\\Local\\Temp\\ipykernel_15504\\3582800836.py:23: FutureWarning: The frame.append method is deprecated and will be removed from pandas in a future version. Use pandas.concat instead.\n",
      "  predicted = predicted.append(df_pred, ignore_index=True)\n",
      "C:\\Users\\vella\\AppData\\Local\\Temp\\ipykernel_15504\\3582800836.py:23: FutureWarning: The frame.append method is deprecated and will be removed from pandas in a future version. Use pandas.concat instead.\n",
      "  predicted = predicted.append(df_pred, ignore_index=True)\n",
      "C:\\Users\\vella\\AppData\\Local\\Temp\\ipykernel_15504\\3582800836.py:23: FutureWarning: The frame.append method is deprecated and will be removed from pandas in a future version. Use pandas.concat instead.\n",
      "  predicted = predicted.append(df_pred, ignore_index=True)\n",
      "C:\\Users\\vella\\AppData\\Local\\Temp\\ipykernel_15504\\3582800836.py:23: FutureWarning: The frame.append method is deprecated and will be removed from pandas in a future version. Use pandas.concat instead.\n",
      "  predicted = predicted.append(df_pred, ignore_index=True)\n"
     ]
    },
    {
     "name": "stdout",
     "output_type": "stream",
     "text": [
      "1/1 [==============================] - 0s 20ms/step\n",
      "            0\n",
      "0  313.968231\n",
      "1/1 [==============================] - 0s 20ms/step\n",
      "            0\n",
      "0  319.746368\n",
      "1/1 [==============================] - 0s 21ms/step\n",
      "            0\n",
      "0  330.082733\n",
      "1/1 [==============================] - 0s 22ms/step\n",
      "            0\n",
      "0  338.756683\n"
     ]
    },
    {
     "name": "stderr",
     "output_type": "stream",
     "text": [
      "C:\\Users\\vella\\AppData\\Local\\Temp\\ipykernel_15504\\3582800836.py:23: FutureWarning: The frame.append method is deprecated and will be removed from pandas in a future version. Use pandas.concat instead.\n",
      "  predicted = predicted.append(df_pred, ignore_index=True)\n",
      "C:\\Users\\vella\\AppData\\Local\\Temp\\ipykernel_15504\\3582800836.py:23: FutureWarning: The frame.append method is deprecated and will be removed from pandas in a future version. Use pandas.concat instead.\n",
      "  predicted = predicted.append(df_pred, ignore_index=True)\n",
      "C:\\Users\\vella\\AppData\\Local\\Temp\\ipykernel_15504\\3582800836.py:23: FutureWarning: The frame.append method is deprecated and will be removed from pandas in a future version. Use pandas.concat instead.\n",
      "  predicted = predicted.append(df_pred, ignore_index=True)\n",
      "C:\\Users\\vella\\AppData\\Local\\Temp\\ipykernel_15504\\3582800836.py:23: FutureWarning: The frame.append method is deprecated and will be removed from pandas in a future version. Use pandas.concat instead.\n",
      "  predicted = predicted.append(df_pred, ignore_index=True)\n"
     ]
    },
    {
     "name": "stdout",
     "output_type": "stream",
     "text": [
      "1/1 [==============================] - 0s 20ms/step\n",
      "            0\n",
      "0  344.901337\n",
      "1/1 [==============================] - 0s 20ms/step\n",
      "            0\n",
      "0  348.116455\n",
      "1/1 [==============================] - 0s 21ms/step\n",
      "            0\n",
      "0  350.657593\n",
      "1/1 [==============================] - 0s 20ms/step\n",
      "            0\n",
      "0  356.725433\n"
     ]
    },
    {
     "name": "stderr",
     "output_type": "stream",
     "text": [
      "C:\\Users\\vella\\AppData\\Local\\Temp\\ipykernel_15504\\3582800836.py:23: FutureWarning: The frame.append method is deprecated and will be removed from pandas in a future version. Use pandas.concat instead.\n",
      "  predicted = predicted.append(df_pred, ignore_index=True)\n",
      "C:\\Users\\vella\\AppData\\Local\\Temp\\ipykernel_15504\\3582800836.py:23: FutureWarning: The frame.append method is deprecated and will be removed from pandas in a future version. Use pandas.concat instead.\n",
      "  predicted = predicted.append(df_pred, ignore_index=True)\n",
      "C:\\Users\\vella\\AppData\\Local\\Temp\\ipykernel_15504\\3582800836.py:23: FutureWarning: The frame.append method is deprecated and will be removed from pandas in a future version. Use pandas.concat instead.\n",
      "  predicted = predicted.append(df_pred, ignore_index=True)\n",
      "C:\\Users\\vella\\AppData\\Local\\Temp\\ipykernel_15504\\3582800836.py:23: FutureWarning: The frame.append method is deprecated and will be removed from pandas in a future version. Use pandas.concat instead.\n",
      "  predicted = predicted.append(df_pred, ignore_index=True)\n"
     ]
    },
    {
     "name": "stdout",
     "output_type": "stream",
     "text": [
      "1/1 [==============================] - 0s 21ms/step\n",
      "            0\n",
      "0  357.331543\n",
      "1/1 [==============================] - 0s 23ms/step\n",
      "            0\n",
      "0  353.889801\n",
      "1/1 [==============================] - 0s 22ms/step\n",
      "            0\n",
      "0  351.418152\n",
      "1/1 [==============================] - 0s 20ms/step\n",
      "            0\n",
      "0  346.830292\n"
     ]
    },
    {
     "name": "stderr",
     "output_type": "stream",
     "text": [
      "C:\\Users\\vella\\AppData\\Local\\Temp\\ipykernel_15504\\3582800836.py:23: FutureWarning: The frame.append method is deprecated and will be removed from pandas in a future version. Use pandas.concat instead.\n",
      "  predicted = predicted.append(df_pred, ignore_index=True)\n",
      "C:\\Users\\vella\\AppData\\Local\\Temp\\ipykernel_15504\\3582800836.py:23: FutureWarning: The frame.append method is deprecated and will be removed from pandas in a future version. Use pandas.concat instead.\n",
      "  predicted = predicted.append(df_pred, ignore_index=True)\n",
      "C:\\Users\\vella\\AppData\\Local\\Temp\\ipykernel_15504\\3582800836.py:23: FutureWarning: The frame.append method is deprecated and will be removed from pandas in a future version. Use pandas.concat instead.\n",
      "  predicted = predicted.append(df_pred, ignore_index=True)\n",
      "C:\\Users\\vella\\AppData\\Local\\Temp\\ipykernel_15504\\3582800836.py:23: FutureWarning: The frame.append method is deprecated and will be removed from pandas in a future version. Use pandas.concat instead.\n",
      "  predicted = predicted.append(df_pred, ignore_index=True)\n"
     ]
    },
    {
     "name": "stdout",
     "output_type": "stream",
     "text": [
      "1/1 [==============================] - 0s 20ms/step\n",
      "            0\n",
      "0  339.216461\n",
      "1/1 [==============================] - 0s 21ms/step\n",
      "            0\n",
      "0  333.624451\n",
      "1/1 [==============================] - 0s 23ms/step\n",
      "            0\n",
      "0  331.751129\n",
      "1/1 [==============================] - 0s 23ms/step\n",
      "            0\n",
      "0  327.723663\n"
     ]
    },
    {
     "name": "stderr",
     "output_type": "stream",
     "text": [
      "C:\\Users\\vella\\AppData\\Local\\Temp\\ipykernel_15504\\3582800836.py:23: FutureWarning: The frame.append method is deprecated and will be removed from pandas in a future version. Use pandas.concat instead.\n",
      "  predicted = predicted.append(df_pred, ignore_index=True)\n",
      "C:\\Users\\vella\\AppData\\Local\\Temp\\ipykernel_15504\\3582800836.py:23: FutureWarning: The frame.append method is deprecated and will be removed from pandas in a future version. Use pandas.concat instead.\n",
      "  predicted = predicted.append(df_pred, ignore_index=True)\n",
      "C:\\Users\\vella\\AppData\\Local\\Temp\\ipykernel_15504\\3582800836.py:23: FutureWarning: The frame.append method is deprecated and will be removed from pandas in a future version. Use pandas.concat instead.\n",
      "  predicted = predicted.append(df_pred, ignore_index=True)\n",
      "C:\\Users\\vella\\AppData\\Local\\Temp\\ipykernel_15504\\3582800836.py:23: FutureWarning: The frame.append method is deprecated and will be removed from pandas in a future version. Use pandas.concat instead.\n",
      "  predicted = predicted.append(df_pred, ignore_index=True)\n"
     ]
    },
    {
     "name": "stdout",
     "output_type": "stream",
     "text": [
      "1/1 [==============================] - 0s 23ms/step\n",
      "            0\n",
      "0  325.927551\n",
      "1/1 [==============================] - 0s 23ms/step\n",
      "            0\n",
      "0  326.452118\n",
      "1/1 [==============================] - 0s 21ms/step\n",
      "            0\n",
      "0  323.388123\n",
      "1/1 [==============================] - 0s 22ms/step\n",
      "            0\n",
      "0  323.250671\n"
     ]
    },
    {
     "name": "stderr",
     "output_type": "stream",
     "text": [
      "C:\\Users\\vella\\AppData\\Local\\Temp\\ipykernel_15504\\3582800836.py:23: FutureWarning: The frame.append method is deprecated and will be removed from pandas in a future version. Use pandas.concat instead.\n",
      "  predicted = predicted.append(df_pred, ignore_index=True)\n",
      "C:\\Users\\vella\\AppData\\Local\\Temp\\ipykernel_15504\\3582800836.py:23: FutureWarning: The frame.append method is deprecated and will be removed from pandas in a future version. Use pandas.concat instead.\n",
      "  predicted = predicted.append(df_pred, ignore_index=True)\n",
      "C:\\Users\\vella\\AppData\\Local\\Temp\\ipykernel_15504\\3582800836.py:23: FutureWarning: The frame.append method is deprecated and will be removed from pandas in a future version. Use pandas.concat instead.\n",
      "  predicted = predicted.append(df_pred, ignore_index=True)\n",
      "C:\\Users\\vella\\AppData\\Local\\Temp\\ipykernel_15504\\3582800836.py:23: FutureWarning: The frame.append method is deprecated and will be removed from pandas in a future version. Use pandas.concat instead.\n",
      "  predicted = predicted.append(df_pred, ignore_index=True)\n"
     ]
    },
    {
     "name": "stdout",
     "output_type": "stream",
     "text": [
      "1/1 [==============================] - 0s 23ms/step\n",
      "            0\n",
      "0  323.101318\n",
      "1/1 [==============================] - 0s 22ms/step\n",
      "            0\n",
      "0  322.598724\n",
      "1/1 [==============================] - 0s 24ms/step\n",
      "            0\n",
      "0  313.402496\n",
      "1/1 [==============================] - 0s 19ms/step\n"
     ]
    },
    {
     "name": "stderr",
     "output_type": "stream",
     "text": [
      "C:\\Users\\vella\\AppData\\Local\\Temp\\ipykernel_15504\\3582800836.py:23: FutureWarning: The frame.append method is deprecated and will be removed from pandas in a future version. Use pandas.concat instead.\n",
      "  predicted = predicted.append(df_pred, ignore_index=True)\n",
      "C:\\Users\\vella\\AppData\\Local\\Temp\\ipykernel_15504\\3582800836.py:23: FutureWarning: The frame.append method is deprecated and will be removed from pandas in a future version. Use pandas.concat instead.\n",
      "  predicted = predicted.append(df_pred, ignore_index=True)\n",
      "C:\\Users\\vella\\AppData\\Local\\Temp\\ipykernel_15504\\3582800836.py:23: FutureWarning: The frame.append method is deprecated and will be removed from pandas in a future version. Use pandas.concat instead.\n",
      "  predicted = predicted.append(df_pred, ignore_index=True)\n",
      "C:\\Users\\vella\\AppData\\Local\\Temp\\ipykernel_15504\\3582800836.py:23: FutureWarning: The frame.append method is deprecated and will be removed from pandas in a future version. Use pandas.concat instead.\n",
      "  predicted = predicted.append(df_pred, ignore_index=True)\n"
     ]
    },
    {
     "name": "stdout",
     "output_type": "stream",
     "text": [
      "            0\n",
      "0  306.148163\n",
      "1/1 [==============================] - 0s 20ms/step\n",
      "            0\n",
      "0  300.193634\n",
      "1/1 [==============================] - 0s 23ms/step\n",
      "           0\n",
      "0  295.15033\n",
      "1/1 [==============================] - 0s 21ms/step\n",
      "            0\n",
      "0  293.720642\n",
      "1/1 [==============================] - 0s 21ms/step\n",
      "            0\n",
      "0  293.421906\n"
     ]
    },
    {
     "name": "stderr",
     "output_type": "stream",
     "text": [
      "C:\\Users\\vella\\AppData\\Local\\Temp\\ipykernel_15504\\3582800836.py:23: FutureWarning: The frame.append method is deprecated and will be removed from pandas in a future version. Use pandas.concat instead.\n",
      "  predicted = predicted.append(df_pred, ignore_index=True)\n",
      "C:\\Users\\vella\\AppData\\Local\\Temp\\ipykernel_15504\\3582800836.py:23: FutureWarning: The frame.append method is deprecated and will be removed from pandas in a future version. Use pandas.concat instead.\n",
      "  predicted = predicted.append(df_pred, ignore_index=True)\n",
      "C:\\Users\\vella\\AppData\\Local\\Temp\\ipykernel_15504\\3582800836.py:23: FutureWarning: The frame.append method is deprecated and will be removed from pandas in a future version. Use pandas.concat instead.\n",
      "  predicted = predicted.append(df_pred, ignore_index=True)\n",
      "C:\\Users\\vella\\AppData\\Local\\Temp\\ipykernel_15504\\3582800836.py:23: FutureWarning: The frame.append method is deprecated and will be removed from pandas in a future version. Use pandas.concat instead.\n",
      "  predicted = predicted.append(df_pred, ignore_index=True)\n"
     ]
    },
    {
     "name": "stdout",
     "output_type": "stream",
     "text": [
      "1/1 [==============================] - 0s 21ms/step\n",
      "            0\n",
      "0  296.679962\n",
      "1/1 [==============================] - 0s 25ms/step\n",
      "            0\n",
      "0  293.825592\n",
      "1/1 [==============================] - 0s 23ms/step\n",
      "            0\n",
      "0  290.987793\n",
      "1/1 [==============================] - 0s 22ms/step\n"
     ]
    },
    {
     "name": "stderr",
     "output_type": "stream",
     "text": [
      "C:\\Users\\vella\\AppData\\Local\\Temp\\ipykernel_15504\\3582800836.py:23: FutureWarning: The frame.append method is deprecated and will be removed from pandas in a future version. Use pandas.concat instead.\n",
      "  predicted = predicted.append(df_pred, ignore_index=True)\n",
      "C:\\Users\\vella\\AppData\\Local\\Temp\\ipykernel_15504\\3582800836.py:23: FutureWarning: The frame.append method is deprecated and will be removed from pandas in a future version. Use pandas.concat instead.\n",
      "  predicted = predicted.append(df_pred, ignore_index=True)\n",
      "C:\\Users\\vella\\AppData\\Local\\Temp\\ipykernel_15504\\3582800836.py:23: FutureWarning: The frame.append method is deprecated and will be removed from pandas in a future version. Use pandas.concat instead.\n",
      "  predicted = predicted.append(df_pred, ignore_index=True)\n",
      "C:\\Users\\vella\\AppData\\Local\\Temp\\ipykernel_15504\\3582800836.py:23: FutureWarning: The frame.append method is deprecated and will be removed from pandas in a future version. Use pandas.concat instead.\n",
      "  predicted = predicted.append(df_pred, ignore_index=True)\n"
     ]
    },
    {
     "name": "stdout",
     "output_type": "stream",
     "text": [
      "            0\n",
      "0  283.121399\n",
      "1/1 [==============================] - 0s 23ms/step\n",
      "            0\n",
      "0  277.748413\n",
      "1/1 [==============================] - 0s 23ms/step\n",
      "            0\n",
      "0  268.895935\n",
      "1/1 [==============================] - 0s 20ms/step\n",
      "            0\n",
      "0  261.507874\n",
      "1/1 [==============================] - 0s 25ms/step\n",
      "            0\n",
      "0  258.894501\n"
     ]
    },
    {
     "name": "stderr",
     "output_type": "stream",
     "text": [
      "C:\\Users\\vella\\AppData\\Local\\Temp\\ipykernel_15504\\3582800836.py:23: FutureWarning: The frame.append method is deprecated and will be removed from pandas in a future version. Use pandas.concat instead.\n",
      "  predicted = predicted.append(df_pred, ignore_index=True)\n",
      "C:\\Users\\vella\\AppData\\Local\\Temp\\ipykernel_15504\\3582800836.py:23: FutureWarning: The frame.append method is deprecated and will be removed from pandas in a future version. Use pandas.concat instead.\n",
      "  predicted = predicted.append(df_pred, ignore_index=True)\n",
      "C:\\Users\\vella\\AppData\\Local\\Temp\\ipykernel_15504\\3582800836.py:23: FutureWarning: The frame.append method is deprecated and will be removed from pandas in a future version. Use pandas.concat instead.\n",
      "  predicted = predicted.append(df_pred, ignore_index=True)\n",
      "C:\\Users\\vella\\AppData\\Local\\Temp\\ipykernel_15504\\3582800836.py:23: FutureWarning: The frame.append method is deprecated and will be removed from pandas in a future version. Use pandas.concat instead.\n",
      "  predicted = predicted.append(df_pred, ignore_index=True)\n"
     ]
    },
    {
     "name": "stdout",
     "output_type": "stream",
     "text": [
      "1/1 [==============================] - 0s 24ms/step\n",
      "            0\n",
      "0  253.965332\n",
      "1/1 [==============================] - 0s 20ms/step\n",
      "            0\n",
      "0  252.987717\n",
      "1/1 [==============================] - 0s 20ms/step\n",
      "            0\n",
      "0  248.860703\n",
      "1/1 [==============================] - 0s 20ms/step\n"
     ]
    },
    {
     "name": "stderr",
     "output_type": "stream",
     "text": [
      "C:\\Users\\vella\\AppData\\Local\\Temp\\ipykernel_15504\\3582800836.py:23: FutureWarning: The frame.append method is deprecated and will be removed from pandas in a future version. Use pandas.concat instead.\n",
      "  predicted = predicted.append(df_pred, ignore_index=True)\n",
      "C:\\Users\\vella\\AppData\\Local\\Temp\\ipykernel_15504\\3582800836.py:23: FutureWarning: The frame.append method is deprecated and will be removed from pandas in a future version. Use pandas.concat instead.\n",
      "  predicted = predicted.append(df_pred, ignore_index=True)\n",
      "C:\\Users\\vella\\AppData\\Local\\Temp\\ipykernel_15504\\3582800836.py:23: FutureWarning: The frame.append method is deprecated and will be removed from pandas in a future version. Use pandas.concat instead.\n",
      "  predicted = predicted.append(df_pred, ignore_index=True)\n",
      "C:\\Users\\vella\\AppData\\Local\\Temp\\ipykernel_15504\\3582800836.py:23: FutureWarning: The frame.append method is deprecated and will be removed from pandas in a future version. Use pandas.concat instead.\n",
      "  predicted = predicted.append(df_pred, ignore_index=True)\n"
     ]
    },
    {
     "name": "stdout",
     "output_type": "stream",
     "text": [
      "            0\n",
      "0  245.768936\n",
      "1/1 [==============================] - 0s 25ms/step\n",
      "            0\n",
      "0  240.320435\n",
      "1/1 [==============================] - 0s 21ms/step\n",
      "            0\n",
      "0  236.977783\n",
      "1/1 [==============================] - 0s 21ms/step\n",
      "           0\n",
      "0  231.26944\n",
      "1/1 [==============================] - 0s 20ms/step\n",
      "            0\n",
      "0  229.126984\n"
     ]
    },
    {
     "name": "stderr",
     "output_type": "stream",
     "text": [
      "C:\\Users\\vella\\AppData\\Local\\Temp\\ipykernel_15504\\3582800836.py:23: FutureWarning: The frame.append method is deprecated and will be removed from pandas in a future version. Use pandas.concat instead.\n",
      "  predicted = predicted.append(df_pred, ignore_index=True)\n",
      "C:\\Users\\vella\\AppData\\Local\\Temp\\ipykernel_15504\\3582800836.py:23: FutureWarning: The frame.append method is deprecated and will be removed from pandas in a future version. Use pandas.concat instead.\n",
      "  predicted = predicted.append(df_pred, ignore_index=True)\n",
      "C:\\Users\\vella\\AppData\\Local\\Temp\\ipykernel_15504\\3582800836.py:23: FutureWarning: The frame.append method is deprecated and will be removed from pandas in a future version. Use pandas.concat instead.\n",
      "  predicted = predicted.append(df_pred, ignore_index=True)\n",
      "C:\\Users\\vella\\AppData\\Local\\Temp\\ipykernel_15504\\3582800836.py:23: FutureWarning: The frame.append method is deprecated and will be removed from pandas in a future version. Use pandas.concat instead.\n",
      "  predicted = predicted.append(df_pred, ignore_index=True)\n"
     ]
    },
    {
     "name": "stdout",
     "output_type": "stream",
     "text": [
      "1/1 [==============================] - 0s 21ms/step\n",
      "            0\n",
      "0  231.229294\n",
      "1/1 [==============================] - 0s 20ms/step\n",
      "            0\n",
      "0  236.967606\n",
      "1/1 [==============================] - 0s 20ms/step\n",
      "            0\n",
      "0  241.721497\n",
      "1/1 [==============================] - 0s 21ms/step\n",
      "            0\n",
      "0  244.352707\n"
     ]
    },
    {
     "name": "stderr",
     "output_type": "stream",
     "text": [
      "C:\\Users\\vella\\AppData\\Local\\Temp\\ipykernel_15504\\3582800836.py:23: FutureWarning: The frame.append method is deprecated and will be removed from pandas in a future version. Use pandas.concat instead.\n",
      "  predicted = predicted.append(df_pred, ignore_index=True)\n",
      "C:\\Users\\vella\\AppData\\Local\\Temp\\ipykernel_15504\\3582800836.py:23: FutureWarning: The frame.append method is deprecated and will be removed from pandas in a future version. Use pandas.concat instead.\n",
      "  predicted = predicted.append(df_pred, ignore_index=True)\n",
      "C:\\Users\\vella\\AppData\\Local\\Temp\\ipykernel_15504\\3582800836.py:23: FutureWarning: The frame.append method is deprecated and will be removed from pandas in a future version. Use pandas.concat instead.\n",
      "  predicted = predicted.append(df_pred, ignore_index=True)\n",
      "C:\\Users\\vella\\AppData\\Local\\Temp\\ipykernel_15504\\3582800836.py:23: FutureWarning: The frame.append method is deprecated and will be removed from pandas in a future version. Use pandas.concat instead.\n",
      "  predicted = predicted.append(df_pred, ignore_index=True)\n"
     ]
    },
    {
     "name": "stdout",
     "output_type": "stream",
     "text": [
      "1/1 [==============================] - 0s 23ms/step\n",
      "            0\n",
      "0  249.000107\n",
      "1/1 [==============================] - 0s 20ms/step\n",
      "            0\n",
      "0  247.542496\n",
      "1/1 [==============================] - 0s 21ms/step\n",
      "            0\n",
      "0  247.061584\n",
      "1/1 [==============================] - 0s 19ms/step\n",
      "            0\n",
      "0  246.746429\n",
      "1/1 [==============================] - ETA: 0s"
     ]
    },
    {
     "name": "stderr",
     "output_type": "stream",
     "text": [
      "C:\\Users\\vella\\AppData\\Local\\Temp\\ipykernel_15504\\3582800836.py:23: FutureWarning: The frame.append method is deprecated and will be removed from pandas in a future version. Use pandas.concat instead.\n",
      "  predicted = predicted.append(df_pred, ignore_index=True)\n",
      "C:\\Users\\vella\\AppData\\Local\\Temp\\ipykernel_15504\\3582800836.py:23: FutureWarning: The frame.append method is deprecated and will be removed from pandas in a future version. Use pandas.concat instead.\n",
      "  predicted = predicted.append(df_pred, ignore_index=True)\n",
      "C:\\Users\\vella\\AppData\\Local\\Temp\\ipykernel_15504\\3582800836.py:23: FutureWarning: The frame.append method is deprecated and will be removed from pandas in a future version. Use pandas.concat instead.\n",
      "  predicted = predicted.append(df_pred, ignore_index=True)\n",
      "C:\\Users\\vella\\AppData\\Local\\Temp\\ipykernel_15504\\3582800836.py:23: FutureWarning: The frame.append method is deprecated and will be removed from pandas in a future version. Use pandas.concat instead.\n",
      "  predicted = predicted.append(df_pred, ignore_index=True)\n"
     ]
    },
    {
     "name": "stdout",
     "output_type": "stream",
     "text": [
      "1/1 [==============================] - 0s 20ms/step\n",
      "            0\n",
      "0  247.092194\n",
      "1/1 [==============================] - 0s 25ms/step\n",
      "            0\n",
      "0  246.869797\n",
      "1/1 [==============================] - 0s 20ms/step\n",
      "            0\n",
      "0  245.032288\n",
      "1/1 [==============================] - 0s 22ms/step\n",
      "            0\n",
      "0  239.959061\n"
     ]
    },
    {
     "name": "stderr",
     "output_type": "stream",
     "text": [
      "C:\\Users\\vella\\AppData\\Local\\Temp\\ipykernel_15504\\3582800836.py:23: FutureWarning: The frame.append method is deprecated and will be removed from pandas in a future version. Use pandas.concat instead.\n",
      "  predicted = predicted.append(df_pred, ignore_index=True)\n",
      "C:\\Users\\vella\\AppData\\Local\\Temp\\ipykernel_15504\\3582800836.py:23: FutureWarning: The frame.append method is deprecated and will be removed from pandas in a future version. Use pandas.concat instead.\n",
      "  predicted = predicted.append(df_pred, ignore_index=True)\n",
      "C:\\Users\\vella\\AppData\\Local\\Temp\\ipykernel_15504\\3582800836.py:23: FutureWarning: The frame.append method is deprecated and will be removed from pandas in a future version. Use pandas.concat instead.\n",
      "  predicted = predicted.append(df_pred, ignore_index=True)\n",
      "C:\\Users\\vella\\AppData\\Local\\Temp\\ipykernel_15504\\3582800836.py:23: FutureWarning: The frame.append method is deprecated and will be removed from pandas in a future version. Use pandas.concat instead.\n",
      "  predicted = predicted.append(df_pred, ignore_index=True)\n"
     ]
    },
    {
     "name": "stdout",
     "output_type": "stream",
     "text": [
      "1/1 [==============================] - 0s 23ms/step\n",
      "            0\n",
      "0  236.965515\n",
      "1/1 [==============================] - 0s 20ms/step\n",
      "            0\n",
      "0  237.241455\n",
      "1/1 [==============================] - 0s 20ms/step\n",
      "            0\n",
      "0  233.295242\n",
      "1/1 [==============================] - 0s 20ms/step\n",
      "            0\n",
      "0  230.963852\n"
     ]
    },
    {
     "name": "stderr",
     "output_type": "stream",
     "text": [
      "C:\\Users\\vella\\AppData\\Local\\Temp\\ipykernel_15504\\3582800836.py:23: FutureWarning: The frame.append method is deprecated and will be removed from pandas in a future version. Use pandas.concat instead.\n",
      "  predicted = predicted.append(df_pred, ignore_index=True)\n",
      "C:\\Users\\vella\\AppData\\Local\\Temp\\ipykernel_15504\\3582800836.py:23: FutureWarning: The frame.append method is deprecated and will be removed from pandas in a future version. Use pandas.concat instead.\n",
      "  predicted = predicted.append(df_pred, ignore_index=True)\n",
      "C:\\Users\\vella\\AppData\\Local\\Temp\\ipykernel_15504\\3582800836.py:23: FutureWarning: The frame.append method is deprecated and will be removed from pandas in a future version. Use pandas.concat instead.\n",
      "  predicted = predicted.append(df_pred, ignore_index=True)\n",
      "C:\\Users\\vella\\AppData\\Local\\Temp\\ipykernel_15504\\3582800836.py:23: FutureWarning: The frame.append method is deprecated and will be removed from pandas in a future version. Use pandas.concat instead.\n",
      "  predicted = predicted.append(df_pred, ignore_index=True)\n"
     ]
    },
    {
     "name": "stdout",
     "output_type": "stream",
     "text": [
      "1/1 [==============================] - 0s 23ms/step\n",
      "            0\n",
      "0  233.571365\n",
      "1/1 [==============================] - 0s 21ms/step\n",
      "            0\n",
      "0  235.611771\n",
      "1/1 [==============================] - 0s 20ms/step\n",
      "            0\n",
      "0  237.108322\n",
      "1/1 [==============================] - 0s 21ms/step\n",
      "            0\n",
      "0  240.654907\n"
     ]
    },
    {
     "name": "stderr",
     "output_type": "stream",
     "text": [
      "C:\\Users\\vella\\AppData\\Local\\Temp\\ipykernel_15504\\3582800836.py:23: FutureWarning: The frame.append method is deprecated and will be removed from pandas in a future version. Use pandas.concat instead.\n",
      "  predicted = predicted.append(df_pred, ignore_index=True)\n",
      "C:\\Users\\vella\\AppData\\Local\\Temp\\ipykernel_15504\\3582800836.py:23: FutureWarning: The frame.append method is deprecated and will be removed from pandas in a future version. Use pandas.concat instead.\n",
      "  predicted = predicted.append(df_pred, ignore_index=True)\n",
      "C:\\Users\\vella\\AppData\\Local\\Temp\\ipykernel_15504\\3582800836.py:23: FutureWarning: The frame.append method is deprecated and will be removed from pandas in a future version. Use pandas.concat instead.\n",
      "  predicted = predicted.append(df_pred, ignore_index=True)\n",
      "C:\\Users\\vella\\AppData\\Local\\Temp\\ipykernel_15504\\3582800836.py:23: FutureWarning: The frame.append method is deprecated and will be removed from pandas in a future version. Use pandas.concat instead.\n",
      "  predicted = predicted.append(df_pred, ignore_index=True)\n"
     ]
    },
    {
     "name": "stdout",
     "output_type": "stream",
     "text": [
      "1/1 [==============================] - 0s 22ms/step\n",
      "            0\n",
      "0  243.361038\n",
      "1/1 [==============================] - 0s 20ms/step\n",
      "            0\n",
      "0  242.839737\n",
      "1/1 [==============================] - 0s 21ms/step\n",
      "            0\n",
      "0  241.431671\n",
      "1/1 [==============================] - 0s 19ms/step\n",
      "            0\n",
      "0  239.368744\n",
      "1/1 [==============================] - ETA: 0s"
     ]
    },
    {
     "name": "stderr",
     "output_type": "stream",
     "text": [
      "C:\\Users\\vella\\AppData\\Local\\Temp\\ipykernel_15504\\3582800836.py:23: FutureWarning: The frame.append method is deprecated and will be removed from pandas in a future version. Use pandas.concat instead.\n",
      "  predicted = predicted.append(df_pred, ignore_index=True)\n",
      "C:\\Users\\vella\\AppData\\Local\\Temp\\ipykernel_15504\\3582800836.py:23: FutureWarning: The frame.append method is deprecated and will be removed from pandas in a future version. Use pandas.concat instead.\n",
      "  predicted = predicted.append(df_pred, ignore_index=True)\n",
      "C:\\Users\\vella\\AppData\\Local\\Temp\\ipykernel_15504\\3582800836.py:23: FutureWarning: The frame.append method is deprecated and will be removed from pandas in a future version. Use pandas.concat instead.\n",
      "  predicted = predicted.append(df_pred, ignore_index=True)\n",
      "C:\\Users\\vella\\AppData\\Local\\Temp\\ipykernel_15504\\3582800836.py:23: FutureWarning: The frame.append method is deprecated and will be removed from pandas in a future version. Use pandas.concat instead.\n",
      "  predicted = predicted.append(df_pred, ignore_index=True)\n"
     ]
    },
    {
     "name": "stdout",
     "output_type": "stream",
     "text": [
      "1/1 [==============================] - 0s 19ms/step\n",
      "            0\n",
      "0  238.275314\n",
      "1/1 [==============================] - 0s 20ms/step\n",
      "            0\n",
      "0  238.653473\n",
      "1/1 [==============================] - 0s 22ms/step\n",
      "            0\n",
      "0  238.693054\n",
      "1/1 [==============================] - 0s 23ms/step\n",
      "            0\n",
      "0  241.511581\n"
     ]
    },
    {
     "name": "stderr",
     "output_type": "stream",
     "text": [
      "C:\\Users\\vella\\AppData\\Local\\Temp\\ipykernel_15504\\3582800836.py:23: FutureWarning: The frame.append method is deprecated and will be removed from pandas in a future version. Use pandas.concat instead.\n",
      "  predicted = predicted.append(df_pred, ignore_index=True)\n",
      "C:\\Users\\vella\\AppData\\Local\\Temp\\ipykernel_15504\\3582800836.py:23: FutureWarning: The frame.append method is deprecated and will be removed from pandas in a future version. Use pandas.concat instead.\n",
      "  predicted = predicted.append(df_pred, ignore_index=True)\n",
      "C:\\Users\\vella\\AppData\\Local\\Temp\\ipykernel_15504\\3582800836.py:23: FutureWarning: The frame.append method is deprecated and will be removed from pandas in a future version. Use pandas.concat instead.\n",
      "  predicted = predicted.append(df_pred, ignore_index=True)\n",
      "C:\\Users\\vella\\AppData\\Local\\Temp\\ipykernel_15504\\3582800836.py:23: FutureWarning: The frame.append method is deprecated and will be removed from pandas in a future version. Use pandas.concat instead.\n",
      "  predicted = predicted.append(df_pred, ignore_index=True)\n"
     ]
    },
    {
     "name": "stdout",
     "output_type": "stream",
     "text": [
      "1/1 [==============================] - 0s 23ms/step\n",
      "            0\n",
      "0  245.162689\n",
      "1/1 [==============================] - 0s 21ms/step\n",
      "            0\n",
      "0  244.517212\n",
      "1/1 [==============================] - 0s 22ms/step\n",
      "           0\n",
      "0  243.63295\n",
      "1/1 [==============================] - 0s 21ms/step\n",
      "            0\n",
      "0  243.726929\n"
     ]
    },
    {
     "name": "stderr",
     "output_type": "stream",
     "text": [
      "C:\\Users\\vella\\AppData\\Local\\Temp\\ipykernel_15504\\3582800836.py:23: FutureWarning: The frame.append method is deprecated and will be removed from pandas in a future version. Use pandas.concat instead.\n",
      "  predicted = predicted.append(df_pred, ignore_index=True)\n",
      "C:\\Users\\vella\\AppData\\Local\\Temp\\ipykernel_15504\\3582800836.py:23: FutureWarning: The frame.append method is deprecated and will be removed from pandas in a future version. Use pandas.concat instead.\n",
      "  predicted = predicted.append(df_pred, ignore_index=True)\n",
      "C:\\Users\\vella\\AppData\\Local\\Temp\\ipykernel_15504\\3582800836.py:23: FutureWarning: The frame.append method is deprecated and will be removed from pandas in a future version. Use pandas.concat instead.\n",
      "  predicted = predicted.append(df_pred, ignore_index=True)\n",
      "C:\\Users\\vella\\AppData\\Local\\Temp\\ipykernel_15504\\3582800836.py:23: FutureWarning: The frame.append method is deprecated and will be removed from pandas in a future version. Use pandas.concat instead.\n",
      "  predicted = predicted.append(df_pred, ignore_index=True)\n"
     ]
    },
    {
     "name": "stdout",
     "output_type": "stream",
     "text": [
      "1/1 [==============================] - 0s 22ms/step\n",
      "            0\n",
      "0  244.051285\n",
      "1/1 [==============================] - 0s 21ms/step\n",
      "           0\n",
      "0  244.66777\n",
      "1/1 [==============================] - 0s 20ms/step\n",
      "            0\n",
      "0  245.245361\n",
      "1/1 [==============================] - 0s 22ms/step\n",
      "          0\n",
      "0  246.7668\n"
     ]
    },
    {
     "name": "stderr",
     "output_type": "stream",
     "text": [
      "C:\\Users\\vella\\AppData\\Local\\Temp\\ipykernel_15504\\3582800836.py:23: FutureWarning: The frame.append method is deprecated and will be removed from pandas in a future version. Use pandas.concat instead.\n",
      "  predicted = predicted.append(df_pred, ignore_index=True)\n",
      "C:\\Users\\vella\\AppData\\Local\\Temp\\ipykernel_15504\\3582800836.py:23: FutureWarning: The frame.append method is deprecated and will be removed from pandas in a future version. Use pandas.concat instead.\n",
      "  predicted = predicted.append(df_pred, ignore_index=True)\n",
      "C:\\Users\\vella\\AppData\\Local\\Temp\\ipykernel_15504\\3582800836.py:23: FutureWarning: The frame.append method is deprecated and will be removed from pandas in a future version. Use pandas.concat instead.\n",
      "  predicted = predicted.append(df_pred, ignore_index=True)\n",
      "C:\\Users\\vella\\AppData\\Local\\Temp\\ipykernel_15504\\3582800836.py:23: FutureWarning: The frame.append method is deprecated and will be removed from pandas in a future version. Use pandas.concat instead.\n",
      "  predicted = predicted.append(df_pred, ignore_index=True)\n"
     ]
    },
    {
     "name": "stdout",
     "output_type": "stream",
     "text": [
      "1/1 [==============================] - 0s 24ms/step\n",
      "            0\n",
      "0  248.399231\n",
      "1/1 [==============================] - 0s 21ms/step\n",
      "           0\n",
      "0  254.97551\n",
      "1/1 [==============================] - 0s 21ms/step\n",
      "            0\n",
      "0  260.389679\n",
      "1/1 [==============================] - 0s 22ms/step\n",
      "            0\n",
      "0  263.801666\n"
     ]
    },
    {
     "name": "stderr",
     "output_type": "stream",
     "text": [
      "C:\\Users\\vella\\AppData\\Local\\Temp\\ipykernel_15504\\3582800836.py:23: FutureWarning: The frame.append method is deprecated and will be removed from pandas in a future version. Use pandas.concat instead.\n",
      "  predicted = predicted.append(df_pred, ignore_index=True)\n",
      "C:\\Users\\vella\\AppData\\Local\\Temp\\ipykernel_15504\\3582800836.py:23: FutureWarning: The frame.append method is deprecated and will be removed from pandas in a future version. Use pandas.concat instead.\n",
      "  predicted = predicted.append(df_pred, ignore_index=True)\n",
      "C:\\Users\\vella\\AppData\\Local\\Temp\\ipykernel_15504\\3582800836.py:23: FutureWarning: The frame.append method is deprecated and will be removed from pandas in a future version. Use pandas.concat instead.\n",
      "  predicted = predicted.append(df_pred, ignore_index=True)\n",
      "C:\\Users\\vella\\AppData\\Local\\Temp\\ipykernel_15504\\3582800836.py:23: FutureWarning: The frame.append method is deprecated and will be removed from pandas in a future version. Use pandas.concat instead.\n",
      "  predicted = predicted.append(df_pred, ignore_index=True)\n"
     ]
    },
    {
     "name": "stdout",
     "output_type": "stream",
     "text": [
      "1/1 [==============================] - 0s 24ms/step\n",
      "           0\n",
      "0  264.26889\n",
      "1/1 [==============================] - 0s 21ms/step\n",
      "            0\n",
      "0  267.939636\n",
      "1/1 [==============================] - 0s 21ms/step\n",
      "            0\n",
      "0  272.111084\n",
      "1/1 [==============================] - 0s 21ms/step\n",
      "            0\n",
      "0  278.912659\n"
     ]
    },
    {
     "name": "stderr",
     "output_type": "stream",
     "text": [
      "C:\\Users\\vella\\AppData\\Local\\Temp\\ipykernel_15504\\3582800836.py:23: FutureWarning: The frame.append method is deprecated and will be removed from pandas in a future version. Use pandas.concat instead.\n",
      "  predicted = predicted.append(df_pred, ignore_index=True)\n",
      "C:\\Users\\vella\\AppData\\Local\\Temp\\ipykernel_15504\\3582800836.py:23: FutureWarning: The frame.append method is deprecated and will be removed from pandas in a future version. Use pandas.concat instead.\n",
      "  predicted = predicted.append(df_pred, ignore_index=True)\n",
      "C:\\Users\\vella\\AppData\\Local\\Temp\\ipykernel_15504\\3582800836.py:23: FutureWarning: The frame.append method is deprecated and will be removed from pandas in a future version. Use pandas.concat instead.\n",
      "  predicted = predicted.append(df_pred, ignore_index=True)\n",
      "C:\\Users\\vella\\AppData\\Local\\Temp\\ipykernel_15504\\3582800836.py:23: FutureWarning: The frame.append method is deprecated and will be removed from pandas in a future version. Use pandas.concat instead.\n",
      "  predicted = predicted.append(df_pred, ignore_index=True)\n"
     ]
    },
    {
     "name": "stdout",
     "output_type": "stream",
     "text": [
      "1/1 [==============================] - 0s 20ms/step\n",
      "            0\n",
      "0  284.279694\n",
      "1/1 [==============================] - 0s 20ms/step\n",
      "            0\n",
      "0  289.100677\n",
      "1/1 [==============================] - 0s 21ms/step\n",
      "            0\n",
      "0  294.238831\n",
      "1/1 [==============================] - 0s 24ms/step\n",
      "            0\n",
      "0  298.390259\n"
     ]
    },
    {
     "name": "stderr",
     "output_type": "stream",
     "text": [
      "C:\\Users\\vella\\AppData\\Local\\Temp\\ipykernel_15504\\3582800836.py:23: FutureWarning: The frame.append method is deprecated and will be removed from pandas in a future version. Use pandas.concat instead.\n",
      "  predicted = predicted.append(df_pred, ignore_index=True)\n",
      "C:\\Users\\vella\\AppData\\Local\\Temp\\ipykernel_15504\\3582800836.py:23: FutureWarning: The frame.append method is deprecated and will be removed from pandas in a future version. Use pandas.concat instead.\n",
      "  predicted = predicted.append(df_pred, ignore_index=True)\n",
      "C:\\Users\\vella\\AppData\\Local\\Temp\\ipykernel_15504\\3582800836.py:23: FutureWarning: The frame.append method is deprecated and will be removed from pandas in a future version. Use pandas.concat instead.\n",
      "  predicted = predicted.append(df_pred, ignore_index=True)\n",
      "C:\\Users\\vella\\AppData\\Local\\Temp\\ipykernel_15504\\3582800836.py:23: FutureWarning: The frame.append method is deprecated and will be removed from pandas in a future version. Use pandas.concat instead.\n",
      "  predicted = predicted.append(df_pred, ignore_index=True)\n"
     ]
    },
    {
     "name": "stdout",
     "output_type": "stream",
     "text": [
      "1/1 [==============================] - 0s 21ms/step\n",
      "            0\n",
      "0  296.888855\n",
      "1/1 [==============================] - 0s 22ms/step\n",
      "            0\n",
      "0  295.757935\n",
      "1/1 [==============================] - 0s 22ms/step\n",
      "           0\n",
      "0  293.02417\n",
      "1/1 [==============================] - 0s 25ms/step\n",
      "            0\n",
      "0  293.016785\n"
     ]
    },
    {
     "name": "stderr",
     "output_type": "stream",
     "text": [
      "C:\\Users\\vella\\AppData\\Local\\Temp\\ipykernel_15504\\3582800836.py:23: FutureWarning: The frame.append method is deprecated and will be removed from pandas in a future version. Use pandas.concat instead.\n",
      "  predicted = predicted.append(df_pred, ignore_index=True)\n",
      "C:\\Users\\vella\\AppData\\Local\\Temp\\ipykernel_15504\\3582800836.py:23: FutureWarning: The frame.append method is deprecated and will be removed from pandas in a future version. Use pandas.concat instead.\n",
      "  predicted = predicted.append(df_pred, ignore_index=True)\n",
      "C:\\Users\\vella\\AppData\\Local\\Temp\\ipykernel_15504\\3582800836.py:23: FutureWarning: The frame.append method is deprecated and will be removed from pandas in a future version. Use pandas.concat instead.\n",
      "  predicted = predicted.append(df_pred, ignore_index=True)\n",
      "C:\\Users\\vella\\AppData\\Local\\Temp\\ipykernel_15504\\3582800836.py:23: FutureWarning: The frame.append method is deprecated and will be removed from pandas in a future version. Use pandas.concat instead.\n",
      "  predicted = predicted.append(df_pred, ignore_index=True)\n"
     ]
    },
    {
     "name": "stdout",
     "output_type": "stream",
     "text": [
      "1/1 [==============================] - 0s 23ms/step\n",
      "            0\n",
      "0  291.231659\n",
      "1/1 [==============================] - 0s 22ms/step\n",
      "            0\n",
      "0  292.619141\n",
      "1/1 [==============================] - 0s 22ms/step\n",
      "            0\n",
      "0  295.808868\n",
      "1/1 [==============================] - 0s 21ms/step\n",
      "           0\n",
      "0  297.77243\n"
     ]
    },
    {
     "name": "stderr",
     "output_type": "stream",
     "text": [
      "C:\\Users\\vella\\AppData\\Local\\Temp\\ipykernel_15504\\3582800836.py:23: FutureWarning: The frame.append method is deprecated and will be removed from pandas in a future version. Use pandas.concat instead.\n",
      "  predicted = predicted.append(df_pred, ignore_index=True)\n",
      "C:\\Users\\vella\\AppData\\Local\\Temp\\ipykernel_15504\\3582800836.py:23: FutureWarning: The frame.append method is deprecated and will be removed from pandas in a future version. Use pandas.concat instead.\n",
      "  predicted = predicted.append(df_pred, ignore_index=True)\n",
      "C:\\Users\\vella\\AppData\\Local\\Temp\\ipykernel_15504\\3582800836.py:23: FutureWarning: The frame.append method is deprecated and will be removed from pandas in a future version. Use pandas.concat instead.\n",
      "  predicted = predicted.append(df_pred, ignore_index=True)\n",
      "C:\\Users\\vella\\AppData\\Local\\Temp\\ipykernel_15504\\3582800836.py:23: FutureWarning: The frame.append method is deprecated and will be removed from pandas in a future version. Use pandas.concat instead.\n",
      "  predicted = predicted.append(df_pred, ignore_index=True)\n"
     ]
    },
    {
     "name": "stdout",
     "output_type": "stream",
     "text": [
      "1/1 [==============================] - 0s 23ms/step\n",
      "           0\n",
      "0  298.70166\n",
      "1/1 [==============================] - 0s 23ms/step\n",
      "            0\n",
      "0  299.097931\n",
      "1/1 [==============================] - 0s 21ms/step\n",
      "            0\n",
      "0  297.949615\n",
      "1/1 [==============================] - 0s 20ms/step\n"
     ]
    },
    {
     "name": "stderr",
     "output_type": "stream",
     "text": [
      "C:\\Users\\vella\\AppData\\Local\\Temp\\ipykernel_15504\\3582800836.py:23: FutureWarning: The frame.append method is deprecated and will be removed from pandas in a future version. Use pandas.concat instead.\n",
      "  predicted = predicted.append(df_pred, ignore_index=True)\n",
      "C:\\Users\\vella\\AppData\\Local\\Temp\\ipykernel_15504\\3582800836.py:23: FutureWarning: The frame.append method is deprecated and will be removed from pandas in a future version. Use pandas.concat instead.\n",
      "  predicted = predicted.append(df_pred, ignore_index=True)\n",
      "C:\\Users\\vella\\AppData\\Local\\Temp\\ipykernel_15504\\3582800836.py:23: FutureWarning: The frame.append method is deprecated and will be removed from pandas in a future version. Use pandas.concat instead.\n",
      "  predicted = predicted.append(df_pred, ignore_index=True)\n",
      "C:\\Users\\vella\\AppData\\Local\\Temp\\ipykernel_15504\\3582800836.py:23: FutureWarning: The frame.append method is deprecated and will be removed from pandas in a future version. Use pandas.concat instead.\n",
      "  predicted = predicted.append(df_pred, ignore_index=True)\n"
     ]
    },
    {
     "name": "stdout",
     "output_type": "stream",
     "text": [
      "            0\n",
      "0  295.418121\n",
      "1/1 [==============================] - 0s 20ms/step\n",
      "            0\n",
      "0  294.722961\n",
      "1/1 [==============================] - 0s 23ms/step\n",
      "            0\n",
      "0  294.322754\n",
      "1/1 [==============================] - 0s 20ms/step\n",
      "            0\n",
      "0  293.781647\n",
      "1/1 [==============================] - 0s 21ms/step\n",
      "            0\n",
      "0  291.594055\n"
     ]
    },
    {
     "name": "stderr",
     "output_type": "stream",
     "text": [
      "C:\\Users\\vella\\AppData\\Local\\Temp\\ipykernel_15504\\3582800836.py:23: FutureWarning: The frame.append method is deprecated and will be removed from pandas in a future version. Use pandas.concat instead.\n",
      "  predicted = predicted.append(df_pred, ignore_index=True)\n",
      "C:\\Users\\vella\\AppData\\Local\\Temp\\ipykernel_15504\\3582800836.py:23: FutureWarning: The frame.append method is deprecated and will be removed from pandas in a future version. Use pandas.concat instead.\n",
      "  predicted = predicted.append(df_pred, ignore_index=True)\n",
      "C:\\Users\\vella\\AppData\\Local\\Temp\\ipykernel_15504\\3582800836.py:23: FutureWarning: The frame.append method is deprecated and will be removed from pandas in a future version. Use pandas.concat instead.\n",
      "  predicted = predicted.append(df_pred, ignore_index=True)\n",
      "C:\\Users\\vella\\AppData\\Local\\Temp\\ipykernel_15504\\3582800836.py:23: FutureWarning: The frame.append method is deprecated and will be removed from pandas in a future version. Use pandas.concat instead.\n",
      "  predicted = predicted.append(df_pred, ignore_index=True)\n"
     ]
    },
    {
     "name": "stdout",
     "output_type": "stream",
     "text": [
      "1/1 [==============================] - 0s 20ms/step\n",
      "            0\n",
      "0  289.086792\n",
      "1/1 [==============================] - 0s 21ms/step\n",
      "            0\n",
      "0  285.526001\n",
      "1/1 [==============================] - 0s 21ms/step\n",
      "            0\n",
      "0  282.229706\n",
      "1/1 [==============================] - 0s 21ms/step\n",
      "            0\n",
      "0  280.005402\n"
     ]
    },
    {
     "name": "stderr",
     "output_type": "stream",
     "text": [
      "C:\\Users\\vella\\AppData\\Local\\Temp\\ipykernel_15504\\3582800836.py:23: FutureWarning: The frame.append method is deprecated and will be removed from pandas in a future version. Use pandas.concat instead.\n",
      "  predicted = predicted.append(df_pred, ignore_index=True)\n",
      "C:\\Users\\vella\\AppData\\Local\\Temp\\ipykernel_15504\\3582800836.py:23: FutureWarning: The frame.append method is deprecated and will be removed from pandas in a future version. Use pandas.concat instead.\n",
      "  predicted = predicted.append(df_pred, ignore_index=True)\n",
      "C:\\Users\\vella\\AppData\\Local\\Temp\\ipykernel_15504\\3582800836.py:23: FutureWarning: The frame.append method is deprecated and will be removed from pandas in a future version. Use pandas.concat instead.\n",
      "  predicted = predicted.append(df_pred, ignore_index=True)\n",
      "C:\\Users\\vella\\AppData\\Local\\Temp\\ipykernel_15504\\3582800836.py:23: FutureWarning: The frame.append method is deprecated and will be removed from pandas in a future version. Use pandas.concat instead.\n",
      "  predicted = predicted.append(df_pred, ignore_index=True)\n"
     ]
    },
    {
     "name": "stdout",
     "output_type": "stream",
     "text": [
      "1/1 [==============================] - 0s 20ms/step\n",
      "            0\n",
      "0  276.831238\n",
      "1/1 [==============================] - 0s 21ms/step\n",
      "            0\n",
      "0  275.306244\n",
      "1/1 [==============================] - 0s 22ms/step\n",
      "            0\n",
      "0  276.291565\n",
      "1/1 [==============================] - 0s 20ms/step\n",
      "            0\n",
      "0  278.507263\n"
     ]
    },
    {
     "name": "stderr",
     "output_type": "stream",
     "text": [
      "C:\\Users\\vella\\AppData\\Local\\Temp\\ipykernel_15504\\3582800836.py:23: FutureWarning: The frame.append method is deprecated and will be removed from pandas in a future version. Use pandas.concat instead.\n",
      "  predicted = predicted.append(df_pred, ignore_index=True)\n",
      "C:\\Users\\vella\\AppData\\Local\\Temp\\ipykernel_15504\\3582800836.py:23: FutureWarning: The frame.append method is deprecated and will be removed from pandas in a future version. Use pandas.concat instead.\n",
      "  predicted = predicted.append(df_pred, ignore_index=True)\n",
      "C:\\Users\\vella\\AppData\\Local\\Temp\\ipykernel_15504\\3582800836.py:23: FutureWarning: The frame.append method is deprecated and will be removed from pandas in a future version. Use pandas.concat instead.\n",
      "  predicted = predicted.append(df_pred, ignore_index=True)\n",
      "C:\\Users\\vella\\AppData\\Local\\Temp\\ipykernel_15504\\3582800836.py:23: FutureWarning: The frame.append method is deprecated and will be removed from pandas in a future version. Use pandas.concat instead.\n",
      "  predicted = predicted.append(df_pred, ignore_index=True)\n"
     ]
    },
    {
     "name": "stdout",
     "output_type": "stream",
     "text": [
      "1/1 [==============================] - 0s 19ms/step\n",
      "            0\n",
      "0  282.742035\n",
      "1/1 [==============================] - 0s 19ms/step\n",
      "            0\n",
      "0  287.329559\n",
      "1/1 [==============================] - 0s 21ms/step\n",
      "            0\n",
      "0  288.344116\n",
      "1/1 [==============================] - 0s 20ms/step\n",
      "            0\n",
      "0  291.369873\n"
     ]
    },
    {
     "name": "stderr",
     "output_type": "stream",
     "text": [
      "C:\\Users\\vella\\AppData\\Local\\Temp\\ipykernel_15504\\3582800836.py:23: FutureWarning: The frame.append method is deprecated and will be removed from pandas in a future version. Use pandas.concat instead.\n",
      "  predicted = predicted.append(df_pred, ignore_index=True)\n",
      "C:\\Users\\vella\\AppData\\Local\\Temp\\ipykernel_15504\\3582800836.py:23: FutureWarning: The frame.append method is deprecated and will be removed from pandas in a future version. Use pandas.concat instead.\n",
      "  predicted = predicted.append(df_pred, ignore_index=True)\n",
      "C:\\Users\\vella\\AppData\\Local\\Temp\\ipykernel_15504\\3582800836.py:23: FutureWarning: The frame.append method is deprecated and will be removed from pandas in a future version. Use pandas.concat instead.\n",
      "  predicted = predicted.append(df_pred, ignore_index=True)\n",
      "C:\\Users\\vella\\AppData\\Local\\Temp\\ipykernel_15504\\3582800836.py:23: FutureWarning: The frame.append method is deprecated and will be removed from pandas in a future version. Use pandas.concat instead.\n",
      "  predicted = predicted.append(df_pred, ignore_index=True)\n"
     ]
    },
    {
     "name": "stdout",
     "output_type": "stream",
     "text": [
      "1/1 [==============================] - 0s 22ms/step\n",
      "            0\n",
      "0  294.037323\n",
      "1/1 [==============================] - 0s 21ms/step\n",
      "            0\n",
      "0  296.008209\n",
      "1/1 [==============================] - 0s 25ms/step\n",
      "           0\n",
      "0  298.74292\n",
      "1/1 [==============================] - 0s 22ms/step\n",
      "            0\n",
      "0  300.772034\n"
     ]
    },
    {
     "name": "stderr",
     "output_type": "stream",
     "text": [
      "C:\\Users\\vella\\AppData\\Local\\Temp\\ipykernel_15504\\3582800836.py:23: FutureWarning: The frame.append method is deprecated and will be removed from pandas in a future version. Use pandas.concat instead.\n",
      "  predicted = predicted.append(df_pred, ignore_index=True)\n",
      "C:\\Users\\vella\\AppData\\Local\\Temp\\ipykernel_15504\\3582800836.py:23: FutureWarning: The frame.append method is deprecated and will be removed from pandas in a future version. Use pandas.concat instead.\n",
      "  predicted = predicted.append(df_pred, ignore_index=True)\n",
      "C:\\Users\\vella\\AppData\\Local\\Temp\\ipykernel_15504\\3582800836.py:23: FutureWarning: The frame.append method is deprecated and will be removed from pandas in a future version. Use pandas.concat instead.\n",
      "  predicted = predicted.append(df_pred, ignore_index=True)\n",
      "C:\\Users\\vella\\AppData\\Local\\Temp\\ipykernel_15504\\3582800836.py:23: FutureWarning: The frame.append method is deprecated and will be removed from pandas in a future version. Use pandas.concat instead.\n",
      "  predicted = predicted.append(df_pred, ignore_index=True)\n"
     ]
    },
    {
     "name": "stdout",
     "output_type": "stream",
     "text": [
      "1/1 [==============================] - 0s 25ms/step\n",
      "            0\n",
      "0  300.507721\n",
      "1/1 [==============================] - 0s 23ms/step\n",
      "            0\n",
      "0  297.406433\n",
      "1/1 [==============================] - 0s 24ms/step\n",
      "            0\n",
      "0  291.795441\n",
      "1/1 [==============================] - 0s 23ms/step\n",
      "            0\n",
      "0  287.277954\n"
     ]
    },
    {
     "name": "stderr",
     "output_type": "stream",
     "text": [
      "C:\\Users\\vella\\AppData\\Local\\Temp\\ipykernel_15504\\3582800836.py:23: FutureWarning: The frame.append method is deprecated and will be removed from pandas in a future version. Use pandas.concat instead.\n",
      "  predicted = predicted.append(df_pred, ignore_index=True)\n",
      "C:\\Users\\vella\\AppData\\Local\\Temp\\ipykernel_15504\\3582800836.py:23: FutureWarning: The frame.append method is deprecated and will be removed from pandas in a future version. Use pandas.concat instead.\n",
      "  predicted = predicted.append(df_pred, ignore_index=True)\n",
      "C:\\Users\\vella\\AppData\\Local\\Temp\\ipykernel_15504\\3582800836.py:23: FutureWarning: The frame.append method is deprecated and will be removed from pandas in a future version. Use pandas.concat instead.\n",
      "  predicted = predicted.append(df_pred, ignore_index=True)\n",
      "C:\\Users\\vella\\AppData\\Local\\Temp\\ipykernel_15504\\3582800836.py:23: FutureWarning: The frame.append method is deprecated and will be removed from pandas in a future version. Use pandas.concat instead.\n",
      "  predicted = predicted.append(df_pred, ignore_index=True)\n"
     ]
    },
    {
     "name": "stdout",
     "output_type": "stream",
     "text": [
      "1/1 [==============================] - 0s 19ms/step\n",
      "            0\n",
      "0  285.173248\n",
      "1/1 [==============================] - 0s 19ms/step\n",
      "            0\n",
      "0  284.662384\n"
     ]
    },
    {
     "name": "stderr",
     "output_type": "stream",
     "text": [
      "C:\\Users\\vella\\AppData\\Local\\Temp\\ipykernel_15504\\3582800836.py:23: FutureWarning: The frame.append method is deprecated and will be removed from pandas in a future version. Use pandas.concat instead.\n",
      "  predicted = predicted.append(df_pred, ignore_index=True)\n",
      "C:\\Users\\vella\\AppData\\Local\\Temp\\ipykernel_15504\\3582800836.py:23: FutureWarning: The frame.append method is deprecated and will be removed from pandas in a future version. Use pandas.concat instead.\n",
      "  predicted = predicted.append(df_pred, ignore_index=True)\n"
     ]
    }
   ],
   "source": [
    "predicted = pd.DataFrame()\n",
    "for i in range(0,(len(df3)-67)):\n",
    "    #Create a new dataframe\n",
    "    new_df = df3[i:(i+67)]\n",
    "    #Get the last 180 day closing price \n",
    "    last_67_days = new_df[-67:].values\n",
    "    #Scale the data to be values between 0 and 1\n",
    "    last_67_days_scaled = scaler.transform(last_67_days)\n",
    "    #Create an empty list\n",
    "    X_test = []\n",
    "    #Append teh past 180 days\n",
    "    X_test.append(last_67_days_scaled)\n",
    "    #Convert the X_test data set to a numpy array\n",
    "    X_test = np.array(X_test)\n",
    "    #Reshape the data\n",
    "    X_test = np.reshape(X_test, (X_test.shape[0], X_test.shape[1], 1))\n",
    "    #Get the predicted scaled price\n",
    "    pred_price = model.predict(X_test)\n",
    "    #undo the scaling \n",
    "    pred_price = scaler.inverse_transform(pred_price)\n",
    "    df_pred = pd.DataFrame(pred_price)\n",
    "    print(df_pred)\n",
    "    predicted = predicted.append(df_pred, ignore_index=True)"
   ]
  },
  {
   "cell_type": "code",
   "execution_count": 26,
   "id": "897af32c",
   "metadata": {},
   "outputs": [
    {
     "data": {
      "text/html": [
       "<div>\n",
       "<style scoped>\n",
       "    .dataframe tbody tr th:only-of-type {\n",
       "        vertical-align: middle;\n",
       "    }\n",
       "\n",
       "    .dataframe tbody tr th {\n",
       "        vertical-align: top;\n",
       "    }\n",
       "\n",
       "    .dataframe thead th {\n",
       "        text-align: right;\n",
       "    }\n",
       "</style>\n",
       "<table border=\"1\" class=\"dataframe\">\n",
       "  <thead>\n",
       "    <tr style=\"text-align: right;\">\n",
       "      <th></th>\n",
       "      <th>Prediction</th>\n",
       "    </tr>\n",
       "  </thead>\n",
       "  <tbody>\n",
       "    <tr>\n",
       "      <th>0</th>\n",
       "      <td>359.103516</td>\n",
       "    </tr>\n",
       "    <tr>\n",
       "      <th>1</th>\n",
       "      <td>358.563629</td>\n",
       "    </tr>\n",
       "    <tr>\n",
       "      <th>2</th>\n",
       "      <td>355.853760</td>\n",
       "    </tr>\n",
       "    <tr>\n",
       "      <th>3</th>\n",
       "      <td>350.493103</td>\n",
       "    </tr>\n",
       "    <tr>\n",
       "      <th>4</th>\n",
       "      <td>348.075958</td>\n",
       "    </tr>\n",
       "    <tr>\n",
       "      <th>...</th>\n",
       "      <td>...</td>\n",
       "    </tr>\n",
       "    <tr>\n",
       "      <th>180</th>\n",
       "      <td>297.406433</td>\n",
       "    </tr>\n",
       "    <tr>\n",
       "      <th>181</th>\n",
       "      <td>291.795441</td>\n",
       "    </tr>\n",
       "    <tr>\n",
       "      <th>182</th>\n",
       "      <td>287.277954</td>\n",
       "    </tr>\n",
       "    <tr>\n",
       "      <th>183</th>\n",
       "      <td>285.173248</td>\n",
       "    </tr>\n",
       "    <tr>\n",
       "      <th>184</th>\n",
       "      <td>284.662384</td>\n",
       "    </tr>\n",
       "  </tbody>\n",
       "</table>\n",
       "<p>185 rows × 1 columns</p>\n",
       "</div>"
      ],
      "text/plain": [
       "     Prediction\n",
       "0    359.103516\n",
       "1    358.563629\n",
       "2    355.853760\n",
       "3    350.493103\n",
       "4    348.075958\n",
       "..          ...\n",
       "180  297.406433\n",
       "181  291.795441\n",
       "182  287.277954\n",
       "183  285.173248\n",
       "184  284.662384\n",
       "\n",
       "[185 rows x 1 columns]"
      ]
     },
     "execution_count": 26,
     "metadata": {},
     "output_type": "execute_result"
    }
   ],
   "source": [
    "predicted.rename(columns = {0:'Prediction'},inplace = True)\n",
    "predicted"
   ]
  },
  {
   "cell_type": "code",
   "execution_count": 27,
   "id": "3aac0f59",
   "metadata": {},
   "outputs": [],
   "source": [
    "df4 = pd.DataFrame(np.nan, index=[list(range(67))], columns=['Prediction'])"
   ]
  },
  {
   "cell_type": "code",
   "execution_count": 28,
   "id": "3b298b06",
   "metadata": {
    "scrolled": true
   },
   "outputs": [
    {
     "data": {
      "text/html": [
       "<div>\n",
       "<style scoped>\n",
       "    .dataframe tbody tr th:only-of-type {\n",
       "        vertical-align: middle;\n",
       "    }\n",
       "\n",
       "    .dataframe tbody tr th {\n",
       "        vertical-align: top;\n",
       "    }\n",
       "\n",
       "    .dataframe thead th {\n",
       "        text-align: right;\n",
       "    }\n",
       "</style>\n",
       "<table border=\"1\" class=\"dataframe\">\n",
       "  <thead>\n",
       "    <tr style=\"text-align: right;\">\n",
       "      <th></th>\n",
       "      <th>Prediction</th>\n",
       "    </tr>\n",
       "  </thead>\n",
       "  <tbody>\n",
       "    <tr>\n",
       "      <th>0</th>\n",
       "      <td>NaN</td>\n",
       "    </tr>\n",
       "    <tr>\n",
       "      <th>1</th>\n",
       "      <td>NaN</td>\n",
       "    </tr>\n",
       "    <tr>\n",
       "      <th>2</th>\n",
       "      <td>NaN</td>\n",
       "    </tr>\n",
       "    <tr>\n",
       "      <th>3</th>\n",
       "      <td>NaN</td>\n",
       "    </tr>\n",
       "    <tr>\n",
       "      <th>4</th>\n",
       "      <td>NaN</td>\n",
       "    </tr>\n",
       "    <tr>\n",
       "      <th>...</th>\n",
       "      <td>...</td>\n",
       "    </tr>\n",
       "    <tr>\n",
       "      <th>62</th>\n",
       "      <td>NaN</td>\n",
       "    </tr>\n",
       "    <tr>\n",
       "      <th>63</th>\n",
       "      <td>NaN</td>\n",
       "    </tr>\n",
       "    <tr>\n",
       "      <th>64</th>\n",
       "      <td>NaN</td>\n",
       "    </tr>\n",
       "    <tr>\n",
       "      <th>65</th>\n",
       "      <td>NaN</td>\n",
       "    </tr>\n",
       "    <tr>\n",
       "      <th>66</th>\n",
       "      <td>NaN</td>\n",
       "    </tr>\n",
       "  </tbody>\n",
       "</table>\n",
       "<p>67 rows × 1 columns</p>\n",
       "</div>"
      ],
      "text/plain": [
       "    Prediction\n",
       "0          NaN\n",
       "1          NaN\n",
       "2          NaN\n",
       "3          NaN\n",
       "4          NaN\n",
       "..         ...\n",
       "62         NaN\n",
       "63         NaN\n",
       "64         NaN\n",
       "65         NaN\n",
       "66         NaN\n",
       "\n",
       "[67 rows x 1 columns]"
      ]
     },
     "execution_count": 28,
     "metadata": {},
     "output_type": "execute_result"
    }
   ],
   "source": [
    "df4"
   ]
  },
  {
   "cell_type": "code",
   "execution_count": 29,
   "id": "9be76532",
   "metadata": {},
   "outputs": [
    {
     "name": "stderr",
     "output_type": "stream",
     "text": [
      "C:\\Users\\vella\\AppData\\Local\\Temp\\ipykernel_15504\\837844078.py:1: FutureWarning: The frame.append method is deprecated and will be removed from pandas in a future version. Use pandas.concat instead.\n",
      "  df4 = df4.append(predicted, ignore_index=True)\n"
     ]
    }
   ],
   "source": [
    "df4 = df4.append(predicted, ignore_index=True)"
   ]
  },
  {
   "cell_type": "code",
   "execution_count": 30,
   "id": "dc6478fc",
   "metadata": {},
   "outputs": [
    {
     "data": {
      "text/html": [
       "<div>\n",
       "<style scoped>\n",
       "    .dataframe tbody tr th:only-of-type {\n",
       "        vertical-align: middle;\n",
       "    }\n",
       "\n",
       "    .dataframe tbody tr th {\n",
       "        vertical-align: top;\n",
       "    }\n",
       "\n",
       "    .dataframe thead th {\n",
       "        text-align: right;\n",
       "    }\n",
       "</style>\n",
       "<table border=\"1\" class=\"dataframe\">\n",
       "  <thead>\n",
       "    <tr style=\"text-align: right;\">\n",
       "      <th></th>\n",
       "      <th>Prediction</th>\n",
       "    </tr>\n",
       "  </thead>\n",
       "  <tbody>\n",
       "    <tr>\n",
       "      <th>0</th>\n",
       "      <td>NaN</td>\n",
       "    </tr>\n",
       "    <tr>\n",
       "      <th>1</th>\n",
       "      <td>NaN</td>\n",
       "    </tr>\n",
       "    <tr>\n",
       "      <th>2</th>\n",
       "      <td>NaN</td>\n",
       "    </tr>\n",
       "    <tr>\n",
       "      <th>3</th>\n",
       "      <td>NaN</td>\n",
       "    </tr>\n",
       "    <tr>\n",
       "      <th>4</th>\n",
       "      <td>NaN</td>\n",
       "    </tr>\n",
       "    <tr>\n",
       "      <th>...</th>\n",
       "      <td>...</td>\n",
       "    </tr>\n",
       "    <tr>\n",
       "      <th>247</th>\n",
       "      <td>297.406433</td>\n",
       "    </tr>\n",
       "    <tr>\n",
       "      <th>248</th>\n",
       "      <td>291.795441</td>\n",
       "    </tr>\n",
       "    <tr>\n",
       "      <th>249</th>\n",
       "      <td>287.277954</td>\n",
       "    </tr>\n",
       "    <tr>\n",
       "      <th>250</th>\n",
       "      <td>285.173248</td>\n",
       "    </tr>\n",
       "    <tr>\n",
       "      <th>251</th>\n",
       "      <td>284.662384</td>\n",
       "    </tr>\n",
       "  </tbody>\n",
       "</table>\n",
       "<p>252 rows × 1 columns</p>\n",
       "</div>"
      ],
      "text/plain": [
       "     Prediction\n",
       "0           NaN\n",
       "1           NaN\n",
       "2           NaN\n",
       "3           NaN\n",
       "4           NaN\n",
       "..          ...\n",
       "247  297.406433\n",
       "248  291.795441\n",
       "249  287.277954\n",
       "250  285.173248\n",
       "251  284.662384\n",
       "\n",
       "[252 rows x 1 columns]"
      ]
     },
     "execution_count": 30,
     "metadata": {},
     "output_type": "execute_result"
    }
   ],
   "source": [
    "df4"
   ]
  },
  {
   "cell_type": "code",
   "execution_count": 31,
   "id": "95108d2f",
   "metadata": {},
   "outputs": [],
   "source": [
    "extracted_col = list(df4[\"Prediction\"])"
   ]
  },
  {
   "cell_type": "code",
   "execution_count": 32,
   "id": "236e7cb2",
   "metadata": {
    "scrolled": true
   },
   "outputs": [
    {
     "data": {
      "text/html": [
       "<div>\n",
       "<style scoped>\n",
       "    .dataframe tbody tr th:only-of-type {\n",
       "        vertical-align: middle;\n",
       "    }\n",
       "\n",
       "    .dataframe tbody tr th {\n",
       "        vertical-align: top;\n",
       "    }\n",
       "\n",
       "    .dataframe thead th {\n",
       "        text-align: right;\n",
       "    }\n",
       "</style>\n",
       "<table border=\"1\" class=\"dataframe\">\n",
       "  <thead>\n",
       "    <tr style=\"text-align: right;\">\n",
       "      <th></th>\n",
       "      <th>Close</th>\n",
       "    </tr>\n",
       "    <tr>\n",
       "      <th>Date</th>\n",
       "      <th></th>\n",
       "    </tr>\n",
       "  </thead>\n",
       "  <tbody>\n",
       "    <tr>\n",
       "      <th>2021-09-30</th>\n",
       "      <td>258.493347</td>\n",
       "    </tr>\n",
       "    <tr>\n",
       "      <th>2021-10-01</th>\n",
       "      <td>258.406677</td>\n",
       "    </tr>\n",
       "    <tr>\n",
       "      <th>2021-10-04</th>\n",
       "      <td>260.510010</td>\n",
       "    </tr>\n",
       "    <tr>\n",
       "      <th>2021-10-05</th>\n",
       "      <td>260.196655</td>\n",
       "    </tr>\n",
       "    <tr>\n",
       "      <th>2021-10-06</th>\n",
       "      <td>260.916656</td>\n",
       "    </tr>\n",
       "    <tr>\n",
       "      <th>...</th>\n",
       "      <td>...</td>\n",
       "    </tr>\n",
       "    <tr>\n",
       "      <th>2022-09-23</th>\n",
       "      <td>275.329987</td>\n",
       "    </tr>\n",
       "    <tr>\n",
       "      <th>2022-09-26</th>\n",
       "      <td>276.010010</td>\n",
       "    </tr>\n",
       "    <tr>\n",
       "      <th>2022-09-27</th>\n",
       "      <td>282.940002</td>\n",
       "    </tr>\n",
       "    <tr>\n",
       "      <th>2022-09-28</th>\n",
       "      <td>287.809998</td>\n",
       "    </tr>\n",
       "    <tr>\n",
       "      <th>2022-09-29</th>\n",
       "      <td>268.209991</td>\n",
       "    </tr>\n",
       "  </tbody>\n",
       "</table>\n",
       "<p>252 rows × 1 columns</p>\n",
       "</div>"
      ],
      "text/plain": [
       "                 Close\n",
       "Date                  \n",
       "2021-09-30  258.493347\n",
       "2021-10-01  258.406677\n",
       "2021-10-04  260.510010\n",
       "2021-10-05  260.196655\n",
       "2021-10-06  260.916656\n",
       "...                ...\n",
       "2022-09-23  275.329987\n",
       "2022-09-26  276.010010\n",
       "2022-09-27  282.940002\n",
       "2022-09-28  287.809998\n",
       "2022-09-29  268.209991\n",
       "\n",
       "[252 rows x 1 columns]"
      ]
     },
     "execution_count": 32,
     "metadata": {},
     "output_type": "execute_result"
    }
   ],
   "source": [
    "df5 = df3\n",
    "df5"
   ]
  },
  {
   "cell_type": "code",
   "execution_count": 33,
   "id": "4d566585",
   "metadata": {},
   "outputs": [],
   "source": [
    "df5[\"Prediction\"] = extracted_col"
   ]
  },
  {
   "cell_type": "code",
   "execution_count": 34,
   "id": "b4e955b8",
   "metadata": {
    "scrolled": true
   },
   "outputs": [
    {
     "data": {
      "text/html": [
       "<div>\n",
       "<style scoped>\n",
       "    .dataframe tbody tr th:only-of-type {\n",
       "        vertical-align: middle;\n",
       "    }\n",
       "\n",
       "    .dataframe tbody tr th {\n",
       "        vertical-align: top;\n",
       "    }\n",
       "\n",
       "    .dataframe thead th {\n",
       "        text-align: right;\n",
       "    }\n",
       "</style>\n",
       "<table border=\"1\" class=\"dataframe\">\n",
       "  <thead>\n",
       "    <tr style=\"text-align: right;\">\n",
       "      <th></th>\n",
       "      <th>Close</th>\n",
       "      <th>Prediction</th>\n",
       "    </tr>\n",
       "    <tr>\n",
       "      <th>Date</th>\n",
       "      <th></th>\n",
       "      <th></th>\n",
       "    </tr>\n",
       "  </thead>\n",
       "  <tbody>\n",
       "    <tr>\n",
       "      <th>2021-09-30</th>\n",
       "      <td>258.493347</td>\n",
       "      <td>NaN</td>\n",
       "    </tr>\n",
       "    <tr>\n",
       "      <th>2021-10-01</th>\n",
       "      <td>258.406677</td>\n",
       "      <td>NaN</td>\n",
       "    </tr>\n",
       "    <tr>\n",
       "      <th>2021-10-04</th>\n",
       "      <td>260.510010</td>\n",
       "      <td>NaN</td>\n",
       "    </tr>\n",
       "    <tr>\n",
       "      <th>2021-10-05</th>\n",
       "      <td>260.196655</td>\n",
       "      <td>NaN</td>\n",
       "    </tr>\n",
       "    <tr>\n",
       "      <th>2021-10-06</th>\n",
       "      <td>260.916656</td>\n",
       "      <td>NaN</td>\n",
       "    </tr>\n",
       "    <tr>\n",
       "      <th>...</th>\n",
       "      <td>...</td>\n",
       "      <td>...</td>\n",
       "    </tr>\n",
       "    <tr>\n",
       "      <th>2022-09-23</th>\n",
       "      <td>275.329987</td>\n",
       "      <td>297.406433</td>\n",
       "    </tr>\n",
       "    <tr>\n",
       "      <th>2022-09-26</th>\n",
       "      <td>276.010010</td>\n",
       "      <td>291.795441</td>\n",
       "    </tr>\n",
       "    <tr>\n",
       "      <th>2022-09-27</th>\n",
       "      <td>282.940002</td>\n",
       "      <td>287.277954</td>\n",
       "    </tr>\n",
       "    <tr>\n",
       "      <th>2022-09-28</th>\n",
       "      <td>287.809998</td>\n",
       "      <td>285.173248</td>\n",
       "    </tr>\n",
       "    <tr>\n",
       "      <th>2022-09-29</th>\n",
       "      <td>268.209991</td>\n",
       "      <td>284.662384</td>\n",
       "    </tr>\n",
       "  </tbody>\n",
       "</table>\n",
       "<p>252 rows × 2 columns</p>\n",
       "</div>"
      ],
      "text/plain": [
       "                 Close  Prediction\n",
       "Date                              \n",
       "2021-09-30  258.493347         NaN\n",
       "2021-10-01  258.406677         NaN\n",
       "2021-10-04  260.510010         NaN\n",
       "2021-10-05  260.196655         NaN\n",
       "2021-10-06  260.916656         NaN\n",
       "...                ...         ...\n",
       "2022-09-23  275.329987  297.406433\n",
       "2022-09-26  276.010010  291.795441\n",
       "2022-09-27  282.940002  287.277954\n",
       "2022-09-28  287.809998  285.173248\n",
       "2022-09-29  268.209991  284.662384\n",
       "\n",
       "[252 rows x 2 columns]"
      ]
     },
     "execution_count": 34,
     "metadata": {},
     "output_type": "execute_result"
    }
   ],
   "source": [
    "df5"
   ]
  },
  {
   "cell_type": "code",
   "execution_count": 35,
   "id": "7b999e8a",
   "metadata": {},
   "outputs": [],
   "source": [
    "df5 = df5.fillna(0)"
   ]
  },
  {
   "cell_type": "code",
   "execution_count": 36,
   "id": "890cd724",
   "metadata": {
    "scrolled": true
   },
   "outputs": [
    {
     "data": {
      "text/html": [
       "<div>\n",
       "<style scoped>\n",
       "    .dataframe tbody tr th:only-of-type {\n",
       "        vertical-align: middle;\n",
       "    }\n",
       "\n",
       "    .dataframe tbody tr th {\n",
       "        vertical-align: top;\n",
       "    }\n",
       "\n",
       "    .dataframe thead th {\n",
       "        text-align: right;\n",
       "    }\n",
       "</style>\n",
       "<table border=\"1\" class=\"dataframe\">\n",
       "  <thead>\n",
       "    <tr style=\"text-align: right;\">\n",
       "      <th></th>\n",
       "      <th>Close</th>\n",
       "      <th>Prediction</th>\n",
       "    </tr>\n",
       "    <tr>\n",
       "      <th>Date</th>\n",
       "      <th></th>\n",
       "      <th></th>\n",
       "    </tr>\n",
       "  </thead>\n",
       "  <tbody>\n",
       "    <tr>\n",
       "      <th>2022-01-05</th>\n",
       "      <td>362.706665</td>\n",
       "      <td>359.103516</td>\n",
       "    </tr>\n",
       "    <tr>\n",
       "      <th>2022-01-06</th>\n",
       "      <td>354.899994</td>\n",
       "      <td>358.563629</td>\n",
       "    </tr>\n",
       "    <tr>\n",
       "      <th>2022-01-07</th>\n",
       "      <td>342.320007</td>\n",
       "      <td>355.853760</td>\n",
       "    </tr>\n",
       "    <tr>\n",
       "      <th>2022-01-10</th>\n",
       "      <td>352.706665</td>\n",
       "      <td>350.493103</td>\n",
       "    </tr>\n",
       "    <tr>\n",
       "      <th>2022-01-11</th>\n",
       "      <td>354.799988</td>\n",
       "      <td>348.075958</td>\n",
       "    </tr>\n",
       "    <tr>\n",
       "      <th>...</th>\n",
       "      <td>...</td>\n",
       "      <td>...</td>\n",
       "    </tr>\n",
       "    <tr>\n",
       "      <th>2022-09-23</th>\n",
       "      <td>275.329987</td>\n",
       "      <td>297.406433</td>\n",
       "    </tr>\n",
       "    <tr>\n",
       "      <th>2022-09-26</th>\n",
       "      <td>276.010010</td>\n",
       "      <td>291.795441</td>\n",
       "    </tr>\n",
       "    <tr>\n",
       "      <th>2022-09-27</th>\n",
       "      <td>282.940002</td>\n",
       "      <td>287.277954</td>\n",
       "    </tr>\n",
       "    <tr>\n",
       "      <th>2022-09-28</th>\n",
       "      <td>287.809998</td>\n",
       "      <td>285.173248</td>\n",
       "    </tr>\n",
       "    <tr>\n",
       "      <th>2022-09-29</th>\n",
       "      <td>268.209991</td>\n",
       "      <td>284.662384</td>\n",
       "    </tr>\n",
       "  </tbody>\n",
       "</table>\n",
       "<p>185 rows × 2 columns</p>\n",
       "</div>"
      ],
      "text/plain": [
       "                 Close  Prediction\n",
       "Date                              \n",
       "2022-01-05  362.706665  359.103516\n",
       "2022-01-06  354.899994  358.563629\n",
       "2022-01-07  342.320007  355.853760\n",
       "2022-01-10  352.706665  350.493103\n",
       "2022-01-11  354.799988  348.075958\n",
       "...                ...         ...\n",
       "2022-09-23  275.329987  297.406433\n",
       "2022-09-26  276.010010  291.795441\n",
       "2022-09-27  282.940002  287.277954\n",
       "2022-09-28  287.809998  285.173248\n",
       "2022-09-29  268.209991  284.662384\n",
       "\n",
       "[185 rows x 2 columns]"
      ]
     },
     "execution_count": 36,
     "metadata": {},
     "output_type": "execute_result"
    }
   ],
   "source": [
    "df7 = df5[67:]\n",
    "df7"
   ]
  },
  {
   "cell_type": "code",
   "execution_count": 37,
   "id": "880574a1",
   "metadata": {},
   "outputs": [
    {
     "data": {
      "image/png": "[encoded data removed]",
      "text/plain": [
       "<Figure size 640x480 with 1 Axes>"
      ]
     },
     "metadata": {},
     "output_type": "display_data"
    }
   ],
   "source": [
    "import matplotlib.pyplot as plt\n",
    "plt.plot(df7[['Close', 'Prediction']])\n",
    "plt.legend(['Actual', 'Predictions'], loc='lower right')\n",
    "plt.show()"
   ]
  },
  {
   "cell_type": "markdown",
   "id": "087c931e",
   "metadata": {},
   "source": [
    "# Phase 2"
   ]
  },
  {
   "cell_type": "code",
   "execution_count": 38,
   "id": "ac4da037",
   "metadata": {},
   "outputs": [
    {
     "data": {
      "text/plain": [
       "Date\n",
       "2021-09-30    258.493347\n",
       "2021-10-01    258.406677\n",
       "2021-10-04    260.510010\n",
       "2021-10-05    260.196655\n",
       "2021-10-06    260.916656\n",
       "                 ...    \n",
       "2022-09-23    -22.076447\n",
       "2022-09-26    -15.785431\n",
       "2022-09-27     -4.337952\n",
       "2022-09-28      2.636749\n",
       "2022-09-29    -16.452393\n",
       "Length: 252, dtype: float64"
      ]
     },
     "execution_count": 38,
     "metadata": {},
     "output_type": "execute_result"
    }
   ],
   "source": [
    "Diff = df5.iloc[:,0] - df5.iloc[:,1]\n",
    "Diff"
   ]
  },
  {
   "cell_type": "code",
   "execution_count": 39,
   "id": "4baa8fdd",
   "metadata": {},
   "outputs": [
    {
     "data": {
      "text/html": [
       "<div>\n",
       "<style scoped>\n",
       "    .dataframe tbody tr th:only-of-type {\n",
       "        vertical-align: middle;\n",
       "    }\n",
       "\n",
       "    .dataframe tbody tr th {\n",
       "        vertical-align: top;\n",
       "    }\n",
       "\n",
       "    .dataframe thead th {\n",
       "        text-align: right;\n",
       "    }\n",
       "</style>\n",
       "<table border=\"1\" class=\"dataframe\">\n",
       "  <thead>\n",
       "    <tr style=\"text-align: right;\">\n",
       "      <th></th>\n",
       "      <th>0</th>\n",
       "    </tr>\n",
       "    <tr>\n",
       "      <th>Date</th>\n",
       "      <th></th>\n",
       "    </tr>\n",
       "  </thead>\n",
       "  <tbody>\n",
       "    <tr>\n",
       "      <th>2021-09-30</th>\n",
       "      <td>258.493347</td>\n",
       "    </tr>\n",
       "    <tr>\n",
       "      <th>2021-10-01</th>\n",
       "      <td>258.406677</td>\n",
       "    </tr>\n",
       "    <tr>\n",
       "      <th>2021-10-04</th>\n",
       "      <td>260.510010</td>\n",
       "    </tr>\n",
       "    <tr>\n",
       "      <th>2021-10-05</th>\n",
       "      <td>260.196655</td>\n",
       "    </tr>\n",
       "    <tr>\n",
       "      <th>2021-10-06</th>\n",
       "      <td>260.916656</td>\n",
       "    </tr>\n",
       "    <tr>\n",
       "      <th>...</th>\n",
       "      <td>...</td>\n",
       "    </tr>\n",
       "    <tr>\n",
       "      <th>2022-09-23</th>\n",
       "      <td>-22.076447</td>\n",
       "    </tr>\n",
       "    <tr>\n",
       "      <th>2022-09-26</th>\n",
       "      <td>-15.785431</td>\n",
       "    </tr>\n",
       "    <tr>\n",
       "      <th>2022-09-27</th>\n",
       "      <td>-4.337952</td>\n",
       "    </tr>\n",
       "    <tr>\n",
       "      <th>2022-09-28</th>\n",
       "      <td>2.636749</td>\n",
       "    </tr>\n",
       "    <tr>\n",
       "      <th>2022-09-29</th>\n",
       "      <td>-16.452393</td>\n",
       "    </tr>\n",
       "  </tbody>\n",
       "</table>\n",
       "<p>252 rows × 1 columns</p>\n",
       "</div>"
      ],
      "text/plain": [
       "                     0\n",
       "Date                  \n",
       "2021-09-30  258.493347\n",
       "2021-10-01  258.406677\n",
       "2021-10-04  260.510010\n",
       "2021-10-05  260.196655\n",
       "2021-10-06  260.916656\n",
       "...                ...\n",
       "2022-09-23  -22.076447\n",
       "2022-09-26  -15.785431\n",
       "2022-09-27   -4.337952\n",
       "2022-09-28    2.636749\n",
       "2022-09-29  -16.452393\n",
       "\n",
       "[252 rows x 1 columns]"
      ]
     },
     "execution_count": 39,
     "metadata": {},
     "output_type": "execute_result"
    }
   ],
   "source": [
    "Diff = pd.DataFrame(Diff)\n",
    "Diff"
   ]
  },
  {
   "cell_type": "code",
   "execution_count": 40,
   "id": "2e8110a2",
   "metadata": {},
   "outputs": [
    {
     "data": {
      "text/html": [
       "<div>\n",
       "<style scoped>\n",
       "    .dataframe tbody tr th:only-of-type {\n",
       "        vertical-align: middle;\n",
       "    }\n",
       "\n",
       "    .dataframe tbody tr th {\n",
       "        vertical-align: top;\n",
       "    }\n",
       "\n",
       "    .dataframe thead th {\n",
       "        text-align: right;\n",
       "    }\n",
       "</style>\n",
       "<table border=\"1\" class=\"dataframe\">\n",
       "  <thead>\n",
       "    <tr style=\"text-align: right;\">\n",
       "      <th></th>\n",
       "      <th>Unnamed: 0</th>\n",
       "      <th>Date</th>\n",
       "      <th>compound_x</th>\n",
       "      <th>compound_y</th>\n",
       "    </tr>\n",
       "  </thead>\n",
       "  <tbody>\n",
       "    <tr>\n",
       "      <th>0</th>\n",
       "      <td>0</td>\n",
       "      <td>2021-09-30</td>\n",
       "      <td>0.213078</td>\n",
       "      <td>0.0000</td>\n",
       "    </tr>\n",
       "    <tr>\n",
       "      <th>1</th>\n",
       "      <td>1</td>\n",
       "      <td>2021-10-01</td>\n",
       "      <td>0.224785</td>\n",
       "      <td>0.0000</td>\n",
       "    </tr>\n",
       "    <tr>\n",
       "      <th>2</th>\n",
       "      <td>2</td>\n",
       "      <td>2021-10-02</td>\n",
       "      <td>0.255568</td>\n",
       "      <td>0.0000</td>\n",
       "    </tr>\n",
       "    <tr>\n",
       "      <th>3</th>\n",
       "      <td>3</td>\n",
       "      <td>2021-10-03</td>\n",
       "      <td>0.257956</td>\n",
       "      <td>-0.0772</td>\n",
       "    </tr>\n",
       "    <tr>\n",
       "      <th>4</th>\n",
       "      <td>4</td>\n",
       "      <td>2021-10-04</td>\n",
       "      <td>0.106842</td>\n",
       "      <td>0.0000</td>\n",
       "    </tr>\n",
       "  </tbody>\n",
       "</table>\n",
       "</div>"
      ],
      "text/plain": [
       "   Unnamed: 0        Date  compound_x  compound_y\n",
       "0           0  2021-09-30    0.213078      0.0000\n",
       "1           1  2021-10-01    0.224785      0.0000\n",
       "2           2  2021-10-02    0.255568      0.0000\n",
       "3           3  2021-10-03    0.257956     -0.0772\n",
       "4           4  2021-10-04    0.106842      0.0000"
      ]
     },
     "execution_count": 40,
     "metadata": {},
     "output_type": "execute_result"
    }
   ],
   "source": [
    "df8 = pd.read_csv(r\"C:\\Users\\vella\\Desktop\\Praju\\College\\Projects\\Final year\\Data\\Comb_Sent.csv\")\n",
    "df8.head()"
   ]
  },
  {
   "cell_type": "code",
   "execution_count": 41,
   "id": "7de8d45b",
   "metadata": {},
   "outputs": [
    {
     "name": "stderr",
     "output_type": "stream",
     "text": [
      "C:\\Users\\vella\\AppData\\Local\\Temp\\ipykernel_15504\\1636560067.py:3: SettingWithCopyWarning: \n",
      "A value is trying to be set on a copy of a slice from a DataFrame.\n",
      "Try using .loc[row_indexer,col_indexer] = value instead\n",
      "\n",
      "See the caveats in the documentation: https://pandas.pydata.org/pandas-docs/stable/user_guide/indexing.html#returning-a-view-versus-a-copy\n",
      "  df9.Date = pd.to_datetime(df9.Date)\n"
     ]
    },
    {
     "data": {
      "text/html": [
       "<div>\n",
       "<style scoped>\n",
       "    .dataframe tbody tr th:only-of-type {\n",
       "        vertical-align: middle;\n",
       "    }\n",
       "\n",
       "    .dataframe tbody tr th {\n",
       "        vertical-align: top;\n",
       "    }\n",
       "\n",
       "    .dataframe thead th {\n",
       "        text-align: right;\n",
       "    }\n",
       "</style>\n",
       "<table border=\"1\" class=\"dataframe\">\n",
       "  <thead>\n",
       "    <tr style=\"text-align: right;\">\n",
       "      <th></th>\n",
       "      <th>Date</th>\n",
       "      <th>compound_x</th>\n",
       "      <th>compound_y</th>\n",
       "    </tr>\n",
       "  </thead>\n",
       "  <tbody>\n",
       "    <tr>\n",
       "      <th>0</th>\n",
       "      <td>2021-09-30</td>\n",
       "      <td>0.213078</td>\n",
       "      <td>0.0000</td>\n",
       "    </tr>\n",
       "    <tr>\n",
       "      <th>1</th>\n",
       "      <td>2021-10-01</td>\n",
       "      <td>0.224785</td>\n",
       "      <td>0.0000</td>\n",
       "    </tr>\n",
       "    <tr>\n",
       "      <th>2</th>\n",
       "      <td>2021-10-02</td>\n",
       "      <td>0.255568</td>\n",
       "      <td>0.0000</td>\n",
       "    </tr>\n",
       "    <tr>\n",
       "      <th>3</th>\n",
       "      <td>2021-10-03</td>\n",
       "      <td>0.257956</td>\n",
       "      <td>-0.0772</td>\n",
       "    </tr>\n",
       "    <tr>\n",
       "      <th>4</th>\n",
       "      <td>2021-10-04</td>\n",
       "      <td>0.106842</td>\n",
       "      <td>0.0000</td>\n",
       "    </tr>\n",
       "    <tr>\n",
       "      <th>...</th>\n",
       "      <td>...</td>\n",
       "      <td>...</td>\n",
       "      <td>...</td>\n",
       "    </tr>\n",
       "    <tr>\n",
       "      <th>361</th>\n",
       "      <td>2022-09-26</td>\n",
       "      <td>0.170785</td>\n",
       "      <td>0.0000</td>\n",
       "    </tr>\n",
       "    <tr>\n",
       "      <th>362</th>\n",
       "      <td>2022-09-27</td>\n",
       "      <td>0.192374</td>\n",
       "      <td>0.0000</td>\n",
       "    </tr>\n",
       "    <tr>\n",
       "      <th>363</th>\n",
       "      <td>2022-09-28</td>\n",
       "      <td>0.143788</td>\n",
       "      <td>0.0000</td>\n",
       "    </tr>\n",
       "    <tr>\n",
       "      <th>364</th>\n",
       "      <td>2022-09-29</td>\n",
       "      <td>0.065639</td>\n",
       "      <td>0.0000</td>\n",
       "    </tr>\n",
       "    <tr>\n",
       "      <th>365</th>\n",
       "      <td>2022-09-30</td>\n",
       "      <td>0.000000</td>\n",
       "      <td>0.0000</td>\n",
       "    </tr>\n",
       "  </tbody>\n",
       "</table>\n",
       "<p>366 rows × 3 columns</p>\n",
       "</div>"
      ],
      "text/plain": [
       "          Date  compound_x  compound_y\n",
       "0   2021-09-30    0.213078      0.0000\n",
       "1   2021-10-01    0.224785      0.0000\n",
       "2   2021-10-02    0.255568      0.0000\n",
       "3   2021-10-03    0.257956     -0.0772\n",
       "4   2021-10-04    0.106842      0.0000\n",
       "..         ...         ...         ...\n",
       "361 2022-09-26    0.170785      0.0000\n",
       "362 2022-09-27    0.192374      0.0000\n",
       "363 2022-09-28    0.143788      0.0000\n",
       "364 2022-09-29    0.065639      0.0000\n",
       "365 2022-09-30    0.000000      0.0000\n",
       "\n",
       "[366 rows x 3 columns]"
      ]
     },
     "execution_count": 41,
     "metadata": {},
     "output_type": "execute_result"
    }
   ],
   "source": [
    "df9 = df8.iloc[:,[1,2,3]]\n",
    "#Converting dates as datetime format\n",
    "df9.Date = pd.to_datetime(df9.Date)\n",
    "df9"
   ]
  },
  {
   "cell_type": "code",
   "execution_count": 42,
   "id": "3bbdee1c",
   "metadata": {},
   "outputs": [
    {
     "data": {
      "text/html": [
       "<div>\n",
       "<style scoped>\n",
       "    .dataframe tbody tr th:only-of-type {\n",
       "        vertical-align: middle;\n",
       "    }\n",
       "\n",
       "    .dataframe tbody tr th {\n",
       "        vertical-align: top;\n",
       "    }\n",
       "\n",
       "    .dataframe thead th {\n",
       "        text-align: right;\n",
       "    }\n",
       "</style>\n",
       "<table border=\"1\" class=\"dataframe\">\n",
       "  <thead>\n",
       "    <tr style=\"text-align: right;\">\n",
       "      <th></th>\n",
       "      <th>compound_x</th>\n",
       "      <th>compound_y</th>\n",
       "      <th>Day_before</th>\n",
       "    </tr>\n",
       "  </thead>\n",
       "  <tbody>\n",
       "    <tr>\n",
       "      <th>0</th>\n",
       "      <td>0.213078</td>\n",
       "      <td>0.0000</td>\n",
       "      <td>2021-10-01</td>\n",
       "    </tr>\n",
       "    <tr>\n",
       "      <th>1</th>\n",
       "      <td>0.224785</td>\n",
       "      <td>0.0000</td>\n",
       "      <td>2021-10-02</td>\n",
       "    </tr>\n",
       "    <tr>\n",
       "      <th>2</th>\n",
       "      <td>0.255568</td>\n",
       "      <td>0.0000</td>\n",
       "      <td>2021-10-03</td>\n",
       "    </tr>\n",
       "    <tr>\n",
       "      <th>3</th>\n",
       "      <td>0.257956</td>\n",
       "      <td>-0.0772</td>\n",
       "      <td>2021-10-04</td>\n",
       "    </tr>\n",
       "    <tr>\n",
       "      <th>4</th>\n",
       "      <td>0.106842</td>\n",
       "      <td>0.0000</td>\n",
       "      <td>2021-10-05</td>\n",
       "    </tr>\n",
       "    <tr>\n",
       "      <th>...</th>\n",
       "      <td>...</td>\n",
       "      <td>...</td>\n",
       "      <td>...</td>\n",
       "    </tr>\n",
       "    <tr>\n",
       "      <th>361</th>\n",
       "      <td>0.170785</td>\n",
       "      <td>0.0000</td>\n",
       "      <td>2022-09-27</td>\n",
       "    </tr>\n",
       "    <tr>\n",
       "      <th>362</th>\n",
       "      <td>0.192374</td>\n",
       "      <td>0.0000</td>\n",
       "      <td>2022-09-28</td>\n",
       "    </tr>\n",
       "    <tr>\n",
       "      <th>363</th>\n",
       "      <td>0.143788</td>\n",
       "      <td>0.0000</td>\n",
       "      <td>2022-09-29</td>\n",
       "    </tr>\n",
       "    <tr>\n",
       "      <th>364</th>\n",
       "      <td>0.065639</td>\n",
       "      <td>0.0000</td>\n",
       "      <td>2022-09-30</td>\n",
       "    </tr>\n",
       "    <tr>\n",
       "      <th>365</th>\n",
       "      <td>0.000000</td>\n",
       "      <td>0.0000</td>\n",
       "      <td>2022-10-01</td>\n",
       "    </tr>\n",
       "  </tbody>\n",
       "</table>\n",
       "<p>366 rows × 3 columns</p>\n",
       "</div>"
      ],
      "text/plain": [
       "     compound_x  compound_y Day_before\n",
       "0      0.213078      0.0000 2021-10-01\n",
       "1      0.224785      0.0000 2021-10-02\n",
       "2      0.255568      0.0000 2021-10-03\n",
       "3      0.257956     -0.0772 2021-10-04\n",
       "4      0.106842      0.0000 2021-10-05\n",
       "..          ...         ...        ...\n",
       "361    0.170785      0.0000 2022-09-27\n",
       "362    0.192374      0.0000 2022-09-28\n",
       "363    0.143788      0.0000 2022-09-29\n",
       "364    0.065639      0.0000 2022-09-30\n",
       "365    0.000000      0.0000 2022-10-01\n",
       "\n",
       "[366 rows x 3 columns]"
      ]
     },
     "execution_count": 42,
     "metadata": {},
     "output_type": "execute_result"
    }
   ],
   "source": [
    "df9[\"Day_before\"] = df9[\"Date\"] + pd.tseries.offsets.DateOffset(days=1)\n",
    "df9  = df9.iloc[:,[1,2,3]]\n",
    "df9"
   ]
  },
  {
   "cell_type": "code",
   "execution_count": 43,
   "id": "1a8836b7",
   "metadata": {},
   "outputs": [
    {
     "name": "stderr",
     "output_type": "stream",
     "text": [
      "C:\\Users\\vella\\AppData\\Local\\Temp\\ipykernel_15504\\187851354.py:1: SettingWithCopyWarning: \n",
      "A value is trying to be set on a copy of a slice from a DataFrame\n",
      "\n",
      "See the caveats in the documentation: https://pandas.pydata.org/pandas-docs/stable/user_guide/indexing.html#returning-a-view-versus-a-copy\n",
      "  df9.rename(columns = {'Day_before':'Date'}, inplace = True)\n"
     ]
    },
    {
     "data": {
      "text/html": [
       "<div>\n",
       "<style scoped>\n",
       "    .dataframe tbody tr th:only-of-type {\n",
       "        vertical-align: middle;\n",
       "    }\n",
       "\n",
       "    .dataframe tbody tr th {\n",
       "        vertical-align: top;\n",
       "    }\n",
       "\n",
       "    .dataframe thead th {\n",
       "        text-align: right;\n",
       "    }\n",
       "</style>\n",
       "<table border=\"1\" class=\"dataframe\">\n",
       "  <thead>\n",
       "    <tr style=\"text-align: right;\">\n",
       "      <th></th>\n",
       "      <th>compound_x</th>\n",
       "      <th>compound_y</th>\n",
       "      <th>Date</th>\n",
       "    </tr>\n",
       "  </thead>\n",
       "  <tbody>\n",
       "    <tr>\n",
       "      <th>0</th>\n",
       "      <td>0.213078</td>\n",
       "      <td>0.0000</td>\n",
       "      <td>2021-10-01</td>\n",
       "    </tr>\n",
       "    <tr>\n",
       "      <th>1</th>\n",
       "      <td>0.224785</td>\n",
       "      <td>0.0000</td>\n",
       "      <td>2021-10-02</td>\n",
       "    </tr>\n",
       "    <tr>\n",
       "      <th>2</th>\n",
       "      <td>0.255568</td>\n",
       "      <td>0.0000</td>\n",
       "      <td>2021-10-03</td>\n",
       "    </tr>\n",
       "    <tr>\n",
       "      <th>3</th>\n",
       "      <td>0.257956</td>\n",
       "      <td>-0.0772</td>\n",
       "      <td>2021-10-04</td>\n",
       "    </tr>\n",
       "    <tr>\n",
       "      <th>4</th>\n",
       "      <td>0.106842</td>\n",
       "      <td>0.0000</td>\n",
       "      <td>2021-10-05</td>\n",
       "    </tr>\n",
       "    <tr>\n",
       "      <th>...</th>\n",
       "      <td>...</td>\n",
       "      <td>...</td>\n",
       "      <td>...</td>\n",
       "    </tr>\n",
       "    <tr>\n",
       "      <th>361</th>\n",
       "      <td>0.170785</td>\n",
       "      <td>0.0000</td>\n",
       "      <td>2022-09-27</td>\n",
       "    </tr>\n",
       "    <tr>\n",
       "      <th>362</th>\n",
       "      <td>0.192374</td>\n",
       "      <td>0.0000</td>\n",
       "      <td>2022-09-28</td>\n",
       "    </tr>\n",
       "    <tr>\n",
       "      <th>363</th>\n",
       "      <td>0.143788</td>\n",
       "      <td>0.0000</td>\n",
       "      <td>2022-09-29</td>\n",
       "    </tr>\n",
       "    <tr>\n",
       "      <th>364</th>\n",
       "      <td>0.065639</td>\n",
       "      <td>0.0000</td>\n",
       "      <td>2022-09-30</td>\n",
       "    </tr>\n",
       "    <tr>\n",
       "      <th>365</th>\n",
       "      <td>0.000000</td>\n",
       "      <td>0.0000</td>\n",
       "      <td>2022-10-01</td>\n",
       "    </tr>\n",
       "  </tbody>\n",
       "</table>\n",
       "<p>366 rows × 3 columns</p>\n",
       "</div>"
      ],
      "text/plain": [
       "     compound_x  compound_y       Date\n",
       "0      0.213078      0.0000 2021-10-01\n",
       "1      0.224785      0.0000 2021-10-02\n",
       "2      0.255568      0.0000 2021-10-03\n",
       "3      0.257956     -0.0772 2021-10-04\n",
       "4      0.106842      0.0000 2021-10-05\n",
       "..          ...         ...        ...\n",
       "361    0.170785      0.0000 2022-09-27\n",
       "362    0.192374      0.0000 2022-09-28\n",
       "363    0.143788      0.0000 2022-09-29\n",
       "364    0.065639      0.0000 2022-09-30\n",
       "365    0.000000      0.0000 2022-10-01\n",
       "\n",
       "[366 rows x 3 columns]"
      ]
     },
     "execution_count": 43,
     "metadata": {},
     "output_type": "execute_result"
    }
   ],
   "source": [
    "df9.rename(columns = {'Day_before':'Date'}, inplace = True)\n",
    "df9"
   ]
  },
  {
   "cell_type": "code",
   "execution_count": 44,
   "id": "54cf8878",
   "metadata": {},
   "outputs": [],
   "source": [
    "#Converting date column as index\n",
    "df10 = df9.set_index(\"Date\")"
   ]
  },
  {
   "cell_type": "code",
   "execution_count": 45,
   "id": "f42374b7",
   "metadata": {
    "scrolled": true
   },
   "outputs": [
    {
     "data": {
      "text/html": [
       "<div>\n",
       "<style scoped>\n",
       "    .dataframe tbody tr th:only-of-type {\n",
       "        vertical-align: middle;\n",
       "    }\n",
       "\n",
       "    .dataframe tbody tr th {\n",
       "        vertical-align: top;\n",
       "    }\n",
       "\n",
       "    .dataframe thead th {\n",
       "        text-align: right;\n",
       "    }\n",
       "</style>\n",
       "<table border=\"1\" class=\"dataframe\">\n",
       "  <thead>\n",
       "    <tr style=\"text-align: right;\">\n",
       "      <th></th>\n",
       "      <th>compound_x</th>\n",
       "      <th>compound_y</th>\n",
       "    </tr>\n",
       "    <tr>\n",
       "      <th>Date</th>\n",
       "      <th></th>\n",
       "      <th></th>\n",
       "    </tr>\n",
       "  </thead>\n",
       "  <tbody>\n",
       "    <tr>\n",
       "      <th>2021-10-01</th>\n",
       "      <td>0.213078</td>\n",
       "      <td>0.0000</td>\n",
       "    </tr>\n",
       "    <tr>\n",
       "      <th>2021-10-02</th>\n",
       "      <td>0.224785</td>\n",
       "      <td>0.0000</td>\n",
       "    </tr>\n",
       "    <tr>\n",
       "      <th>2021-10-03</th>\n",
       "      <td>0.255568</td>\n",
       "      <td>0.0000</td>\n",
       "    </tr>\n",
       "    <tr>\n",
       "      <th>2021-10-04</th>\n",
       "      <td>0.257956</td>\n",
       "      <td>-0.0772</td>\n",
       "    </tr>\n",
       "    <tr>\n",
       "      <th>2021-10-05</th>\n",
       "      <td>0.106842</td>\n",
       "      <td>0.0000</td>\n",
       "    </tr>\n",
       "    <tr>\n",
       "      <th>...</th>\n",
       "      <td>...</td>\n",
       "      <td>...</td>\n",
       "    </tr>\n",
       "    <tr>\n",
       "      <th>2022-09-27</th>\n",
       "      <td>0.170785</td>\n",
       "      <td>0.0000</td>\n",
       "    </tr>\n",
       "    <tr>\n",
       "      <th>2022-09-28</th>\n",
       "      <td>0.192374</td>\n",
       "      <td>0.0000</td>\n",
       "    </tr>\n",
       "    <tr>\n",
       "      <th>2022-09-29</th>\n",
       "      <td>0.143788</td>\n",
       "      <td>0.0000</td>\n",
       "    </tr>\n",
       "    <tr>\n",
       "      <th>2022-09-30</th>\n",
       "      <td>0.065639</td>\n",
       "      <td>0.0000</td>\n",
       "    </tr>\n",
       "    <tr>\n",
       "      <th>2022-10-01</th>\n",
       "      <td>0.000000</td>\n",
       "      <td>0.0000</td>\n",
       "    </tr>\n",
       "  </tbody>\n",
       "</table>\n",
       "<p>366 rows × 2 columns</p>\n",
       "</div>"
      ],
      "text/plain": [
       "            compound_x  compound_y\n",
       "Date                              \n",
       "2021-10-01    0.213078      0.0000\n",
       "2021-10-02    0.224785      0.0000\n",
       "2021-10-03    0.255568      0.0000\n",
       "2021-10-04    0.257956     -0.0772\n",
       "2021-10-05    0.106842      0.0000\n",
       "...                ...         ...\n",
       "2022-09-27    0.170785      0.0000\n",
       "2022-09-28    0.192374      0.0000\n",
       "2022-09-29    0.143788      0.0000\n",
       "2022-09-30    0.065639      0.0000\n",
       "2022-10-01    0.000000      0.0000\n",
       "\n",
       "[366 rows x 2 columns]"
      ]
     },
     "execution_count": 45,
     "metadata": {},
     "output_type": "execute_result"
    }
   ],
   "source": [
    "df10"
   ]
  },
  {
   "cell_type": "code",
   "execution_count": 46,
   "id": "8f00202f",
   "metadata": {},
   "outputs": [
    {
     "data": {
      "text/html": [
       "<div>\n",
       "<style scoped>\n",
       "    .dataframe tbody tr th:only-of-type {\n",
       "        vertical-align: middle;\n",
       "    }\n",
       "\n",
       "    .dataframe tbody tr th {\n",
       "        vertical-align: top;\n",
       "    }\n",
       "\n",
       "    .dataframe thead th {\n",
       "        text-align: right;\n",
       "    }\n",
       "</style>\n",
       "<table border=\"1\" class=\"dataframe\">\n",
       "  <thead>\n",
       "    <tr style=\"text-align: right;\">\n",
       "      <th></th>\n",
       "      <th>0</th>\n",
       "      <th>compound_x</th>\n",
       "      <th>compound_y</th>\n",
       "    </tr>\n",
       "    <tr>\n",
       "      <th>Date</th>\n",
       "      <th></th>\n",
       "      <th></th>\n",
       "      <th></th>\n",
       "    </tr>\n",
       "  </thead>\n",
       "  <tbody>\n",
       "    <tr>\n",
       "      <th>2021-10-01</th>\n",
       "      <td>258.406677</td>\n",
       "      <td>0.213078</td>\n",
       "      <td>0.0000</td>\n",
       "    </tr>\n",
       "    <tr>\n",
       "      <th>2021-10-04</th>\n",
       "      <td>260.510010</td>\n",
       "      <td>0.257956</td>\n",
       "      <td>-0.0772</td>\n",
       "    </tr>\n",
       "    <tr>\n",
       "      <th>2021-10-05</th>\n",
       "      <td>260.196655</td>\n",
       "      <td>0.106842</td>\n",
       "      <td>0.0000</td>\n",
       "    </tr>\n",
       "    <tr>\n",
       "      <th>2021-10-06</th>\n",
       "      <td>260.916656</td>\n",
       "      <td>0.083851</td>\n",
       "      <td>-0.1308</td>\n",
       "    </tr>\n",
       "    <tr>\n",
       "      <th>2021-10-07</th>\n",
       "      <td>264.536682</td>\n",
       "      <td>0.223397</td>\n",
       "      <td>-0.3400</td>\n",
       "    </tr>\n",
       "    <tr>\n",
       "      <th>...</th>\n",
       "      <td>...</td>\n",
       "      <td>...</td>\n",
       "      <td>...</td>\n",
       "    </tr>\n",
       "    <tr>\n",
       "      <th>2022-09-23</th>\n",
       "      <td>-22.076447</td>\n",
       "      <td>0.079507</td>\n",
       "      <td>0.0000</td>\n",
       "    </tr>\n",
       "    <tr>\n",
       "      <th>2022-09-26</th>\n",
       "      <td>-15.785431</td>\n",
       "      <td>0.119892</td>\n",
       "      <td>0.0000</td>\n",
       "    </tr>\n",
       "    <tr>\n",
       "      <th>2022-09-27</th>\n",
       "      <td>-4.337952</td>\n",
       "      <td>0.170785</td>\n",
       "      <td>0.0000</td>\n",
       "    </tr>\n",
       "    <tr>\n",
       "      <th>2022-09-28</th>\n",
       "      <td>2.636749</td>\n",
       "      <td>0.192374</td>\n",
       "      <td>0.0000</td>\n",
       "    </tr>\n",
       "    <tr>\n",
       "      <th>2022-09-29</th>\n",
       "      <td>-16.452393</td>\n",
       "      <td>0.143788</td>\n",
       "      <td>0.0000</td>\n",
       "    </tr>\n",
       "  </tbody>\n",
       "</table>\n",
       "<p>251 rows × 3 columns</p>\n",
       "</div>"
      ],
      "text/plain": [
       "                     0  compound_x  compound_y\n",
       "Date                                          \n",
       "2021-10-01  258.406677    0.213078      0.0000\n",
       "2021-10-04  260.510010    0.257956     -0.0772\n",
       "2021-10-05  260.196655    0.106842      0.0000\n",
       "2021-10-06  260.916656    0.083851     -0.1308\n",
       "2021-10-07  264.536682    0.223397     -0.3400\n",
       "...                ...         ...         ...\n",
       "2022-09-23  -22.076447    0.079507      0.0000\n",
       "2022-09-26  -15.785431    0.119892      0.0000\n",
       "2022-09-27   -4.337952    0.170785      0.0000\n",
       "2022-09-28    2.636749    0.192374      0.0000\n",
       "2022-09-29  -16.452393    0.143788      0.0000\n",
       "\n",
       "[251 rows x 3 columns]"
      ]
     },
     "execution_count": 46,
     "metadata": {},
     "output_type": "execute_result"
    }
   ],
   "source": [
    "df11 = pd.merge(Diff,df10,left_index = True,right_index = True)\n",
    "df11"
   ]
  },
  {
   "cell_type": "code",
   "execution_count": 47,
   "id": "c76ff482",
   "metadata": {
    "scrolled": true
   },
   "outputs": [
    {
     "data": {
      "text/html": [
       "<div>\n",
       "<style scoped>\n",
       "    .dataframe tbody tr th:only-of-type {\n",
       "        vertical-align: middle;\n",
       "    }\n",
       "\n",
       "    .dataframe tbody tr th {\n",
       "        vertical-align: top;\n",
       "    }\n",
       "\n",
       "    .dataframe thead th {\n",
       "        text-align: right;\n",
       "    }\n",
       "</style>\n",
       "<table border=\"1\" class=\"dataframe\">\n",
       "  <thead>\n",
       "    <tr style=\"text-align: right;\">\n",
       "      <th></th>\n",
       "      <th>0</th>\n",
       "      <th>compound_x</th>\n",
       "      <th>compound_y</th>\n",
       "    </tr>\n",
       "    <tr>\n",
       "      <th>Date</th>\n",
       "      <th></th>\n",
       "      <th></th>\n",
       "      <th></th>\n",
       "    </tr>\n",
       "  </thead>\n",
       "  <tbody>\n",
       "    <tr>\n",
       "      <th>2022-01-05</th>\n",
       "      <td>3.603149</td>\n",
       "      <td>0.096747</td>\n",
       "      <td>0.0</td>\n",
       "    </tr>\n",
       "    <tr>\n",
       "      <th>2022-01-06</th>\n",
       "      <td>-3.663635</td>\n",
       "      <td>0.119854</td>\n",
       "      <td>0.0</td>\n",
       "    </tr>\n",
       "    <tr>\n",
       "      <th>2022-01-07</th>\n",
       "      <td>-13.533752</td>\n",
       "      <td>0.157615</td>\n",
       "      <td>0.0</td>\n",
       "    </tr>\n",
       "    <tr>\n",
       "      <th>2022-01-10</th>\n",
       "      <td>2.213562</td>\n",
       "      <td>0.159077</td>\n",
       "      <td>0.0</td>\n",
       "    </tr>\n",
       "    <tr>\n",
       "      <th>2022-01-11</th>\n",
       "      <td>6.724030</td>\n",
       "      <td>0.188310</td>\n",
       "      <td>0.0</td>\n",
       "    </tr>\n",
       "    <tr>\n",
       "      <th>...</th>\n",
       "      <td>...</td>\n",
       "      <td>...</td>\n",
       "      <td>...</td>\n",
       "    </tr>\n",
       "    <tr>\n",
       "      <th>2022-09-23</th>\n",
       "      <td>-22.076447</td>\n",
       "      <td>0.079507</td>\n",
       "      <td>0.0</td>\n",
       "    </tr>\n",
       "    <tr>\n",
       "      <th>2022-09-26</th>\n",
       "      <td>-15.785431</td>\n",
       "      <td>0.119892</td>\n",
       "      <td>0.0</td>\n",
       "    </tr>\n",
       "    <tr>\n",
       "      <th>2022-09-27</th>\n",
       "      <td>-4.337952</td>\n",
       "      <td>0.170785</td>\n",
       "      <td>0.0</td>\n",
       "    </tr>\n",
       "    <tr>\n",
       "      <th>2022-09-28</th>\n",
       "      <td>2.636749</td>\n",
       "      <td>0.192374</td>\n",
       "      <td>0.0</td>\n",
       "    </tr>\n",
       "    <tr>\n",
       "      <th>2022-09-29</th>\n",
       "      <td>-16.452393</td>\n",
       "      <td>0.143788</td>\n",
       "      <td>0.0</td>\n",
       "    </tr>\n",
       "  </tbody>\n",
       "</table>\n",
       "<p>185 rows × 3 columns</p>\n",
       "</div>"
      ],
      "text/plain": [
       "                    0  compound_x  compound_y\n",
       "Date                                         \n",
       "2022-01-05   3.603149    0.096747         0.0\n",
       "2022-01-06  -3.663635    0.119854         0.0\n",
       "2022-01-07 -13.533752    0.157615         0.0\n",
       "2022-01-10   2.213562    0.159077         0.0\n",
       "2022-01-11   6.724030    0.188310         0.0\n",
       "...               ...         ...         ...\n",
       "2022-09-23 -22.076447    0.079507         0.0\n",
       "2022-09-26 -15.785431    0.119892         0.0\n",
       "2022-09-27  -4.337952    0.170785         0.0\n",
       "2022-09-28   2.636749    0.192374         0.0\n",
       "2022-09-29 -16.452393    0.143788         0.0\n",
       "\n",
       "[185 rows x 3 columns]"
      ]
     },
     "execution_count": 47,
     "metadata": {},
     "output_type": "execute_result"
    }
   ],
   "source": [
    "df12 = df11[66:]\n",
    "df12"
   ]
  },
  {
   "cell_type": "code",
   "execution_count": 48,
   "id": "3c936faa",
   "metadata": {
    "scrolled": true
   },
   "outputs": [
    {
     "data": {
      "text/html": [
       "<div>\n",
       "<style scoped>\n",
       "    .dataframe tbody tr th:only-of-type {\n",
       "        vertical-align: middle;\n",
       "    }\n",
       "\n",
       "    .dataframe tbody tr th {\n",
       "        vertical-align: top;\n",
       "    }\n",
       "\n",
       "    .dataframe thead th {\n",
       "        text-align: right;\n",
       "    }\n",
       "</style>\n",
       "<table border=\"1\" class=\"dataframe\">\n",
       "  <thead>\n",
       "    <tr style=\"text-align: right;\">\n",
       "      <th></th>\n",
       "      <th>Diff</th>\n",
       "      <th>Prev_Tweet_sent</th>\n",
       "      <th>Prev_News_sent</th>\n",
       "    </tr>\n",
       "    <tr>\n",
       "      <th>Date</th>\n",
       "      <th></th>\n",
       "      <th></th>\n",
       "      <th></th>\n",
       "    </tr>\n",
       "  </thead>\n",
       "  <tbody>\n",
       "    <tr>\n",
       "      <th>2022-01-05</th>\n",
       "      <td>3.603149</td>\n",
       "      <td>0.096747</td>\n",
       "      <td>0.0</td>\n",
       "    </tr>\n",
       "    <tr>\n",
       "      <th>2022-01-06</th>\n",
       "      <td>-3.663635</td>\n",
       "      <td>0.119854</td>\n",
       "      <td>0.0</td>\n",
       "    </tr>\n",
       "    <tr>\n",
       "      <th>2022-01-07</th>\n",
       "      <td>-13.533752</td>\n",
       "      <td>0.157615</td>\n",
       "      <td>0.0</td>\n",
       "    </tr>\n",
       "    <tr>\n",
       "      <th>2022-01-10</th>\n",
       "      <td>2.213562</td>\n",
       "      <td>0.159077</td>\n",
       "      <td>0.0</td>\n",
       "    </tr>\n",
       "    <tr>\n",
       "      <th>2022-01-11</th>\n",
       "      <td>6.724030</td>\n",
       "      <td>0.188310</td>\n",
       "      <td>0.0</td>\n",
       "    </tr>\n",
       "    <tr>\n",
       "      <th>...</th>\n",
       "      <td>...</td>\n",
       "      <td>...</td>\n",
       "      <td>...</td>\n",
       "    </tr>\n",
       "    <tr>\n",
       "      <th>2022-09-23</th>\n",
       "      <td>-22.076447</td>\n",
       "      <td>0.079507</td>\n",
       "      <td>0.0</td>\n",
       "    </tr>\n",
       "    <tr>\n",
       "      <th>2022-09-26</th>\n",
       "      <td>-15.785431</td>\n",
       "      <td>0.119892</td>\n",
       "      <td>0.0</td>\n",
       "    </tr>\n",
       "    <tr>\n",
       "      <th>2022-09-27</th>\n",
       "      <td>-4.337952</td>\n",
       "      <td>0.170785</td>\n",
       "      <td>0.0</td>\n",
       "    </tr>\n",
       "    <tr>\n",
       "      <th>2022-09-28</th>\n",
       "      <td>2.636749</td>\n",
       "      <td>0.192374</td>\n",
       "      <td>0.0</td>\n",
       "    </tr>\n",
       "    <tr>\n",
       "      <th>2022-09-29</th>\n",
       "      <td>-16.452393</td>\n",
       "      <td>0.143788</td>\n",
       "      <td>0.0</td>\n",
       "    </tr>\n",
       "  </tbody>\n",
       "</table>\n",
       "<p>185 rows × 3 columns</p>\n",
       "</div>"
      ],
      "text/plain": [
       "                 Diff  Prev_Tweet_sent  Prev_News_sent\n",
       "Date                                                  \n",
       "2022-01-05   3.603149         0.096747             0.0\n",
       "2022-01-06  -3.663635         0.119854             0.0\n",
       "2022-01-07 -13.533752         0.157615             0.0\n",
       "2022-01-10   2.213562         0.159077             0.0\n",
       "2022-01-11   6.724030         0.188310             0.0\n",
       "...               ...              ...             ...\n",
       "2022-09-23 -22.076447         0.079507             0.0\n",
       "2022-09-26 -15.785431         0.119892             0.0\n",
       "2022-09-27  -4.337952         0.170785             0.0\n",
       "2022-09-28   2.636749         0.192374             0.0\n",
       "2022-09-29 -16.452393         0.143788             0.0\n",
       "\n",
       "[185 rows x 3 columns]"
      ]
     },
     "execution_count": 48,
     "metadata": {},
     "output_type": "execute_result"
    }
   ],
   "source": [
    "df12.columns = ['Diff','Prev_Tweet_sent','Prev_News_sent']\n",
    "df12"
   ]
  },
  {
   "cell_type": "code",
   "execution_count": 49,
   "id": "ccea419e",
   "metadata": {},
   "outputs": [
    {
     "data": {
      "text/plain": [
       "Date\n",
       "2022-01-05     3.603149\n",
       "2022-01-06    -3.663635\n",
       "2022-01-07   -13.533752\n",
       "2022-01-10     2.213562\n",
       "2022-01-11     6.724030\n",
       "                ...    \n",
       "2022-09-23   -22.076447\n",
       "2022-09-26   -15.785431\n",
       "2022-09-27    -4.337952\n",
       "2022-09-28     2.636749\n",
       "2022-09-29   -16.452393\n",
       "Name: Diff, Length: 185, dtype: float64"
      ]
     },
     "execution_count": 49,
     "metadata": {},
     "output_type": "execute_result"
    }
   ],
   "source": [
    "y= df12.iloc[:,0]\n",
    "y"
   ]
  },
  {
   "cell_type": "code",
   "execution_count": 50,
   "id": "e4da2a8f",
   "metadata": {
    "scrolled": true
   },
   "outputs": [
    {
     "data": {
      "text/html": [
       "<div>\n",
       "<style scoped>\n",
       "    .dataframe tbody tr th:only-of-type {\n",
       "        vertical-align: middle;\n",
       "    }\n",
       "\n",
       "    .dataframe tbody tr th {\n",
       "        vertical-align: top;\n",
       "    }\n",
       "\n",
       "    .dataframe thead th {\n",
       "        text-align: right;\n",
       "    }\n",
       "</style>\n",
       "<table border=\"1\" class=\"dataframe\">\n",
       "  <thead>\n",
       "    <tr style=\"text-align: right;\">\n",
       "      <th></th>\n",
       "      <th>Prev_Tweet_sent</th>\n",
       "      <th>Prev_News_sent</th>\n",
       "    </tr>\n",
       "    <tr>\n",
       "      <th>Date</th>\n",
       "      <th></th>\n",
       "      <th></th>\n",
       "    </tr>\n",
       "  </thead>\n",
       "  <tbody>\n",
       "    <tr>\n",
       "      <th>2022-01-05</th>\n",
       "      <td>0.096747</td>\n",
       "      <td>0.0</td>\n",
       "    </tr>\n",
       "    <tr>\n",
       "      <th>2022-01-06</th>\n",
       "      <td>0.119854</td>\n",
       "      <td>0.0</td>\n",
       "    </tr>\n",
       "    <tr>\n",
       "      <th>2022-01-07</th>\n",
       "      <td>0.157615</td>\n",
       "      <td>0.0</td>\n",
       "    </tr>\n",
       "    <tr>\n",
       "      <th>2022-01-10</th>\n",
       "      <td>0.159077</td>\n",
       "      <td>0.0</td>\n",
       "    </tr>\n",
       "    <tr>\n",
       "      <th>2022-01-11</th>\n",
       "      <td>0.188310</td>\n",
       "      <td>0.0</td>\n",
       "    </tr>\n",
       "    <tr>\n",
       "      <th>...</th>\n",
       "      <td>...</td>\n",
       "      <td>...</td>\n",
       "    </tr>\n",
       "    <tr>\n",
       "      <th>2022-09-23</th>\n",
       "      <td>0.079507</td>\n",
       "      <td>0.0</td>\n",
       "    </tr>\n",
       "    <tr>\n",
       "      <th>2022-09-26</th>\n",
       "      <td>0.119892</td>\n",
       "      <td>0.0</td>\n",
       "    </tr>\n",
       "    <tr>\n",
       "      <th>2022-09-27</th>\n",
       "      <td>0.170785</td>\n",
       "      <td>0.0</td>\n",
       "    </tr>\n",
       "    <tr>\n",
       "      <th>2022-09-28</th>\n",
       "      <td>0.192374</td>\n",
       "      <td>0.0</td>\n",
       "    </tr>\n",
       "    <tr>\n",
       "      <th>2022-09-29</th>\n",
       "      <td>0.143788</td>\n",
       "      <td>0.0</td>\n",
       "    </tr>\n",
       "  </tbody>\n",
       "</table>\n",
       "<p>185 rows × 2 columns</p>\n",
       "</div>"
      ],
      "text/plain": [
       "            Prev_Tweet_sent  Prev_News_sent\n",
       "Date                                       \n",
       "2022-01-05         0.096747             0.0\n",
       "2022-01-06         0.119854             0.0\n",
       "2022-01-07         0.157615             0.0\n",
       "2022-01-10         0.159077             0.0\n",
       "2022-01-11         0.188310             0.0\n",
       "...                     ...             ...\n",
       "2022-09-23         0.079507             0.0\n",
       "2022-09-26         0.119892             0.0\n",
       "2022-09-27         0.170785             0.0\n",
       "2022-09-28         0.192374             0.0\n",
       "2022-09-29         0.143788             0.0\n",
       "\n",
       "[185 rows x 2 columns]"
      ]
     },
     "execution_count": 50,
     "metadata": {},
     "output_type": "execute_result"
    }
   ],
   "source": [
    "x = df12.iloc[:,[1,2]]\n",
    "x"
   ]
  },
  {
   "cell_type": "code",
   "execution_count": 51,
   "id": "ee923ddc",
   "metadata": {},
   "outputs": [],
   "source": [
    "from sklearn import linear_model\n",
    "from sklearn.model_selection import train_test_split\n",
    "from sklearn.metrics import accuracy_score"
   ]
  },
  {
   "cell_type": "code",
   "execution_count": 52,
   "id": "b5c3100b",
   "metadata": {},
   "outputs": [],
   "source": [
    "x_train,x_test,y_train,y_test = train_test_split(x,y,test_size = 0.2,random_state = 10)"
   ]
  },
  {
   "cell_type": "code",
   "execution_count": 53,
   "id": "5025fd98",
   "metadata": {
    "scrolled": true
   },
   "outputs": [
    {
     "data": {
      "text/plain": [
       "LinearRegression()"
      ]
     },
     "execution_count": 53,
     "metadata": {},
     "output_type": "execute_result"
    }
   ],
   "source": [
    "reg = linear_model.LinearRegression()\n",
    "reg.fit(x_train,y_train)"
   ]
  },
  {
   "cell_type": "code",
   "execution_count": 54,
   "id": "7ce48322",
   "metadata": {},
   "outputs": [],
   "source": [
    "y_test = np.array(y_test)"
   ]
  },
  {
   "cell_type": "code",
   "execution_count": 55,
   "id": "6e33e706",
   "metadata": {},
   "outputs": [],
   "source": [
    "#Convert x_test to a numpy array \n",
    "x_test = np.array(x_test)"
   ]
  },
  {
   "cell_type": "code",
   "execution_count": 56,
   "id": "5dc8b05d",
   "metadata": {
    "scrolled": true
   },
   "outputs": [
    {
     "name": "stderr",
     "output_type": "stream",
     "text": [
      "C:\\Users\\vella\\anaconda3\\lib\\site-packages\\sklearn\\base.py:450: UserWarning: X does not have valid feature names, but LinearRegression was fitted with feature names\n",
      "  warnings.warn(\n"
     ]
    }
   ],
   "source": [
    "Diff_pred = reg.predict(x_test)"
   ]
  },
  {
   "cell_type": "code",
   "execution_count": 57,
   "id": "1c701897",
   "metadata": {
    "scrolled": true
   },
   "outputs": [
    {
     "data": {
      "text/plain": [
       "11.457352367769369"
      ]
     },
     "execution_count": 57,
     "metadata": {},
     "output_type": "execute_result"
    }
   ],
   "source": [
    "#Calculate/Get the value of RMSE\n",
    "rmse=np.sqrt(np.mean(((Diff_pred- y_test)**2)))\n",
    "rmse"
   ]
  },
  {
   "cell_type": "code",
   "execution_count": 58,
   "id": "8ff6bbf0",
   "metadata": {},
   "outputs": [],
   "source": [
    "x_full = np.array(x)"
   ]
  },
  {
   "cell_type": "code",
   "execution_count": 59,
   "id": "69360a74",
   "metadata": {
    "scrolled": true
   },
   "outputs": [
    {
     "name": "stderr",
     "output_type": "stream",
     "text": [
      "C:\\Users\\vella\\anaconda3\\lib\\site-packages\\sklearn\\base.py:450: UserWarning: X does not have valid feature names, but LinearRegression was fitted with feature names\n",
      "  warnings.warn(\n"
     ]
    },
    {
     "data": {
      "text/html": [
       "<div>\n",
       "<style scoped>\n",
       "    .dataframe tbody tr th:only-of-type {\n",
       "        vertical-align: middle;\n",
       "    }\n",
       "\n",
       "    .dataframe tbody tr th {\n",
       "        vertical-align: top;\n",
       "    }\n",
       "\n",
       "    .dataframe thead th {\n",
       "        text-align: right;\n",
       "    }\n",
       "</style>\n",
       "<table border=\"1\" class=\"dataframe\">\n",
       "  <thead>\n",
       "    <tr style=\"text-align: right;\">\n",
       "      <th></th>\n",
       "      <th>0</th>\n",
       "    </tr>\n",
       "  </thead>\n",
       "  <tbody>\n",
       "    <tr>\n",
       "      <th>0</th>\n",
       "      <td>-2.509389</td>\n",
       "    </tr>\n",
       "    <tr>\n",
       "      <th>1</th>\n",
       "      <td>-1.294523</td>\n",
       "    </tr>\n",
       "    <tr>\n",
       "      <th>2</th>\n",
       "      <td>0.690788</td>\n",
       "    </tr>\n",
       "    <tr>\n",
       "      <th>3</th>\n",
       "      <td>0.767668</td>\n",
       "    </tr>\n",
       "    <tr>\n",
       "      <th>4</th>\n",
       "      <td>2.304640</td>\n",
       "    </tr>\n",
       "    <tr>\n",
       "      <th>...</th>\n",
       "      <td>...</td>\n",
       "    </tr>\n",
       "    <tr>\n",
       "      <th>180</th>\n",
       "      <td>-3.415799</td>\n",
       "    </tr>\n",
       "    <tr>\n",
       "      <th>181</th>\n",
       "      <td>-1.292538</td>\n",
       "    </tr>\n",
       "    <tr>\n",
       "      <th>182</th>\n",
       "      <td>1.383227</td>\n",
       "    </tr>\n",
       "    <tr>\n",
       "      <th>183</th>\n",
       "      <td>2.518316</td>\n",
       "    </tr>\n",
       "    <tr>\n",
       "      <th>184</th>\n",
       "      <td>-0.036159</td>\n",
       "    </tr>\n",
       "  </tbody>\n",
       "</table>\n",
       "<p>185 rows × 1 columns</p>\n",
       "</div>"
      ],
      "text/plain": [
       "            0\n",
       "0   -2.509389\n",
       "1   -1.294523\n",
       "2    0.690788\n",
       "3    0.767668\n",
       "4    2.304640\n",
       "..        ...\n",
       "180 -3.415799\n",
       "181 -1.292538\n",
       "182  1.383227\n",
       "183  2.518316\n",
       "184 -0.036159\n",
       "\n",
       "[185 rows x 1 columns]"
      ]
     },
     "execution_count": 59,
     "metadata": {},
     "output_type": "execute_result"
    }
   ],
   "source": [
    "Pred_diff = reg.predict(x_full)\n",
    "Pred_diff = pd.DataFrame(Pred_diff)\n",
    "Pred_diff"
   ]
  },
  {
   "cell_type": "code",
   "execution_count": 60,
   "id": "b985d0a0",
   "metadata": {},
   "outputs": [
    {
     "data": {
      "text/html": [
       "<div>\n",
       "<style scoped>\n",
       "    .dataframe tbody tr th:only-of-type {\n",
       "        vertical-align: middle;\n",
       "    }\n",
       "\n",
       "    .dataframe tbody tr th {\n",
       "        vertical-align: top;\n",
       "    }\n",
       "\n",
       "    .dataframe thead th {\n",
       "        text-align: right;\n",
       "    }\n",
       "</style>\n",
       "<table border=\"1\" class=\"dataframe\">\n",
       "  <thead>\n",
       "    <tr style=\"text-align: right;\">\n",
       "      <th></th>\n",
       "      <th>Pred_diff</th>\n",
       "    </tr>\n",
       "  </thead>\n",
       "  <tbody>\n",
       "    <tr>\n",
       "      <th>0</th>\n",
       "      <td>-2.509389</td>\n",
       "    </tr>\n",
       "    <tr>\n",
       "      <th>1</th>\n",
       "      <td>-1.294523</td>\n",
       "    </tr>\n",
       "    <tr>\n",
       "      <th>2</th>\n",
       "      <td>0.690788</td>\n",
       "    </tr>\n",
       "    <tr>\n",
       "      <th>3</th>\n",
       "      <td>0.767668</td>\n",
       "    </tr>\n",
       "    <tr>\n",
       "      <th>4</th>\n",
       "      <td>2.304640</td>\n",
       "    </tr>\n",
       "    <tr>\n",
       "      <th>...</th>\n",
       "      <td>...</td>\n",
       "    </tr>\n",
       "    <tr>\n",
       "      <th>180</th>\n",
       "      <td>-3.415799</td>\n",
       "    </tr>\n",
       "    <tr>\n",
       "      <th>181</th>\n",
       "      <td>-1.292538</td>\n",
       "    </tr>\n",
       "    <tr>\n",
       "      <th>182</th>\n",
       "      <td>1.383227</td>\n",
       "    </tr>\n",
       "    <tr>\n",
       "      <th>183</th>\n",
       "      <td>2.518316</td>\n",
       "    </tr>\n",
       "    <tr>\n",
       "      <th>184</th>\n",
       "      <td>-0.036159</td>\n",
       "    </tr>\n",
       "  </tbody>\n",
       "</table>\n",
       "<p>185 rows × 1 columns</p>\n",
       "</div>"
      ],
      "text/plain": [
       "     Pred_diff\n",
       "0    -2.509389\n",
       "1    -1.294523\n",
       "2     0.690788\n",
       "3     0.767668\n",
       "4     2.304640\n",
       "..         ...\n",
       "180  -3.415799\n",
       "181  -1.292538\n",
       "182   1.383227\n",
       "183   2.518316\n",
       "184  -0.036159\n",
       "\n",
       "[185 rows x 1 columns]"
      ]
     },
     "execution_count": 60,
     "metadata": {},
     "output_type": "execute_result"
    }
   ],
   "source": [
    "Pred_diff.columns = [\"Pred_diff\"]\n",
    "Pred_diff"
   ]
  },
  {
   "cell_type": "code",
   "execution_count": 61,
   "id": "aa475b83",
   "metadata": {},
   "outputs": [],
   "source": [
    "New_Pred = df7[\"Prediction\"].values + Pred_diff[\"Pred_diff\"].values"
   ]
  },
  {
   "cell_type": "code",
   "execution_count": 62,
   "id": "2e4d86fb",
   "metadata": {
    "scrolled": true
   },
   "outputs": [
    {
     "data": {
      "text/plain": [
       "array([356.59412651, 357.26910573, 356.54454764, 351.26077078,\n",
       "       350.38059784, 349.42079604, 350.52044016, 342.83416381,\n",
       "       346.57987931, 340.55772881, 330.9438221 , 331.7793308 ,\n",
       "       322.22867287, 313.70034637, 310.15544745, 309.39933756,\n",
       "       296.28587778, 294.32253315, 294.09203851, 296.45555673,\n",
       "       292.00816742, 292.79784884, 300.85937715, 291.66171979,\n",
       "       297.7794779 , 297.70761152, 302.60711973, 295.14936075,\n",
       "       299.36402652, 303.98804814, 297.84861107, 293.803621  ,\n",
       "       287.74955771, 287.18612938, 277.48728592, 269.18755842,\n",
       "       283.36764726, 276.94295546, 283.44127407, 279.40411553,\n",
       "       283.53600482, 289.62345291, 277.58171905, 277.52667865,\n",
       "       280.54910956, 277.32692778, 277.19167224, 261.73661827,\n",
       "       269.21322216, 269.20191887, 282.86000966, 278.08752048,\n",
       "       288.23960825, 302.41202702, 308.60634281, 319.30357428,\n",
       "       318.17760002, 332.67118775, 343.72835833, 343.01578392,\n",
       "       351.9118476 , 353.08781847, 360.62691686, 359.63993476,\n",
       "       355.30406442, 354.43160649, 353.58309401, 340.75564022,\n",
       "       332.1413807 , 327.65324125, 330.51599547, 321.15558165,\n",
       "       325.21210686, 324.58252411, 323.55510303, 324.16902681,\n",
       "       328.78348022, 312.49286186, 306.34076778, 302.79662224,\n",
       "       298.83448947, 298.11437982, 297.92090413, 296.97647389,\n",
       "       296.98937075, 292.23473246, 281.56069809, 272.85124461,\n",
       "       261.85582713, 259.66181462, 252.36767219, 248.39857061,\n",
       "       248.87146335, 243.00998069, 243.58727005, 236.9869709 ,\n",
       "       234.77969646, 230.02810221, 225.73873611, 235.86274526,\n",
       "       234.68211322, 244.81913031, 243.48422849, 253.28011902,\n",
       "       241.73237168, 241.83904803, 244.63106274, 247.60982941,\n",
       "       252.41114035, 246.11110593, 238.60149234, 237.17630326,\n",
       "       240.90539785, 232.164314  , 237.54883684, 233.87853923,\n",
       "       234.17084829, 230.08602162, 240.27841701, 247.54326596,\n",
       "       244.47056591, 240.31365227, 236.41701126, 238.20416341,\n",
       "       234.9903083 , 240.52081401, 231.65229659, 248.85772365,\n",
       "       243.579593  , 240.94211814, 243.53457216, 247.81122688,\n",
       "       246.68296538, 248.16207289, 243.26072172, 247.74755289,\n",
       "       253.84581767, 260.20781396, 269.7659652 , 262.61913429,\n",
       "       266.84857822, 279.41820046, 280.17704576, 283.85832415,\n",
       "       292.76500454, 297.66842211, 299.50564637, 302.64267527,\n",
       "       296.55724296, 290.78103613, 297.46835013, 294.35793699,\n",
       "       297.62708033, 296.00329891, 299.31483952, 294.99753619,\n",
       "       299.37334566, 306.58908264, 299.40309684, 292.88533114,\n",
       "       295.24068967, 294.8982045 , 292.0129133 , 291.10161576,\n",
       "       287.08359181, 285.10665396, 280.71564718, 275.51059696,\n",
       "       275.52821127, 278.01285112, 277.77865367, 290.43988449,\n",
       "       287.46092341, 289.27109325, 294.16754943, 294.18452211,\n",
       "       296.06037454, 299.46708819, 296.34632676, 301.1169333 ,\n",
       "       293.99063453, 290.50290308, 288.66118087, 287.69156381,\n",
       "       284.62622526])"
      ]
     },
     "execution_count": 62,
     "metadata": {},
     "output_type": "execute_result"
    }
   ],
   "source": [
    "New_Pred"
   ]
  },
  {
   "cell_type": "code",
   "execution_count": 63,
   "id": "dc2b5ec5",
   "metadata": {},
   "outputs": [
    {
     "name": "stderr",
     "output_type": "stream",
     "text": [
      "C:\\Users\\vella\\AppData\\Local\\Temp\\ipykernel_15504\\2773255944.py:1: SettingWithCopyWarning: \n",
      "A value is trying to be set on a copy of a slice from a DataFrame.\n",
      "Try using .loc[row_indexer,col_indexer] = value instead\n",
      "\n",
      "See the caveats in the documentation: https://pandas.pydata.org/pandas-docs/stable/user_guide/indexing.html#returning-a-view-versus-a-copy\n",
      "  df7[\"New_Pred\"] = New_Pred\n"
     ]
    }
   ],
   "source": [
    "df7[\"New_Pred\"] = New_Pred"
   ]
  },
  {
   "cell_type": "code",
   "execution_count": 64,
   "id": "ac53355f",
   "metadata": {},
   "outputs": [
    {
     "data": {
      "text/html": [
       "<div>\n",
       "<style scoped>\n",
       "    .dataframe tbody tr th:only-of-type {\n",
       "        vertical-align: middle;\n",
       "    }\n",
       "\n",
       "    .dataframe tbody tr th {\n",
       "        vertical-align: top;\n",
       "    }\n",
       "\n",
       "    .dataframe thead th {\n",
       "        text-align: right;\n",
       "    }\n",
       "</style>\n",
       "<table border=\"1\" class=\"dataframe\">\n",
       "  <thead>\n",
       "    <tr style=\"text-align: right;\">\n",
       "      <th></th>\n",
       "      <th>Close</th>\n",
       "      <th>Prediction</th>\n",
       "      <th>New_Pred</th>\n",
       "    </tr>\n",
       "    <tr>\n",
       "      <th>Date</th>\n",
       "      <th></th>\n",
       "      <th></th>\n",
       "      <th></th>\n",
       "    </tr>\n",
       "  </thead>\n",
       "  <tbody>\n",
       "    <tr>\n",
       "      <th>2022-01-05</th>\n",
       "      <td>362.706665</td>\n",
       "      <td>359.103516</td>\n",
       "      <td>356.594127</td>\n",
       "    </tr>\n",
       "    <tr>\n",
       "      <th>2022-01-06</th>\n",
       "      <td>354.899994</td>\n",
       "      <td>358.563629</td>\n",
       "      <td>357.269106</td>\n",
       "    </tr>\n",
       "    <tr>\n",
       "      <th>2022-01-07</th>\n",
       "      <td>342.320007</td>\n",
       "      <td>355.853760</td>\n",
       "      <td>356.544548</td>\n",
       "    </tr>\n",
       "    <tr>\n",
       "      <th>2022-01-10</th>\n",
       "      <td>352.706665</td>\n",
       "      <td>350.493103</td>\n",
       "      <td>351.260771</td>\n",
       "    </tr>\n",
       "    <tr>\n",
       "      <th>2022-01-11</th>\n",
       "      <td>354.799988</td>\n",
       "      <td>348.075958</td>\n",
       "      <td>350.380598</td>\n",
       "    </tr>\n",
       "    <tr>\n",
       "      <th>...</th>\n",
       "      <td>...</td>\n",
       "      <td>...</td>\n",
       "      <td>...</td>\n",
       "    </tr>\n",
       "    <tr>\n",
       "      <th>2022-09-23</th>\n",
       "      <td>275.329987</td>\n",
       "      <td>297.406433</td>\n",
       "      <td>293.990635</td>\n",
       "    </tr>\n",
       "    <tr>\n",
       "      <th>2022-09-26</th>\n",
       "      <td>276.010010</td>\n",
       "      <td>291.795441</td>\n",
       "      <td>290.502903</td>\n",
       "    </tr>\n",
       "    <tr>\n",
       "      <th>2022-09-27</th>\n",
       "      <td>282.940002</td>\n",
       "      <td>287.277954</td>\n",
       "      <td>288.661181</td>\n",
       "    </tr>\n",
       "    <tr>\n",
       "      <th>2022-09-28</th>\n",
       "      <td>287.809998</td>\n",
       "      <td>285.173248</td>\n",
       "      <td>287.691564</td>\n",
       "    </tr>\n",
       "    <tr>\n",
       "      <th>2022-09-29</th>\n",
       "      <td>268.209991</td>\n",
       "      <td>284.662384</td>\n",
       "      <td>284.626225</td>\n",
       "    </tr>\n",
       "  </tbody>\n",
       "</table>\n",
       "<p>185 rows × 3 columns</p>\n",
       "</div>"
      ],
      "text/plain": [
       "                 Close  Prediction    New_Pred\n",
       "Date                                          \n",
       "2022-01-05  362.706665  359.103516  356.594127\n",
       "2022-01-06  354.899994  358.563629  357.269106\n",
       "2022-01-07  342.320007  355.853760  356.544548\n",
       "2022-01-10  352.706665  350.493103  351.260771\n",
       "2022-01-11  354.799988  348.075958  350.380598\n",
       "...                ...         ...         ...\n",
       "2022-09-23  275.329987  297.406433  293.990635\n",
       "2022-09-26  276.010010  291.795441  290.502903\n",
       "2022-09-27  282.940002  287.277954  288.661181\n",
       "2022-09-28  287.809998  285.173248  287.691564\n",
       "2022-09-29  268.209991  284.662384  284.626225\n",
       "\n",
       "[185 rows x 3 columns]"
      ]
     },
     "execution_count": 64,
     "metadata": {},
     "output_type": "execute_result"
    }
   ],
   "source": [
    "df7"
   ]
  },
  {
   "cell_type": "code",
   "execution_count": 65,
   "id": "9563b73a",
   "metadata": {},
   "outputs": [
    {
     "data": {
      "image/png": "[encoded data removed]",
      "text/plain": [
       "<Figure size 640x480 with 1 Axes>"
      ]
     },
     "metadata": {},
     "output_type": "display_data"
    },
    {
     "data": {
      "image/png": "[encoded data removed]",
      "text/plain": [
       "<Figure size 640x480 with 1 Axes>"
      ]
     },
     "metadata": {},
     "output_type": "display_data"
    }
   ],
   "source": [
    "import matplotlib.pyplot as plt\n",
    "plt.plot(df7[['Close', 'New_Pred']])\n",
    "plt.legend(['Actual', 'Final Prediction'], loc='lower right')\n",
    "plt.show()\n",
    "import matplotlib.pyplot as plt\n",
    "plt.plot(df7[['Close', 'Prediction']])\n",
    "plt.legend(['Actual', 'Predictions'], loc='lower right')\n",
    "plt.show()"
   ]
  },
  {
   "cell_type": "code",
   "execution_count": 66,
   "id": "c883cd6c",
   "metadata": {},
   "outputs": [
    {
     "data": {
      "text/plain": [
       "14.634204107641644"
      ]
     },
     "execution_count": 66,
     "metadata": {},
     "output_type": "execute_result"
    }
   ],
   "source": [
    "#Calculate/Get the value of RMSE\n",
    "rmse=np.sqrt(np.mean(((df7['Close']- df7['New_Pred'])**2)))\n",
    "rmse"
   ]
  },
  {
   "cell_type": "code",
   "execution_count": 67,
   "id": "7227f641",
   "metadata": {},
   "outputs": [],
   "source": [
    "def calculate_mape(y_true, y_pred):\n",
    "    \"\"\"\n",
    "    Calculate the Mean Absolute Percentage Error (MAPE) %\n",
    "    \"\"\"\n",
    "    y_pred, y_true = np.array(y_pred), np.array(y_true)\n",
    "    mape = np.mean(np.abs((y_true-y_pred) / y_true))*100\n",
    "    return mape"
   ]
  },
  {
   "cell_type": "code",
   "execution_count": 68,
   "id": "8ec20286",
   "metadata": {},
   "outputs": [
    {
     "data": {
      "text/plain": [
       "4.1935111264884295"
      ]
     },
     "execution_count": 68,
     "metadata": {},
     "output_type": "execute_result"
    }
   ],
   "source": [
    "calculate_mape(df7['Close'],df7['New_Pred'])"
   ]
  },
  {
   "cell_type": "code",
   "execution_count": 69,
   "id": "82084ab5",
   "metadata": {},
   "outputs": [
    {
     "data": {
      "text/plain": [
       "4.294799090550271"
      ]
     },
     "execution_count": 69,
     "metadata": {},
     "output_type": "execute_result"
    }
   ],
   "source": [
    "calculate_mape(df7['Close'],df7['Prediction'])"
   ]
  },
  {
   "cell_type": "code",
   "execution_count": null,
   "id": "d385c787",
   "metadata": {},
   "outputs": [],
   "source": []
  }
 ],
 "metadata": {
  "kernelspec": {
   "display_name": "Python 3 (ipykernel)",
   "language": "python",
   "name": "python3"
  },
  "language_info": {
   "codemirror_mode": {
    "name": "ipython",
    "version": 3
   },
   "file_extension": ".py",
   "mimetype": "text/x-python",
   "name": "python",
   "nbconvert_exporter": "python",
   "pygments_lexer": "ipython3",
   "version": "3.9.13"
  }
 },
 "nbformat": 4,
 "nbformat_minor": 5
}
